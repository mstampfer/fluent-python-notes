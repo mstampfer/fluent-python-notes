{
 "cells": [
  {
   "cell_type": "markdown",
   "metadata": {
    "toc": true
   },
   "source": [
    "<h1>Table of Contents<span class=\"tocSkip\"></span></h1>\n",
    "<div class=\"toc\"><ul class=\"toc-item\"><li><span><a href=\"#Chapter-17.-Concurrency-with-Futures\" data-toc-modified-id=\"Chapter-17.-Concurrency-with-Futures-1\">Chapter 17. Concurrency with Futures</a></span><ul class=\"toc-item\"><li><span><a href=\"#A-Sequential-Download-Script\" data-toc-modified-id=\"A-Sequential-Download-Script-1.1\">A Sequential Download Script</a></span><ul class=\"toc-item\"><li><span><a href=\"#Downloading-with-concurrent.futures\" data-toc-modified-id=\"Downloading-with-concurrent.futures-1.1.1\">Downloading with concurrent.futures</a></span></li><li><span><a href=\"#replacing-executor.map-with-executor.submit-and-futures.as_completed-in-the-download_many-function\" data-toc-modified-id=\"replacing-executor.map-with-executor.submit-and-futures.as_completed-in-the-download_many-function-1.1.2\">replacing executor.map with executor.submit and futures.as_completed in the download_many function</a></span></li><li><span><a href=\"#Downloading-with-asyncio-and-aiohttp\" data-toc-modified-id=\"Downloading-with-asyncio-and-aiohttp-1.1.3\">Downloading with asyncio and aiohttp</a></span></li></ul></li><li><span><a href=\"#The-GIL\" data-toc-modified-id=\"The-GIL-1.2\">The GIL</a></span><ul class=\"toc-item\"><li><span><a href=\"#The-GIL-for-I/O-bound-processing\" data-toc-modified-id=\"The-GIL-for-I/O-bound-processing-1.2.1\">The GIL for I/O bound processing</a></span></li><li><span><a href=\"#The-GIL-for-CPU-bound-processing\" data-toc-modified-id=\"The-GIL-for-CPU-bound-processing-1.2.2\">The GIL for CPU bound processing</a></span></li><li><span><a href=\"#Simple-demonstration-of-the-map-method-of-ThreadPoolExecutor\" data-toc-modified-id=\"Simple-demonstration-of-the-map-method-of-ThreadPoolExecutor-1.2.3\">Simple demonstration of the map method of ThreadPoolExecutor</a></span></li></ul></li></ul></li><li><span><a href=\"#Chapter-18.-Concurrency-with-asyncio\" data-toc-modified-id=\"Chapter-18.-Concurrency-with-asyncio-2\">Chapter 18. Concurrency with asyncio</a></span><ul class=\"toc-item\"><li><span><a href=\"#Spinner-thread-using-threading-module\" data-toc-modified-id=\"Spinner-thread-using-threading-module-2.1\">Spinner thread using threading module</a></span></li><li><span><a href=\"#Spinner-thread-using-asyncio\" data-toc-modified-id=\"Spinner-thread-using-asyncio-2.2\">Spinner thread using asyncio</a></span></li><li><span><a href=\"#Main-differences-between-Thread-and-Task\" data-toc-modified-id=\"Main-differences-between-Thread-and-Task-2.3\">Main differences between Thread and Task</a></span><ul class=\"toc-item\"><li><span><a href=\"#How-the-asyncio.Future-class-differs-from-the-concurrent.futures.Future-class\" data-toc-modified-id=\"How-the-asyncio.Future-class-differs-from-the-concurrent.futures.Future-class-2.3.1\">How the asyncio.Future class differs from the concurrent.futures.Future class</a></span></li></ul></li></ul></li></ul></div>"
   ]
  },
  {
   "cell_type": "markdown",
   "metadata": {},
   "source": [
    "# Chapter 17. Concurrency with Futures"
   ]
  },
  {
   "cell_type": "markdown",
   "metadata": {},
   "source": [
    "## A Sequential Download Script"
   ]
  },
  {
   "cell_type": "code",
   "execution_count": 1,
   "metadata": {},
   "outputs": [
    {
     "name": "stdout",
     "output_type": "stream",
     "text": [
      "\n",
      "20 flags downloaded in 15.56s\n"
     ]
    }
   ],
   "source": [
    "import os\n",
    "import time\n",
    "import sys\n",
    "\n",
    "import requests   \n",
    "\n",
    "POP20_CC = ('CN IN US ID BR PK NG BD RU JP '\n",
    "            'MX PH VN ET EG DE IR TR CD FR').split()   \n",
    "\n",
    "BASE_URL = 'http://flupy.org/data/flags'   \n",
    "\n",
    "DEST_DIR = 'downloads/'   \n",
    "\n",
    "\n",
    "def save_flag(img, filename):   \n",
    "    path = os.path.join(DEST_DIR, filename)\n",
    "    with open(path, 'wb') as fp:\n",
    "        fp.write(img)\n",
    "\n",
    "\n",
    "def get_flag(cc):   \n",
    "    url = '{}/{cc}/{cc}.gif'.format(BASE_URL, cc=cc.lower())\n",
    "    resp = requests.get(url)\n",
    "    return resp.content\n",
    "\n",
    "\n",
    "def show(text):   \n",
    "#     print(text, end=' ')\n",
    "    sys.stdout.flush()\n",
    "\n",
    "\n",
    "def download_many(cc_list):   \n",
    "    for cc in sorted(cc_list):   \n",
    "        image = get_flag(cc)\n",
    "        show(cc)\n",
    "        save_flag(image, cc.lower() + '.gif')\n",
    "\n",
    "    return len(cc_list)\n",
    "\n",
    "    \n",
    "def main(download_many):   \n",
    "    t0 = time.time()\n",
    "    count = download_many(POP20_CC)\n",
    "    elapsed = time.time() - t0\n",
    "    msg = '\\n{} flags downloaded in {:.2f}s'\n",
    "    print(msg.format(count, elapsed))\n",
    "\n",
    "\n",
    "if __name__ == '__main__':\n",
    "    main(download_many)   \n"
   ]
  },
  {
   "cell_type": "markdown",
   "metadata": {},
   "source": [
    "### Downloading with concurrent.futures\n",
    "An important thing to know about futures in general is that you and I should not create them: they are meant to be instantiated exclusively by the concurrency framework, be it concurrent.futures or asyncio. "
   ]
  },
  {
   "cell_type": "code",
   "execution_count": 2,
   "metadata": {},
   "outputs": [
    {
     "name": "stdout",
     "output_type": "stream",
     "text": [
      "\n",
      "20 flags downloaded in 0.85s\n"
     ]
    }
   ],
   "source": [
    "from concurrent import futures\n",
    "\n",
    "# Maximum number of threads to be used in the ThreadPoolExecutor\n",
    "MAX_WORKERS = 20   \n",
    "\n",
    "\n",
    "def download_one(cc):   \n",
    "    image = get_flag(cc)\n",
    "    show(cc)\n",
    "    save_flag(image, cc.lower() + '.gif')\n",
    "    return cc\n",
    "\n",
    "\n",
    "def download_many(cc_list):\n",
    "    workers = min(MAX_WORKERS, len(cc_list))   \n",
    "    with futures.ThreadPoolExecutor(workers) as executor:   \n",
    "        res = executor.map(download_one, sorted(cc_list))   \n",
    "\n",
    "    return len(list(res))   \n",
    "\n",
    "\n",
    "main(download_many)   "
   ]
  },
  {
   "cell_type": "markdown",
   "metadata": {},
   "source": [
    "### replacing executor.map with executor.submit and futures.as_completed in the download_many function"
   ]
  },
  {
   "cell_type": "code",
   "execution_count": 3,
   "metadata": {},
   "outputs": [
    {
     "name": "stdout",
     "output_type": "stream",
     "text": [
      "Scheduled for BD: <Future at 0x10413d3a0 state=running>\n",
      "Scheduled for BR: <Future at 0x10413eb70 state=running>\n",
      "Scheduled for CD: <Future at 0x10413eed0 state=running>\n",
      "Scheduled for CN: <Future at 0x103f1d0d0 state=pending>\n",
      "Scheduled for DE: <Future at 0x10413d760 state=pending>\n",
      "Scheduled for EG: <Future at 0x10413edb0 state=pending>\n",
      "Scheduled for ET: <Future at 0x10413e450 state=pending>\n",
      "Scheduled for FR: <Future at 0x10413e540 state=pending>\n",
      "Scheduled for ID: <Future at 0x10413e4b0 state=pending>\n",
      "Scheduled for IN: <Future at 0x10413de50 state=pending>\n",
      "Scheduled for IR: <Future at 0x10413dcd0 state=pending>\n",
      "Scheduled for JP: <Future at 0x10413de80 state=pending>\n",
      "Scheduled for MX: <Future at 0x10413cc20 state=pending>\n",
      "Scheduled for NG: <Future at 0x10413dbb0 state=pending>\n",
      "Scheduled for PH: <Future at 0x10413f980 state=pending>\n",
      "Scheduled for PK: <Future at 0x10413f7d0 state=pending>\n",
      "Scheduled for RU: <Future at 0x10413c710 state=pending>\n",
      "Scheduled for TR: <Future at 0x10413e3f0 state=pending>\n",
      "Scheduled for US: <Future at 0x10413c890 state=pending>\n",
      "Scheduled for VN: <Future at 0x10413c920 state=pending>\n",
      "<Future at 0x10413d3a0 state=finished returned str> result: 'BD'\n",
      "<Future at 0x10413eb70 state=finished returned str> result: 'BR'\n",
      "<Future at 0x10413eed0 state=finished returned str> result: 'CD'\n",
      "<Future at 0x103f1d0d0 state=finished returned str> result: 'CN'\n",
      "<Future at 0x10413d760 state=finished returned str> result: 'DE'\n",
      "<Future at 0x10413edb0 state=finished returned str> result: 'EG'\n",
      "<Future at 0x10413e4b0 state=finished returned str> result: 'ID'\n",
      "<Future at 0x10413e450 state=finished returned str> result: 'ET'\n",
      "<Future at 0x10413e540 state=finished returned str> result: 'FR'\n",
      "<Future at 0x10413de50 state=finished returned str> result: 'IN'\n",
      "<Future at 0x10413de80 state=finished returned str> result: 'JP'\n",
      "<Future at 0x10413dcd0 state=finished returned str> result: 'IR'\n",
      "<Future at 0x10413dbb0 state=finished returned str> result: 'NG'\n",
      "<Future at 0x10413f980 state=finished returned str> result: 'PH'\n",
      "<Future at 0x10413cc20 state=finished returned str> result: 'MX'\n",
      "<Future at 0x10413f7d0 state=finished returned str> result: 'PK'\n",
      "<Future at 0x10413c710 state=finished returned str> result: 'RU'\n",
      "<Future at 0x10413e3f0 state=finished returned str> result: 'TR'\n",
      "<Future at 0x10413c890 state=finished returned str> result: 'US'\n",
      "<Future at 0x10413c920 state=finished returned str> result: 'VN'\n",
      "\n",
      "20 flags downloaded in 5.87s\n"
     ]
    }
   ],
   "source": [
    "\n",
    "def download_many(cc_list):\n",
    "#     cc_list = cc_list[:5]   \n",
    "    with futures.ThreadPoolExecutor(max_workers=3) as executor:   \n",
    "        to_do = []\n",
    "        for cc in sorted(cc_list):\n",
    "# Executor.submit() method takes a callable, schedules it to run, \n",
    "# and returns a future.\n",
    "            future = executor.submit(download_one, cc)   \n",
    "            to_do.append(future)   \n",
    "            msg = 'Scheduled for {}: {}'\n",
    "            print(msg.format(cc, future))   \n",
    "\n",
    "        results = []\n",
    "# concurrent.futures.as_completed function, which takes an \n",
    "# iterable of futures and returns an iterator that yields \n",
    "# futures as they are done\n",
    "        for future in futures.as_completed(to_do):   \n",
    "            res = future.result()   \n",
    "            msg = '{} result: {!r}'\n",
    "            print(msg.format(future, res))  \n",
    "            results.append(res)\n",
    "\n",
    "    return len(results)\n",
    "\n",
    "main(download_many)   "
   ]
  },
  {
   "cell_type": "markdown",
   "metadata": {},
   "source": [
    "### Downloading with asyncio and aiohttp"
   ]
  },
  {
   "cell_type": "code",
   "execution_count": 10,
   "metadata": {
    "scrolled": true
   },
   "outputs": [
    {
     "name": "stdout",
     "output_type": "stream",
     "text": [
      "Downloaded flag for JP\n",
      "Downloaded flag for US\n",
      "Downloaded flag for IN\n",
      "Downloaded flag for CN\n",
      "Downloaded flag for DE\n",
      "\n",
      "5 flags downloaded in 0.52s\n"
     ]
    }
   ],
   "source": [
    "import asyncio\n",
    "import aiohttp\n",
    "import time\n",
    "\n",
    "\n",
    "# Define missing constants and functions\n",
    "BASE_URL = 'http://example.com/flags'\n",
    "POP20_CC = ['US', 'CN', 'IN', 'JP', 'DE']  # Example countries list\n",
    "\n",
    "def save_flag(image, filename):\n",
    "    with open(filename, 'wb') as f:\n",
    "        f.write(image)\n",
    "\n",
    "def show(cc):\n",
    "    print(f\"Downloaded flag for {cc}\")\n",
    "\n",
    "async def get_flag(cc):\n",
    "    url = f'{BASE_URL}/{cc}/{cc}.gif'\n",
    "    async with aiohttp.ClientSession() as session:\n",
    "        async with session.get(url) as resp:\n",
    "            image = await resp.read()\n",
    "            return image\n",
    "\n",
    "async def download_one(cc):   \n",
    "    image = await get_flag(cc)   \n",
    "    show(cc)\n",
    "    save_flag(image, cc.lower() + '.gif')\n",
    "    return cc\n",
    "\n",
    "async def download_many(cc_list):\n",
    "    tasks = [download_one(cc) for cc in sorted(cc_list)]   \n",
    "    results = await asyncio.gather(*tasks)\n",
    "    return len(results)\n",
    "    \n",
    "def main(downloader):\n",
    "    t0 = time.time()\n",
    "    \n",
    "    # Get the current event loop instead of creating a new one\n",
    "    loop = asyncio.get_event_loop()\n",
    "    count = loop.run_until_complete(download_many(POP20_CC))\n",
    "    \n",
    "    elapsed = time.time() - t0\n",
    "    print(f'\\n{count} flags downloaded in {elapsed:.2f}s')\n",
    "\n",
    "if __name__ == '__main__':\n",
    "    main(download_many)"
   ]
  },
  {
   "cell_type": "markdown",
   "metadata": {},
   "source": [
    "## The GIL\n",
    "The CPython interpreter is not thread-safe internally, so it has a Global Interpreter Lock (GIL), which allows only one thread at a time to execute Python bytecodes. That’s why a single Python process usually cannot use multiple CPU cores at the same time."
   ]
  },
  {
   "cell_type": "markdown",
   "metadata": {},
   "source": [
    "### The GIL for I/O bound processing\n",
    "The GIL is nearly harmless with I/O-bound processing. All standard library functions that perform blocking I/O release the GIL when waiting for a result from the OS. This means Python programs that are I/O bound can benefit from using threads at the Python level. While one Python thread is waiting for a response from the network, the blocked I/O function releases the GIL so another thread can run."
   ]
  },
  {
   "cell_type": "markdown",
   "metadata": {},
   "source": [
    "### The GIL for CPU bound processing\n",
    "\n",
    "For CPU-bound work, you need to sidestep the GIL by launching multiple processes. The futures.ProcessPoolExecutor is the easiest way to do it. \n",
    "\n",
    "The multiprocessing package emulates the threading API but delegates jobs to multiple processes. Multiprocessing also offers facilities to solve the biggest challenge faced by collaborating processes: how to pass around data."
   ]
  },
  {
   "cell_type": "markdown",
   "metadata": {},
   "source": [
    "### Simple demonstration of the map method of ThreadPoolExecutor"
   ]
  },
  {
   "cell_type": "code",
   "execution_count": 8,
   "metadata": {},
   "outputs": [
    {
     "name": "stdout",
     "output_type": "stream",
     "text": [
      "[12:33:54] Script starting.\n",
      "[12:33:54] loiter(0): doing nothing for 0s...\n",
      "[12:33:54] loiter(0): done.\n",
      "[12:33:54] \tloiter(1): doing nothing for 1s...\n",
      "[12:33:54] \t\tloiter(2): doing nothing for 2s...\n",
      "[12:33:54] \t\t\tloiter(3): doing nothing for 3s...\n",
      "[12:33:54] results: <generator object Executor.map.<locals>.result_iterator at 0x1112b13f0>\n",
      "[12:33:54] Waiting for individual results:\n",
      "[12:33:54] result 0: 0\n",
      "[12:33:55] \tloiter(1): done.\n",
      "[12:33:55] \t\t\t\tloiter(4): doing nothing for 4s...\n",
      "[12:33:55] result 1: 10\n",
      "[12:33:56] \t\tloiter(2): done.\n",
      "[12:33:56] result 2: 20\n",
      "[12:33:57] \t\t\tloiter(3): done.\n",
      "[12:33:57] result 3: 30\n",
      "[12:33:59] \t\t\t\tloiter(4): done.\n",
      "[12:33:59] result 4: 40\n"
     ]
    }
   ],
   "source": [
    "from time import sleep, strftime\n",
    "from concurrent import futures\n",
    "\n",
    "def display(*args):   \n",
    "    print(strftime('[%H:%M:%S]'), end=' ')\n",
    "    print(*args)\n",
    "\n",
    "\n",
    "def loiter(n):   \n",
    "    msg = '{}loiter({}): doing nothing for {}s...'\n",
    "    display(msg.format('\\t'*n, n, n))\n",
    "    sleep(n)\n",
    "    msg = '{}loiter({}): done.'\n",
    "    display(msg.format('\\t'*n, n))\n",
    "    return n * 10   \n",
    "\n",
    "\n",
    "def main():\n",
    "    display('Script starting.')\n",
    "    executor = futures.ThreadPoolExecutor(max_workers=3)   \n",
    "    results = executor.map(loiter, range(5))   \n",
    "    display('results:', results)  # .\n",
    "    display('Waiting for individual results:')\n",
    "    for i, result in enumerate(results):   \n",
    "        display('result {}: {}'.format(i, result))\n",
    "\n",
    "\n",
    "main()\n"
   ]
  },
  {
   "cell_type": "code",
   "execution_count": null,
   "metadata": {},
   "outputs": [],
   "source": []
  }
 ],
 "metadata": {
  "kernelspec": {
   "display_name": "Python 3 (ipykernel)",
   "language": "python",
   "name": "python3"
  },
  "language_info": {
   "codemirror_mode": {
    "name": "ipython",
    "version": 3
   },
   "file_extension": ".py",
   "mimetype": "text/x-python",
   "name": "python",
   "nbconvert_exporter": "python",
   "pygments_lexer": "ipython3",
   "version": "3.12.9"
  },
  "toc": {
   "base_numbering": 1,
   "nav_menu": {},
   "number_sections": false,
   "sideBar": true,
   "skip_h1_title": false,
   "title_cell": "Table of Contents",
   "title_sidebar": "Contents2",
   "toc_cell": true,
   "toc_position": {},
   "toc_section_display": true,
   "toc_window_display": false
  }
 },
 "nbformat": 4,
 "nbformat_minor": 4
}
