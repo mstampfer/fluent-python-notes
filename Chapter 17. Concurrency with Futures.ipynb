{
 "cells": [
  {
   "cell_type": "markdown",
   "metadata": {
    "toc": true
   },
   "source": [
    "<h1>Table of Contents<span class=\"tocSkip\"></span></h1>\n",
    "<div class=\"toc\"><ul class=\"toc-item\"><li><span><a href=\"#Chapter-17.-Concurrency-with-Futures\" data-toc-modified-id=\"Chapter-17.-Concurrency-with-Futures-1\">Chapter 17. Concurrency with Futures</a></span><ul class=\"toc-item\"><li><span><a href=\"#A-Sequential-Download-Script\" data-toc-modified-id=\"A-Sequential-Download-Script-1.1\">A Sequential Download Script</a></span><ul class=\"toc-item\"><li><span><a href=\"#Downloading-with-concurrent.futures\" data-toc-modified-id=\"Downloading-with-concurrent.futures-1.1.1\">Downloading with concurrent.futures</a></span></li><li><span><a href=\"#replacing-executor.map-with-executor.submit-and-futures.as_completed-in-the-download_many-function\" data-toc-modified-id=\"replacing-executor.map-with-executor.submit-and-futures.as_completed-in-the-download_many-function-1.1.2\">replacing executor.map with executor.submit and futures.as_completed in the download_many function</a></span></li><li><span><a href=\"#Downloading-with-asyncio-and-aiohttp\" data-toc-modified-id=\"Downloading-with-asyncio-and-aiohttp-1.1.3\">Downloading with asyncio and aiohttp</a></span></li></ul></li><li><span><a href=\"#The-GIL\" data-toc-modified-id=\"The-GIL-1.2\">The GIL</a></span><ul class=\"toc-item\"><li><span><a href=\"#The-GIL-for-I/O-bound-processing\" data-toc-modified-id=\"The-GIL-for-I/O-bound-processing-1.2.1\">The GIL for I/O bound processing</a></span></li><li><span><a href=\"#The-GIL-for-CPU-bound-processing\" data-toc-modified-id=\"The-GIL-for-CPU-bound-processing-1.2.2\">The GIL for CPU bound processing</a></span></li><li><span><a href=\"#Simple-demonstration-of-the-map-method-of-ThreadPoolExecutor\" data-toc-modified-id=\"Simple-demonstration-of-the-map-method-of-ThreadPoolExecutor-1.2.3\">Simple demonstration of the map method of ThreadPoolExecutor</a></span></li></ul></li></ul></li><li><span><a href=\"#Chapter-18.-Concurrency-with-asyncio\" data-toc-modified-id=\"Chapter-18.-Concurrency-with-asyncio-2\">Chapter 18. Concurrency with asyncio</a></span><ul class=\"toc-item\"><li><span><a href=\"#Spinner-thread-using-threading-module\" data-toc-modified-id=\"Spinner-thread-using-threading-module-2.1\">Spinner thread using threading module</a></span></li><li><span><a href=\"#Spinner-thread-using-asyncio\" data-toc-modified-id=\"Spinner-thread-using-asyncio-2.2\">Spinner thread using asyncio</a></span></li><li><span><a href=\"#Main-differences-between-Thread-and-Task\" data-toc-modified-id=\"Main-differences-between-Thread-and-Task-2.3\">Main differences between Thread and Task</a></span><ul class=\"toc-item\"><li><span><a href=\"#How-the-asyncio.Future-class-differs-from-the-concurrent.futures.Future-class\" data-toc-modified-id=\"How-the-asyncio.Future-class-differs-from-the-concurrent.futures.Future-class-2.3.1\">How the asyncio.Future class differs from the concurrent.futures.Future class</a></span></li></ul></li></ul></li></ul></div>"
   ]
  },
  {
   "cell_type": "markdown",
   "metadata": {},
   "source": [
    "# Chapter 17. Concurrency with Futures"
   ]
  },
  {
   "cell_type": "markdown",
   "metadata": {},
   "source": [
    "## A Sequential Download Script"
   ]
  },
  {
   "cell_type": "code",
   "execution_count": 4,
   "metadata": {},
   "outputs": [
    {
     "name": "stdout",
     "output_type": "stream",
     "text": [
      "\n",
      "20 flags downloaded in 1.24s\n"
     ]
    }
   ],
   "source": [
    "import os\n",
    "import time\n",
    "import sys\n",
    "\n",
    "import requests   \n",
    "\n",
    "POP20_CC = ('CN IN US ID BR PK NG BD RU JP '\n",
    "            'MX PH VN ET EG DE IR TR CD FR').split()   \n",
    "\n",
    "BASE_URL = 'http://flupy.org/data/flags'   \n",
    "\n",
    "DEST_DIR = 'downloads/'   \n",
    "\n",
    "\n",
    "def save_flag(img, filename):   \n",
    "    path = os.path.join(DEST_DIR, filename)\n",
    "    with open(path, 'wb') as fp:\n",
    "        fp.write(img)\n",
    "\n",
    "\n",
    "def get_flag(cc):   \n",
    "    url = '{}/{cc}/{cc}.gif'.format(BASE_URL, cc=cc.lower())\n",
    "    resp = requests.get(url)\n",
    "    return resp.content\n",
    "\n",
    "\n",
    "def show(text):   \n",
    "#     print(text, end=' ')\n",
    "    sys.stdout.flush()\n",
    "\n",
    "\n",
    "def download_many(cc_list):   \n",
    "    for cc in sorted(cc_list):   \n",
    "        image = get_flag(cc)\n",
    "        show(cc)\n",
    "        save_flag(image, cc.lower() + '.gif')\n",
    "\n",
    "    return len(cc_list)\n",
    "\n",
    "    \n",
    "def main(download_many):   \n",
    "    t0 = time.time()\n",
    "    count = download_many(POP20_CC)\n",
    "    elapsed = time.time() - t0\n",
    "    msg = '\\n{} flags downloaded in {:.2f}s'\n",
    "    print(msg.format(count, elapsed))\n",
    "\n",
    "\n",
    "if __name__ == '__main__':\n",
    "    main(download_many)   \n"
   ]
  },
  {
   "cell_type": "markdown",
   "metadata": {},
   "source": [
    "### Downloading with concurrent.futures\n",
    "An important thing to know about futures in general is that you and I should not create them: they are meant to be instantiated exclusively by the concurrency framework, be it concurrent.futures or asyncio. "
   ]
  },
  {
   "cell_type": "code",
   "execution_count": 235,
   "metadata": {},
   "outputs": [
    {
     "name": "stdout",
     "output_type": "stream",
     "text": [
      "\n",
      "20 flags downloaded in 0.10s\n"
     ]
    }
   ],
   "source": [
    "from concurrent import futures\n",
    "\n",
    "# Maximum number of threads to be used in the ThreadPoolExecutor\n",
    "MAX_WORKERS = 20   \n",
    "\n",
    "\n",
    "def download_one(cc):   \n",
    "    image = get_flag(cc)\n",
    "    show(cc)\n",
    "    save_flag(image, cc.lower() + '.gif')\n",
    "    return cc\n",
    "\n",
    "\n",
    "def download_many(cc_list):\n",
    "    workers = min(MAX_WORKERS, len(cc_list))   \n",
    "    with futures.ThreadPoolExecutor(workers) as executor:   \n",
    "        res = executor.map(download_one, sorted(cc_list))   \n",
    "\n",
    "    return len(list(res))   \n",
    "\n",
    "\n",
    "main(download_many)   "
   ]
  },
  {
   "cell_type": "markdown",
   "metadata": {},
   "source": [
    "### replacing executor.map with executor.submit and futures.as_completed in the download_many function"
   ]
  },
  {
   "cell_type": "code",
   "execution_count": 236,
   "metadata": {},
   "outputs": [
    {
     "name": "stdout",
     "output_type": "stream",
     "text": [
      "Scheduled for BD: <Future at 0x7f9fcb3712b0 state=running>\n",
      "Scheduled for BR: <Future at 0x7f9fcb38c5e0 state=running>\n",
      "Scheduled for CD: <Future at 0x7f9fcb38c820 state=running>\n",
      "Scheduled for CN: <Future at 0x7f9fcb38cfd0 state=pending>\n",
      "Scheduled for DE: <Future at 0x7f9fcb37a190 state=pending>\n",
      "Scheduled for EG: <Future at 0x7f9fcb37acd0 state=pending>\n",
      "Scheduled for ET: <Future at 0x7f9fcb37afa0 state=pending>\n",
      "Scheduled for FR: <Future at 0x7f9fcb37a070 state=pending>\n",
      "Scheduled for ID: <Future at 0x7f9fcb352760 state=pending>\n",
      "Scheduled for IN: <Future at 0x7f9fcb352280 state=pending>\n",
      "Scheduled for IR: <Future at 0x7f9fcb352250 state=pending>\n",
      "Scheduled for JP: <Future at 0x7f9fcb352580 state=pending>\n",
      "Scheduled for MX: <Future at 0x7f9fcb352b50 state=pending>\n",
      "Scheduled for NG: <Future at 0x7f9fcb352910 state=pending>\n",
      "Scheduled for PH: <Future at 0x7f9fcb38c4c0 state=pending>\n",
      "Scheduled for PK: <Future at 0x7f9fcb371460 state=pending>\n",
      "Scheduled for RU: <Future at 0x7f9fcb37ae20 state=pending>\n",
      "Scheduled for TR: <Future at 0x7f9fcb3525b0 state=pending>\n",
      "Scheduled for US: <Future at 0x7f9fcb352790 state=pending>\n",
      "Scheduled for VN: <Future at 0x7f9fcb352e80 state=pending>\n",
      "<Future at 0x7f9fcb38c5e0 state=finished returned str> result: 'BR'\n",
      "<Future at 0x7f9fcb3712b0 state=finished returned str> result: 'BD'\n",
      "<Future at 0x7f9fcb38c820 state=finished returned str> result: 'CD'\n",
      "<Future at 0x7f9fcb38cfd0 state=finished returned str> result: 'CN'\n",
      "<Future at 0x7f9fcb37a190 state=finished returned str> result: 'DE'\n",
      "<Future at 0x7f9fcb37acd0 state=finished returned str> result: 'EG'\n",
      "<Future at 0x7f9fcb37a070 state=finished returned str> result: 'FR'\n",
      "<Future at 0x7f9fcb37afa0 state=finished returned str> result: 'ET'\n",
      "<Future at 0x7f9fcb352760 state=finished returned str> result: 'ID'\n",
      "<Future at 0x7f9fcb352280 state=finished returned str> result: 'IN'\n",
      "<Future at 0x7f9fcb352580 state=finished returned str> result: 'JP'\n",
      "<Future at 0x7f9fcb352250 state=finished returned str> result: 'IR'\n",
      "<Future at 0x7f9fcb352b50 state=finished returned str> result: 'MX'\n",
      "<Future at 0x7f9fcb352910 state=finished returned str> result: 'NG'\n",
      "<Future at 0x7f9fcb38c4c0 state=finished returned str> result: 'PH'\n",
      "<Future at 0x7f9fcb371460 state=finished returned str> result: 'PK'\n",
      "<Future at 0x7f9fcb37ae20 state=finished returned str> result: 'RU'\n",
      "<Future at 0x7f9fcb3525b0 state=finished returned str> result: 'TR'\n",
      "<Future at 0x7f9fcb352790 state=finished returned str> result: 'US'\n",
      "<Future at 0x7f9fcb352e80 state=finished returned str> result: 'VN'\n",
      "\n",
      "20 flags downloaded in 0.38s\n"
     ]
    }
   ],
   "source": [
    "\n",
    "def download_many(cc_list):\n",
    "#     cc_list = cc_list[:5]   \n",
    "    with futures.ThreadPoolExecutor(max_workers=3) as executor:   \n",
    "        to_do = []\n",
    "        for cc in sorted(cc_list):\n",
    "# Executor.submit() method takes a callable, schedules it to run, \n",
    "# and returns a future.\n",
    "            future = executor.submit(download_one, cc)   \n",
    "            to_do.append(future)   \n",
    "            msg = 'Scheduled for {}: {}'\n",
    "            print(msg.format(cc, future))   \n",
    "\n",
    "        results = []\n",
    "# concurrent.futures.as_completed function, which takes an \n",
    "# iterable of futures and returns an iterator that yields \n",
    "# futures as they are done\n",
    "        for future in futures.as_completed(to_do):   \n",
    "            res = future.result()   \n",
    "            msg = '{} result: {!r}'\n",
    "            print(msg.format(future, res))  \n",
    "            results.append(res)\n",
    "\n",
    "    return len(results)\n",
    "\n",
    "main(download_many)   "
   ]
  },
  {
   "cell_type": "markdown",
   "metadata": {},
   "source": [
    "### Downloading with asyncio and aiohttp"
   ]
  },
  {
   "cell_type": "code",
   "execution_count": 237,
   "metadata": {
    "scrolled": true
   },
   "outputs": [
    {
     "name": "stderr",
     "output_type": "stream",
     "text": [
      "<ipython-input-237-245aa61a6052>:7: DeprecationWarning: \"@coroutine\" decorator is deprecated since Python 3.8, use \"async def\" instead\n",
      "  def get_flag(cc):\n",
      "<ipython-input-237-245aa61a6052>:15: DeprecationWarning: \"@coroutine\" decorator is deprecated since Python 3.8, use \"async def\" instead\n",
      "  def download_one(cc):\n"
     ]
    },
    {
     "ename": "RuntimeError",
     "evalue": "This event loop is already running",
     "output_type": "error",
     "traceback": [
      "\u001b[0;31m---------------------------------------------------------------------------\u001b[0m",
      "\u001b[0;31mRuntimeError\u001b[0m                              Traceback (most recent call last)",
      "\u001b[0;32m<ipython-input-237-245aa61a6052>\u001b[0m in \u001b[0;36m<module>\u001b[0;34m\u001b[0m\n\u001b[1;32m     31\u001b[0m \u001b[0;34m\u001b[0m\u001b[0m\n\u001b[1;32m     32\u001b[0m \u001b[0;32mif\u001b[0m \u001b[0m__name__\u001b[0m \u001b[0;34m==\u001b[0m \u001b[0;34m'__main__'\u001b[0m\u001b[0;34m:\u001b[0m\u001b[0;34m\u001b[0m\u001b[0;34m\u001b[0m\u001b[0m\n\u001b[0;32m---> 33\u001b[0;31m     \u001b[0mmain\u001b[0m\u001b[0;34m(\u001b[0m\u001b[0mdownload_many\u001b[0m\u001b[0;34m)\u001b[0m\u001b[0;34m\u001b[0m\u001b[0;34m\u001b[0m\u001b[0m\n\u001b[0m",
      "\u001b[0;32m<ipython-input-234-14afcb993b8a>\u001b[0m in \u001b[0;36mmain\u001b[0;34m(download_many)\u001b[0m\n\u001b[1;32m     41\u001b[0m \u001b[0;32mdef\u001b[0m \u001b[0mmain\u001b[0m\u001b[0;34m(\u001b[0m\u001b[0mdownload_many\u001b[0m\u001b[0;34m)\u001b[0m\u001b[0;34m:\u001b[0m\u001b[0;34m\u001b[0m\u001b[0;34m\u001b[0m\u001b[0m\n\u001b[1;32m     42\u001b[0m     \u001b[0mt0\u001b[0m \u001b[0;34m=\u001b[0m \u001b[0mtime\u001b[0m\u001b[0;34m.\u001b[0m\u001b[0mtime\u001b[0m\u001b[0;34m(\u001b[0m\u001b[0;34m)\u001b[0m\u001b[0;34m\u001b[0m\u001b[0;34m\u001b[0m\u001b[0m\n\u001b[0;32m---> 43\u001b[0;31m     \u001b[0mcount\u001b[0m \u001b[0;34m=\u001b[0m \u001b[0mdownload_many\u001b[0m\u001b[0;34m(\u001b[0m\u001b[0mPOP20_CC\u001b[0m\u001b[0;34m)\u001b[0m\u001b[0;34m\u001b[0m\u001b[0;34m\u001b[0m\u001b[0m\n\u001b[0m\u001b[1;32m     44\u001b[0m     \u001b[0melapsed\u001b[0m \u001b[0;34m=\u001b[0m \u001b[0mtime\u001b[0m\u001b[0;34m.\u001b[0m\u001b[0mtime\u001b[0m\u001b[0;34m(\u001b[0m\u001b[0;34m)\u001b[0m \u001b[0;34m-\u001b[0m \u001b[0mt0\u001b[0m\u001b[0;34m\u001b[0m\u001b[0;34m\u001b[0m\u001b[0m\n\u001b[1;32m     45\u001b[0m     \u001b[0mmsg\u001b[0m \u001b[0;34m=\u001b[0m \u001b[0;34m'\\n{} flags downloaded in {:.2f}s'\u001b[0m\u001b[0;34m\u001b[0m\u001b[0;34m\u001b[0m\u001b[0m\n",
      "\u001b[0;32m<ipython-input-237-245aa61a6052>\u001b[0m in \u001b[0;36mdownload_many\u001b[0;34m(cc_list)\u001b[0m\n\u001b[1;32m     24\u001b[0m     \u001b[0mto_do\u001b[0m \u001b[0;34m=\u001b[0m \u001b[0;34m[\u001b[0m\u001b[0mdownload_one\u001b[0m\u001b[0;34m(\u001b[0m\u001b[0mcc\u001b[0m\u001b[0;34m)\u001b[0m \u001b[0;32mfor\u001b[0m \u001b[0mcc\u001b[0m \u001b[0;32min\u001b[0m \u001b[0msorted\u001b[0m\u001b[0;34m(\u001b[0m\u001b[0mcc_list\u001b[0m\u001b[0;34m)\u001b[0m\u001b[0;34m]\u001b[0m\u001b[0;34m\u001b[0m\u001b[0;34m\u001b[0m\u001b[0m\n\u001b[1;32m     25\u001b[0m     \u001b[0mwait_coro\u001b[0m \u001b[0;34m=\u001b[0m \u001b[0masyncio\u001b[0m\u001b[0;34m.\u001b[0m\u001b[0mwait\u001b[0m\u001b[0;34m(\u001b[0m\u001b[0mto_do\u001b[0m\u001b[0;34m)\u001b[0m\u001b[0;34m\u001b[0m\u001b[0;34m\u001b[0m\u001b[0m\n\u001b[0;32m---> 26\u001b[0;31m     \u001b[0mres\u001b[0m\u001b[0;34m,\u001b[0m \u001b[0m_\u001b[0m \u001b[0;34m=\u001b[0m \u001b[0mloop\u001b[0m\u001b[0;34m.\u001b[0m\u001b[0mrun_until_complete\u001b[0m\u001b[0;34m(\u001b[0m\u001b[0mwait_coro\u001b[0m\u001b[0;34m)\u001b[0m\u001b[0;34m\u001b[0m\u001b[0;34m\u001b[0m\u001b[0m\n\u001b[0m\u001b[1;32m     27\u001b[0m     \u001b[0mloop\u001b[0m\u001b[0;34m.\u001b[0m\u001b[0mclose\u001b[0m\u001b[0;34m(\u001b[0m\u001b[0;34m)\u001b[0m\u001b[0;34m\u001b[0m\u001b[0;34m\u001b[0m\u001b[0m\n\u001b[1;32m     28\u001b[0m \u001b[0;34m\u001b[0m\u001b[0m\n",
      "\u001b[0;32m/usr/local/Caskroom/miniconda/base/envs/py38/lib/python3.8/asyncio/base_events.py\u001b[0m in \u001b[0;36mrun_until_complete\u001b[0;34m(self, future)\u001b[0m\n\u001b[1;32m    597\u001b[0m         \u001b[0mfuture\u001b[0m\u001b[0;34m.\u001b[0m\u001b[0madd_done_callback\u001b[0m\u001b[0;34m(\u001b[0m\u001b[0m_run_until_complete_cb\u001b[0m\u001b[0;34m)\u001b[0m\u001b[0;34m\u001b[0m\u001b[0;34m\u001b[0m\u001b[0m\n\u001b[1;32m    598\u001b[0m         \u001b[0;32mtry\u001b[0m\u001b[0;34m:\u001b[0m\u001b[0;34m\u001b[0m\u001b[0;34m\u001b[0m\u001b[0m\n\u001b[0;32m--> 599\u001b[0;31m             \u001b[0mself\u001b[0m\u001b[0;34m.\u001b[0m\u001b[0mrun_forever\u001b[0m\u001b[0;34m(\u001b[0m\u001b[0;34m)\u001b[0m\u001b[0;34m\u001b[0m\u001b[0;34m\u001b[0m\u001b[0m\n\u001b[0m\u001b[1;32m    600\u001b[0m         \u001b[0;32mexcept\u001b[0m\u001b[0;34m:\u001b[0m\u001b[0;34m\u001b[0m\u001b[0;34m\u001b[0m\u001b[0m\n\u001b[1;32m    601\u001b[0m             \u001b[0;32mif\u001b[0m \u001b[0mnew_task\u001b[0m \u001b[0;32mand\u001b[0m \u001b[0mfuture\u001b[0m\u001b[0;34m.\u001b[0m\u001b[0mdone\u001b[0m\u001b[0;34m(\u001b[0m\u001b[0;34m)\u001b[0m \u001b[0;32mand\u001b[0m \u001b[0;32mnot\u001b[0m \u001b[0mfuture\u001b[0m\u001b[0;34m.\u001b[0m\u001b[0mcancelled\u001b[0m\u001b[0;34m(\u001b[0m\u001b[0;34m)\u001b[0m\u001b[0;34m:\u001b[0m\u001b[0;34m\u001b[0m\u001b[0;34m\u001b[0m\u001b[0m\n",
      "\u001b[0;32m/usr/local/Caskroom/miniconda/base/envs/py38/lib/python3.8/asyncio/base_events.py\u001b[0m in \u001b[0;36mrun_forever\u001b[0;34m(self)\u001b[0m\n\u001b[1;32m    552\u001b[0m         \u001b[0mself\u001b[0m\u001b[0;34m.\u001b[0m\u001b[0m_check_closed\u001b[0m\u001b[0;34m(\u001b[0m\u001b[0;34m)\u001b[0m\u001b[0;34m\u001b[0m\u001b[0;34m\u001b[0m\u001b[0m\n\u001b[1;32m    553\u001b[0m         \u001b[0;32mif\u001b[0m \u001b[0mself\u001b[0m\u001b[0;34m.\u001b[0m\u001b[0mis_running\u001b[0m\u001b[0;34m(\u001b[0m\u001b[0;34m)\u001b[0m\u001b[0;34m:\u001b[0m\u001b[0;34m\u001b[0m\u001b[0;34m\u001b[0m\u001b[0m\n\u001b[0;32m--> 554\u001b[0;31m             \u001b[0;32mraise\u001b[0m \u001b[0mRuntimeError\u001b[0m\u001b[0;34m(\u001b[0m\u001b[0;34m'This event loop is already running'\u001b[0m\u001b[0;34m)\u001b[0m\u001b[0;34m\u001b[0m\u001b[0;34m\u001b[0m\u001b[0m\n\u001b[0m\u001b[1;32m    555\u001b[0m         \u001b[0;32mif\u001b[0m \u001b[0mevents\u001b[0m\u001b[0;34m.\u001b[0m\u001b[0m_get_running_loop\u001b[0m\u001b[0;34m(\u001b[0m\u001b[0;34m)\u001b[0m \u001b[0;32mis\u001b[0m \u001b[0;32mnot\u001b[0m \u001b[0;32mNone\u001b[0m\u001b[0;34m:\u001b[0m\u001b[0;34m\u001b[0m\u001b[0;34m\u001b[0m\u001b[0m\n\u001b[1;32m    556\u001b[0m             raise RuntimeError(\n",
      "\u001b[0;31mRuntimeError\u001b[0m: This event loop is already running"
     ]
    },
    {
     "name": "stderr",
     "output_type": "stream",
     "text": [
      "<ipython-input-237-245aa61a6052>:9: RuntimeWarning: coroutine 'ClientSession._request' was never awaited\n",
      "  resp = yield from aiohttp.request('GET', url)\n",
      "RuntimeWarning: Enable tracemalloc to get the object allocation traceback\n",
      "Unclosed client session\n",
      "client_session: <aiohttp.client.ClientSession object at 0x7f9fcb2eeb20>\n",
      "Unclosed client session\n",
      "client_session: <aiohttp.client.ClientSession object at 0x7f9fcb2eeb20>\n",
      "Unclosed client session\n",
      "client_session: <aiohttp.client.ClientSession object at 0x7f9fc8745a60>\n",
      "Unclosed client session\n",
      "client_session: <aiohttp.client.ClientSession object at 0x7f9fcaa69790>\n",
      "Unclosed client session\n",
      "client_session: <aiohttp.client.ClientSession object at 0x7f9fc9904280>\n",
      "Unclosed client session\n",
      "client_session: <aiohttp.client.ClientSession object at 0x7f9fc8b51160>\n",
      "Unclosed client session\n",
      "client_session: <aiohttp.client.ClientSession object at 0x7f9fc9904280>\n",
      "Unclosed client session\n",
      "client_session: <aiohttp.client.ClientSession object at 0x7f9fcab18b50>\n",
      "Unclosed client session\n",
      "client_session: <aiohttp.client.ClientSession object at 0x7f9fc8b51160>\n",
      "Unclosed client session\n",
      "client_session: <aiohttp.client.ClientSession object at 0x7f9fc8a604f0>\n",
      "Unclosed client session\n",
      "client_session: <aiohttp.client.ClientSession object at 0x7f9fc8b51160>\n",
      "Unclosed client session\n",
      "client_session: <aiohttp.client.ClientSession object at 0x7f9fc8a47be0>\n",
      "Unclosed client session\n",
      "client_session: <aiohttp.client.ClientSession object at 0x7f9fc8a604f0>\n",
      "Unclosed client session\n",
      "client_session: <aiohttp.client.ClientSession object at 0x7f9fc8a47be0>\n",
      "Unclosed client session\n",
      "client_session: <aiohttp.client.ClientSession object at 0x7f9fc8a47a60>\n",
      "Unclosed client session\n",
      "client_session: <aiohttp.client.ClientSession object at 0x7f9fc8a47a30>\n",
      "Unclosed client session\n",
      "client_session: <aiohttp.client.ClientSession object at 0x7f9fc8a47370>\n",
      "Unclosed client session\n",
      "client_session: <aiohttp.client.ClientSession object at 0x7f9fcaa65ee0>\n",
      "Unclosed client session\n",
      "client_session: <aiohttp.client.ClientSession object at 0x7f9fc9904280>\n",
      "Unclosed client session\n",
      "client_session: <aiohttp.client.ClientSession object at 0x7f9fcab18b50>\n"
     ]
    }
   ],
   "source": [
    "import asyncio\n",
    "\n",
    "import aiohttp   \n",
    "\n",
    "\n",
    "@asyncio.coroutine   \n",
    "def get_flag(cc):\n",
    "    url = '{}/{cc}/{cc}.gif'.format(BASE_URL, cc=cc.lower())\n",
    "    resp = yield from aiohttp.request('GET', url)   \n",
    "    image = yield from resp.read()   \n",
    "    return image\n",
    "\n",
    "\n",
    "@asyncio.coroutine\n",
    "def download_one(cc):   \n",
    "    image = yield from get_flag(cc)   \n",
    "    show(cc)\n",
    "    save_flag(image, cc.lower() + '.gif')\n",
    "    return cc\n",
    "\n",
    "\n",
    "def download_many(cc_list):\n",
    "    loop = asyncio.get_event_loop()   \n",
    "    to_do = [download_one(cc) for cc in sorted(cc_list)]   \n",
    "    wait_coro = asyncio.wait(to_do)   \n",
    "    res, _ = loop.run_until_complete(wait_coro)   \n",
    "    loop.close()  \n",
    "\n",
    "    return len(res)\n",
    "\n",
    "\n",
    "if __name__ == '__main__':\n",
    "    main(download_many)"
   ]
  },
  {
   "cell_type": "markdown",
   "metadata": {},
   "source": [
    "## The GIL\n",
    "The CPython interpreter is not thread-safe internally, so it has a Global Interpreter Lock (GIL), which allows only one thread at a time to execute Python bytecodes. That’s why a single Python process usually cannot use multiple CPU cores at the same time."
   ]
  },
  {
   "cell_type": "markdown",
   "metadata": {},
   "source": [
    "### The GIL for I/O bound processing\n",
    "The GIL is nearly harmless with I/O-bound processing. All standard library functions that perform blocking I/O release the GIL when waiting for a result from the OS. This means Python programs that are I/O bound can benefit from using threads at the Python level. While one Python thread is waiting for a response from the network, the blocked I/O function releases the GIL so another thread can run."
   ]
  },
  {
   "cell_type": "markdown",
   "metadata": {},
   "source": [
    "### The GIL for CPU bound processing\n",
    "\n",
    "For CPU-bound work, you need to sidestep the GIL by launching multiple processes. The futures.ProcessPoolExecutor is the easiest way to do it. \n",
    "\n",
    "The multiprocessing package emulates the threading API but delegates jobs to multiple processes. Multiprocessing also offers facilities to solve the biggest challenge faced by collaborating processes: how to pass around data."
   ]
  },
  {
   "cell_type": "markdown",
   "metadata": {},
   "source": [
    "### Simple demonstration of the map method of ThreadPoolExecutor"
   ]
  },
  {
   "cell_type": "code",
   "execution_count": 245,
   "metadata": {},
   "outputs": [
    {
     "name": "stdout",
     "output_type": "stream",
     "text": [
      "[13:42:51] Script starting.\n",
      "[13:42:51][13:42:51] \tloiter(1): doing nothing for 1s...\n",
      " loiter(0): doing nothing for 0s...\n",
      "[13:42:51] loiter(0): done.\n",
      "[13:42:51] \t\tloiter(2): doing nothing for 2s...\n",
      "[13:42:51][13:42:51] results: <generator object Executor.map.<locals>.result_iterator at 0x7f9fcb2d1200>\n",
      "[13:42:51] Waiting for individual results:\n",
      "[13:42:51] result 0: 0\n",
      " \t\t\tloiter(3): doing nothing for 3s...\n",
      "[13:42:52] \tloiter(1): done.\n",
      "[13:42:52] \t\t\t\tloiter(4): doing nothing for 4s...\n",
      "[13:42:52] result 1: 10\n",
      "[13:42:53] \t\tloiter(2): done.\n",
      "[13:42:53] result 2: 20\n",
      "[13:42:54] \t\t\tloiter(3): done.\n",
      "[13:42:54] result 3: 30\n",
      "[13:42:56] \t\t\t\tloiter(4): done.\n",
      "[13:42:56] result 4: 40\n"
     ]
    }
   ],
   "source": [
    "from time import sleep, strftime\n",
    "from concurrent import futures\n",
    "\n",
    "def display(*args):   \n",
    "    print(strftime('[%H:%M:%S]'), end=' ')\n",
    "    print(*args)\n",
    "\n",
    "\n",
    "def loiter(n):   \n",
    "    msg = '{}loiter({}): doing nothing for {}s...'\n",
    "    display(msg.format('\\t'*n, n, n))\n",
    "    sleep(n)\n",
    "    msg = '{}loiter({}): done.'\n",
    "    display(msg.format('\\t'*n, n))\n",
    "    return n * 10   \n",
    "\n",
    "\n",
    "def main():\n",
    "    display('Script starting.')\n",
    "    executor = futures.ThreadPoolExecutor(max_workers=3)   \n",
    "    results = executor.map(loiter, range(5))   \n",
    "    display('results:', results)  # .\n",
    "    display('Waiting for individual results:')\n",
    "    for i, result in enumerate(results):   \n",
    "        display('result {}: {}'.format(i, result))\n",
    "\n",
    "\n",
    "main()\n"
   ]
  }
 ],
 "metadata": {
  "kernelspec": {
   "display_name": "Python 3",
   "language": "python",
   "name": "python3"
  },
  "language_info": {
   "codemirror_mode": {
    "name": "ipython",
    "version": 3
   },
   "file_extension": ".py",
   "mimetype": "text/x-python",
   "name": "python",
   "nbconvert_exporter": "python",
   "pygments_lexer": "ipython3",
   "version": "3.8.1"
  },
  "toc": {
   "base_numbering": 1,
   "nav_menu": {},
   "number_sections": false,
   "sideBar": true,
   "skip_h1_title": false,
   "title_cell": "Table of Contents",
   "title_sidebar": "Contents2",
   "toc_cell": true,
   "toc_position": {},
   "toc_section_display": true,
   "toc_window_display": false
  }
 },
 "nbformat": 4,
 "nbformat_minor": 4
}
