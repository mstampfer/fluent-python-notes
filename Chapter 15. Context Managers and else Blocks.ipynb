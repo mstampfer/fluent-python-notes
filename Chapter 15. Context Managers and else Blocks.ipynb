{
 "cells": [
  {
   "cell_type": "markdown",
   "metadata": {
    "toc": true
   },
   "source": [
    "<h1>Table of Contents<span class=\"tocSkip\"></span></h1>\n",
    "<div class=\"toc\"><ul class=\"toc-item\"><li><span><a href=\"#Chapter-15.-Context-Managers-and-else-Blocks\" data-toc-modified-id=\"Chapter-15.-Context-Managers-and-else-Blocks-1\">Chapter 15. Context Managers and else Blocks</a></span><ul class=\"toc-item\"><li><span><a href=\"#else-Blocks\" data-toc-modified-id=\"else-Blocks-1.1\">else Blocks</a></span><ul class=\"toc-item\"><li><span><a href=\"#for-loop\" data-toc-modified-id=\"for-loop-1.1.1\">for loop</a></span></li><li><span><a href=\"#try/except-Blocks\" data-toc-modified-id=\"try/except-Blocks-1.1.2\">try/except Blocks</a></span></li></ul></li><li><span><a href=\"#with-Blocks\" data-toc-modified-id=\"with-Blocks-1.2\">with Blocks</a></span></li><li><span><a href=\"#Context-Managers\" data-toc-modified-id=\"Context-Managers-1.3\">Context Managers</a></span></li><li><span><a href=\"#Context-manager-as-a-decorator:-@contextmanager\" data-toc-modified-id=\"Context-manager-as-a-decorator:-@contextmanager-1.4\">Context manager as a decorator: @contextmanager</a></span></li></ul></li><li><span><a href=\"#Chapter-16.-Coroutines\" data-toc-modified-id=\"Chapter-16.-Coroutines-2\">Chapter 16. Coroutines</a></span><ul class=\"toc-item\"><li><span><a href=\"#simple-coroutine\" data-toc-modified-id=\"simple-coroutine-2.1\">simple coroutine</a></span></li><li><span><a href=\"#Coroutine-states\" data-toc-modified-id=\"Coroutine-states-2.2\">Coroutine states</a></span></li><li><span><a href=\"#a-running-average-coroutine\" data-toc-modified-id=\"a-running-average-coroutine-2.3\">a running average coroutine</a></span><ul class=\"toc-item\"><li><span><a href=\"#Using-@wraps-decorator\" data-toc-modified-id=\"Using-@wraps-decorator-2.3.1\">Using @wraps decorator</a></span></li></ul></li><li><span><a href=\"#Coroutine-Termination-and-Exception-Handling\" data-toc-modified-id=\"Coroutine-Termination-and-Exception-Handling-2.4\">Coroutine Termination and Exception Handling</a></span><ul class=\"toc-item\"><li><span><a href=\"#generator.throw()\" data-toc-modified-id=\"generator.throw()-2.4.1\">generator.throw()</a></span></li><li><span><a href=\"#generator.close()\" data-toc-modified-id=\"generator.close()-2.4.2\">generator.close()</a></span></li></ul></li><li><span><a href=\"#returning-values-from-coroutines\" data-toc-modified-id=\"returning-values-from-coroutines-2.5\">returning values from coroutines</a></span><ul class=\"toc-item\"><li><span><a href=\"#returning-values-from-coroutines-without-using-yield-from\" data-toc-modified-id=\"returning-values-from-coroutines-without-using-yield-from-2.5.1\">returning values from coroutines without using <code>yield from</code></a></span></li><li><span><a href=\"#usingyield-from\" data-toc-modified-id=\"usingyield-from-2.5.2\">using<code>yield from</code></a></span></li></ul></li><li><span><a href=\"#Taxi-simulator\" data-toc-modified-id=\"Taxi-simulator-2.6\">Taxi simulator</a></span></li></ul></li></ul></div>"
   ]
  },
  {
   "cell_type": "markdown",
   "metadata": {},
   "source": [
    "# Chapter 15. Context Managers and else Blocks"
   ]
  },
  {
   "cell_type": "markdown",
   "metadata": {},
   "source": [
    "## else Blocks"
   ]
  },
  {
   "cell_type": "markdown",
   "metadata": {},
   "source": [
    "### for loop\n",
    "The else block will run only if and when the for loop runs to completion (i.e., not if the for is aborted with a break)"
   ]
  },
  {
   "cell_type": "code",
   "execution_count": 622,
   "metadata": {},
   "outputs": [
    {
     "ename": "ValueError",
     "evalue": "No banana flavor found!",
     "output_type": "error",
     "traceback": [
      "\u001b[0;31m---------------------------------------------------------------------------\u001b[0m",
      "\u001b[0;31mValueError\u001b[0m                                Traceback (most recent call last)",
      "\u001b[0;32m<ipython-input-622-ce685d97bcae>\u001b[0m in \u001b[0;36m<module>\u001b[0;34m\u001b[0m\n\u001b[1;32m      7\u001b[0m         \u001b[0;32mbreak\u001b[0m\u001b[0;34m\u001b[0m\u001b[0;34m\u001b[0m\u001b[0m\n\u001b[1;32m      8\u001b[0m \u001b[0;32melse\u001b[0m\u001b[0;34m:\u001b[0m\u001b[0;34m\u001b[0m\u001b[0;34m\u001b[0m\u001b[0m\n\u001b[0;32m----> 9\u001b[0;31m     \u001b[0;32mraise\u001b[0m \u001b[0mValueError\u001b[0m\u001b[0;34m(\u001b[0m\u001b[0;34m'No banana flavor found!'\u001b[0m\u001b[0;34m)\u001b[0m\u001b[0;34m\u001b[0m\u001b[0;34m\u001b[0m\u001b[0m\n\u001b[0m",
      "\u001b[0;31mValueError\u001b[0m: No banana flavor found!"
     ]
    }
   ],
   "source": [
    "from collections import namedtuple\n",
    "gum=namedtuple('gum',['flavor'])\n",
    "\n",
    "my_list = [gum('cherry'), gum('vanilla')]\n",
    "for item in my_list:\n",
    "    if item.flavor == 'banana':\n",
    "        break\n",
    "else:\n",
    "    raise ValueError('No banana flavor found!')"
   ]
  },
  {
   "cell_type": "code",
   "execution_count": 621,
   "metadata": {},
   "outputs": [
    {
     "data": {
      "text/plain": [
       "gum(flavor='cherry')"
      ]
     },
     "execution_count": 621,
     "metadata": {},
     "output_type": "execute_result"
    }
   ],
   "source": [
    "gum('cherry')"
   ]
  },
  {
   "cell_type": "markdown",
   "metadata": {},
   "source": [
    "### try/except Blocks\n",
    "The else block will only run if no exception is raised in the try block."
   ]
  },
  {
   "cell_type": "code",
   "execution_count": 623,
   "metadata": {},
   "outputs": [],
   "source": [
    "def dangerous_call(): pass\n",
    "def after_call():print('Phew!')"
   ]
  },
  {
   "cell_type": "markdown",
   "metadata": {},
   "source": [
    "Instead of this..."
   ]
  },
  {
   "cell_type": "code",
   "execution_count": 624,
   "metadata": {},
   "outputs": [
    {
     "name": "stdout",
     "output_type": "stream",
     "text": [
      "Phew!\n"
     ]
    }
   ],
   "source": [
    "try:\n",
    "    dangerous_call()\n",
    "    after_call()\n",
    "except OSError:\n",
    "    log('OSError...')"
   ]
  },
  {
   "cell_type": "markdown",
   "metadata": {},
   "source": [
    " For clarity and correctness, the body of a try block should only have the statements that may generate the expected exceptions. This is much better:"
   ]
  },
  {
   "cell_type": "code",
   "execution_count": 625,
   "metadata": {},
   "outputs": [
    {
     "name": "stdout",
     "output_type": "stream",
     "text": [
      "Phew!\n"
     ]
    }
   ],
   "source": [
    "try:\n",
    "    dangerous_call()\n",
    "except OSError:\n",
    "    log('OSError...')\n",
    "else:\n",
    "    after_call()"
   ]
  },
  {
   "cell_type": "code",
   "execution_count": 626,
   "metadata": {},
   "outputs": [
    {
     "ename": "TypeError",
     "evalue": "map() must have at least two arguments.",
     "output_type": "error",
     "traceback": [
      "\u001b[0;31m---------------------------------------------------------------------------\u001b[0m",
      "\u001b[0;31mTypeError\u001b[0m                                 Traceback (most recent call last)",
      "\u001b[0;32m<ipython-input-626-4775bfc34030>\u001b[0m in \u001b[0;36m<module>\u001b[0;34m\u001b[0m\n\u001b[0;32m----> 1\u001b[0;31m \u001b[0mmap\u001b[0m\u001b[0;34m(\u001b[0m\u001b[0;32mlambda\u001b[0m \u001b[0mx\u001b[0m\u001b[0;34m:\u001b[0m \u001b[0mx\u001b[0m \u001b[0;32min\u001b[0m \u001b[0;34m[\u001b[0m\u001b[0;36m1\u001b[0m\u001b[0;34m,\u001b[0m\u001b[0;36m2\u001b[0m\u001b[0;34m]\u001b[0m\u001b[0;34m)\u001b[0m\u001b[0;34m\u001b[0m\u001b[0;34m\u001b[0m\u001b[0m\n\u001b[0m",
      "\u001b[0;31mTypeError\u001b[0m: map() must have at least two arguments."
     ]
    }
   ],
   "source": [
    "map(lambda x: x in [1,2])"
   ]
  },
  {
   "cell_type": "markdown",
   "metadata": {},
   "source": [
    "## with Blocks\n",
    "The with statement was designed to simplify the try/finally pattern, which guarantees that some operation is performed after a block of code, even if the block is aborted because of an exception, a return or sys.exit() call. "
   ]
  },
  {
   "cell_type": "code",
   "execution_count": 628,
   "metadata": {},
   "outputs": [
    {
     "name": "stdout",
     "output_type": "stream",
     "text": [
      "False\n",
      "True\n"
     ]
    }
   ],
   "source": [
    "with open('mirror.py') as fp: \n",
    "    src = fp.read()\n",
    "    print(fp.closed)          \n",
    "print(fp.closed)"
   ]
  },
  {
   "cell_type": "markdown",
   "metadata": {},
   "source": [
    "## Context Managers"
   ]
  },
  {
   "cell_type": "code",
   "execution_count": 630,
   "metadata": {},
   "outputs": [],
   "source": [
    "import sys\n",
    "\n",
    "class LookingGlass:\n",
    "\n",
    "    def __enter__(self):\n",
    "        self.original_write = sys.stdout.write   \n",
    "        sys.stdout.write = self.reverse_write   \n",
    "        print('in enter')\n",
    "        return 'JABBERWOCKY'   \n",
    "\n",
    "    def reverse_write(self, text):   \n",
    "        self.original_write(text[::-1])\n",
    "\n",
    "    def __exit__(self, exc_type, exc_value, traceback):   \n",
    "        sys.stdout.write = self.original_write    \n",
    "        if exc_type is ZeroDivisionError:   \n",
    "            print('Please DO NOT divide by zero!')\n",
    "            return True   \n",
    "        print('in exit')\n",
    "         "
   ]
  },
  {
   "cell_type": "code",
   "execution_count": 637,
   "metadata": {},
   "outputs": [
    {
     "name": "stdout",
     "output_type": "stream",
     "text": [
      "retne ni\n",
      "pordwonS dna yttiK ,ecilA\n",
      "Please DO NOT divide by zero!\n"
     ]
    }
   ],
   "source": [
    "with LookingGlass() as what:    # __enter__ called here\n",
    "    print('Alice, Kitty and Snowdrop')\n",
    "    raise ZeroDivisionError   # uncomment to pass ZeroDivisionError as exc_type \n",
    "    print(what)                 # __exit__ called here"
   ]
  },
  {
   "cell_type": "code",
   "execution_count": 632,
   "metadata": {},
   "outputs": [
    {
     "name": "stdout",
     "output_type": "stream",
     "text": [
      "Back to normal.\n"
     ]
    }
   ],
   "source": [
    "print('Back to normal.')"
   ]
  },
  {
   "cell_type": "markdown",
   "metadata": {},
   "source": [
    "## Context manager as a decorator: @contextmanager\n",
    "contextlib.contextmanager decorator wraps the function in a class that implements the `__enter__` and `__exit__` methods"
   ]
  },
  {
   "cell_type": "code",
   "execution_count": 642,
   "metadata": {},
   "outputs": [],
   "source": [
    "import contextlib\n",
    "import sys\n",
    "\n",
    "@contextlib.contextmanager\n",
    "def looking_glass():\n",
    "    original_write = sys.stdout.write\n",
    "\n",
    "    def reverse_write(text):\n",
    "        original_write(text[::-1])\n",
    "        \n",
    "    print('before yield')\n",
    "    sys.stdout.write = reverse_write\n",
    "    msg = ''\n",
    "    try:\n",
    "        print('...gnidleiy')\n",
    "        yield 'JABBERWOCKY'\n",
    "    except ZeroDivisionError:   \n",
    "        msg = 'Please DO NOT divide by zero!'\n",
    "    finally:\n",
    "        sys.stdout.write = original_write  \n",
    "        if msg:\n",
    "            print(msg)   \n",
    "        print('after yield')"
   ]
  },
  {
   "cell_type": "code",
   "execution_count": 643,
   "metadata": {},
   "outputs": [
    {
     "name": "stdout",
     "output_type": "stream",
     "text": [
      "before yield\n",
      "yielding...\n",
      "pordwonS dna yttiK ,ecilA\n",
      "Please DO NOT divide by zero!\n",
      "after yield\n"
     ]
    },
    {
     "data": {
      "text/plain": [
       "'JABBERWOCKY'"
      ]
     },
     "execution_count": 643,
     "metadata": {},
     "output_type": "execute_result"
    }
   ],
   "source": [
    "with looking_glass() as what:    # before yield returns\n",
    "    print('Alice, Kitty and Snowdrop')\n",
    "    raise ZeroDivisionError   # uncomment to pass ZeroDivisionError as exc_type \n",
    "    print(what)                 # after yield returns\n",
    "what"
   ]
  }
 ],
 "metadata": {
  "kernelspec": {
   "display_name": "Python 3",
   "language": "python",
   "name": "python3"
  },
  "language_info": {
   "codemirror_mode": {
    "name": "ipython",
    "version": 3
   },
   "file_extension": ".py",
   "mimetype": "text/x-python",
   "name": "python",
   "nbconvert_exporter": "python",
   "pygments_lexer": "ipython3",
   "version": "3.8.1"
  },
  "toc": {
   "base_numbering": 1,
   "nav_menu": {},
   "number_sections": false,
   "sideBar": true,
   "skip_h1_title": false,
   "title_cell": "Table of Contents",
   "title_sidebar": "Contents2",
   "toc_cell": true,
   "toc_position": {},
   "toc_section_display": true,
   "toc_window_display": false
  }
 },
 "nbformat": 4,
 "nbformat_minor": 4
}
