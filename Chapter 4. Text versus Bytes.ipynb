{
 "cells": [
  {
   "cell_type": "markdown",
   "metadata": {
    "toc": true
   },
   "source": [
    "<h1>Table of Contents<span class=\"tocSkip\"></span></h1>\n",
    "<div class=\"toc\"><ul class=\"toc-item\"><li><span><a href=\"#Chapter-4.-Text-versus-Bytes\" data-toc-modified-id=\"Chapter-4.-Text-versus-Bytes-1\">Chapter 4. Text versus Bytes</a></span><ul class=\"toc-item\"><li><ul class=\"toc-item\"><li><span><a href=\"#Converting-from-code-points-to-bytes-is-encoding;-converting-from-bytes-to-code-points-is-decoding.\" data-toc-modified-id=\"Converting-from-code-points-to-bytes-is-encoding;-converting-from-bytes-to-code-points-is-decoding.-1.0.1\">Converting from code points to bytes is encoding; converting from bytes to code points is decoding.</a></span></li><li><span><a href=\"#bytes-can-be-built-from-a-str,-give-an-encoding.-Each-item-in-a-bytes-sequence-is-an-integer-in-range(256).\" data-toc-modified-id=\"bytes-can-be-built-from-a-str,-give-an-encoding.-Each-item-in-a-bytes-sequence-is-an-integer-in-range(256).-1.0.2\">bytes can be built from a str, give an encoding. Each item in a bytes sequence is an integer in range(256).</a></span></li><li><span><a href=\"#A-slice-of-byte/bytearray-is-also-a-byte/bytearray.\" data-toc-modified-id=\"A-slice-of-byte/bytearray-is-also-a-byte/bytearray.-1.0.3\">A slice of byte/bytearray is also a byte/bytearray.</a></span></li><li><span><a href=\"#str-methods-on-bytes-and-bytearrays\" data-toc-modified-id=\"str-methods-on-bytes-and-bytearrays-1.0.4\">str methods on bytes and bytearrays</a></span></li></ul></li><li><span><a href=\"#Structs-and-Memory-Views\" data-toc-modified-id=\"Structs-and-Memory-Views-1.1\">Structs and Memory Views</a></span><ul class=\"toc-item\"><li><span><a href=\"#How-to-Discover-the-Encoding-of-a-Byte-Sequence\" data-toc-modified-id=\"How-to-Discover-the-Encoding-of-a-Byte-Sequence-1.1.1\">How to Discover the Encoding of a Byte Sequence</a></span></li><li><span><a href=\"#A-platform-encoding-issue-(following-code-breaks-on-windows)\" data-toc-modified-id=\"A-platform-encoding-issue-(following-code-breaks-on-windows)-1.1.2\">A platform encoding issue (following code breaks on windows)</a></span></li></ul></li><li><span><a href=\"#Unicode-Normalizations\" data-toc-modified-id=\"Unicode-Normalizations-1.2\">Unicode Normalizations</a></span><ul class=\"toc-item\"><li><span><a href=\"#Case-folding-for-case-insensitive-comparisons\" data-toc-modified-id=\"Case-folding-for-case-insensitive-comparisons-1.2.1\">Case folding for case insensitive comparisons</a></span></li><li><span><a href=\"#Taking-Out-Diacritics\" data-toc-modified-id=\"Taking-Out-Diacritics-1.2.2\">Taking Out Diacritics</a></span></li><li><span><a href=\"#Unicode-database\" data-toc-modified-id=\"Unicode-database-1.2.3\">Unicode database</a></span></li><li><span><a href=\"#str-Versus-bytes-in-Regular-Expressions\" data-toc-modified-id=\"str-Versus-bytes-in-Regular-Expressions-1.2.4\">str Versus bytes in Regular Expressions</a></span></li></ul></li></ul></li></ul></div>"
   ]
  },
  {
   "cell_type": "markdown",
   "metadata": {},
   "source": [
    "# Chapter 4. Text versus Bytes"
   ]
  },
  {
   "cell_type": "markdown",
   "metadata": {},
   "source": [
    "### Converting from code points to bytes is encoding; converting from bytes to code points is decoding. "
   ]
  },
  {
   "cell_type": "code",
   "execution_count": 4,
   "metadata": {},
   "outputs": [
    {
     "data": {
      "text/plain": [
       "bytes"
      ]
     },
     "execution_count": 4,
     "metadata": {},
     "output_type": "execute_result"
    }
   ],
   "source": [
    "s = 'café'\n",
    "b = s.encode('utf8')  # b = b'caf\\xc3\\xa9'\n",
    "b.decode('utf8')  # 'café'\n",
    "type(b)"
   ]
  },
  {
   "cell_type": "markdown",
   "metadata": {},
   "source": [
    "### bytes can be built from a str, give an encoding. Each item in a bytes sequence is an integer in range(256)."
   ]
  },
  {
   "cell_type": "code",
   "execution_count": 18,
   "metadata": {},
   "outputs": [
    {
     "data": {
      "text/plain": [
       "169"
      ]
     },
     "execution_count": 18,
     "metadata": {},
     "output_type": "execute_result"
    }
   ],
   "source": [
    "cafe = bytes('café', encoding='utf_8')\n",
    "cafe[-1]"
   ]
  },
  {
   "cell_type": "code",
   "execution_count": 19,
   "metadata": {},
   "outputs": [
    {
     "data": {
      "text/plain": [
       "169"
      ]
     },
     "execution_count": 19,
     "metadata": {},
     "output_type": "execute_result"
    }
   ],
   "source": [
    "cafe_arr = bytearray('café', encoding='utf_8')\n",
    "cafe_arr[-1] "
   ]
  },
  {
   "cell_type": "markdown",
   "metadata": {},
   "source": [
    "### A slice of byte/bytearray is also a byte/bytearray."
   ]
  },
  {
   "cell_type": "code",
   "execution_count": 20,
   "metadata": {},
   "outputs": [
    {
     "data": {
      "text/plain": [
       "b'\\xa9'"
      ]
     },
     "execution_count": 20,
     "metadata": {},
     "output_type": "execute_result"
    }
   ],
   "source": [
    "cafe[-1:] "
   ]
  },
  {
   "cell_type": "code",
   "execution_count": 21,
   "metadata": {},
   "outputs": [
    {
     "data": {
      "text/plain": [
       "bytearray(b'\\xa9')"
      ]
     },
     "execution_count": 21,
     "metadata": {},
     "output_type": "execute_result"
    }
   ],
   "source": [
    "cafe_arr[-1:] "
   ]
  },
  {
   "cell_type": "markdown",
   "metadata": {},
   "source": [
    "### str methods on bytes and bytearrays\n",
    "you can use familiar string methods like endswith, replace, strip, translate, upper, and dozens of others with binary sequences—only using bytes and not str arguments. In addition, the regular expression functions in the re module also work on binary sequences, if the regex is compiled from a binary sequence instead of a str"
   ]
  },
  {
   "cell_type": "markdown",
   "metadata": {},
   "source": [
    "## Structs and Memory Views"
   ]
  },
  {
   "cell_type": "code",
   "execution_count": 22,
   "metadata": {},
   "outputs": [],
   "source": [
    "# Create memoryview from file contents in memory\n",
    "import struct\n",
    "with open ('bmA.gif', 'rb') as fp:\n",
    "    img = memoryview(fp.read())"
   ]
  },
  {
   "cell_type": "code",
   "execution_count": 23,
   "metadata": {},
   "outputs": [
    {
     "data": {
      "text/plain": [
       "b'GIF89aY\\x01i\\x01'"
      ]
     },
     "execution_count": 23,
     "metadata": {},
     "output_type": "execute_result"
    }
   ],
   "source": [
    "# Convert header to bytes for display only; 10 bytes are copied here.\n",
    "header = img[:10]\n",
    "bytes(header)"
   ]
  },
  {
   "cell_type": "code",
   "execution_count": 25,
   "metadata": {},
   "outputs": [
    {
     "data": {
      "text/plain": [
       "361"
      ]
     },
     "execution_count": 25,
     "metadata": {},
     "output_type": "execute_result"
    }
   ],
   "source": [
    "# struct format: < little-endian; 3s3s two sequences of 3 bytes; HH two 16-bit integers.\n",
    "fmt = '<3s3sHH' \n",
    "\n",
    "# Convert to bytes for display only; 10 bytes are copied here.\n",
    "header = struct.unpack(fmt, header)\n",
    "header[3]"
   ]
  },
  {
   "cell_type": "code",
   "execution_count": 27,
   "metadata": {},
   "outputs": [
    {
     "data": {
      "image/gif": "[encoded data removed]",
      "text/plain": [
       "<IPython.core.display.Image object>"
      ]
     },
     "execution_count": 27,
     "metadata": {
      "image/gif": {
       "height": 361,
       "width": 345
      }
     },
     "output_type": "execute_result"
    }
   ],
   "source": [
    "from IPython.display import Image\n",
    "Image(filename = \"bmA.gif\", width = header[2], height = header[3])"
   ]
  },
  {
   "cell_type": "markdown",
   "metadata": {},
   "source": [
    "### How to Discover the Encoding of a Byte Sequence\n",
    "Short answer: you can’t. You must be told.\n"
   ]
  },
  {
   "cell_type": "markdown",
   "metadata": {},
   "source": [
    "### A platform encoding issue (following code breaks on windows)"
   ]
  },
  {
   "cell_type": "code",
   "execution_count": 28,
   "metadata": {},
   "outputs": [
    {
     "data": {
      "text/plain": [
       "'café'"
      ]
     },
     "execution_count": 28,
     "metadata": {},
     "output_type": "execute_result"
    }
   ],
   "source": [
    "open('cafe.txt', 'w', encoding='utf_8').write('café')\n",
    "open('cafe.txt').read()\n",
    "# The bug: I specified UTF-8 encoding when writing the file \n",
    "# but failed to do so when reading it, so Python assumed the system \n",
    "# default encoding\n",
    "\n",
    "# Always pass an explicit encoding= argument when opening text files, \n",
    "# because the default may change from one machine to the next"
   ]
  },
  {
   "cell_type": "markdown",
   "metadata": {},
   "source": [
    "## Unicode Normalizations\n",
    "the word “café” may be composed in two ways, using four or five code points, but the result looks exactly the same.\n",
    "\n",
    "The solution is to use Unicode normalization, provided by the unicodedata.normalize function"
   ]
  },
  {
   "cell_type": "code",
   "execution_count": 38,
   "metadata": {},
   "outputs": [
    {
     "data": {
      "text/plain": [
       "True"
      ]
     },
     "execution_count": 38,
     "metadata": {},
     "output_type": "execute_result"
    }
   ],
   "source": [
    "from unicodedata import normalize, name\n",
    "\n",
    "def nfc_equal(str1, str2):\n",
    "    return normalize('NFC', str1) == normalize('NFC', str2)\n",
    "\n",
    "def fold_equal(str1, str2):\n",
    "    return (normalize('NFC', str1).casefold() ==\n",
    "            normalize('NFC', str2).casefold())\n",
    "\n",
    "s1 = 'café'\n",
    "s2 = 'cafe\\u0301'\n",
    "s1, s2 #('café', 'café')\n",
    "len(s1), len(s2) #(4, 5)\n",
    "s1 == s2 # False\n",
    "nfc_equal(s1, s2)"
   ]
  },
  {
   "cell_type": "code",
   "execution_count": 33,
   "metadata": {},
   "outputs": [
    {
     "data": {
      "text/plain": [
       "True"
      ]
     },
     "execution_count": 33,
     "metadata": {},
     "output_type": "execute_result"
    }
   ],
   "source": [
    "normalize('NFC', s1) == normalize('NFC', s2)"
   ]
  },
  {
   "cell_type": "code",
   "execution_count": 36,
   "metadata": {},
   "outputs": [
    {
     "data": {
      "text/plain": [
       "True"
      ]
     },
     "execution_count": 36,
     "metadata": {},
     "output_type": "execute_result"
    }
   ],
   "source": [
    "normalize('NFD', s1) == normalize('NFD', s2)"
   ]
  },
  {
   "cell_type": "markdown",
   "metadata": {},
   "source": [
    "### Case folding for case insensitive comparisons"
   ]
  },
  {
   "cell_type": "code",
   "execution_count": 39,
   "metadata": {},
   "outputs": [
    {
     "data": {
      "text/plain": [
       "('ß', 'ss')"
      ]
     },
     "execution_count": 39,
     "metadata": {},
     "output_type": "execute_result"
    }
   ],
   "source": [
    "alphabet = 'ABCDEFGHIJKLMNOPQRSTUVWXYZ'\n",
    "alphabet.casefold() # abcdefghijklmnopqrstuvwxyz\n",
    "\n",
    "micro = 'µ'\n",
    "name(micro) # 'MICRO SIGN'\n",
    "micro_cf = micro.casefold()\n",
    "name(micro_cf) # 'GREEK SMALL LETTER MU'\n",
    "micro, micro_cf # ('µ', 'μ')\n",
    "\n",
    "eszett = 'ß'\n",
    "name(eszett) # 'LATIN SMALL LETTER SHARP S'\n",
    "\n",
    "eszett_cf = eszett.casefold()\n",
    "eszett, eszett_cf # ('ß', 'ss')"
   ]
  },
  {
   "cell_type": "code",
   "execution_count": 47,
   "metadata": {},
   "outputs": [
    {
     "data": {
      "text/plain": [
       "True"
      ]
     },
     "execution_count": 47,
     "metadata": {},
     "output_type": "execute_result"
    }
   ],
   "source": [
    "fold_equal(micro, micro_cf)"
   ]
  },
  {
   "cell_type": "code",
   "execution_count": 46,
   "metadata": {},
   "outputs": [
    {
     "data": {
      "text/plain": [
       "True"
      ]
     },
     "execution_count": 46,
     "metadata": {},
     "output_type": "execute_result"
    }
   ],
   "source": [
    "fold_equal(eszett, eszett_cf)"
   ]
  },
  {
   "cell_type": "code",
   "execution_count": 42,
   "metadata": {},
   "outputs": [
    {
     "data": {
      "text/plain": [
       "False"
      ]
     },
     "execution_count": 42,
     "metadata": {},
     "output_type": "execute_result"
    }
   ],
   "source": [
    "nfc_equal(micro, micro_cf)"
   ]
  },
  {
   "cell_type": "code",
   "execution_count": 48,
   "metadata": {},
   "outputs": [
    {
     "data": {
      "text/plain": [
       "True"
      ]
     },
     "execution_count": 48,
     "metadata": {},
     "output_type": "execute_result"
    }
   ],
   "source": [
    "s3 = 'Straße'\n",
    "s4 = 'strasse'\n",
    "nfc_equal(s3, s4) # False\n",
    "fold_equal(s3, s4)"
   ]
  },
  {
   "cell_type": "markdown",
   "metadata": {},
   "source": [
    "### Taking Out Diacritics"
   ]
  },
  {
   "cell_type": "code",
   "execution_count": 52,
   "metadata": {},
   "outputs": [],
   "source": [
    "import unicodedata\n",
    "import string\n",
    "\n",
    "\n",
    "def shave_marks(txt):\n",
    "    \"\"\"Remove all diacritic marks\"\"\"\n",
    "    norm_txt = unicodedata.normalize('NFD', txt)   \n",
    "    shaved = ''.join(c for c in norm_txt\n",
    "                     if not unicodedata.combining(c))   \n",
    "    return unicodedata.normalize('NFC', shaved)   \n"
   ]
  },
  {
   "cell_type": "code",
   "execution_count": 54,
   "metadata": {},
   "outputs": [
    {
     "data": {
      "text/plain": [
       "'“Herr Voß: • ½ cup of Œtker™ caffe latte • bowl of acai.”'"
      ]
     },
     "execution_count": 54,
     "metadata": {},
     "output_type": "execute_result"
    }
   ],
   "source": [
    "# Only the letters “è”, “ç”, and “í” are replaced.\n",
    "order = '“Herr Voß: • ½ cup of Œtker™ caffè latte • bowl of açaí.”'\n",
    "shave_marks(order)"
   ]
  },
  {
   "cell_type": "code",
   "execution_count": 56,
   "metadata": {},
   "outputs": [
    {
     "data": {
      "text/plain": [
       "'Ζεφυρος, Zefiro'"
      ]
     },
     "execution_count": 56,
     "metadata": {},
     "output_type": "execute_result"
    }
   ],
   "source": [
    "# Both “έ” and “é” are replaced.\n",
    "Greek = 'Ζέφυρος, Zéfiro'\n",
    "shave_marks(Greek)"
   ]
  },
  {
   "cell_type": "markdown",
   "metadata": {},
   "source": [
    "### Unicode database\n",
    "Demo of Unicode database numerical character metadata "
   ]
  },
  {
   "cell_type": "code",
   "execution_count": 57,
   "metadata": {},
   "outputs": [
    {
     "name": "stdout",
     "output_type": "stream",
     "text": [
      "U+0031\t  1   \tre_dig\tisdig\tisnum\t 1.00\tDIGIT ONE\n",
      "U+00bc\t  ¼   \t-\t-\tisnum\t 0.25\tVULGAR FRACTION ONE QUARTER\n",
      "U+00b2\t  ²   \t-\tisdig\tisnum\t 2.00\tSUPERSCRIPT TWO\n",
      "U+0969\t  ३   \tre_dig\tisdig\tisnum\t 3.00\tDEVANAGARI DIGIT THREE\n",
      "U+136b\t  ፫   \t-\tisdig\tisnum\t 3.00\tETHIOPIC DIGIT THREE\n",
      "U+216b\t  Ⅻ   \t-\t-\tisnum\t12.00\tROMAN NUMERAL TWELVE\n",
      "U+2466\t  ⑦   \t-\tisdig\tisnum\t 7.00\tCIRCLED DIGIT SEVEN\n",
      "U+2480\t  ⒀   \t-\t-\tisnum\t13.00\tPARENTHESIZED NUMBER THIRTEEN\n",
      "U+3285\t  ㊅   \t-\t-\tisnum\t 6.00\tCIRCLED IDEOGRAPH SIX\n"
     ]
    }
   ],
   "source": [
    "import unicodedata\n",
    "import re\n",
    "\n",
    "re_digit = re.compile(r'\\d')\n",
    "\n",
    "sample = '1\\xbc\\xb2\\u0969\\u136b\\u216b\\u2466\\u2480\\u3285'\n",
    "\n",
    "for char in sample:\n",
    "    print('U+%04x' % ord(char),                        \n",
    "          char.center(6),                              \n",
    "          're_dig' if re_digit.match(char) else '-',   \n",
    "          'isdig' if char.isdigit() else '-',          \n",
    "          'isnum' if char.isnumeric() else '-',        \n",
    "          format(unicodedata.numeric(char), '5.2f'),   \n",
    "          unicodedata.name(char),                      \n",
    "          sep='\\t')"
   ]
  },
  {
   "cell_type": "markdown",
   "metadata": {},
   "source": [
    "### str Versus bytes in Regular Expressions"
   ]
  },
  {
   "cell_type": "code",
   "execution_count": 58,
   "metadata": {},
   "outputs": [
    {
     "name": "stdout",
     "output_type": "stream",
     "text": [
      "Text\n",
      "  'Ramanujan saw ௧௭௨௯ as 1729 = 1³ + 12³ = 9³ + 10³.'\n",
      "Numbers\n",
      "  str  : ['௧௭௨௯', '1729', '1', '12', '9', '10']\n",
      "  bytes: [b'1729', b'1', b'12', b'9', b'10']\n",
      "Words\n",
      "  str  : ['Ramanujan', 'saw', '௧௭௨௯', 'as', '1729', '1³', '12³', '9³', '10³']\n",
      "  bytes: [b'Ramanujan', b'saw', b'as', b'1729', b'1', b'12', b'9', b'10']\n"
     ]
    }
   ],
   "source": [
    "import re\n",
    "\n",
    "re_numbers_str = re.compile(r'\\d+') # str type     \n",
    "re_words_str = re.compile(r'\\w+') # str type   \n",
    "re_numbers_bytes = re.compile(rb'\\d+') # bytes type   \n",
    "re_words_bytes = re.compile(rb'\\w+') # bytes type\n",
    "\n",
    "text_str = (\"Ramanujan saw \\u0be7\\u0bed\\u0be8\\u0bef\"   \n",
    "            \" as 1729 = 1³ + 12³ = 9³ + 10³.\")         \n",
    "\n",
    "text_bytes = text_str.encode('utf_8')   \n",
    "\n",
    "print('Text', repr(text_str), sep='\\n  ')\n",
    "print('Numbers')\n",
    "print('  str  :', re_numbers_str.findall(text_str))       \n",
    "print('  bytes:', re_numbers_bytes.findall(text_bytes))   \n",
    "print('Words')\n",
    "print('  str  :', re_words_str.findall(text_str))         \n",
    "print('  bytes:', re_words_bytes.findall(text_bytes))     \n"
   ]
  }
 ],
 "metadata": {
  "kernelspec": {
   "display_name": "Python 3",
   "language": "python",
   "name": "python3"
  },
  "language_info": {
   "codemirror_mode": {
    "name": "ipython",
    "version": 3
   },
   "file_extension": ".py",
   "mimetype": "text/x-python",
   "name": "python",
   "nbconvert_exporter": "python",
   "pygments_lexer": "ipython3",
   "version": "3.8.1"
  },
  "toc": {
   "base_numbering": 1,
   "nav_menu": {},
   "number_sections": false,
   "sideBar": true,
   "skip_h1_title": false,
   "title_cell": "Table of Contents",
   "title_sidebar": "Contents2",
   "toc_cell": true,
   "toc_position": {},
   "toc_section_display": true,
   "toc_window_display": false
  }
 },
 "nbformat": 4,
 "nbformat_minor": 4
}
