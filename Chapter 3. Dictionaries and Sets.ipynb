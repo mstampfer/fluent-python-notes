{
 "cells": [
  {
   "cell_type": "markdown",
   "metadata": {
    "toc": true
   },
   "source": [
    "<h1>Table of Contents<span class=\"tocSkip\"></span></h1>\n",
    "<div class=\"toc\"><ul class=\"toc-item\"><li><span><a href=\"#Chapter-3.-Dictionaries-and-Sets\" data-toc-modified-id=\"Chapter-3.-Dictionaries-and-Sets-1\">Chapter 3. Dictionaries and Sets</a></span><ul class=\"toc-item\"><li><span><a href=\"#the-dict-class-derives-from-Mapping-and-MutableMapping-abstract-interfaces\" data-toc-modified-id=\"the-dict-class-derives-from-Mapping-and-MutableMapping-abstract-interfaces-1.1\">the dict class derives from Mapping and MutableMapping abstract interfaces</a></span></li><li><span><a href=\"#atomic-immutable-types:-str,-numeric-types,-bytes,-frozenset-and-tuple-(if-all-elements-are-hashable)-are-hashable\" data-toc-modified-id=\"atomic-immutable-types:-str,-numeric-types,-bytes,-frozenset-and-tuple-(if-all-elements-are-hashable)-are-hashable-1.2\">atomic immutable types: str, numeric types, bytes, frozenset and tuple (if all elements are hashable) are hashable</a></span></li><li><span><a href=\"#Five-ways-to-build-a-dict\" data-toc-modified-id=\"Five-ways-to-build-a-dict-1.3\">Five ways to build a dict</a></span><ul class=\"toc-item\"><li><span><a href=\"#dict-comprehensions\" data-toc-modified-id=\"dict-comprehensions-1.3.1\">dict comprehensions</a></span></li></ul></li><li><span><a href=\"#Handling-Missing-Keys-on-insertion-with-setdefault\" data-toc-modified-id=\"Handling-Missing-Keys-on-insertion-with-setdefault-1.4\">Handling Missing Keys on insertion with setdefault</a></span></li><li><span><a href=\"#Handling-Missing-Keys-generally\" data-toc-modified-id=\"Handling-Missing-Keys-generally-1.5\">Handling Missing Keys generally</a></span><ul class=\"toc-item\"><li><span><a href=\"#defaultdict\" data-toc-modified-id=\"defaultdict-1.5.1\">defaultdict</a></span></li><li><span><a href=\"#The-__missing__-Method\" data-toc-modified-id=\"The-__missing__-Method-1.5.2\"><code>The __missing__ Method</code></a></span></li><li><span><a href=\"#Variations-of-dict\" data-toc-modified-id=\"Variations-of-dict-1.5.3\">Variations of dict</a></span></li><li><span><a href=\"#collections.OrderedDict\" data-toc-modified-id=\"collections.OrderedDict-1.5.4\">collections.OrderedDict</a></span></li><li><span><a href=\"#collections.ChainMap\" data-toc-modified-id=\"collections.ChainMap-1.5.5\">collections.ChainMap</a></span></li><li><span><a href=\"#collections.Counter\" data-toc-modified-id=\"collections.Counter-1.5.6\">collections.Counter</a></span></li><li><span><a href=\"#collections.UserDict\" data-toc-modified-id=\"collections.UserDict-1.5.7\">collections.UserDict</a></span></li></ul></li><li><span><a href=\"#Immutable-Mappings\" data-toc-modified-id=\"Immutable-Mappings-1.6\">Immutable Mappings</a></span><ul class=\"toc-item\"><li><span><a href=\"#MappingProxyType\" data-toc-modified-id=\"MappingProxyType-1.6.1\">MappingProxyType</a></span></li></ul></li><li><span><a href=\"#set-and-frozenset\" data-toc-modified-id=\"set-and-frozenset-1.7\">set and frozenset</a></span><ul class=\"toc-item\"><li><span><a href=\"#set-types-implement-the-essential-set-operations-as-infix-operators,-so,-given-two-sets-a-and-b,-a-|-b-returns-their-union,-a-&amp;-b-computes-the-intersection,-and-a---b-the-difference.\" data-toc-modified-id=\"set-types-implement-the-essential-set-operations-as-infix-operators,-so,-given-two-sets-a-and-b,-a-|-b-returns-their-union,-a-&amp;-b-computes-the-intersection,-and-a---b-the-difference.-1.7.1\">set types implement the essential set operations as infix operators, so, given two sets a and b, a | b returns their union, a &amp; b computes the intersection, and a - b the difference.</a></span></li><li><span><a href=\"#set-comprehensions\" data-toc-modified-id=\"set-comprehensions-1.7.2\">set comprehensions</a></span></li><li><span><a href=\"#Hashes-and-equality\" data-toc-modified-id=\"Hashes-and-equality-1.7.3\">Hashes and equality</a></span></li><li><span><a href=\"#Steps-in-hash-table-lookup-algorithm\" data-toc-modified-id=\"Steps-in-hash-table-lookup-algorithm-1.7.4\">Steps in hash table lookup algorithm</a></span></li><li><span><a href=\"#Consequences-of-hash-table-implementation-in-dicts\" data-toc-modified-id=\"Consequences-of-hash-table-implementation-in-dicts-1.7.5\">Consequences of hash table implementation in dicts</a></span><ul class=\"toc-item\"><li><span><a href=\"#1.-dicts-have-significant-memory-overhead\" data-toc-modified-id=\"1.-dicts-have-significant-memory-overhead-1.7.5.1\">1. dicts have significant memory overhead</a></span></li><li><span><a href=\"#2.-Key-search-is-very-fast\" data-toc-modified-id=\"2.-Key-search-is-very-fast-1.7.5.2\">2. Key search is very fast</a></span></li><li><span><a href=\"#3.-Key-ordering-depends-on-insertion-order-but-dicts-with-same-data-compare-equal\" data-toc-modified-id=\"3.-Key-ordering-depends-on-insertion-order-but-dicts-with-same-data-compare-equal-1.7.5.3\">3. Key ordering depends on insertion order but dicts with same data compare equal</a></span></li><li><span><a href=\"#4.-Adding-items-to-a-dict-may-change-the-order-of-existing-keys\" data-toc-modified-id=\"4.-Adding-items-to-a-dict-may-change-the-order-of-existing-keys-1.7.5.4\">4. Adding items to a dict may change the order of existing keys</a></span></li></ul></li><li><span><a href=\"#Summary-of-how-hash-table-benefit-dict-and-set-and-frozenset\" data-toc-modified-id=\"Summary-of-how-hash-table-benefit-dict-and-set-and-frozenset-1.7.6\">Summary of how hash table benefit dict and set and frozenset</a></span></li></ul></li></ul></li></ul></div>"
   ]
  },
  {
   "cell_type": "markdown",
   "metadata": {},
   "source": [
    "# Chapter 3. Dictionaries and Sets"
   ]
  },
  {
   "cell_type": "markdown",
   "metadata": {},
   "source": [
    "## the dict class derives from Mapping and MutableMapping abstract interfaces"
   ]
  },
  {
   "cell_type": "code",
   "execution_count": 208,
   "metadata": {},
   "outputs": [
    {
     "data": {
      "text/plain": [
       "True"
      ]
     },
     "execution_count": 208,
     "metadata": {},
     "output_type": "execute_result"
    }
   ],
   "source": [
    "import collections.abc\n",
    "my_dict = {}\n",
    "isinstance(my_dict, collections.abc.Mapping)"
   ]
  },
  {
   "cell_type": "code",
   "execution_count": 209,
   "metadata": {},
   "outputs": [
    {
     "data": {
      "text/plain": [
       "True"
      ]
     },
     "execution_count": 209,
     "metadata": {},
     "output_type": "execute_result"
    }
   ],
   "source": [
    "isinstance(my_dict, collections.abc.MutableMapping)"
   ]
  },
  {
   "cell_type": "code",
   "execution_count": 210,
   "metadata": {},
   "outputs": [
    {
     "data": {
      "text/plain": [
       "True"
      ]
     },
     "execution_count": 210,
     "metadata": {},
     "output_type": "execute_result"
    }
   ],
   "source": [
    "l = []\n",
    "isinstance(l, collections.abc.Sequence)"
   ]
  },
  {
   "cell_type": "code",
   "execution_count": 211,
   "metadata": {},
   "outputs": [
    {
     "data": {
      "text/plain": [
       "True"
      ]
     },
     "execution_count": 211,
     "metadata": {},
     "output_type": "execute_result"
    }
   ],
   "source": [
    "isinstance(l, collections.abc.MutableSequence)"
   ]
  },
  {
   "cell_type": "markdown",
   "metadata": {},
   "source": [
    "dict keys must be hashable. they must implement `__hash__` and `__eq__`."
   ]
  },
  {
   "cell_type": "markdown",
   "metadata": {},
   "source": [
    "## atomic immutable types: str, numeric types, bytes, frozenset and tuple (if all elements are hashable) are hashable\n"
   ]
  },
  {
   "cell_type": "code",
   "execution_count": 215,
   "metadata": {},
   "outputs": [
    {
     "name": "stdout",
     "output_type": "stream",
     "text": [
      "A. 7421126743438097007\n",
      "B. 1\n",
      "C. 4326118659969280119\n",
      "D. -1826646154956904602\n",
      "E. 590899387183067792\n"
     ]
    },
    {
     "ename": "TypeError",
     "evalue": "unhashable type: 'list'",
     "output_type": "error",
     "traceback": [
      "\u001b[0;31m---------------------------------------------------------------------------\u001b[0m",
      "\u001b[0;31mTypeError\u001b[0m                                 Traceback (most recent call last)",
      "\u001b[0;32m<ipython-input-215-141d32921897>\u001b[0m in \u001b[0;36m<module>\u001b[0;34m\u001b[0m\n\u001b[1;32m      4\u001b[0m \u001b[0mprint\u001b[0m\u001b[0;34m(\u001b[0m\u001b[0;34m'D. %s'\u001b[0m \u001b[0;34m%\u001b[0m \u001b[0mhash\u001b[0m\u001b[0;34m(\u001b[0m\u001b[0mfrozenset\u001b[0m\u001b[0;34m(\u001b[0m\u001b[0;34m[\u001b[0m\u001b[0;36m1\u001b[0m\u001b[0;34m,\u001b[0m\u001b[0;36m2\u001b[0m\u001b[0;34m]\u001b[0m\u001b[0;34m)\u001b[0m\u001b[0;34m)\u001b[0m\u001b[0;34m)\u001b[0m\u001b[0;34m\u001b[0m\u001b[0;34m\u001b[0m\u001b[0m\n\u001b[1;32m      5\u001b[0m \u001b[0mprint\u001b[0m\u001b[0;34m(\u001b[0m\u001b[0;34m'E. %s'\u001b[0m \u001b[0;34m%\u001b[0m \u001b[0mhash\u001b[0m\u001b[0;34m(\u001b[0m\u001b[0;34m(\u001b[0m\u001b[0;36m1\u001b[0m\u001b[0;34m,\u001b[0m\u001b[0;36m2\u001b[0m\u001b[0;34m,\u001b[0m\u001b[0;36m3\u001b[0m\u001b[0;34m,\u001b[0m\u001b[0;36m4\u001b[0m\u001b[0;34m)\u001b[0m\u001b[0;34m)\u001b[0m\u001b[0;34m)\u001b[0m\u001b[0;34m\u001b[0m\u001b[0;34m\u001b[0m\u001b[0m\n\u001b[0;32m----> 6\u001b[0;31m \u001b[0mprint\u001b[0m\u001b[0;34m(\u001b[0m\u001b[0;34m'F. %s'\u001b[0m \u001b[0;34m%\u001b[0m \u001b[0mhash\u001b[0m\u001b[0;34m(\u001b[0m\u001b[0;34m(\u001b[0m\u001b[0;36m1\u001b[0m\u001b[0;34m,\u001b[0m\u001b[0;36m2\u001b[0m\u001b[0;34m,\u001b[0m\u001b[0;34m[\u001b[0m\u001b[0;36m3\u001b[0m\u001b[0;34m,\u001b[0m\u001b[0;36m4\u001b[0m\u001b[0;34m]\u001b[0m\u001b[0;34m)\u001b[0m\u001b[0;34m)\u001b[0m\u001b[0;34m)\u001b[0m\u001b[0;34m\u001b[0m\u001b[0;34m\u001b[0m\u001b[0m\n\u001b[0m",
      "\u001b[0;31mTypeError\u001b[0m: unhashable type: 'list'"
     ]
    }
   ],
   "source": [
    "print('A. %s' % hash('ssss'))\n",
    "print('B. %s' % hash(1))\n",
    "print('C. %s' % hash(bytes(1)))\n",
    "print('D. %s' % hash(frozenset([1,2])))\n",
    "print('E. %s' % hash((1,2,3,4)))\n",
    "print('F. %s' % hash((1,2,[3,4])))"
   ]
  },
  {
   "cell_type": "markdown",
   "metadata": {},
   "source": [
    "User-defined types are hashable by default because their hash value is their id() and they all compare not equal.\n"
   ]
  },
  {
   "cell_type": "markdown",
   "metadata": {},
   "source": [
    "## Five ways to build a dict"
   ]
  },
  {
   "cell_type": "code",
   "execution_count": 216,
   "metadata": {},
   "outputs": [
    {
     "data": {
      "text/plain": [
       "True"
      ]
     },
     "execution_count": 216,
     "metadata": {},
     "output_type": "execute_result"
    }
   ],
   "source": [
    "a = dict(one=1, two=2, three=3)\n",
    "b = {'one': 1, 'two': 2, 'three': 3}\n",
    "c = dict(zip(['one', 'two', 'three'], [1,2,3]))\n",
    "d = dict([('two', 2), ('one', 1), ('three', 3)])\n",
    "e = dict({'three': 3, 'one': 1, 'two': 2})\n",
    "a == b == c == d == e "
   ]
  },
  {
   "cell_type": "markdown",
   "metadata": {},
   "source": [
    "### dict comprehensions"
   ]
  },
  {
   "cell_type": "code",
   "execution_count": 218,
   "metadata": {},
   "outputs": [
    {
     "name": "stdout",
     "output_type": "stream",
     "text": [
      "{'China': 86, 'India': 91, 'United States': 1, 'Indonesia': 62, 'Brazil': 55, 'Pakistan': 92, 'Bangladesh': 880, 'Nigeria': 234, 'Russia': 7, 'Japan': 81}\n",
      "{1: 'UNITED STATES', 62: 'INDONESIA', 55: 'BRAZIL', 7: 'RUSSIA'}\n"
     ]
    }
   ],
   "source": [
    ">>> DIAL_CODES = [                   \n",
    "         (86, 'China'),\n",
    "         (91, 'India'),\n",
    "         (1, 'United States'),\n",
    "         (62, 'Indonesia'),\n",
    "         (55, 'Brazil'),\n",
    "         (92, 'Pakistan'),\n",
    "         (880, 'Bangladesh'),\n",
    "         (234, 'Nigeria'),\n",
    "         (7, 'Russia'),\n",
    "         (81, 'Japan'),\n",
    "     ]\n",
    "\n",
    "country_code = {country: code for code, country in DIAL_CODES}  \n",
    "print(country_code)\n",
    "\n",
    "\n",
    "print({code: country.upper() for country, code in country_code.items() \n",
    "       if code < 66})\n"
   ]
  },
  {
   "cell_type": "markdown",
   "metadata": {},
   "source": [
    "## Handling Missing Keys on insertion with setdefault"
   ]
  },
  {
   "cell_type": "code",
   "execution_count": 229,
   "metadata": {},
   "outputs": [
    {
     "data": {
      "text/plain": [
       "['bar']"
      ]
     },
     "execution_count": 229,
     "metadata": {},
     "output_type": "execute_result"
    }
   ],
   "source": [
    "my_dict = {}\n",
    "key = 'foo'\n",
    "new_value = 'bar'\n",
    "\n",
    "\n",
    "my_dict.setdefault(key, []).append(new_value)\n",
    "my_dict[key]"
   ]
  },
  {
   "cell_type": "markdown",
   "metadata": {},
   "source": [
    "is the same as"
   ]
  },
  {
   "cell_type": "code",
   "execution_count": 230,
   "metadata": {},
   "outputs": [
    {
     "data": {
      "text/plain": [
       "['bar']"
      ]
     },
     "execution_count": 230,
     "metadata": {},
     "output_type": "execute_result"
    }
   ],
   "source": [
    "my_dict = {}\n",
    "key = 'foo'\n",
    "new_value = 'bar'\n",
    "\n",
    "if key not in my_dict:\n",
    "    my_dict[key] = []\n",
    "my_dict[key].append(new_value)\n",
    "my_dict[key]"
   ]
  },
  {
   "cell_type": "markdown",
   "metadata": {},
   "source": [
    "## Handling Missing Keys generally"
   ]
  },
  {
   "cell_type": "markdown",
   "metadata": {},
   "source": [
    "### defaultdict"
   ]
  },
  {
   "cell_type": "code",
   "execution_count": 236,
   "metadata": {},
   "outputs": [
    {
     "data": {
      "text/plain": [
       "'bar'"
      ]
     },
     "execution_count": 236,
     "metadata": {},
     "output_type": "execute_result"
    }
   ],
   "source": [
    "my_dict = collections.defaultdict(list)\n",
    "key = 'foo'\n",
    "new_value = 'bar'\n",
    "my_dict[key] = new_value\n",
    "my_dict[key]"
   ]
  },
  {
   "cell_type": "code",
   "execution_count": 237,
   "metadata": {},
   "outputs": [],
   "source": [
    "\"\"\"\"Build an index mapping word -> list of occurrences\"\"\"\n",
    "\n",
    "import sys\n",
    "import re\n",
    "import collections\n",
    "\n",
    "WORD_RE = re.compile('\\w+')\n",
    "\n",
    "index = collections.defaultdict(list)      \n",
    "with open('zen.txt', encoding='utf-8') as fp:\n",
    "    for line_no, line in enumerate(fp, 1):\n",
    "        for match in WORD_RE.finditer(line):\n",
    "            word = match.group()\n",
    "            column_no = match.start()+1\n",
    "            location = (line_no, column_no)\n",
    "            index[word].append(location)   \n",
    "\n",
    "# print in alphabetical order\n",
    "for word in sorted(index, key=str.upper):\n",
    "#     print(word, index[word])\n",
    "    pass\n"
   ]
  },
  {
   "cell_type": "markdown",
   "metadata": {},
   "source": [
    "### `The __missing__ Method`"
   ]
  },
  {
   "cell_type": "code",
   "execution_count": 258,
   "metadata": {},
   "outputs": [],
   "source": [
    "# StrKeyDict0 converts nonstring keys to str on lookup \n",
    "\n",
    "class StrKeyDict0(dict):   \n",
    "\n",
    "    def __missing__(self, key):\n",
    "        if isinstance(key, str):   # prevent infinite recursion\n",
    "            raise KeyError(key)\n",
    "        return self[str(key)]   \n",
    "\n",
    "    def get(self, key, default=None):\n",
    "        try:\n",
    "            return self[key]   \n",
    "        except KeyError:\n",
    "            return default   \n",
    "\n",
    "    def __contains__(self, key):\n",
    "        return key in self.keys() or str(key) in self.keys()"
   ]
  },
  {
   "cell_type": "code",
   "execution_count": 259,
   "metadata": {},
   "outputs": [
    {
     "data": {
      "text/plain": [
       "'two'"
      ]
     },
     "execution_count": 259,
     "metadata": {},
     "output_type": "execute_result"
    }
   ],
   "source": [
    "d = StrKeyDict0([('2', 'two'), ('4', 'four')])\n",
    "d['2']"
   ]
  },
  {
   "cell_type": "code",
   "execution_count": 260,
   "metadata": {},
   "outputs": [
    {
     "data": {
      "text/plain": [
       "'four'"
      ]
     },
     "execution_count": 260,
     "metadata": {},
     "output_type": "execute_result"
    }
   ],
   "source": [
    "d[4]"
   ]
  },
  {
   "cell_type": "code",
   "execution_count": 268,
   "metadata": {},
   "outputs": [
    {
     "data": {
      "text/plain": [
       "'N/A'"
      ]
     },
     "execution_count": 268,
     "metadata": {},
     "output_type": "execute_result"
    }
   ],
   "source": [
    "d.get(1, 'N/A')"
   ]
  },
  {
   "cell_type": "markdown",
   "metadata": {},
   "source": [
    "### Variations of dict"
   ]
  },
  {
   "cell_type": "markdown",
   "metadata": {},
   "source": [
    "### collections.OrderedDict\n",
    "Maintains keys in insertion order, allowing iteration over items in a predictable order. \n"
   ]
  },
  {
   "cell_type": "markdown",
   "metadata": {},
   "source": [
    "### collections.ChainMap\n",
    "Holds a list of mappings that can be searched as one. The lookup is performed on each mapping in order, and succeeds if the key is found in any of them. This is useful to interpreters for languages with nested scopes, where each mapping represents a scope context. \n",
    "    "
   ]
  },
  {
   "cell_type": "code",
   "execution_count": 275,
   "metadata": {},
   "outputs": [],
   "source": [
    "# variable lookup in Python\n",
    "import builtins\n",
    "pylookup = collections.ChainMap(locals(), globals(), vars(builtins))"
   ]
  },
  {
   "cell_type": "markdown",
   "metadata": {},
   "source": [
    "### collections.Counter\n",
    "A mapping that holds an integer count for each key. Updating an existing key adds to its count. This can be used to count instances of hashable objects (the keys) or as a multiset—a set that can hold several occurrences of each element. "
   ]
  },
  {
   "cell_type": "code",
   "execution_count": 278,
   "metadata": {},
   "outputs": [
    {
     "data": {
      "text/plain": [
       "Counter({'a': 5, 'b': 5, 'r': 2, 'c': 1, 'd': 1})"
      ]
     },
     "execution_count": 278,
     "metadata": {},
     "output_type": "execute_result"
    }
   ],
   "source": [
    "#  Counter used to count letters in words\n",
    "ct = collections.Counter('abracadabbbbra')\n",
    "ct"
   ]
  },
  {
   "cell_type": "code",
   "execution_count": 279,
   "metadata": {},
   "outputs": [
    {
     "data": {
      "text/plain": [
       "Counter({'a': 10, 'b': 5, 'r': 2, 'c': 1, 'd': 1, 'z': 3})"
      ]
     },
     "execution_count": 279,
     "metadata": {},
     "output_type": "execute_result"
    }
   ],
   "source": [
    "ct.update('aaaaazzz')\n",
    "ct"
   ]
  },
  {
   "cell_type": "code",
   "execution_count": 280,
   "metadata": {},
   "outputs": [
    {
     "data": {
      "text/plain": [
       "[('a', 10), ('b', 5)]"
      ]
     },
     "execution_count": 280,
     "metadata": {},
     "output_type": "execute_result"
    }
   ],
   "source": [
    "ct.most_common(2)"
   ]
  },
  {
   "cell_type": "markdown",
   "metadata": {},
   "source": [
    "### collections.UserDict\n",
    "A pure Python implementation of a mapping that works like a standard dict. It’s almost always easier to create a new mapping type by extending UserDict rather than dict. "
   ]
  },
  {
   "cell_type": "code",
   "execution_count": 282,
   "metadata": {},
   "outputs": [],
   "source": [
    "import collections\n",
    "\n",
    "class StrKeyDict(collections.UserDict):   \n",
    "\n",
    "    def __missing__(self, key):   # same as in StrKey0 class\n",
    "        if isinstance(key, str):\n",
    "            raise KeyError(key)\n",
    "        return self[str(key)]\n",
    "\n",
    "    def __contains__(self, key):  # simplier as in StrKey0 class\n",
    "        return str(key) in self.data   \n",
    "\n",
    "    def __setitem__(self, key, item): # converts any key to a str\n",
    "        self.data[str(key)] = item    "
   ]
  },
  {
   "cell_type": "code",
   "execution_count": 288,
   "metadata": {},
   "outputs": [
    {
     "data": {
      "text/plain": [
       "{'2': 'two', '4': 'four'}"
      ]
     },
     "execution_count": 288,
     "metadata": {},
     "output_type": "execute_result"
    }
   ],
   "source": [
    "d = StrKeyDict([('2', 'two'), ('4', 'four')])\n",
    "d"
   ]
  },
  {
   "cell_type": "markdown",
   "metadata": {},
   "source": [
    "## Immutable Mappings"
   ]
  },
  {
   "cell_type": "markdown",
   "metadata": {},
   "source": [
    "### MappingProxyType \n",
    " given a mapping, returns a mappingproxy instance that is a read-only but dynamic view of the original mapping."
   ]
  },
  {
   "cell_type": "code",
   "execution_count": 289,
   "metadata": {},
   "outputs": [
    {
     "data": {
      "text/plain": [
       "mappingproxy({1: 'A'})"
      ]
     },
     "execution_count": 289,
     "metadata": {},
     "output_type": "execute_result"
    }
   ],
   "source": [
    "from types import MappingProxyType\n",
    "d = {1: 'A'}\n",
    "d_proxy = MappingProxyType(d)\n",
    "d_proxy"
   ]
  },
  {
   "cell_type": "code",
   "execution_count": 290,
   "metadata": {},
   "outputs": [
    {
     "data": {
      "text/plain": [
       "'A'"
      ]
     },
     "execution_count": 290,
     "metadata": {},
     "output_type": "execute_result"
    }
   ],
   "source": [
    "d_proxy[1]  "
   ]
  },
  {
   "cell_type": "code",
   "execution_count": 291,
   "metadata": {},
   "outputs": [
    {
     "ename": "TypeError",
     "evalue": "'mappingproxy' object does not support item assignment",
     "output_type": "error",
     "traceback": [
      "\u001b[0;31m---------------------------------------------------------------------------\u001b[0m",
      "\u001b[0;31mTypeError\u001b[0m                                 Traceback (most recent call last)",
      "\u001b[0;32m<ipython-input-291-6ae77f58aed0>\u001b[0m in \u001b[0;36m<module>\u001b[0;34m\u001b[0m\n\u001b[0;32m----> 1\u001b[0;31m \u001b[0md_proxy\u001b[0m\u001b[0;34m[\u001b[0m\u001b[0;36m2\u001b[0m\u001b[0;34m]\u001b[0m \u001b[0;34m=\u001b[0m \u001b[0;34m'x'\u001b[0m\u001b[0;34m\u001b[0m\u001b[0;34m\u001b[0m\u001b[0m\n\u001b[0m",
      "\u001b[0;31mTypeError\u001b[0m: 'mappingproxy' object does not support item assignment"
     ]
    }
   ],
   "source": [
    "d_proxy[2] = 'x'  "
   ]
  },
  {
   "cell_type": "code",
   "execution_count": 292,
   "metadata": {},
   "outputs": [
    {
     "data": {
      "text/plain": [
       "mappingproxy({1: 'A', 2: 'B'})"
      ]
     },
     "execution_count": 292,
     "metadata": {},
     "output_type": "execute_result"
    }
   ],
   "source": [
    "d[2] = 'B'\n",
    "d_proxy  "
   ]
  },
  {
   "cell_type": "code",
   "execution_count": 293,
   "metadata": {},
   "outputs": [
    {
     "data": {
      "text/plain": [
       "'B'"
      ]
     },
     "execution_count": 293,
     "metadata": {},
     "output_type": "execute_result"
    }
   ],
   "source": [
    "d_proxy[2]"
   ]
  },
  {
   "cell_type": "markdown",
   "metadata": {},
   "source": [
    "## set and frozenset"
   ]
  },
  {
   "cell_type": "markdown",
   "metadata": {},
   "source": [
    "### set types implement the essential set operations as infix operators, so, given two sets a and b, a | b returns their union, a & b computes the intersection, and a - b the difference."
   ]
  },
  {
   "cell_type": "code",
   "execution_count": 301,
   "metadata": {},
   "outputs": [
    {
     "name": "stdout",
     "output_type": "stream",
     "text": [
      "2\n",
      "2\n"
     ]
    },
    {
     "data": {
      "text/plain": [
       "{3}"
      ]
     },
     "execution_count": 301,
     "metadata": {},
     "output_type": "execute_result"
    }
   ],
   "source": [
    "needles = {1,2,3}\n",
    "haystack = {1,2,4}\n",
    "\n",
    "# Count occurrences of needles in a haystack, both of type set\n",
    "found = len(needles & haystack)\n",
    "print(found)\n",
    "\n",
    "# same as\n",
    "found = len(needles.intersection(haystack))\n",
    "print(found)\n",
    "\n",
    "not_found = needles - haystack\n",
    "not_found"
   ]
  },
  {
   "cell_type": "markdown",
   "metadata": {},
   "source": [
    "### set comprehensions"
   ]
  },
  {
   "cell_type": "code",
   "execution_count": 302,
   "metadata": {},
   "outputs": [
    {
     "data": {
      "text/plain": [
       "{'#',\n",
       " '$',\n",
       " '%',\n",
       " '+',\n",
       " '<',\n",
       " '=',\n",
       " '>',\n",
       " '¢',\n",
       " '£',\n",
       " '¤',\n",
       " '¥',\n",
       " '§',\n",
       " '©',\n",
       " '¬',\n",
       " '®',\n",
       " '°',\n",
       " '±',\n",
       " 'µ',\n",
       " '¶',\n",
       " '×',\n",
       " '÷'}"
      ]
     },
     "execution_count": 302,
     "metadata": {},
     "output_type": "execute_result"
    }
   ],
   "source": [
    "from unicodedata import name  \n",
    "{chr(i) for i in range(32, 256) if 'SIGN' in name(chr(i),'')} "
   ]
  },
  {
   "cell_type": "markdown",
   "metadata": {},
   "source": [
    "### Hashes and equality\n",
    "to be effective as hash table indexes, hash values should scatter around the index space as much as possible. This means that, ideally, objects that are similar but not equal should have hash values that differ widely. Example 3-16 is the output of a script to compare the bit patterns of hash values. Note how the hashes of 1 and 1.0 are the same, but those of 1.0001, 1.0002, and 1.0003 are very different"
   ]
  },
  {
   "cell_type": "code",
   "execution_count": 303,
   "metadata": {},
   "outputs": [
    {
     "name": "stdout",
     "output_type": "stream",
     "text": [
      "64-bit Python build\n",
      "1        000000000000000000000000000000000000000000000000000000000000001\n",
      "                                                                         != 0\n",
      "1.0      000000000000000000000000000000000000000000000000000000000000001\n",
      "-------------------------------------------------------------------------------\n",
      "1.0      000000000000000000000000000000000000000000000000000000000000001\n",
      "                        !! !   !! !! !!!   ! !!! ! !!   !!!   !          != 21\n",
      "1.0001   000000000000000110100011011011100010111010110001110001000000001\n",
      "-------------------------------------------------------------------------------\n",
      "1.0001   000000000000000110100011011011100010111010110001110001000000001\n",
      "                       ! !!!  ! !! !!  !  !!!  !!!! !  !  !  !!          != 22\n",
      "1.0002   000000000000001101000110110111000101110101100011100010000000001\n",
      "-------------------------------------------------------------------------------\n",
      "1.0002   000000000000001101000110110111000101110101100011100010000000001\n",
      "                      !!!! ! !!  !  ! !! !! !   ! !!! !! !!   !          != 23\n",
      "1.0003   000000000000010011101010010010101000110000010101010011000000001\n",
      "-------------------------------------------------------------------------------\n"
     ]
    }
   ],
   "source": [
    "# Example A-3. hashdiff.py: display the difference of bit paterns from hash values\n",
    "import sys\n",
    "\n",
    "MAX_BITS = len(format(sys.maxsize, 'b'))\n",
    "print('%s-bit Python build' % (MAX_BITS + 1))\n",
    "\n",
    "def hash_diff(o1, o2):\n",
    "    h1 = '{:>0{}b}'.format(hash(o1), MAX_BITS)\n",
    "    h2 = '{:>0{}b}'.format(hash(o2), MAX_BITS)\n",
    "    diff = ''.join('!' if b1 != b2 else ' ' for b1, b2 in zip(h1, h2))\n",
    "    count = '!= {}'.format(diff.count('!'))\n",
    "    width = max(len(repr(o1)), len(repr(o2)), 8)\n",
    "    sep = '-' * (width * 2 + MAX_BITS)\n",
    "    return '{!r:{width}} {}\\n{:{width}} {} {}\\n{!r:{width}} {}\\n{}'.format(\n",
    "                o1, h1, ' ' * width, diff, count, o2, h2, sep, width=width)\n",
    "\n",
    "if __name__ == '__main__':\n",
    "    print(hash_diff(1, 1.0))\n",
    "    print(hash_diff(1.0, 1.0001))\n",
    "    print(hash_diff(1.0001, 1.0002))\n",
    "    print(hash_diff(1.0002, 1.0003))"
   ]
  },
  {
   "cell_type": "markdown",
   "metadata": {},
   "source": [
    "### Steps in hash table lookup algorithm\n",
    "1. hash(search_key) called\n",
    "2. least significant bits of that number as an offset to look up a bucket in the hash table\n",
    "3  If the found bucket is empty, KeyError is raised\n",
    "4. Otherwise, the found bucket has an item—a found_key:found_value pair\n",
    "5. checks whether search_key == found_key\n",
    "6. If they match, that was the item sought: found_value is returned.\n",
    "7. otherwise this is a hash collision. This happens because a hash function maps arbitrary objects to a small number of bits, and—in addition—the hash table is indexed with a subset of those bits.\n",
    "8. In order to resolve the collision, the algorithm takes different bits in the hash, massages them in a particular way, and uses the result as an offset to look up a different bucket\n",
    "9. If that is empty, KeyError is raised\n",
    "10. otherwise either the keys match and the item value is returned, or the collision resolution process is repeated\n",
    "\n"
   ]
  },
  {
   "cell_type": "code",
   "execution_count": 82,
   "metadata": {},
   "outputs": [
    {
     "data": {
      "image/png": "[encoded data removed]",
      "text/plain": [
       "<IPython.core.display.Image object>"
      ]
     },
     "execution_count": 82,
     "metadata": {
      "image/png": {
       "height": 300,
       "width": 600
      }
     },
     "output_type": "execute_result"
    }
   ],
   "source": [
    "from IPython.display import Image\n",
    "Image(filename = \"hash-lookup.png\", width = 600, height = 300)"
   ]
  },
  {
   "cell_type": "markdown",
   "metadata": {},
   "source": [
    "### Consequences of hash table implementation in dicts"
   ]
  },
  {
   "cell_type": "markdown",
   "metadata": {},
   "source": [
    "#### 1. dicts have significant memory overhead \n",
    "because a dict uses a hash table internally, and hash tables must be sparse to work, they are not space efficient. For example, if you are handling a large quantity of records, it makes sense to store them in a list of tuples or named tuples instead of using a list of dictionaries"
   ]
  },
  {
   "cell_type": "markdown",
   "metadata": {},
   "source": [
    "#### 2. Key search is very fast\n",
    "The dict implementation is an example of trading space for time: dictionaries have significant memory overhead, but they provide fast access regardless of the size of the dictionary"
   ]
  },
  {
   "cell_type": "markdown",
   "metadata": {},
   "source": [
    "#### 3. Key ordering depends on insertion order but dicts with same data compare equal"
   ]
  },
  {
   "cell_type": "code",
   "execution_count": 1,
   "metadata": {},
   "outputs": [
    {
     "name": "stdout",
     "output_type": "stream",
     "text": [
      "d1: dict_keys([86, 91, 1, 62, 55, 92, 880, 234, 7, 81])\n",
      "d2: dict_keys([1, 7, 55, 62, 81, 86, 91, 92, 234, 880])\n",
      "d3: dict_keys([880, 55, 86, 91, 62, 81, 234, 92, 7, 1])\n"
     ]
    }
   ],
   "source": [
    "# fills three dictionaries with the same data sorted in different ways\n",
    "# dial codes of the top 10 most populous countries\n",
    "DIAL_CODES = [\n",
    "        (86, 'China'),\n",
    "        (91, 'India'),\n",
    "        (1, 'United States'),\n",
    "        (62, 'Indonesia'),\n",
    "        (55, 'Brazil'),\n",
    "        (92, 'Pakistan'),\n",
    "        (880, 'Bangladesh'),\n",
    "        (234, 'Nigeria'),\n",
    "        (7, 'Russia'),\n",
    "        (81, 'Japan'),\n",
    "    ]\n",
    "\n",
    "d1 = dict(DIAL_CODES)   \n",
    "print('d1:', d1.keys())\n",
    "d2 = dict(sorted(DIAL_CODES))   \n",
    "print('d2:', d2.keys())\n",
    "d3 = dict(sorted(DIAL_CODES, key=lambda x:x[1]))   \n",
    "print('d3:', d3.keys())\n",
    "assert d1 == d2 and d2 == d3   "
   ]
  },
  {
   "cell_type": "markdown",
   "metadata": {},
   "source": [
    "#### 4. Adding items to a dict may change the order of existing keys\n",
    "Whenever you add a new item to a dict, the Python interpreter may decide that the hash table of that dictionary needs to grow. This entails building a new, bigger hash table, and adding all current items to the new table. This is why modifying the contents of a dict while iterating through it is a bad idea."
   ]
  },
  {
   "cell_type": "markdown",
   "metadata": {},
   "source": [
    "### Summary of how hash table benefit dict and set and frozenset\n",
    "1. Set elements, dict keys must be hashable objects.\n",
    "2. Sets/dicts have a significant memory overhead.\n",
    "3. Membership testing is very efficient.\n",
    "4. Element ordering depends on insertion order.\n",
    "5. Adding elements to a set/dict may change the order of other elements."
   ]
  },
  {
   "cell_type": "code",
   "execution_count": null,
   "metadata": {},
   "outputs": [],
   "source": []
  }
 ],
 "metadata": {
  "kernelspec": {
   "display_name": "Python 3",
   "language": "python",
   "name": "python3"
  },
  "language_info": {
   "codemirror_mode": {
    "name": "ipython",
    "version": 3
   },
   "file_extension": ".py",
   "mimetype": "text/x-python",
   "name": "python",
   "nbconvert_exporter": "python",
   "pygments_lexer": "ipython3",
   "version": "3.8.1"
  },
  "toc": {
   "base_numbering": 1,
   "nav_menu": {},
   "number_sections": false,
   "sideBar": true,
   "skip_h1_title": false,
   "title_cell": "Table of Contents",
   "title_sidebar": "Contents2",
   "toc_cell": true,
   "toc_position": {},
   "toc_section_display": true,
   "toc_window_display": false
  }
 },
 "nbformat": 4,
 "nbformat_minor": 4
}
