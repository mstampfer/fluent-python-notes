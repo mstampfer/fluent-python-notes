{
 "cells": [
  {
   "cell_type": "markdown",
   "metadata": {
    "toc": true
   },
   "source": [
    "<h1>Table of Contents<span class=\"tocSkip\"></span></h1>\n",
    "<div class=\"toc\"><ul class=\"toc-item\"><li><span><a href=\"#Chapter-9.-A-Pythonic-Object\" data-toc-modified-id=\"Chapter-9.-A-Pythonic-Object-1\">Chapter 9. A Pythonic Object</a></span><ul class=\"toc-item\"><li><span><a href=\"#@classmethod-vs-@staticmethod\" data-toc-modified-id=\"@classmethod-vs-@staticmethod-1.1\"><code>@classmethod</code> vs <code>@staticmethod</code></a></span></li><li><span><a href=\"#Hashable-objects\" data-toc-modified-id=\"Hashable-objects-1.2\">Hashable objects</a></span></li><li><span><a href=\"#Private-and-protected-attributes\" data-toc-modified-id=\"Private-and-protected-attributes-1.3\">Private and protected attributes</a></span><ul class=\"toc-item\"><li><span><a href=\"#Name-mangling\" data-toc-modified-id=\"Name-mangling-1.3.1\">Name mangling</a></span></li><li><span><a href=\"#Protected-attributes\" data-toc-modified-id=\"Protected-attributes-1.3.2\">Protected attributes</a></span></li></ul></li><li><span><a href=\"#The-__slots__-class-attribute\" data-toc-modified-id=\"The-__slots__-class-attribute-1.4\">The <code>__slots__</code> class attribute</a></span><ul class=\"toc-item\"><li><span><a href=\"#things-to-remember-when-using-__slots__\" data-toc-modified-id=\"things-to-remember-when-using-__slots__-1.4.1\">things to remember when using <code>__slots__</code></a></span></li></ul></li><li><span><a href=\"#Overriding-Class-Attributes\" data-toc-modified-id=\"Overriding-Class-Attributes-1.5\">Overriding Class Attributes</a></span></li></ul></li></ul></div>"
   ]
  },
  {
   "cell_type": "markdown",
   "metadata": {},
   "source": [
    "# Chapter 9. A Pythonic Object"
   ]
  },
  {
   "cell_type": "code",
   "execution_count": 325,
   "metadata": {},
   "outputs": [],
   "source": [
    "import math\n",
    "from array import array\n",
    "\n",
    "class Vector2d:\n",
    "    typecode = 'd'   # class attribute used when converting Vector2d \n",
    "                     # instances to/from bytes.\n",
    "\n",
    "    def __init__(self, x, y):\n",
    "        self.__x = float(x) # private read-only member\n",
    "                           # catches errors early, helpful in case Vector2d \n",
    "                           # is called with unsuitable arguments   \n",
    "        self.__y = float(y)\n",
    "\n",
    "    def __iter__(self): # this is what makes unpacking work\n",
    "        return (i for i in (self.__x, self.__y))   \n",
    "\n",
    "    def __repr__(self): #  builds a string by interpolating the components \n",
    "                        #  with {!r} to get their repr\n",
    "        class_name = type(self).__name__\n",
    "        return '{}({!r}, {!r})'.format(class_name, *self)  \n",
    "#     By hardcoding the class_name, subclasses would have to overwrite \n",
    "# __repr__ just to change the class_name. \n",
    "# By reading the name from the type of the instance, __repr__ is safer \n",
    "# to inherit.\n",
    "\n",
    "    def __str__(self):\n",
    "        return str(tuple(self))   \n",
    "\n",
    "    def __bytes__(self): # To generate bytes, convert the typecode to bytes \n",
    "                         # and concatenate with bytes converted from an array \n",
    "                         # built by iterating over the instance\n",
    "\n",
    "        return (bytes([ord(self.typecode)]) +   \n",
    "                bytes(array(self.typecode, self)))   \n",
    "\n",
    "    def __eq__(self, other):\n",
    "        return tuple(self) == tuple(other)   \n",
    "\n",
    "    def __abs__(self):\n",
    "        return math.hypot(self.__x, self.__y)   \n",
    "\n",
    "    def __bool__(self): # 0.0 magnitude becomes False, nonzero is True\n",
    "        return bool(abs(self))   \n",
    "    \n",
    "#     method that imports a Vector2d from a binary sequence \n",
    "#     adapted from array.array.frombytes\n",
    "    @classmethod   \n",
    "    def frombytes(cls, octets):   # No self argument; class itself is passed as cls\n",
    "        typecode = chr(octets[0])   \n",
    "        memv = memoryview(octets[1:]).cast(typecode)  \n",
    "        return cls(*memv) # invoke ctor to build a new instance\n",
    "    \n",
    "    def __format__(self, fmt_spec=''):\n",
    "# Use the format built-in to apply the fmt_spec to each vector component,\n",
    "# building an iterable of formatted strings\n",
    "        components = (format(c, fmt_spec) for c in self) #\n",
    "        return '({}, {})'.format(*components)  \n",
    "    \n",
    "    @property   # makes x read-only\n",
    "    def x(self):   \n",
    "        return self.__x   # Just return self.__x\n",
    "\n",
    "    @property   # makes y read-only\n",
    "    def y(self):\n",
    "        return self.__y\n",
    "\n",
    "    def __iter__(self):\n",
    "        return (i for i in (self.__x, self.__y))  \n",
    "    \n",
    "    def __hash__(self):\n",
    "#       using the bitwise XOR operator (^) \n",
    "#       to mix the hashes of the components  \n",
    "        return hash(self.__x) ^ hash(self.__y)"
   ]
  },
  {
   "cell_type": "code",
   "execution_count": 327,
   "metadata": {},
   "outputs": [
    {
     "name": "stdout",
     "output_type": "stream",
     "text": [
      "3.0 4.0\n"
     ]
    }
   ],
   "source": [
    "v1 = Vector2d(3, 4)\n",
    "print(v1.x, v1.y) # no getter method calls"
   ]
  },
  {
   "cell_type": "code",
   "execution_count": 328,
   "metadata": {},
   "outputs": [],
   "source": [
    "x, y = v1 # A Vector2d can be unpacked to a tuple of variables."
   ]
  },
  {
   "cell_type": "code",
   "execution_count": 329,
   "metadata": {},
   "outputs": [
    {
     "data": {
      "text/plain": [
       "Vector2d(3.0, 4.0)"
      ]
     },
     "execution_count": 329,
     "metadata": {},
     "output_type": "execute_result"
    }
   ],
   "source": [
    "v1"
   ]
  },
  {
   "cell_type": "code",
   "execution_count": 337,
   "metadata": {},
   "outputs": [
    {
     "data": {
      "text/plain": [
       "False"
      ]
     },
     "execution_count": 337,
     "metadata": {},
     "output_type": "execute_result"
    }
   ],
   "source": [
    "v1_clone = eval(repr(v1)) # repr emulates the source code \n",
    "                          # for constructing the instance.\n",
    "v1 is v1_clone"
   ]
  },
  {
   "cell_type": "code",
   "execution_count": 338,
   "metadata": {},
   "outputs": [
    {
     "data": {
      "text/plain": [
       "True"
      ]
     },
     "execution_count": 338,
     "metadata": {},
     "output_type": "execute_result"
    }
   ],
   "source": [
    "v1 == v1_clone  # supports comparison with =="
   ]
  },
  {
   "cell_type": "code",
   "execution_count": 336,
   "metadata": {},
   "outputs": [
    {
     "name": "stdout",
     "output_type": "stream",
     "text": [
      "(3.0, 4.0)\n"
     ]
    }
   ],
   "source": [
    "print(v1)"
   ]
  },
  {
   "cell_type": "code",
   "execution_count": 339,
   "metadata": {},
   "outputs": [],
   "source": [
    "octets = bytes(v1) # uses the __bytes__ method \n",
    "                   # to produce a binary representation."
   ]
  },
  {
   "cell_type": "code",
   "execution_count": 340,
   "metadata": {},
   "outputs": [
    {
     "data": {
      "text/plain": [
       "b'd\\x00\\x00\\x00\\x00\\x00\\x00\\x08@\\x00\\x00\\x00\\x00\\x00\\x00\\x10@'"
      ]
     },
     "execution_count": 340,
     "metadata": {},
     "output_type": "execute_result"
    }
   ],
   "source": [
    "octets"
   ]
  },
  {
   "cell_type": "code",
   "execution_count": 341,
   "metadata": {},
   "outputs": [
    {
     "data": {
      "text/plain": [
       "5.0"
      ]
     },
     "execution_count": 341,
     "metadata": {},
     "output_type": "execute_result"
    }
   ],
   "source": [
    "abs(v1) # uses the __abs__ method"
   ]
  },
  {
   "cell_type": "code",
   "execution_count": 342,
   "metadata": {},
   "outputs": [
    {
     "data": {
      "text/plain": [
       "(True, False)"
      ]
     },
     "execution_count": 342,
     "metadata": {},
     "output_type": "execute_result"
    }
   ],
   "source": [
    "bool(v1), bool(Vector2d(0, 0)) #  uses the __bool__ method"
   ]
  },
  {
   "cell_type": "markdown",
   "metadata": {},
   "source": [
    "## `@classmethod` vs `@staticmethod`\n",
    "\n",
    "`@classmethod` decorator defines a method that operates on the class and not on instances. It changes the way the method is called, so it receives the class itself as the first argument, instead of an instance. The most common use case is for alternative constructors like `frombytes`\n",
    "\n",
    "`@staticmethod` decorator changes a method so that it receives no special first argument. In essence, a static method is just like a plain function that happens to live in a class body, instead of being defined at the module level. There aren't any compelling use cases for using `@staticmethod`"
   ]
  },
  {
   "cell_type": "code",
   "execution_count": 346,
   "metadata": {},
   "outputs": [],
   "source": [
    "class Demo:\n",
    "     @classmethod\n",
    "     def klassmeth(*args):\n",
    "         return args  # returns all arguments, including Demo class as 1st arg\n",
    "     @staticmethod\n",
    "     def statmeth(*args):\n",
    "         return args # returns all arguments, no Demo class returned"
   ]
  },
  {
   "cell_type": "code",
   "execution_count": 347,
   "metadata": {},
   "outputs": [
    {
     "data": {
      "text/plain": [
       "(__main__.Demo,)"
      ]
     },
     "execution_count": 347,
     "metadata": {},
     "output_type": "execute_result"
    }
   ],
   "source": [
    "Demo.klassmeth() "
   ]
  },
  {
   "cell_type": "code",
   "execution_count": 348,
   "metadata": {},
   "outputs": [
    {
     "data": {
      "text/plain": [
       "(__main__.Demo, 'spam')"
      ]
     },
     "execution_count": 348,
     "metadata": {},
     "output_type": "execute_result"
    }
   ],
   "source": [
    "Demo.klassmeth('spam')"
   ]
  },
  {
   "cell_type": "code",
   "execution_count": 349,
   "metadata": {},
   "outputs": [
    {
     "data": {
      "text/plain": [
       "()"
      ]
     },
     "execution_count": 349,
     "metadata": {},
     "output_type": "execute_result"
    }
   ],
   "source": [
    "Demo.statmeth() "
   ]
  },
  {
   "cell_type": "code",
   "execution_count": 350,
   "metadata": {},
   "outputs": [
    {
     "data": {
      "text/plain": [
       "('spam',)"
      ]
     },
     "execution_count": 350,
     "metadata": {},
     "output_type": "execute_result"
    }
   ],
   "source": [
    "Demo.statmeth('spam')"
   ]
  },
  {
   "cell_type": "markdown",
   "metadata": {},
   "source": [
    "## Hashable objects\n",
    "To make a user object hashable, implement `__hash__` and `__eq__` and make all attributes private and read-only (using @property)."
   ]
  },
  {
   "cell_type": "code",
   "execution_count": 353,
   "metadata": {},
   "outputs": [
    {
     "name": "stdout",
     "output_type": "stream",
     "text": [
      "7 384307168202284039\n",
      "{Vector2d(3.1, 4.2), Vector2d(3.0, 4.0)}\n"
     ]
    }
   ],
   "source": [
    "v1 = Vector2d(3, 4)\n",
    "v2 = Vector2d(3.1, 4.2)\n",
    "print(hash(v1), hash(v2))\n",
    "print(set([v1, v2]))"
   ]
  },
  {
   "cell_type": "markdown",
   "metadata": {},
   "source": [
    "## Private and protected attributes\n",
    "private attributes have two leading underscores and zero or at most one trailing underscore. "
   ]
  },
  {
   "cell_type": "markdown",
   "metadata": {},
   "source": [
    "### Name mangling\n",
    "The interpreter stores the name in the instance `__dict__` prefixed with a leading underscore and the class name, so in the Dog class, `__mood` becomes `_Dog__mood`, "
   ]
  },
  {
   "cell_type": "code",
   "execution_count": 354,
   "metadata": {},
   "outputs": [
    {
     "data": {
      "text/plain": [
       "{'_Vector2d__x': 3.0, '_Vector2d__y': 4.0}"
      ]
     },
     "execution_count": 354,
     "metadata": {},
     "output_type": "execute_result"
    }
   ],
   "source": [
    "v1.__dict__"
   ]
  },
  {
   "cell_type": "markdown",
   "metadata": {},
   "source": [
    "Name mangling is about safety, not security: it’s designed to prevent accidental access and not intentional wrongdoing"
   ]
  },
  {
   "cell_type": "code",
   "execution_count": 355,
   "metadata": {},
   "outputs": [
    {
     "data": {
      "text/plain": [
       "{'_Vector2d__x': 4, '_Vector2d__y': 4.0}"
      ]
     },
     "execution_count": 355,
     "metadata": {},
     "output_type": "execute_result"
    }
   ],
   "source": [
    "v1._Vector2d__x = 4\n",
    "v1.__dict__"
   ]
  },
  {
   "cell_type": "markdown",
   "metadata": {},
   "source": [
    "### Protected attributes"
   ]
  },
  {
   "cell_type": "markdown",
   "metadata": {},
   "source": [
    "Attributes with a single _ prefix are called “protected” in some corners of the Python documentation.\n",
    "\n",
    "The single underscore prefix has no special meaning to the Python interpreter when used in attribute names, but it’s a very strong convention among Python programmers that you should not access such attributes from outside the class"
   ]
  },
  {
   "cell_type": "markdown",
   "metadata": {},
   "source": [
    "## The `__slots__` class attribute\n",
    "By defining `__slots__` in the class, you are telling the interpreter: “These are all the instance attributes in this class.” Python then stores them in a tuple-like structure in each instance, avoiding the memory overhead of the per-instance `__dict__`.\n",
    "\n",
    "This can make a huge difference in memory usage if your have millions of instances active at the same time."
   ]
  },
  {
   "cell_type": "markdown",
   "metadata": {},
   "source": [
    "### things to remember when using `__slots__`\n",
    "You must remember to redeclare `__slots__` in each subclass, because the inherited attribute is ignored by the interpreter.\n",
    "\n",
    "Instances will only be able to have the attributes listed in `__slots__`, unless you include `__dict__` in `__slots__` (but doing so may negate the memory savings).\n",
    "\n",
    "Instances cannot be targets of weak references unless you remember to include `__weakref__` in `__slots__`.\n"
   ]
  },
  {
   "cell_type": "markdown",
   "metadata": {},
   "source": [
    "## Overriding Class Attributes\n",
    "customizing instance with a different values for for attributes from default"
   ]
  },
  {
   "cell_type": "code",
   "execution_count": 356,
   "metadata": {},
   "outputs": [
    {
     "data": {
      "text/plain": [
       "b'd\\x9a\\x99\\x99\\x99\\x99\\x99\\xf1?\\x9a\\x99\\x99\\x99\\x99\\x99\\x01@'"
      ]
     },
     "execution_count": 356,
     "metadata": {},
     "output_type": "execute_result"
    }
   ],
   "source": [
    "v1 = Vector2d(1.1, 2.2)\n",
    "dumpd = bytes(v1)\n",
    "dumpd"
   ]
  },
  {
   "cell_type": "code",
   "execution_count": 357,
   "metadata": {},
   "outputs": [
    {
     "data": {
      "text/plain": [
       "17"
      ]
     },
     "execution_count": 357,
     "metadata": {},
     "output_type": "execute_result"
    }
   ],
   "source": [
    "len(dumpd)"
   ]
  },
  {
   "cell_type": "code",
   "execution_count": 358,
   "metadata": {},
   "outputs": [
    {
     "data": {
      "text/plain": [
       "b'f\\xcd\\xcc\\x8c?\\xcd\\xcc\\x0c@'"
      ]
     },
     "execution_count": 358,
     "metadata": {},
     "output_type": "execute_result"
    }
   ],
   "source": [
    "# change instance typecode value\n",
    "v1.typecode = 'f'\n",
    "dumpf = bytes(v1)\n",
    "dumpf"
   ]
  },
  {
   "cell_type": "code",
   "execution_count": 359,
   "metadata": {},
   "outputs": [
    {
     "data": {
      "text/plain": [
       "9"
      ]
     },
     "execution_count": 359,
     "metadata": {},
     "output_type": "execute_result"
    }
   ],
   "source": [
    "len(dumpf)"
   ]
  },
  {
   "cell_type": "code",
   "execution_count": 360,
   "metadata": {},
   "outputs": [
    {
     "data": {
      "text/plain": [
       "'d'"
      ]
     },
     "execution_count": 360,
     "metadata": {},
     "output_type": "execute_result"
    }
   ],
   "source": [
    "# class attribute value is preserved\n",
    "Vector2d.typecode"
   ]
  },
  {
   "cell_type": "markdown",
   "metadata": {},
   "source": [
    "This can also be accomplished by subclassing"
   ]
  },
  {
   "cell_type": "code",
   "execution_count": 361,
   "metadata": {},
   "outputs": [
    {
     "data": {
      "text/plain": [
       "b'f\\xcd\\xcc\\x8c?\\xcd\\xcc\\x0c@'"
      ]
     },
     "execution_count": 361,
     "metadata": {},
     "output_type": "execute_result"
    }
   ],
   "source": [
    "class ShortVector2d(Vector2d):  \n",
    "    typecode = 'f'\n",
    "sv = ShortVector2d(1.1, 2.2)\n",
    "bytes(sv)"
   ]
  },
  {
   "cell_type": "code",
   "execution_count": 362,
   "metadata": {},
   "outputs": [
    {
     "data": {
      "text/plain": [
       "9"
      ]
     },
     "execution_count": 362,
     "metadata": {},
     "output_type": "execute_result"
    }
   ],
   "source": [
    "len(bytes(sv))"
   ]
  },
  {
   "cell_type": "code",
   "execution_count": null,
   "metadata": {},
   "outputs": [],
   "source": []
  }
 ],
 "metadata": {
  "kernelspec": {
   "display_name": "Python 3",
   "language": "python",
   "name": "python3"
  },
  "language_info": {
   "codemirror_mode": {
    "name": "ipython",
    "version": 3
   },
   "file_extension": ".py",
   "mimetype": "text/x-python",
   "name": "python",
   "nbconvert_exporter": "python",
   "pygments_lexer": "ipython3",
   "version": "3.8.1"
  },
  "toc": {
   "base_numbering": 1,
   "nav_menu": {},
   "number_sections": false,
   "sideBar": true,
   "skip_h1_title": false,
   "title_cell": "Table of Contents",
   "title_sidebar": "Contents2",
   "toc_cell": true,
   "toc_position": {},
   "toc_section_display": true,
   "toc_window_display": false
  }
 },
 "nbformat": 4,
 "nbformat_minor": 4
}
