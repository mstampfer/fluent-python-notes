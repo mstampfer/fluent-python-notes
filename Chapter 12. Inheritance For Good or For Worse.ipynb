{
 "cells": [
  {
   "cell_type": "markdown",
   "metadata": {
    "toc": true
   },
   "source": [
    "<h1>Table of Contents<span class=\"tocSkip\"></span></h1>\n",
    "<div class=\"toc\"><ul class=\"toc-item\"><li><span><a href=\"#Chapter-12.-Inheritance:-For-Good-or-For-Worse\" data-toc-modified-id=\"Chapter-12.-Inheritance:-For-Good-or-For-Worse-1\">Chapter 12. Inheritance: For Good or For Worse</a></span><ul class=\"toc-item\"><li><span><a href=\"#Subclassing-Built-In-Types-Is-Broken\" data-toc-modified-id=\"Subclassing-Built-In-Types-Is-Broken-1.1\">Subclassing Built-In Types Is Broken</a></span></li><li><span><a href=\"#Method-Resolution-Order\" data-toc-modified-id=\"Method-Resolution-Order-1.2\">Method Resolution Order</a></span><ul class=\"toc-item\"><li><span><a href=\"#The-diamond-problem-with-multiple-inheritence\" data-toc-modified-id=\"The-diamond-problem-with-multiple-inheritence-1.2.1\">The diamond problem with multiple inheritence</a></span></li><li><span><a href=\"#Inheritance-of-interface\" data-toc-modified-id=\"Inheritance-of-interface-1.2.2\">Inheritance of interface</a></span></li><li><span><a href=\"#Inheritance-of-implementation\" data-toc-modified-id=\"Inheritance-of-implementation-1.2.3\">Inheritance of implementation</a></span></li></ul></li></ul></li></ul></div>"
   ]
  },
  {
   "cell_type": "markdown",
   "metadata": {},
   "source": [
    "# Chapter 12. Inheritance: For Good or For Worse"
   ]
  },
  {
   "cell_type": "markdown",
   "metadata": {},
   "source": [
    "## Subclassing Built-In Types Is Broken\n",
    "special methods are never called by other built-in methods of the same object.\n",
    "\n",
    "Subclassing built-in types like dict or list or str directly is error-prone because the built-in methods mostly ignore user-defined overrides. "
   ]
  },
  {
   "cell_type": "code",
   "execution_count": 440,
   "metadata": {},
   "outputs": [],
   "source": [
    "class DoppelDict(dict):\n",
    "     def __setitem__(self, key, value):\n",
    "        print('__setitem__ called') \n",
    "        super().__setitem__(key, [value] *2)"
   ]
  },
  {
   "cell_type": "code",
   "execution_count": 441,
   "metadata": {},
   "outputs": [
    {
     "data": {
      "text/plain": [
       "{'one': 1}"
      ]
     },
     "execution_count": 441,
     "metadata": {},
     "output_type": "execute_result"
    }
   ],
   "source": [
    "dd = DoppelDict(one=1)\n",
    "dd"
   ]
  },
  {
   "cell_type": "code",
   "execution_count": 442,
   "metadata": {},
   "outputs": [
    {
     "name": "stdout",
     "output_type": "stream",
     "text": [
      "__setitem__ called\n"
     ]
    },
    {
     "data": {
      "text/plain": [
       "{'one': 1, 'two': [2, 2]}"
      ]
     },
     "execution_count": 442,
     "metadata": {},
     "output_type": "execute_result"
    }
   ],
   "source": [
    "dd['two'] = 2\n",
    "dd"
   ]
  },
  {
   "cell_type": "code",
   "execution_count": 443,
   "metadata": {},
   "outputs": [
    {
     "data": {
      "text/plain": [
       "{'one': 1, 'two': [2, 2], 'three': 3}"
      ]
     },
     "execution_count": 443,
     "metadata": {},
     "output_type": "execute_result"
    }
   ],
   "source": [
    "dd.update(three=3)\n",
    "dd"
   ]
  },
  {
   "cell_type": "markdown",
   "metadata": {},
   "source": [
    "Instead of subclassing the built-ins, derive your classes from the collections module using UserDict, UserList, and UserString, which are designed to be easily extended"
   ]
  },
  {
   "cell_type": "code",
   "execution_count": 444,
   "metadata": {},
   "outputs": [],
   "source": [
    "import collections\n",
    "\n",
    "class DoppelDict(collections.UserDict):\n",
    "     def __setitem__(self, key, value):\n",
    "        print('__setitem__ called') \n",
    "        super().__setitem__(key, [value] *2)"
   ]
  },
  {
   "cell_type": "code",
   "execution_count": 445,
   "metadata": {},
   "outputs": [
    {
     "name": "stdout",
     "output_type": "stream",
     "text": [
      "__setitem__ called\n"
     ]
    },
    {
     "data": {
      "text/plain": [
       "{'one': [1, 1]}"
      ]
     },
     "execution_count": 445,
     "metadata": {},
     "output_type": "execute_result"
    }
   ],
   "source": [
    "dd = DoppelDict(one=1)\n",
    "dd"
   ]
  },
  {
   "cell_type": "code",
   "execution_count": 446,
   "metadata": {},
   "outputs": [
    {
     "name": "stdout",
     "output_type": "stream",
     "text": [
      "__setitem__ called\n"
     ]
    },
    {
     "data": {
      "text/plain": [
       "{'one': [1, 1], 'two': [2, 2]}"
      ]
     },
     "execution_count": 446,
     "metadata": {},
     "output_type": "execute_result"
    }
   ],
   "source": [
    "dd['two'] = 2\n",
    "dd"
   ]
  },
  {
   "cell_type": "code",
   "execution_count": 447,
   "metadata": {},
   "outputs": [
    {
     "name": "stdout",
     "output_type": "stream",
     "text": [
      "__setitem__ called\n"
     ]
    },
    {
     "data": {
      "text/plain": [
       "{'one': [1, 1], 'two': [2, 2], 'three': [3, 3]}"
      ]
     },
     "execution_count": 447,
     "metadata": {},
     "output_type": "execute_result"
    }
   ],
   "source": [
    "dd.update(three=3)\n",
    "dd"
   ]
  },
  {
   "cell_type": "markdown",
   "metadata": {},
   "source": [
    "These problems apply only to method delegation within the C language implementation of the built-in types, and only affects user-defined classes derived directly from those types. \n",
    "\n",
    "If you subclass from a class coded in Python, such as UserDict or MutableMapping, you will not be troubled by this"
   ]
  },
  {
   "cell_type": "markdown",
   "metadata": {},
   "source": [
    "## Method Resolution Order\n",
    "\n",
    "### The diamond problem with multiple inheritence"
   ]
  },
  {
   "cell_type": "code",
   "execution_count": 448,
   "metadata": {},
   "outputs": [],
   "source": [
    "class A:\n",
    "    def ping(self):\n",
    "        print('calling A:', self)\n",
    "\n",
    "\n",
    "# t both classes B and C implement a pong method. \n",
    "# The only difference is that C.pong outputs the word \n",
    "# PONG in uppercase.\n",
    "class B(A):\n",
    "    def pong(self):\n",
    "        print('calling B :', self)\n",
    "\n",
    "class C(A):\n",
    "    def pong(self):\n",
    "        print('calling C:', self)\n",
    "\n",
    "\n",
    "class D(B, C):\n",
    "\n",
    "    def ping(self):\n",
    "        super().ping()\n",
    "        print('calling D:', self)\n",
    "\n",
    "    def pingpong(self):\n",
    "        self.ping()\n",
    "        super().ping()\n",
    "        self.pong()\n",
    "        super().pong()\n",
    "        C.pong(self)\n"
   ]
  },
  {
   "cell_type": "code",
   "execution_count": 450,
   "metadata": {},
   "outputs": [
    {
     "name": "stdout",
     "output_type": "stream",
     "text": [
      "calling B : <__main__.D object at 0x7f8a03a7bf10>\n"
     ]
    }
   ],
   "source": [
    "#  B.pong is always called because of the Method Resolution Order\n",
    "d = D()\n",
    "d.pong()"
   ]
  },
  {
   "cell_type": "markdown",
   "metadata": {},
   "source": [
    "the Method Resolution Order `__mro__` attribute gives the calling order up the inheritence hierarchy"
   ]
  },
  {
   "cell_type": "code",
   "execution_count": 451,
   "metadata": {},
   "outputs": [
    {
     "data": {
      "text/plain": [
       "(__main__.D, __main__.B, __main__.C, __main__.A, object)"
      ]
     },
     "execution_count": 451,
     "metadata": {},
     "output_type": "execute_result"
    }
   ],
   "source": [
    "D.__mro__"
   ]
  },
  {
   "cell_type": "code",
   "execution_count": 452,
   "metadata": {},
   "outputs": [],
   "source": [
    "def print_mro(cls):  \n",
    "     print(', '.join(c.__name__ for c in cls.__mro__))"
   ]
  },
  {
   "cell_type": "code",
   "execution_count": 453,
   "metadata": {},
   "outputs": [
    {
     "name": "stdout",
     "output_type": "stream",
     "text": [
      "D, B, C, A, object\n"
     ]
    }
   ],
   "source": [
    "print_mro(D)"
   ]
  },
  {
   "cell_type": "markdown",
   "metadata": {},
   "source": [
    "You can always call a method on a superclass directly, passing the instance as an explicit argument."
   ]
  },
  {
   "cell_type": "code",
   "execution_count": 454,
   "metadata": {},
   "outputs": [
    {
     "name": "stdout",
     "output_type": "stream",
     "text": [
      "calling C: <__main__.D object at 0x7f8a03a7bf10>\n"
     ]
    }
   ],
   "source": [
    "C.pong(d)"
   ]
  },
  {
   "cell_type": "markdown",
   "metadata": {},
   "source": [
    "### Inheritance of interface\n",
    "creates a subtype, implying an “is-a” relationship."
   ]
  },
  {
   "cell_type": "code",
   "execution_count": 456,
   "metadata": {},
   "outputs": [
    {
     "name": "stdout",
     "output_type": "stream",
     "text": [
      "calling A: <__main__.D object at 0x7f8a03a7bf10>\n",
      "calling D: <__main__.D object at 0x7f8a03a7bf10>\n",
      "calling A: <__main__.D object at 0x7f8a03a7bf10>\n",
      "calling B : <__main__.D object at 0x7f8a03a7bf10>\n",
      "calling B : <__main__.D object at 0x7f8a03a7bf10>\n",
      "calling C: <__main__.D object at 0x7f8a03a7bf10>\n"
     ]
    }
   ],
   "source": [
    "d.pingpong()"
   ]
  },
  {
   "cell_type": "markdown",
   "metadata": {},
   "source": [
    "### Inheritance of implementation \n",
    "avoids code duplication by reuse."
   ]
  },
  {
   "cell_type": "code",
   "execution_count": null,
   "metadata": {},
   "outputs": [],
   "source": []
  }
 ],
 "metadata": {
  "kernelspec": {
   "display_name": "Python 3",
   "language": "python",
   "name": "python3"
  },
  "language_info": {
   "codemirror_mode": {
    "name": "ipython",
    "version": 3
   },
   "file_extension": ".py",
   "mimetype": "text/x-python",
   "name": "python",
   "nbconvert_exporter": "python",
   "pygments_lexer": "ipython3",
   "version": "3.8.1"
  },
  "toc": {
   "base_numbering": 1,
   "nav_menu": {},
   "number_sections": false,
   "sideBar": true,
   "skip_h1_title": false,
   "title_cell": "Table of Contents",
   "title_sidebar": "Contents2",
   "toc_cell": true,
   "toc_position": {},
   "toc_section_display": true,
   "toc_window_display": false
  }
 },
 "nbformat": 4,
 "nbformat_minor": 4
}
