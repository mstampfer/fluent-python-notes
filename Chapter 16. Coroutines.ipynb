{
 "cells": [
  {
   "cell_type": "markdown",
   "metadata": {
    "toc": true
   },
   "source": [
    "<h1>Table of Contents<span class=\"tocSkip\"></span></h1>\n",
    "<div class=\"toc\"><ul class=\"toc-item\"><li><span><a href=\"#Chapter-16.-Coroutines\" data-toc-modified-id=\"Chapter-16.-Coroutines-1\">Chapter 16. Coroutines</a></span><ul class=\"toc-item\"><li><span><a href=\"#simple-coroutine\" data-toc-modified-id=\"simple-coroutine-1.1\">simple coroutine</a></span></li><li><span><a href=\"#Coroutine-states\" data-toc-modified-id=\"Coroutine-states-1.2\">Coroutine states</a></span></li><li><span><a href=\"#a-running-average-coroutine\" data-toc-modified-id=\"a-running-average-coroutine-1.3\">a running average coroutine</a></span><ul class=\"toc-item\"><li><span><a href=\"#Using-@wraps-decorator\" data-toc-modified-id=\"Using-@wraps-decorator-1.3.1\">Using @wraps decorator</a></span></li></ul></li><li><span><a href=\"#Coroutine-Termination-and-Exception-Handling\" data-toc-modified-id=\"Coroutine-Termination-and-Exception-Handling-1.4\">Coroutine Termination and Exception Handling</a></span><ul class=\"toc-item\"><li><span><a href=\"#generator.throw()\" data-toc-modified-id=\"generator.throw()-1.4.1\">generator.throw()</a></span></li><li><span><a href=\"#generator.close()\" data-toc-modified-id=\"generator.close()-1.4.2\">generator.close()</a></span></li></ul></li><li><span><a href=\"#returning-values-from-coroutines\" data-toc-modified-id=\"returning-values-from-coroutines-1.5\">returning values from coroutines</a></span><ul class=\"toc-item\"><li><span><a href=\"#returning-values-from-coroutines-without-using-yield-from\" data-toc-modified-id=\"returning-values-from-coroutines-without-using-yield-from-1.5.1\">returning values from coroutines without using <code>yield from</code></a></span></li><li><span><a href=\"#usingyield-from\" data-toc-modified-id=\"usingyield-from-1.5.2\">using<code>yield from</code></a></span></li></ul></li><li><span><a href=\"#Taxi-simulator\" data-toc-modified-id=\"Taxi-simulator-1.6\">Taxi simulator</a></span></li></ul></li></ul></div>"
   ]
  },
  {
   "cell_type": "markdown",
   "metadata": {},
   "source": [
    "# Chapter 16. Coroutines\n",
    "A coroutine is syntactically like a generator: just a function with the 'yield' keyword in its body. However, in a coroutine, 'yield' usually appears on the right side of an expression (e.g., 'datum = yield'), and it may or may not produce a value. \n",
    "\n",
    "If there is no expression after the 'yield' keyword, the generator yields 'None'. \n",
    "\n",
    "The coroutine may receive data from the caller, which uses '.send(datum)' instead of 'next(…)' to feed the coroutine. Usually, the caller pushes values into the coroutine.\n",
    "\n",
    "coroutines can be used to implement cooperative multitasking: each coroutine yields control to a central scheduler so that other coroutines can be activated."
   ]
  },
  {
   "cell_type": "markdown",
   "metadata": {},
   "source": [
    "## simple coroutine"
   ]
  },
  {
   "cell_type": "code",
   "execution_count": 664,
   "metadata": {},
   "outputs": [
    {
     "data": {
      "text/plain": [
       "<generator object simple_coroutine at 0x7f8a03a1b270>"
      ]
     },
     "execution_count": 664,
     "metadata": {},
     "output_type": "execute_result"
    }
   ],
   "source": [
    "def simple_coroutine():\n",
    "    print('-> coroutine started')\n",
    "    x = yield\n",
    "    print('-> coroutine received:', x)\n",
    "\n",
    "my_coro = simple_coroutine()\n",
    "my_coro"
   ]
  },
  {
   "cell_type": "code",
   "execution_count": 665,
   "metadata": {},
   "outputs": [
    {
     "name": "stdout",
     "output_type": "stream",
     "text": [
      "-> coroutine started\n"
     ]
    }
   ],
   "source": [
    "next(my_coro) # start coroutine to put in waiting at yield state\n",
    "              # this line same as following:\n",
    "              # my_coro.send(None)"
   ]
  },
  {
   "cell_type": "code",
   "execution_count": 666,
   "metadata": {},
   "outputs": [
    {
     "name": "stdout",
     "output_type": "stream",
     "text": [
      "-> coroutine received: 42\n"
     ]
    },
    {
     "ename": "StopIteration",
     "evalue": "",
     "output_type": "error",
     "traceback": [
      "\u001b[0;31m---------------------------------------------------------------------------\u001b[0m",
      "\u001b[0;31mStopIteration\u001b[0m                             Traceback (most recent call last)",
      "\u001b[0;32m<ipython-input-666-fa7cc0e8e01f>\u001b[0m in \u001b[0;36m<module>\u001b[0;34m\u001b[0m\n\u001b[0;32m----> 1\u001b[0;31m \u001b[0mmy_coro\u001b[0m\u001b[0;34m.\u001b[0m\u001b[0msend\u001b[0m\u001b[0;34m(\u001b[0m\u001b[0;36m42\u001b[0m\u001b[0;34m)\u001b[0m \u001b[0;31m# send value to yield assignment\u001b[0m\u001b[0;34m\u001b[0m\u001b[0;34m\u001b[0m\u001b[0m\n\u001b[0m\u001b[1;32m      2\u001b[0m                  \u001b[0;31m# and resume to next yield, if any,\u001b[0m\u001b[0;34m\u001b[0m\u001b[0;34m\u001b[0m\u001b[0;34m\u001b[0m\u001b[0m\n\u001b[1;32m      3\u001b[0m                  \u001b[0;31m# else raise StopIteration\u001b[0m\u001b[0;34m\u001b[0m\u001b[0;34m\u001b[0m\u001b[0;34m\u001b[0m\u001b[0m\n",
      "\u001b[0;31mStopIteration\u001b[0m: "
     ]
    }
   ],
   "source": [
    "my_coro.send(42) # send value to yield assignment \n",
    "                 # and resume to next yield, if any, \n",
    "                 # else raise StopIteration"
   ]
  },
  {
   "cell_type": "markdown",
   "metadata": {},
   "source": [
    "## Coroutine states"
   ]
  },
  {
   "cell_type": "code",
   "execution_count": 667,
   "metadata": {},
   "outputs": [
    {
     "data": {
      "text/plain": [
       "'GEN_CREATED'"
      ]
     },
     "execution_count": 667,
     "metadata": {},
     "output_type": "execute_result"
    }
   ],
   "source": [
    "from inspect import getgeneratorstate\n",
    "\n",
    "def simple_coro2(a):\n",
    "    print('-> Started: a =', a)\n",
    "    b = yield a\n",
    "    print('-> Received: b =', b)\n",
    "    c = yield a + b\n",
    "    print('-> Received: c =', c)\n",
    "    \n",
    "my_coro2 = simple_coro2(14)\n",
    "getgeneratorstate(my_coro2) # Waiting to start execution."
   ]
  },
  {
   "cell_type": "code",
   "execution_count": 668,
   "metadata": {},
   "outputs": [
    {
     "name": "stdout",
     "output_type": "stream",
     "text": [
      "-> Started: a = 14\n"
     ]
    },
    {
     "data": {
      "text/plain": [
       "'GEN_SUSPENDED'"
      ]
     },
     "execution_count": 668,
     "metadata": {},
     "output_type": "execute_result"
    }
   ],
   "source": [
    "next(my_coro2)\n",
    "getgeneratorstate(my_coro2) # Currently suspended at 1st yield expression."
   ]
  },
  {
   "cell_type": "code",
   "execution_count": 669,
   "metadata": {},
   "outputs": [
    {
     "name": "stdout",
     "output_type": "stream",
     "text": [
      "-> Received: b = 28\n"
     ]
    },
    {
     "data": {
      "text/plain": [
       "'GEN_SUSPENDED'"
      ]
     },
     "execution_count": 669,
     "metadata": {},
     "output_type": "execute_result"
    }
   ],
   "source": [
    "my_coro2.send(28)\n",
    "getgeneratorstate(my_coro2) # Currently suspended at 2nd yield expression."
   ]
  },
  {
   "cell_type": "code",
   "execution_count": 670,
   "metadata": {},
   "outputs": [
    {
     "name": "stdout",
     "output_type": "stream",
     "text": [
      "-> Received: c = 99\n"
     ]
    },
    {
     "ename": "StopIteration",
     "evalue": "",
     "output_type": "error",
     "traceback": [
      "\u001b[0;31m---------------------------------------------------------------------------\u001b[0m",
      "\u001b[0;31mStopIteration\u001b[0m                             Traceback (most recent call last)",
      "\u001b[0;32m<ipython-input-670-977093b924ab>\u001b[0m in \u001b[0;36m<module>\u001b[0;34m\u001b[0m\n\u001b[0;32m----> 1\u001b[0;31m \u001b[0mmy_coro2\u001b[0m\u001b[0;34m.\u001b[0m\u001b[0msend\u001b[0m\u001b[0;34m(\u001b[0m\u001b[0;36m99\u001b[0m\u001b[0;34m)\u001b[0m\u001b[0;34m\u001b[0m\u001b[0;34m\u001b[0m\u001b[0m\n\u001b[0m",
      "\u001b[0;31mStopIteration\u001b[0m: "
     ]
    }
   ],
   "source": [
    "my_coro2.send(99)"
   ]
  },
  {
   "cell_type": "code",
   "execution_count": 671,
   "metadata": {},
   "outputs": [
    {
     "data": {
      "text/plain": [
       "'GEN_CLOSED'"
      ]
     },
     "execution_count": 671,
     "metadata": {},
     "output_type": "execute_result"
    }
   ],
   "source": [
    "getgeneratorstate(my_coro2) # Execution has completed."
   ]
  },
  {
   "cell_type": "markdown",
   "metadata": {},
   "source": [
    "## a running average coroutine"
   ]
  },
  {
   "cell_type": "code",
   "execution_count": 677,
   "metadata": {},
   "outputs": [],
   "source": [
    "# Higher order function implementation of running averager\n",
    "def make_averager():\n",
    "    count = 0\n",
    "    total = 0\n",
    "\n",
    "    def averager(new_value):\n",
    "        nonlocal count, total # make count, total free variables\n",
    "        count += 1\n",
    "        total += new_value\n",
    "        return total / count\n",
    "\n",
    "    return averager\n"
   ]
  },
  {
   "cell_type": "code",
   "execution_count": 678,
   "metadata": {},
   "outputs": [
    {
     "data": {
      "text/plain": [
       "10.0"
      ]
     },
     "execution_count": 678,
     "metadata": {},
     "output_type": "execute_result"
    }
   ],
   "source": [
    "f_avg = make_averager()\n",
    "f_avg(10)"
   ]
  },
  {
   "cell_type": "code",
   "execution_count": 679,
   "metadata": {},
   "outputs": [
    {
     "data": {
      "text/plain": [
       "20.0"
      ]
     },
     "execution_count": 679,
     "metadata": {},
     "output_type": "execute_result"
    }
   ],
   "source": [
    "f_avg(30)"
   ]
  },
  {
   "cell_type": "code",
   "execution_count": 680,
   "metadata": {},
   "outputs": [
    {
     "data": {
      "text/plain": [
       "15.0"
      ]
     },
     "execution_count": 680,
     "metadata": {},
     "output_type": "execute_result"
    }
   ],
   "source": [
    "f_avg(5)"
   ]
  },
  {
   "cell_type": "markdown",
   "metadata": {},
   "source": [
    "### Using @wraps decorator\n",
    "Without the use of this decorator factory, the name of the example function would have been `wrapper`, and the docstring of the original example() would have been lost."
   ]
  },
  {
   "cell_type": "code",
   "execution_count": 700,
   "metadata": {},
   "outputs": [
    {
     "name": "stdout",
     "output_type": "stream",
     "text": [
      "Calling decorated function\n",
      "Called example function\n",
      "example\n",
      "Docstring\n"
     ]
    }
   ],
   "source": [
    "from functools import wraps\n",
    "\n",
    "def my_decorator(f):\n",
    "#     @wraps(f)\n",
    "    def wrapper(*args, **kwds):\n",
    "        print('Calling decorated function')\n",
    "        return f(*args, **kwds)\n",
    "    return wrapper\n",
    "\n",
    "@my_decorator\n",
    "def example():\n",
    "    \"\"\"Docstring\"\"\"\n",
    "    print('Called example function')\n",
    "    \n",
    "example()\n",
    "print(example.__name__)\n",
    "print(example.__doc__)"
   ]
  },
  {
   "cell_type": "markdown",
   "metadata": {},
   "source": [
    "priming decorator primes `func` by advancing to first `yield`"
   ]
  },
  {
   "cell_type": "code",
   "execution_count": 711,
   "metadata": {},
   "outputs": [],
   "source": [
    "from functools import wraps\n",
    "\n",
    "def coroutine(func):\n",
    "    \"\"\"Decorator: primes `func` by advancing to first `yield`%%!\n",
    "    \n",
    "    incompatible with `yield from` coroutines. use the \n",
    "    asyncio.coroutine decorator instead\"\"\"\n",
    "    @wraps(func)\n",
    "    def primer(*args,**kwargs):   \n",
    "        gen = func(*args,**kwargs)   \n",
    "        next(gen)   \n",
    "        return gen   \n",
    "    return primer"
   ]
  },
  {
   "cell_type": "code",
   "execution_count": 722,
   "metadata": {},
   "outputs": [],
   "source": [
    "# Coroutine implementation of running averager\n",
    "@coroutine\n",
    "def averager():\n",
    "    total = 0.0\n",
    "    count = 0\n",
    "    average = None\n",
    "    while True:   \n",
    "        term = yield average   \n",
    "        total += term\n",
    "        count += 1\n",
    "        average = total/count"
   ]
  },
  {
   "cell_type": "code",
   "execution_count": 723,
   "metadata": {},
   "outputs": [
    {
     "data": {
      "text/plain": [
       "10.0"
      ]
     },
     "execution_count": 723,
     "metadata": {},
     "output_type": "execute_result"
    }
   ],
   "source": [
    "coro_avg = averager()\n",
    "coro_avg.send(10)"
   ]
  },
  {
   "cell_type": "code",
   "execution_count": 724,
   "metadata": {},
   "outputs": [
    {
     "data": {
      "text/plain": [
       "20.0"
      ]
     },
     "execution_count": 724,
     "metadata": {},
     "output_type": "execute_result"
    }
   ],
   "source": [
    "coro_avg.send(30)"
   ]
  },
  {
   "cell_type": "code",
   "execution_count": 725,
   "metadata": {},
   "outputs": [
    {
     "data": {
      "text/plain": [
       "15.0"
      ]
     },
     "execution_count": 725,
     "metadata": {},
     "output_type": "execute_result"
    }
   ],
   "source": [
    "coro_avg.send(5)"
   ]
  },
  {
   "cell_type": "markdown",
   "metadata": {},
   "source": [
    "## Coroutine Termination and Exception Handling"
   ]
  },
  {
   "cell_type": "code",
   "execution_count": 726,
   "metadata": {},
   "outputs": [],
   "source": [
    "class DemoException(Exception):\n",
    "    \"\"\"An exception type for the demonstration.\"\"\"\n",
    "\n",
    "@coroutine\n",
    "def demo_exc_handling():\n",
    "    print('-> coroutine started')\n",
    "    try:\n",
    "        while True:\n",
    "            try:\n",
    "                x = yield\n",
    "            except DemoException:   \n",
    "                print('*** DemoException handled. Continuing...')\n",
    "            else:   \n",
    "                print('-> coroutine received: {!r}'.format(x))\n",
    "    finally:\n",
    "        print('-> coroutine ending')"
   ]
  },
  {
   "cell_type": "markdown",
   "metadata": {},
   "source": [
    "### generator.throw()"
   ]
  },
  {
   "cell_type": "code",
   "execution_count": 727,
   "metadata": {},
   "outputs": [
    {
     "name": "stdout",
     "output_type": "stream",
     "text": [
      "-> coroutine started\n",
      "-> coroutine received: 11\n",
      "-> coroutine received: 22\n",
      "*** DemoException handled. Continuing...\n"
     ]
    },
    {
     "data": {
      "text/plain": [
       "'GEN_SUSPENDED'"
      ]
     },
     "execution_count": 727,
     "metadata": {},
     "output_type": "execute_result"
    }
   ],
   "source": [
    "exc_coro = demo_exc_handling()\n",
    "exc_coro.send(11)\n",
    "exc_coro.send(22)\n",
    "exc_coro.throw(DemoException)\n",
    "getgeneratorstate(exc_coro)"
   ]
  },
  {
   "cell_type": "markdown",
   "metadata": {},
   "source": [
    "### generator.close()"
   ]
  },
  {
   "cell_type": "code",
   "execution_count": 728,
   "metadata": {},
   "outputs": [
    {
     "name": "stdout",
     "output_type": "stream",
     "text": [
      "-> coroutine started\n",
      "-> coroutine ending\n",
      "-> coroutine received: 11\n",
      "-> coroutine received: 22\n",
      "-> coroutine ending\n"
     ]
    },
    {
     "data": {
      "text/plain": [
       "'GEN_CLOSED'"
      ]
     },
     "execution_count": 728,
     "metadata": {},
     "output_type": "execute_result"
    }
   ],
   "source": [
    "exc_coro = demo_exc_handling()\n",
    "exc_coro.send(11)\n",
    "exc_coro.send(22)\n",
    "exc_coro.close()\n",
    "getgeneratorstate(exc_coro)"
   ]
  },
  {
   "cell_type": "markdown",
   "metadata": {},
   "source": [
    "## returning values from coroutines"
   ]
  },
  {
   "cell_type": "markdown",
   "metadata": {},
   "source": [
    "### returning values from coroutines without using `yield from`\n",
    "the value of the return expression is smuggled to the caller as an attribute of the StopIteration exception."
   ]
  },
  {
   "cell_type": "code",
   "execution_count": 729,
   "metadata": {},
   "outputs": [],
   "source": [
    "from collections import namedtuple\n",
    "\n",
    "Result = namedtuple('Result', 'count average')\n",
    "\n",
    "@coroutine\n",
    "def averager():\n",
    "    total = 0.0\n",
    "    count = 0\n",
    "    average = None\n",
    "    while True:\n",
    "        term = yield\n",
    "        if term is None:\n",
    "            break   \n",
    "        total += term\n",
    "        count += 1\n",
    "        average = total/count\n",
    "    return Result(count, average)   "
   ]
  },
  {
   "cell_type": "code",
   "execution_count": 731,
   "metadata": {},
   "outputs": [
    {
     "name": "stdout",
     "output_type": "stream",
     "text": [
      "None\n",
      "None\n",
      "None\n"
     ]
    },
    {
     "ename": "StopIteration",
     "evalue": "Result(count=3, average=15.5)",
     "output_type": "error",
     "traceback": [
      "\u001b[0;31m---------------------------------------------------------------------------\u001b[0m",
      "\u001b[0;31mStopIteration\u001b[0m                             Traceback (most recent call last)",
      "\u001b[0;32m<ipython-input-731-edb0ff1a4e21>\u001b[0m in \u001b[0;36m<module>\u001b[0;34m\u001b[0m\n\u001b[1;32m      3\u001b[0m \u001b[0mprint\u001b[0m\u001b[0;34m(\u001b[0m\u001b[0mcoro_avg\u001b[0m\u001b[0;34m.\u001b[0m\u001b[0msend\u001b[0m\u001b[0;34m(\u001b[0m\u001b[0;36m30\u001b[0m\u001b[0;34m)\u001b[0m\u001b[0;34m)\u001b[0m\u001b[0;34m\u001b[0m\u001b[0;34m\u001b[0m\u001b[0m\n\u001b[1;32m      4\u001b[0m \u001b[0mprint\u001b[0m\u001b[0;34m(\u001b[0m\u001b[0mcoro_avg\u001b[0m\u001b[0;34m.\u001b[0m\u001b[0msend\u001b[0m\u001b[0;34m(\u001b[0m\u001b[0;36m6.5\u001b[0m\u001b[0;34m)\u001b[0m\u001b[0;34m)\u001b[0m\u001b[0;34m\u001b[0m\u001b[0;34m\u001b[0m\u001b[0m\n\u001b[0;32m----> 5\u001b[0;31m \u001b[0mprint\u001b[0m\u001b[0;34m(\u001b[0m\u001b[0mcoro_avg\u001b[0m\u001b[0;34m.\u001b[0m\u001b[0msend\u001b[0m\u001b[0;34m(\u001b[0m\u001b[0;32mNone\u001b[0m\u001b[0;34m)\u001b[0m\u001b[0;34m)\u001b[0m\u001b[0;34m\u001b[0m\u001b[0;34m\u001b[0m\u001b[0m\n\u001b[0m",
      "\u001b[0;31mStopIteration\u001b[0m: Result(count=3, average=15.5)"
     ]
    }
   ],
   "source": [
    "coro_avg = averager()\n",
    "print(coro_avg.send(10))\n",
    "print(coro_avg.send(30))\n",
    "print(coro_avg.send(6.5))\n",
    "print(coro_avg.send(None))"
   ]
  },
  {
   "cell_type": "markdown",
   "metadata": {},
   "source": [
    "### using`yield from`\n",
    "`yield from` is about allowing coroutines to return a result.\n",
    "\n",
    "The main feature of `yield from` is to open a bidirectional channel from the outermost caller to the innermost subgenerator, so that values can be sent and yielded back and forth directly from them, and exceptions can be thrown all the way in without adding a lot of exception handling boilerplate code in the intermediate coroutines. "
   ]
  },
  {
   "cell_type": "code",
   "execution_count": 732,
   "metadata": {},
   "outputs": [
    {
     "data": {
      "text/plain": [
       "['A', 'B', 1, 2]"
      ]
     },
     "execution_count": 732,
     "metadata": {},
     "output_type": "execute_result"
    }
   ],
   "source": [
    "def gen():\n",
    "    for c in 'AB':\n",
    "        yield c\n",
    "    for i in range(1, 3):\n",
    "        yield i\n",
    "        \n",
    "list(gen())"
   ]
  },
  {
   "cell_type": "markdown",
   "metadata": {},
   "source": [
    "can be written as "
   ]
  },
  {
   "cell_type": "code",
   "execution_count": 733,
   "metadata": {},
   "outputs": [
    {
     "data": {
      "text/plain": [
       "['A', 'B', 1, 2]"
      ]
     },
     "execution_count": 733,
     "metadata": {},
     "output_type": "execute_result"
    }
   ],
   "source": [
    "def gen():\n",
    "    yield from 'AB'\n",
    "    yield from range(1,3)\n",
    "        \n",
    "list(gen())"
   ]
  },
  {
   "cell_type": "code",
   "execution_count": 734,
   "metadata": {},
   "outputs": [
    {
     "name": "stdout",
     "output_type": "stream",
     "text": [
      "40.9\n",
      "38.5\n",
      "44.3\n",
      "42.2\n",
      "45.2\n",
      "41.7\n",
      "44.5\n",
      "38.0\n",
      "40.6\n",
      "44.5\n",
      "None\n",
      "Result(count=10, average=42.040000000000006)\n",
      "1.6\n",
      "1.51\n",
      "1.4\n",
      "1.3\n",
      "1.41\n",
      "1.39\n",
      "1.33\n",
      "1.46\n",
      "1.45\n",
      "1.43\n",
      "None\n",
      "Result(count=10, average=1.4279999999999997)\n",
      "39.0\n",
      "40.8\n",
      "43.2\n",
      "40.8\n",
      "43.1\n",
      "38.6\n",
      "41.4\n",
      "40.6\n",
      "36.3\n",
      "None\n",
      "Result(count=9, average=40.422222222222224)\n",
      "1.38\n",
      "1.5\n",
      "1.32\n",
      "1.25\n",
      "1.37\n",
      "1.48\n",
      "1.25\n",
      "1.49\n",
      "1.46\n",
      "None\n",
      "Result(count=9, average=1.3888888888888888)\n",
      "{'girls;kg': Result(count=10, average=42.040000000000006), 'girls;m': Result(count=10, average=1.4279999999999997), 'boys;kg': Result(count=9, average=40.422222222222224), 'boys;m': Result(count=9, average=1.3888888888888888)}\n",
      " 9 boys  averaging 40.42kg\n",
      " 9 boys  averaging 1.39m\n",
      "10 girls averaging 42.04kg\n",
      "10 girls averaging 1.43m\n"
     ]
    }
   ],
   "source": [
    "# the subgenerator\n",
    "# The generator obtained from the \n",
    "# <iterable> part of the yield from expression. \n",
    "def averager():   \n",
    "    total = 0.0\n",
    "    count = 0\n",
    "    average = None\n",
    "    while True:\n",
    "        term = yield \n",
    "        print(term)\n",
    "        if term is None:   \n",
    "            break\n",
    "        total += term\n",
    "        count += 1\n",
    "        average = total/count\n",
    "        \n",
    "    print(Result(count, average))\n",
    "    return Result(count, average)  # return value becomes \n",
    "                                   # result of yield from expression\n",
    "\n",
    "\n",
    "# the delegating generator\n",
    "# The generator function that contains the yield from \n",
    "# <iterable> expression.\n",
    "def grouper(results, key):   \n",
    "    while True:   \n",
    "        results[key] = yield from averager()   \n",
    "\n",
    "\n",
    "# the client code, a.k.a. the caller\n",
    "def main(data):   \n",
    "    results = {}\n",
    "    for key, values in data.items():\n",
    "        group = grouper(results, key)   \n",
    "        next(group)   \n",
    "        for value in values:\n",
    "            group.send(value)   \n",
    "        group.send(None)  # important! \n",
    "\n",
    "    print(results)  # uncomment to debug\n",
    "    report(results)\n",
    "\n",
    "\n",
    "# output report\n",
    "def report(results):\n",
    "    for key, result in sorted(results.items()):\n",
    "        group, unit = key.split(';')\n",
    "        print('{:2} {:5} averaging {:.2f}{}'.format(\n",
    "              result.count, group, result.average, unit))\n",
    "\n",
    "\n",
    "data = {\n",
    "    'girls;kg':\n",
    "        [40.9, 38.5, 44.3, 42.2, 45.2, 41.7, 44.5, 38.0, 40.6, 44.5],\n",
    "    'girls;m':\n",
    "        [1.6, 1.51, 1.4, 1.3, 1.41, 1.39, 1.33, 1.46, 1.45, 1.43],\n",
    "    'boys;kg':\n",
    "        [39.0, 40.8, 43.2, 40.8, 43.1, 38.6, 41.4, 40.6, 36.3],\n",
    "    'boys;m':\n",
    "        [1.38, 1.5, 1.32, 1.25, 1.37, 1.48, 1.25, 1.49, 1.46],\n",
    "}\n",
    "\n",
    "main(data)"
   ]
  },
  {
   "cell_type": "code",
   "execution_count": 735,
   "metadata": {},
   "outputs": [],
   "source": [
    "def taxi_process(ident, trips, start_time=0):   \n",
    "    \"\"\"Yield to simulator issuing event at each state change\"\"\"\n",
    "    time = yield Event(start_time, ident, 'leave garage')   \n",
    "    for i in range(trips):   \n",
    "        time = yield Event(time, ident, 'pick up passenger')   \n",
    "        time = yield Event(time, ident, 'drop off passenger')   \n",
    "\n",
    "    yield Event(time, ident, 'going home')   \n",
    "    # end of taxi process  "
   ]
  },
  {
   "cell_type": "markdown",
   "metadata": {},
   "source": [
    "## Taxi simulator\n",
    "The point of this example is to show a main loop processing events and driving coroutines by sending data to them. This is the basic idea behind asyncio"
   ]
  },
  {
   "cell_type": "code",
   "execution_count": 736,
   "metadata": {},
   "outputs": [
    {
     "name": "stdout",
     "output_type": "stream",
     "text": [
      "taxi: 0  Event(time=0, proc=0, action='leave garage')\n",
      "taxi: 0  Event(time=2, proc=0, action='pick up passenger')\n",
      "taxi: 1     Event(time=5, proc=1, action='leave garage')\n",
      "taxi: 1     Event(time=8, proc=1, action='pick up passenger')\n",
      "taxi: 2        Event(time=10, proc=2, action='leave garage')\n",
      "taxi: 2        Event(time=15, proc=2, action='pick up passenger')\n",
      "taxi: 2        Event(time=17, proc=2, action='drop off passenger')\n",
      "taxi: 0  Event(time=18, proc=0, action='drop off passenger')\n",
      "taxi: 2        Event(time=18, proc=2, action='pick up passenger')\n",
      "taxi: 2        Event(time=25, proc=2, action='drop off passenger')\n",
      "taxi: 1     Event(time=27, proc=1, action='drop off passenger')\n",
      "taxi: 2        Event(time=27, proc=2, action='pick up passenger')\n",
      "taxi: 0  Event(time=28, proc=0, action='pick up passenger')\n",
      "taxi: 2        Event(time=40, proc=2, action='drop off passenger')\n",
      "taxi: 2        Event(time=44, proc=2, action='pick up passenger')\n",
      "taxi: 1     Event(time=55, proc=1, action='pick up passenger')\n",
      "taxi: 1     Event(time=59, proc=1, action='drop off passenger')\n",
      "taxi: 0  Event(time=65, proc=0, action='drop off passenger')\n",
      "taxi: 1     Event(time=65, proc=1, action='pick up passenger')\n",
      "taxi: 2        Event(time=65, proc=2, action='drop off passenger')\n",
      "taxi: 2        Event(time=72, proc=2, action='pick up passenger')\n",
      "taxi: 0  Event(time=76, proc=0, action='going home')\n",
      "taxi: 1     Event(time=80, proc=1, action='drop off passenger')\n",
      "taxi: 1     Event(time=88, proc=1, action='pick up passenger')\n",
      "taxi: 2        Event(time=95, proc=2, action='drop off passenger')\n",
      "taxi: 2        Event(time=97, proc=2, action='pick up passenger')\n",
      "taxi: 2        Event(time=98, proc=2, action='drop off passenger')\n",
      "taxi: 1     Event(time=106, proc=1, action='drop off passenger')\n",
      "taxi: 2        Event(time=109, proc=2, action='going home')\n",
      "taxi: 1     Event(time=110, proc=1, action='going home')\n",
      "*** end of events ***\n"
     ]
    },
    {
     "data": {
      "text/plain": [
       "\"\\n\\nSample run from the command line, seed=3, maximum elapsed time=120::\\n\\n# BEGIN TAXI_SAMPLE_RUN\\n$ python3 taxi_sim.py -s 3 -e 120\\ntaxi: 0  Event(time=0, proc=0, action='leave garage')\\ntaxi: 0  Event(time=2, proc=0, action='pick up passenger')\\ntaxi: 1     Event(time=5, proc=1, action='leave garage')\\ntaxi: 1     Event(time=8, proc=1, action='pick up passenger')\\ntaxi: 2        Event(time=10, proc=2, action='leave garage')\\ntaxi: 2        Event(time=15, proc=2, action='pick up passenger')\\ntaxi: 2        Event(time=17, proc=2, action='drop off passenger')\\ntaxi: 0  Event(time=18, proc=0, action='drop off passenger')\\ntaxi: 2        Event(time=18, proc=2, action='pick up passenger')\\ntaxi: 2        Event(time=25, proc=2, action='drop off passenger')\\ntaxi: 1     Event(time=27, proc=1, action='drop off passenger')\\ntaxi: 2        Event(time=27, proc=2, action='pick up passenger')\\ntaxi: 0  Event(time=28, proc=0, action='pick up passenger')\\ntaxi: 2        Event(time=40, proc=2, action='drop off passenger')\\ntaxi: 2        Event(time=44, proc=2, action='pick up passenger')\\ntaxi: 1     Event(time=55, proc=1, action='pick up passenger')\\ntaxi: 1     Event(time=59, proc=1, action='drop off passenger')\\ntaxi: 0  Event(time=65, proc=0, action='drop off passenger')\\ntaxi: 1     Event(time=65, proc=1, action='pick up passenger')\\ntaxi: 2        Event(time=65, proc=2, action='drop off passenger')\\ntaxi: 2        Event(time=72, proc=2, action='pick up passenger')\\ntaxi: 0  Event(time=76, proc=0, action='going home')\\ntaxi: 1     Event(time=80, proc=1, action='drop off passenger')\\ntaxi: 1     Event(time=88, proc=1, action='pick up passenger')\\ntaxi: 2        Event(time=95, proc=2, action='drop off passenger')\\ntaxi: 2        Event(time=97, proc=2, action='pick up passenger')\\ntaxi: 2        Event(time=98, proc=2, action='drop off passenger')\\ntaxi: 1     Event(time=106, proc=1, action='drop off passenger')\\ntaxi: 2        Event(time=109, proc=2, action='going home')\\ntaxi: 1     Event(time=110, proc=1, action='going home')\\n*** end of events ***\\n# END TAXI_SAMPLE_RUN\\n\\n\""
      ]
     },
     "execution_count": 736,
     "metadata": {},
     "output_type": "execute_result"
    }
   ],
   "source": [
    "\"\"\"\n",
    "Taxi simulator\n",
    "==============\n",
    "\n",
    "Driving a taxi from the console::\n",
    "\n",
    "    >>> from taxi_sim import taxi_process\n",
    "    >>> taxi = taxi_process(ident=13, trips=2, start_time=0)\n",
    "    >>> next(taxi)\n",
    "    Event(time=0, proc=13, action='leave garage')\n",
    "    >>> taxi.send(_.time + 7)\n",
    "    Event(time=7, proc=13, action='pick up passenger')\n",
    "    >>> taxi.send(_.time + 23)\n",
    "    Event(time=30, proc=13, action='drop off passenger')\n",
    "    >>> taxi.send(_.time + 5)\n",
    "    Event(time=35, proc=13, action='pick up passenger')\n",
    "    >>> taxi.send(_.time + 48)\n",
    "    Event(time=83, proc=13, action='drop off passenger')\n",
    "    >>> taxi.send(_.time + 1)\n",
    "    Event(time=84, proc=13, action='going home')\n",
    "    >>> taxi.send(_.time + 10)\n",
    "    Traceback (most recent call last):\n",
    "      File \"<stdin>\", line 1, in <module>\n",
    "    StopIteration\n",
    "\n",
    "Sample run with two cars, random seed 10. This is a valid doctest::\n",
    "\n",
    "    >>> main(num_taxis=2, seed=10)\n",
    "    taxi: 0  Event(time=0, proc=0, action='leave garage')\n",
    "    taxi: 0  Event(time=5, proc=0, action='pick up passenger')\n",
    "    taxi: 1     Event(time=5, proc=1, action='leave garage')\n",
    "    taxi: 1     Event(time=10, proc=1, action='pick up passenger')\n",
    "    taxi: 1     Event(time=15, proc=1, action='drop off passenger')\n",
    "    taxi: 0  Event(time=17, proc=0, action='drop off passenger')\n",
    "    taxi: 1     Event(time=24, proc=1, action='pick up passenger')\n",
    "    taxi: 0  Event(time=26, proc=0, action='pick up passenger')\n",
    "    taxi: 0  Event(time=30, proc=0, action='drop off passenger')\n",
    "    taxi: 0  Event(time=34, proc=0, action='going home')\n",
    "    taxi: 1     Event(time=46, proc=1, action='drop off passenger')\n",
    "    taxi: 1     Event(time=48, proc=1, action='pick up passenger')\n",
    "    taxi: 1     Event(time=110, proc=1, action='drop off passenger')\n",
    "    taxi: 1     Event(time=139, proc=1, action='pick up passenger')\n",
    "    taxi: 1     Event(time=140, proc=1, action='drop off passenger')\n",
    "    taxi: 1     Event(time=150, proc=1, action='going home')\n",
    "    *** end of events ***\n",
    "\n",
    "See longer sample run at the end of this module.\n",
    "\n",
    "\"\"\"\n",
    "\n",
    "import random\n",
    "import collections\n",
    "import queue\n",
    "import argparse\n",
    "import time\n",
    "\n",
    "DEFAULT_NUMBER_OF_TAXIS = 3\n",
    "DEFAULT_END_TIME = 180\n",
    "SEARCH_DURATION = 5\n",
    "TRIP_DURATION = 20\n",
    "DEPARTURE_INTERVAL = 5\n",
    "\n",
    "Event = collections.namedtuple('Event', 'time proc action')\n",
    "\n",
    "\n",
    "# BEGIN TAXI_PROCESS\n",
    "def taxi_process(ident, trips, start_time=0):\n",
    "    \"\"\"Yield to simulator issuing event at each state change\"\"\"\n",
    "    time = yield Event(start_time, ident, 'leave garage')\n",
    "    for i in range(trips):\n",
    "        time = yield Event(time, ident, 'pick up passenger')\n",
    "        time = yield Event(time, ident, 'drop off passenger')\n",
    "\n",
    "    yield Event(time, ident, 'going home')\n",
    "    # end of taxi process\n",
    "# END TAXI_PROCESS\n",
    "\n",
    "\n",
    "# BEGIN TAXI_SIMULATOR\n",
    "class Simulator:\n",
    "\n",
    "    def __init__(self, procs_map):\n",
    "        self.events = queue.PriorityQueue()\n",
    "        self.procs = dict(procs_map)\n",
    "\n",
    "    def run(self, end_time):\n",
    "        \"\"\"Schedule and display events until time is up\"\"\"\n",
    "        # schedule the first event for each cab\n",
    "        for _, proc in sorted(self.procs.items()):\n",
    "            first_event = next(proc)\n",
    "            self.events.put(first_event)\n",
    "\n",
    "        # main loop of the simulation\n",
    "        sim_time = 0\n",
    "        while sim_time < end_time:\n",
    "            if self.events.empty():\n",
    "                print('*** end of events ***')\n",
    "                break\n",
    "\n",
    "            current_event = self.events.get()\n",
    "            sim_time, proc_id, previous_action = current_event\n",
    "            print('taxi:', proc_id, proc_id * '   ', current_event)\n",
    "            active_proc = self.procs[proc_id]\n",
    "            next_time = sim_time + compute_duration(previous_action)\n",
    "            try:\n",
    "                next_event = active_proc.send(next_time)\n",
    "            except StopIteration:\n",
    "                del self.procs[proc_id]\n",
    "            else:\n",
    "                self.events.put(next_event)\n",
    "        else:\n",
    "            msg = '*** end of simulation time: {} events pending ***'\n",
    "            print(msg.format(self.events.qsize()))\n",
    "# END TAXI_SIMULATOR\n",
    "\n",
    "\n",
    "def compute_duration(previous_action):\n",
    "    \"\"\"Compute action duration using exponential distribution\"\"\"\n",
    "    if previous_action in ['leave garage', 'drop off passenger']:\n",
    "        # new state is prowling\n",
    "        interval = SEARCH_DURATION\n",
    "    elif previous_action == 'pick up passenger':\n",
    "        # new state is trip\n",
    "        interval = TRIP_DURATION\n",
    "    elif previous_action == 'going home':\n",
    "        interval = 1\n",
    "    else:\n",
    "        raise ValueError('Unknown previous_action: %s' % previous_action)\n",
    "    return int(random.expovariate(1/interval)) + 1\n",
    "\n",
    "\n",
    "def main(end_time=DEFAULT_END_TIME, num_taxis=DEFAULT_NUMBER_OF_TAXIS,\n",
    "         seed=None):\n",
    "    \"\"\"Initialize random generator, build procs and run simulation\"\"\"\n",
    "    if seed is not None:\n",
    "        random.seed(seed)  # get reproducible results\n",
    "\n",
    "    taxis = {i: taxi_process(i, (i+1)*2, i*DEPARTURE_INTERVAL)\n",
    "             for i in range(num_taxis)}\n",
    "    sim = Simulator(taxis)\n",
    "    sim.run(end_time)\n",
    "\n",
    "\n",
    "if __name__ == '__main__':\n",
    "\n",
    "#     parser = argparse.ArgumentParser(\n",
    "#                         description='Taxi fleet simulator.')\n",
    "#     parser.add_argument('-e', '--end-time', type=int,\n",
    "#                         default=DEFAULT_END_TIME,\n",
    "#                         help='simulation end time; default = %s'\n",
    "#                         % DEFAULT_END_TIME)\n",
    "#     parser.add_argument('-t', '--taxis', type=int,\n",
    "#                         default=DEFAULT_NUMBER_OF_TAXIS,\n",
    "#                         help='number of taxis running; default = %s'\n",
    "#                         % DEFAULT_NUMBER_OF_TAXIS)\n",
    "#     parser.add_argument('-s', '--seed', type=int, default=3,\n",
    "#                         help='random generator seed (for testing)')\n",
    "\n",
    "#     args = parser.parse_args()\n",
    "    args = namedtuple('args', 'end_time, taxis, seed')\n",
    "    args.end_time, args.taxis, args.seed = DEFAULT_END_TIME, DEFAULT_NUMBER_OF_TAXIS, 3\n",
    "    main(args.end_time, args.taxis, args.seed)\n",
    "\n",
    "\n",
    "\"\"\"\n",
    "\n",
    "Sample run from the command line, seed=3, maximum elapsed time=120::\n",
    "\n",
    "# BEGIN TAXI_SAMPLE_RUN\n",
    "$ python3 taxi_sim.py -s 3 -e 120\n",
    "taxi: 0  Event(time=0, proc=0, action='leave garage')\n",
    "taxi: 0  Event(time=2, proc=0, action='pick up passenger')\n",
    "taxi: 1     Event(time=5, proc=1, action='leave garage')\n",
    "taxi: 1     Event(time=8, proc=1, action='pick up passenger')\n",
    "taxi: 2        Event(time=10, proc=2, action='leave garage')\n",
    "taxi: 2        Event(time=15, proc=2, action='pick up passenger')\n",
    "taxi: 2        Event(time=17, proc=2, action='drop off passenger')\n",
    "taxi: 0  Event(time=18, proc=0, action='drop off passenger')\n",
    "taxi: 2        Event(time=18, proc=2, action='pick up passenger')\n",
    "taxi: 2        Event(time=25, proc=2, action='drop off passenger')\n",
    "taxi: 1     Event(time=27, proc=1, action='drop off passenger')\n",
    "taxi: 2        Event(time=27, proc=2, action='pick up passenger')\n",
    "taxi: 0  Event(time=28, proc=0, action='pick up passenger')\n",
    "taxi: 2        Event(time=40, proc=2, action='drop off passenger')\n",
    "taxi: 2        Event(time=44, proc=2, action='pick up passenger')\n",
    "taxi: 1     Event(time=55, proc=1, action='pick up passenger')\n",
    "taxi: 1     Event(time=59, proc=1, action='drop off passenger')\n",
    "taxi: 0  Event(time=65, proc=0, action='drop off passenger')\n",
    "taxi: 1     Event(time=65, proc=1, action='pick up passenger')\n",
    "taxi: 2        Event(time=65, proc=2, action='drop off passenger')\n",
    "taxi: 2        Event(time=72, proc=2, action='pick up passenger')\n",
    "taxi: 0  Event(time=76, proc=0, action='going home')\n",
    "taxi: 1     Event(time=80, proc=1, action='drop off passenger')\n",
    "taxi: 1     Event(time=88, proc=1, action='pick up passenger')\n",
    "taxi: 2        Event(time=95, proc=2, action='drop off passenger')\n",
    "taxi: 2        Event(time=97, proc=2, action='pick up passenger')\n",
    "taxi: 2        Event(time=98, proc=2, action='drop off passenger')\n",
    "taxi: 1     Event(time=106, proc=1, action='drop off passenger')\n",
    "taxi: 2        Event(time=109, proc=2, action='going home')\n",
    "taxi: 1     Event(time=110, proc=1, action='going home')\n",
    "*** end of events ***\n",
    "# END TAXI_SAMPLE_RUN\n",
    "\n",
    "\"\"\""
   ]
  },
  {
   "cell_type": "code",
   "execution_count": 737,
   "metadata": {},
   "outputs": [
    {
     "data": {
      "text/plain": [
       "Event(time=7, proc=13, action='pick up passenger')"
      ]
     },
     "execution_count": 737,
     "metadata": {},
     "output_type": "execute_result"
    }
   ],
   "source": [
    "taxi = taxi_process(ident=13, trips=2, start_time=0)  \n",
    "next(taxi)  \n",
    "taxi.send(7)  "
   ]
  },
  {
   "cell_type": "code",
   "execution_count": 738,
   "metadata": {},
   "outputs": [
    {
     "data": {
      "text/plain": [
       "Event(time=23, proc=13, action='drop off passenger')"
      ]
     },
     "execution_count": 738,
     "metadata": {},
     "output_type": "execute_result"
    }
   ],
   "source": [
    "taxi.send(23)  "
   ]
  },
  {
   "cell_type": "code",
   "execution_count": 739,
   "metadata": {},
   "outputs": [
    {
     "data": {
      "text/plain": [
       "Event(time=5, proc=13, action='pick up passenger')"
      ]
     },
     "execution_count": 739,
     "metadata": {},
     "output_type": "execute_result"
    }
   ],
   "source": [
    "taxi.send(5)  "
   ]
  },
  {
   "cell_type": "code",
   "execution_count": 740,
   "metadata": {},
   "outputs": [
    {
     "data": {
      "text/plain": [
       "Event(time=48, proc=13, action='drop off passenger')"
      ]
     },
     "execution_count": 740,
     "metadata": {},
     "output_type": "execute_result"
    }
   ],
   "source": [
    "taxi.send(48)  "
   ]
  },
  {
   "cell_type": "code",
   "execution_count": 741,
   "metadata": {},
   "outputs": [
    {
     "data": {
      "text/plain": [
       "Event(time=1, proc=13, action='going home')"
      ]
     },
     "execution_count": 741,
     "metadata": {},
     "output_type": "execute_result"
    }
   ],
   "source": [
    "taxi.send(1)"
   ]
  },
  {
   "cell_type": "code",
   "execution_count": 742,
   "metadata": {},
   "outputs": [
    {
     "ename": "StopIteration",
     "evalue": "",
     "output_type": "error",
     "traceback": [
      "\u001b[0;31m---------------------------------------------------------------------------\u001b[0m",
      "\u001b[0;31mStopIteration\u001b[0m                             Traceback (most recent call last)",
      "\u001b[0;32m<ipython-input-742-92eef01725e4>\u001b[0m in \u001b[0;36m<module>\u001b[0;34m\u001b[0m\n\u001b[0;32m----> 1\u001b[0;31m \u001b[0mtaxi\u001b[0m\u001b[0;34m.\u001b[0m\u001b[0msend\u001b[0m\u001b[0;34m(\u001b[0m\u001b[0;36m10\u001b[0m\u001b[0;34m)\u001b[0m\u001b[0;34m\u001b[0m\u001b[0;34m\u001b[0m\u001b[0m\n\u001b[0m",
      "\u001b[0;31mStopIteration\u001b[0m: "
     ]
    }
   ],
   "source": [
    "taxi.send(10)  "
   ]
  },
  {
   "cell_type": "code",
   "execution_count": null,
   "metadata": {},
   "outputs": [],
   "source": []
  }
 ],
 "metadata": {
  "kernelspec": {
   "display_name": "Python 3",
   "language": "python",
   "name": "python3"
  },
  "language_info": {
   "codemirror_mode": {
    "name": "ipython",
    "version": 3
   },
   "file_extension": ".py",
   "mimetype": "text/x-python",
   "name": "python",
   "nbconvert_exporter": "python",
   "pygments_lexer": "ipython3",
   "version": "3.8.1"
  },
  "toc": {
   "base_numbering": 1,
   "nav_menu": {},
   "number_sections": false,
   "sideBar": true,
   "skip_h1_title": false,
   "title_cell": "Table of Contents",
   "title_sidebar": "Contents2",
   "toc_cell": true,
   "toc_position": {},
   "toc_section_display": true,
   "toc_window_display": false
  }
 },
 "nbformat": 4,
 "nbformat_minor": 4
}
