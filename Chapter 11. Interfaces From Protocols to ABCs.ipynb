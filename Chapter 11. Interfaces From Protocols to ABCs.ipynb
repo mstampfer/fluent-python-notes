{
 "cells": [
  {
   "cell_type": "markdown",
   "metadata": {
    "toc": true
   },
   "source": [
    "<h1>Table of Contents<span class=\"tocSkip\"></span></h1>\n",
    "<div class=\"toc\"><ul class=\"toc-item\"><li><span><a href=\"#Chapter-11.-Interfaces:-From-Protocols-to-ABCs\" data-toc-modified-id=\"Chapter-11.-Interfaces:-From-Protocols-to-ABCs-1\">Chapter 11. Interfaces: From Protocols to ABCs</a></span><ul class=\"toc-item\"><li><span><a href=\"#Subclassing-ABCs\" data-toc-modified-id=\"Subclassing-ABCs-1.1\">Subclassing ABCs</a></span></li><li><span><a href=\"#ABCs-in-the-Standard-Library-(collections.abc)\" data-toc-modified-id=\"ABCs-in-the-Standard-Library-(collections.abc)-1.2\">ABCs in the Standard Library (collections.abc)</a></span><ul class=\"toc-item\"><li><span><a href=\"#Iterable,-Container,-and-Sized\" data-toc-modified-id=\"Iterable,-Container,-and-Sized-1.2.1\">Iterable, Container, and Sized</a></span></li><li><span><a href=\"#Sequence,-Mapping,-and-Set\" data-toc-modified-id=\"Sequence,-Mapping,-and-Set-1.2.2\">Sequence, Mapping, and Set</a></span></li><li><span><a href=\"#MappingView\" data-toc-modified-id=\"MappingView-1.2.3\">MappingView</a></span></li><li><span><a href=\"#Callable-and-Hashable\" data-toc-modified-id=\"Callable-and-Hashable-1.2.4\">Callable and Hashable</a></span></li></ul></li><li><span><a href=\"#The-numbers-package\" data-toc-modified-id=\"The-numbers-package-1.3\">The numbers package</a></span><ul class=\"toc-item\"><li><span><a href=\"#Part-of-the-Exception-class-hierarchy\" data-toc-modified-id=\"Part-of-the-Exception-class-hierarchy-1.3.1\">Part of the Exception class hierarchy</a></span></li></ul></li><li><span><a href=\"#Virtual-Subclasses---using-the-register-decorator\" data-toc-modified-id=\"Virtual-Subclasses---using-the-register-decorator-1.4\">Virtual Subclasses - using the register decorator</a></span></li></ul></li></ul></div>"
   ]
  },
  {
   "cell_type": "markdown",
   "metadata": {},
   "source": [
    "# Chapter 11. Interfaces: From Protocols to ABCs\n",
    "(Immutable) sequences in python are treated specially because iteration is implicit in all objects even if `__iter__` is not implemented as long as `__getitem__` is implemented.\n",
    "\n",
    "Iteration in Python represents an extreme form of duck typing: the interpreter tries two different methods to iterate over objects."
   ]
  },
  {
   "cell_type": "code",
   "execution_count": 394,
   "metadata": {},
   "outputs": [],
   "source": [
    "class Foo:\n",
    "     def __init__(self):\n",
    "        self._seq = list(range(0, 30, 10))\n",
    "     \n",
    "     def __getitem__(self, pos):\n",
    "        return self._seq[pos]\n",
    "        \n",
    "f = Foo()"
   ]
  },
  {
   "cell_type": "code",
   "execution_count": 395,
   "metadata": {},
   "outputs": [
    {
     "name": "stdout",
     "output_type": "stream",
     "text": [
      "0\n",
      "10\n",
      "20\n"
     ]
    }
   ],
   "source": [
    "for i in f: print(i)"
   ]
  },
  {
   "cell_type": "code",
   "execution_count": 384,
   "metadata": {},
   "outputs": [
    {
     "data": {
      "text/plain": [
       "True"
      ]
     },
     "execution_count": 384,
     "metadata": {},
     "output_type": "execute_result"
    }
   ],
   "source": [
    "10 in f"
   ]
  },
  {
   "cell_type": "markdown",
   "metadata": {},
   "source": [
    "The default sequence interface does not however support mutability"
   ]
  },
  {
   "cell_type": "code",
   "execution_count": 385,
   "metadata": {},
   "outputs": [
    {
     "ename": "TypeError",
     "evalue": "'Foo' object does not support item assignment",
     "output_type": "error",
     "traceback": [
      "\u001b[0;31m---------------------------------------------------------------------------\u001b[0m",
      "\u001b[0;31mTypeError\u001b[0m                                 Traceback (most recent call last)",
      "\u001b[0;32m<ipython-input-385-f56607847625>\u001b[0m in \u001b[0;36m<module>\u001b[0;34m\u001b[0m\n\u001b[0;32m----> 1\u001b[0;31m \u001b[0mf\u001b[0m\u001b[0;34m[\u001b[0m\u001b[0;36m1\u001b[0m\u001b[0;34m]\u001b[0m \u001b[0;34m=\u001b[0m \u001b[0;36m100\u001b[0m\u001b[0;34m\u001b[0m\u001b[0;34m\u001b[0m\u001b[0m\n\u001b[0m",
      "\u001b[0;31mTypeError\u001b[0m: 'Foo' object does not support item assignment"
     ]
    }
   ],
   "source": [
    "f[1] = 100"
   ]
  },
  {
   "cell_type": "markdown",
   "metadata": {},
   "source": [
    "This can be fixed by monkey patching - changing a class or module at runtime, without touching the source code\n",
    "\n",
    "Monkey patching is powerful, but the code that does the actual patching is very tightly coupled with the program to be patched, often handling private and undocumented parts.\n"
   ]
  },
  {
   "cell_type": "code",
   "execution_count": 396,
   "metadata": {},
   "outputs": [],
   "source": [
    "def set_by_pos(self, key, value): \n",
    "    self._seq[key] = value\n",
    "    \n",
    "Foo.__setitem__ = set_by_pos"
   ]
  },
  {
   "cell_type": "code",
   "execution_count": 398,
   "metadata": {},
   "outputs": [],
   "source": [
    "f[1] = 99"
   ]
  },
  {
   "cell_type": "code",
   "execution_count": 399,
   "metadata": {},
   "outputs": [
    {
     "ename": "TypeError",
     "evalue": "object of type 'Foo' has no len()",
     "output_type": "error",
     "traceback": [
      "\u001b[0;31m---------------------------------------------------------------------------\u001b[0m",
      "\u001b[0;31mTypeError\u001b[0m                                 Traceback (most recent call last)",
      "\u001b[0;32m<ipython-input-399-05d7e692d7a4>\u001b[0m in \u001b[0;36m<module>\u001b[0;34m\u001b[0m\n\u001b[1;32m      1\u001b[0m \u001b[0;32mimport\u001b[0m \u001b[0mrandom\u001b[0m\u001b[0;34m\u001b[0m\u001b[0;34m\u001b[0m\u001b[0m\n\u001b[0;32m----> 2\u001b[0;31m \u001b[0mrandom\u001b[0m\u001b[0;34m.\u001b[0m\u001b[0mshuffle\u001b[0m\u001b[0;34m(\u001b[0m\u001b[0mf\u001b[0m\u001b[0;34m)\u001b[0m\u001b[0;34m\u001b[0m\u001b[0;34m\u001b[0m\u001b[0m\n\u001b[0m",
      "\u001b[0;32m/usr/local/Caskroom/miniconda/base/envs/py38/lib/python3.8/random.py\u001b[0m in \u001b[0;36mshuffle\u001b[0;34m(self, x, random)\u001b[0m\n\u001b[1;32m    302\u001b[0m         \u001b[0;32mif\u001b[0m \u001b[0mrandom\u001b[0m \u001b[0;32mis\u001b[0m \u001b[0;32mNone\u001b[0m\u001b[0;34m:\u001b[0m\u001b[0;34m\u001b[0m\u001b[0;34m\u001b[0m\u001b[0m\n\u001b[1;32m    303\u001b[0m             \u001b[0mrandbelow\u001b[0m \u001b[0;34m=\u001b[0m \u001b[0mself\u001b[0m\u001b[0;34m.\u001b[0m\u001b[0m_randbelow\u001b[0m\u001b[0;34m\u001b[0m\u001b[0;34m\u001b[0m\u001b[0m\n\u001b[0;32m--> 304\u001b[0;31m             \u001b[0;32mfor\u001b[0m \u001b[0mi\u001b[0m \u001b[0;32min\u001b[0m \u001b[0mreversed\u001b[0m\u001b[0;34m(\u001b[0m\u001b[0mrange\u001b[0m\u001b[0;34m(\u001b[0m\u001b[0;36m1\u001b[0m\u001b[0;34m,\u001b[0m \u001b[0mlen\u001b[0m\u001b[0;34m(\u001b[0m\u001b[0mx\u001b[0m\u001b[0;34m)\u001b[0m\u001b[0;34m)\u001b[0m\u001b[0;34m)\u001b[0m\u001b[0;34m:\u001b[0m\u001b[0;34m\u001b[0m\u001b[0;34m\u001b[0m\u001b[0m\n\u001b[0m\u001b[1;32m    305\u001b[0m                 \u001b[0;31m# pick an element in x[:i+1] with which to exchange x[i]\u001b[0m\u001b[0;34m\u001b[0m\u001b[0;34m\u001b[0m\u001b[0;34m\u001b[0m\u001b[0m\n\u001b[1;32m    306\u001b[0m                 \u001b[0mj\u001b[0m \u001b[0;34m=\u001b[0m \u001b[0mrandbelow\u001b[0m\u001b[0;34m(\u001b[0m\u001b[0mi\u001b[0m\u001b[0;34m+\u001b[0m\u001b[0;36m1\u001b[0m\u001b[0;34m)\u001b[0m\u001b[0;34m\u001b[0m\u001b[0;34m\u001b[0m\u001b[0m\n",
      "\u001b[0;31mTypeError\u001b[0m: object of type 'Foo' has no len()"
     ]
    }
   ],
   "source": [
    "import random\n",
    "random.shuffle(f)"
   ]
  },
  {
   "cell_type": "code",
   "execution_count": 400,
   "metadata": {},
   "outputs": [],
   "source": [
    "def get_len(self):\n",
    "    return len(self._seq)\n",
    "Foo.__len__ = get_len"
   ]
  },
  {
   "cell_type": "code",
   "execution_count": 401,
   "metadata": {},
   "outputs": [
    {
     "name": "stdout",
     "output_type": "stream",
     "text": [
      "20\n",
      "0\n",
      "99\n"
     ]
    }
   ],
   "source": [
    "random.shuffle(f)\n",
    "for i in f: print(i)"
   ]
  },
  {
   "cell_type": "markdown",
   "metadata": {},
   "source": [
    "## Subclassing ABCs\n",
    "The interpreter does not check for the implementation of the abstract methods at import time, but only at runtime when we actually try to instantiate the class"
   ]
  },
  {
   "cell_type": "code",
   "execution_count": 403,
   "metadata": {},
   "outputs": [],
   "source": [
    "import collections\n",
    "\n",
    "Card = collections.namedtuple('Card', ['rank', 'suit'])\n",
    "\n",
    "class FrenchDeck2(collections.abc.MutableSequence):\n",
    "    ranks = [str(n) for n in range(2, 11)] + list('JQKA')\n",
    "    suits = 'spades diamonds clubs hearts'.split()\n",
    "\n",
    "    def __init__(self):\n",
    "        self._cards = [Card(rank, suit) for suit in self.suits\n",
    "                                        for rank in self.ranks]\n",
    "\n",
    "    def __len__(self):\n",
    "        return len(self._cards)\n",
    "\n",
    "    def __getitem__(self, position):\n",
    "        return self._cards[position]\n",
    "\n",
    "    def __setitem__(self, position, value):  # \n",
    "        self._cards[position] = value\n",
    "\n",
    "#     def __delitem__(self, position):  # \n",
    "#         del self._cards[position]\n",
    "\n",
    "#     def insert(self, position, value):  # \n",
    "#         self._cards.insert(position, value)"
   ]
  },
  {
   "cell_type": "code",
   "execution_count": 404,
   "metadata": {},
   "outputs": [
    {
     "ename": "TypeError",
     "evalue": "Can't instantiate abstract class FrenchDeck2 with abstract methods __delitem__, insert",
     "output_type": "error",
     "traceback": [
      "\u001b[0;31m---------------------------------------------------------------------------\u001b[0m",
      "\u001b[0;31mTypeError\u001b[0m                                 Traceback (most recent call last)",
      "\u001b[0;32m<ipython-input-404-1da952ec75af>\u001b[0m in \u001b[0;36m<module>\u001b[0;34m\u001b[0m\n\u001b[0;32m----> 1\u001b[0;31m \u001b[0mx\u001b[0m \u001b[0;34m=\u001b[0m \u001b[0mFrenchDeck2\u001b[0m\u001b[0;34m(\u001b[0m\u001b[0;34m)\u001b[0m\u001b[0;34m\u001b[0m\u001b[0;34m\u001b[0m\u001b[0m\n\u001b[0m",
      "\u001b[0;31mTypeError\u001b[0m: Can't instantiate abstract class FrenchDeck2 with abstract methods __delitem__, insert"
     ]
    }
   ],
   "source": [
    "x = FrenchDeck2()"
   ]
  },
  {
   "cell_type": "markdown",
   "metadata": {},
   "source": [
    "## ABCs in the Standard Library (collections.abc)"
   ]
  },
  {
   "cell_type": "markdown",
   "metadata": {},
   "source": [
    "### Iterable, Container, and Sized\n",
    "Iterable supports iteration with `__iter__`, Container supports the in operator with `__contains__`, and Sized supports len() with `__len_`"
   ]
  },
  {
   "cell_type": "markdown",
   "metadata": {},
   "source": [
    "### Sequence, Mapping, and Set\n",
    "These are the main immutable collection types, and each has a mutable subclass"
   ]
  },
  {
   "cell_type": "markdown",
   "metadata": {},
   "source": [
    "### MappingView\n",
    ".items(), .keys(), and .values() inherit from ItemsView, KeysView, and ValuesView, respectively"
   ]
  },
  {
   "cell_type": "markdown",
   "metadata": {},
   "source": [
    "### Callable and Hashable\n",
    "support the `insinstance` built-in as a safe way of determining whether an object is callable or hashable"
   ]
  },
  {
   "cell_type": "markdown",
   "metadata": {},
   "source": [
    "## The numbers package\n",
    "The numbers tower\n",
    "\n",
    "if you need to check for an integer, use `isinstance(x, numbers.Integral)` to accept `int`, `bool` (which subclasses `int`) or other integer type"
   ]
  },
  {
   "cell_type": "markdown",
   "metadata": {},
   "source": [
    "* numbers.Number\n",
    "* numbers.Complex\n",
    "* numbers.Real\n",
    "* numbers.Rational\n",
    "* numbers.Integral"
   ]
  },
  {
   "cell_type": "markdown",
   "metadata": {},
   "source": [
    "An abstract method can actually have an implementation. Even if it does, subclasses will still be forced to override it, but they will be able to invoke the abstract method with super()"
   ]
  },
  {
   "cell_type": "code",
   "execution_count": 414,
   "metadata": {},
   "outputs": [],
   "source": [
    "import abc\n",
    "\n",
    "class Tombola(abc.ABC):   \n",
    "\n",
    "# An abstract method is marked with the @abstractmethod \n",
    "# decorator, and often its body is empty except for a docstring\n",
    "    @abc.abstractmethod\n",
    "    def load(self, iterable):   \n",
    "        \"\"\"Add items from an iterable.\"\"\"\n",
    "\n",
    "    @abc.abstractmethod\n",
    "    def pick(self):   \n",
    "        \"\"\"Remove item at random, returning it.\n",
    "\n",
    "        This method should raise `LookupError` when the instance is empty.\n",
    "        \"\"\"\n",
    "\n",
    "    def loaded(self):   \n",
    "        \"\"\"Return `True` if there's at least 1 item, `False` otherwise.\"\"\"\n",
    "        return bool(self.inspect())   \n",
    "\n",
    "\n",
    "    def inspect(self):\n",
    "        \"\"\"Return a sorted tuple with the items currently inside.\"\"\"\n",
    "        items = []\n",
    "        while True:   \n",
    "            try:\n",
    "                items.append(self.pick())\n",
    "            except LookupError:\n",
    "                break\n",
    "        self.load(items)   \n",
    "        return tuple(sorted(items))"
   ]
  },
  {
   "cell_type": "markdown",
   "metadata": {},
   "source": [
    "### Part of the Exception class hierarchy\n",
    "`BaseException\n",
    " ├── SystemExit\n",
    " ├── KeyboardInterrupt\n",
    " ├── GeneratorExit\n",
    " └── Exception\n",
    "      ├── StopIteration\n",
    "      ├── ArithmeticError\n",
    "      │    ├── FloatingPointError\n",
    "      │    ├── OverflowError\n",
    "      │    └── ZeroDivisionError\n",
    "      ├── AssertionError\n",
    "      ├── AttributeError\n",
    "      ├── BufferError\n",
    "      ├── EOFError\n",
    "      ├── ImportError\n",
    "      ├── LookupError  \n",
    "      │    ├── IndexError  \n",
    "      │    └── KeyError  \n",
    "      ├── MemoryError\n",
    "      ... etc.`\n"
   ]
  },
  {
   "cell_type": "code",
   "execution_count": 415,
   "metadata": {},
   "outputs": [],
   "source": [
    "class Fake(Tombola):\n",
    "    def pick(self):\n",
    "        return 13"
   ]
  },
  {
   "cell_type": "markdown",
   "metadata": {},
   "source": [
    "When one or more abstract functions is not implemented in a subclass, the subclass is considered abstract and cannot be instantiated"
   ]
  },
  {
   "cell_type": "code",
   "execution_count": 416,
   "metadata": {},
   "outputs": [
    {
     "ename": "TypeError",
     "evalue": "Can't instantiate abstract class Fake with abstract methods load",
     "output_type": "error",
     "traceback": [
      "\u001b[0;31m---------------------------------------------------------------------------\u001b[0m",
      "\u001b[0;31mTypeError\u001b[0m                                 Traceback (most recent call last)",
      "\u001b[0;32m<ipython-input-416-318d891c32f1>\u001b[0m in \u001b[0;36m<module>\u001b[0;34m\u001b[0m\n\u001b[0;32m----> 1\u001b[0;31m \u001b[0mf\u001b[0m\u001b[0;34m=\u001b[0m\u001b[0mFake\u001b[0m\u001b[0;34m(\u001b[0m\u001b[0;34m)\u001b[0m\u001b[0;34m\u001b[0m\u001b[0;34m\u001b[0m\u001b[0m\n\u001b[0m",
      "\u001b[0;31mTypeError\u001b[0m: Can't instantiate abstract class Fake with abstract methods load"
     ]
    }
   ],
   "source": [
    "f=Fake()"
   ]
  },
  {
   "cell_type": "code",
   "execution_count": 417,
   "metadata": {},
   "outputs": [],
   "source": [
    "import random\n",
    "\n",
    "class BingoCage(Tombola):   \n",
    "\n",
    "    def __init__(self, items):\n",
    "        self._randomizer = random.SystemRandom()   \n",
    "        self._items = []\n",
    "        self.load(items)   \n",
    "\n",
    "    def load(self, items):\n",
    "        self._items.extend(items)\n",
    "        self._randomizer.shuffle(self._items)   \n",
    "\n",
    "    def pick(self):   \n",
    "        try:\n",
    "            return self._items.pop()\n",
    "        except IndexError:\n",
    "            raise LookupError('pick from empty BingoCage')\n",
    "\n",
    "    def __call__(self):   \n",
    "        self.pick()"
   ]
  },
  {
   "cell_type": "code",
   "execution_count": 418,
   "metadata": {},
   "outputs": [],
   "source": [
    "class LotteryBlower(Tombola):\n",
    "\n",
    "    def __init__(self, iterable):\n",
    "#         iterable argument may be any iterable type\n",
    "        self._balls = list(iterable)   \n",
    "\n",
    "    def load(self, iterable):\n",
    "        self._balls.extend(iterable)\n",
    "\n",
    "    def pick(self):\n",
    "        try:\n",
    "            position = random.randrange(len(self._balls))   \n",
    "        except ValueError:\n",
    "            raise LookupError('pick from empty BingoCage')\n",
    "        return self._balls.pop(position)   \n",
    "\n",
    "    def loaded(self):   \n",
    "        return bool(self._balls)\n",
    "\n",
    "    def inspect(self):   \n",
    "        return tuple(sorted(self._balls))\n"
   ]
  },
  {
   "cell_type": "markdown",
   "metadata": {},
   "source": [
    "## Virtual Subclasses - using the register decorator\n",
    "register a class as a virtual subclass of an ABC, even if it does not inherit from it. When doing so, we promise that the class faithfully implements the interface defined in the ABC—and Python will believe us without checking. If we lie, we’ll be caught by the usual runtime exceptions.\n",
    "\n",
    "This is done by calling a register method on the ABC. The registered class then becomes a virtual subclass of the ABC, and will be recognized as such by functions like `issubclass` and `isinstance`, but it will not inherit any methods or attributes from the ABC"
   ]
  },
  {
   "cell_type": "code",
   "execution_count": 425,
   "metadata": {},
   "outputs": [
    {
     "data": {
      "image/png": "[encoded data removed]",
      "text/plain": [
       "<IPython.core.display.Image object>"
      ]
     },
     "execution_count": 425,
     "metadata": {},
     "output_type": "execute_result"
    }
   ],
   "source": [
    "from IPython.display import Image\n",
    "Image(filename = \"virtual.png\")"
   ]
  },
  {
   "cell_type": "code",
   "execution_count": 419,
   "metadata": {},
   "outputs": [],
   "source": [
    "from random import randrange\n",
    "\n",
    "# Tombolist is registered as a virtual subclass of Tombola\n",
    "@Tombola.register  # \n",
    "class TomboList(list):  # \n",
    "\n",
    "    def pick(self):\n",
    "        if self:  # \n",
    "            position = randrange(len(self))\n",
    "            return self.pop(position)  # \n",
    "        else:\n",
    "            raise LookupError('pop from empty TomboList')\n",
    "\n",
    "    load = list.extend  # \n",
    "\n",
    "    def loaded(self):\n",
    "        return bool(self)  # \n",
    "\n",
    "    def inspect(self):\n",
    "        return tuple(sorted(self))"
   ]
  },
  {
   "cell_type": "code",
   "execution_count": 423,
   "metadata": {},
   "outputs": [
    {
     "data": {
      "text/plain": [
       "True"
      ]
     },
     "execution_count": 423,
     "metadata": {},
     "output_type": "execute_result"
    }
   ],
   "source": [
    "issubclass(TomboList, Tombola)"
   ]
  },
  {
   "cell_type": "code",
   "execution_count": 427,
   "metadata": {},
   "outputs": [
    {
     "data": {
      "text/plain": [
       "True"
      ]
     },
     "execution_count": 427,
     "metadata": {},
     "output_type": "execute_result"
    }
   ],
   "source": [
    "t = TomboList(range(100))\n",
    "isinstance(t, Tombola)"
   ]
  },
  {
   "cell_type": "markdown",
   "metadata": {},
   "source": [
    "`list` and `object` are the only 'real' superclasses of `TomboList`"
   ]
  },
  {
   "cell_type": "code",
   "execution_count": 432,
   "metadata": {},
   "outputs": [
    {
     "data": {
      "text/plain": [
       "(__main__.TomboList, list, object)"
      ]
     },
     "execution_count": 432,
     "metadata": {},
     "output_type": "execute_result"
    }
   ],
   "source": [
    "TomboList.__mro__"
   ]
  },
  {
   "cell_type": "code",
   "execution_count": null,
   "metadata": {},
   "outputs": [],
   "source": [
    "# Chapter 11. Interfaces: From Protocols to ABCs\n",
    "(Immutable) sequences in python are treated specially because iteration is implicit in all objects even if `__iter__` is not implemented as long as `__getitem__` is implemented.\n",
    "\n",
    "Iteration in Python represents an extreme form of duck typing: the interpreter tries two different methods to iterate over objects.\n",
    "\n",
    "class Foo:\n",
    "     def __init__(self):\n",
    "        self._seq = list(range(0, 30, 10))\n",
    "     \n",
    "     def __getitem__(self, pos):\n",
    "        return self._seq[pos]\n",
    "        \n",
    "f = Foo()\n",
    "\n",
    "for i in f: print(i)\n",
    "\n",
    "10 in f\n",
    "\n",
    "The default sequence interface does not however support mutability\n",
    "\n",
    "f[1] = 100\n",
    "\n",
    "This can be fixed by monkey patching - changing a class or module at runtime, without touching the source code\n",
    "\n",
    "Monkey patching is powerful, but the code that does the actual patching is very tightly coupled with the program to be patched, often handling private and undocumented parts.\n",
    "\n",
    "\n",
    "def set_by_pos(self, key, value): \n",
    "    self._seq[key] = value\n",
    "    \n",
    "Foo.__setitem__ = set_by_pos\n",
    "\n",
    "f[1] = 99\n",
    "\n",
    "import random\n",
    "random.shuffle(f)\n",
    "\n",
    "def get_len(self):\n",
    "    return len(self._seq)\n",
    "Foo.__len__ = get_len\n",
    "\n",
    "random.shuffle(f)\n",
    "for i in f: print(i)\n",
    "\n",
    "## Subclassing ABCs\n",
    "The interpreter does not check for the implementation of the abstract methods at import time, but only at runtime when we actually try to instantiate the class\n",
    "\n",
    "import collections\n",
    "\n",
    "Card = collections.namedtuple('Card', ['rank', 'suit'])\n",
    "\n",
    "class FrenchDeck2(collections.abc.MutableSequence):\n",
    "    ranks = [str(n) for n in range(2, 11)] + list('JQKA')\n",
    "    suits = 'spades diamonds clubs hearts'.split()\n",
    "\n",
    "    def __init__(self):\n",
    "        self._cards = [Card(rank, suit) for suit in self.suits\n",
    "                                        for rank in self.ranks]\n",
    "\n",
    "    def __len__(self):\n",
    "        return len(self._cards)\n",
    "\n",
    "    def __getitem__(self, position):\n",
    "        return self._cards[position]\n",
    "\n",
    "    def __setitem__(self, position, value):  # \n",
    "        self._cards[position] = value\n",
    "\n",
    "#     def __delitem__(self, position):  # \n",
    "#         del self._cards[position]\n",
    "\n",
    "#     def insert(self, position, value):  # \n",
    "#         self._cards.insert(position, value)\n",
    "\n",
    "x = FrenchDeck2()\n",
    "\n",
    "## ABCs in the Standard Library (collections.abc)\n",
    "\n",
    "### Iterable, Container, and Sized\n",
    "Iterable supports iteration with `__iter__`, Container supports the in operator with `__contains__`, and Sized supports len() with `__len_`\n",
    "\n",
    "### Sequence, Mapping, and Set\n",
    "These are the main immutable collection types, and each has a mutable subclass\n",
    "\n",
    "### MappingView\n",
    ".items(), .keys(), and .values() inherit from ItemsView, KeysView, and ValuesView, respectively\n",
    "\n",
    "### Callable and Hashable\n",
    "support the `insinstance` built-in as a safe way of determining whether an object is callable or hashable\n",
    "\n",
    "## The numbers package\n",
    "The numbers tower\n",
    "\n",
    "if you need to check for an integer, use `isinstance(x, numbers.Integral)` to accept `int`, `bool` (which subclasses `int`) or other integer type\n",
    "\n",
    "* numbers.Number\n",
    "* numbers.Complex\n",
    "* numbers.Real\n",
    "* numbers.Rational\n",
    "* numbers.Integral\n",
    "\n",
    "An abstract method can actually have an implementation. Even if it does, subclasses will still be forced to override it, but they will be able to invoke the abstract method with super()\n",
    "\n",
    "import abc\n",
    "\n",
    "class Tombola(abc.ABC):   \n",
    "\n",
    "# An abstract method is marked with the @abstractmethod \n",
    "# decorator, and often its body is empty except for a docstring\n",
    "    @abc.abstractmethod\n",
    "    def load(self, iterable):   \n",
    "        \"\"\"Add items from an iterable.\"\"\"\n",
    "\n",
    "    @abc.abstractmethod\n",
    "    def pick(self):   \n",
    "        \"\"\"Remove item at random, returning it.\n",
    "\n",
    "        This method should raise `LookupError` when the instance is empty.\n",
    "        \"\"\"\n",
    "\n",
    "    def loaded(self):   \n",
    "        \"\"\"Return `True` if there's at least 1 item, `False` otherwise.\"\"\"\n",
    "        return bool(self.inspect())   \n",
    "\n",
    "\n",
    "    def inspect(self):\n",
    "        \"\"\"Return a sorted tuple with the items currently inside.\"\"\"\n",
    "        items = []\n",
    "        while True:   \n",
    "            try:\n",
    "                items.append(self.pick())\n",
    "            except LookupError:\n",
    "                break\n",
    "        self.load(items)   \n",
    "        return tuple(sorted(items))\n",
    "\n",
    "### Part of the Exception class hierarchy\n",
    "`BaseException\n",
    " ├── SystemExit\n",
    " ├── KeyboardInterrupt\n",
    " ├── GeneratorExit\n",
    " └── Exception\n",
    "      ├── StopIteration\n",
    "      ├── ArithmeticError\n",
    "      │    ├── FloatingPointError\n",
    "      │    ├── OverflowError\n",
    "      │    └── ZeroDivisionError\n",
    "      ├── AssertionError\n",
    "      ├── AttributeError\n",
    "      ├── BufferError\n",
    "      ├── EOFError\n",
    "      ├── ImportError\n",
    "      ├── LookupError  \n",
    "      │    ├── IndexError  \n",
    "      │    └── KeyError  \n",
    "      ├── MemoryError\n",
    "      ... etc.`\n",
    "\n",
    "\n",
    "class Fake(Tombola):\n",
    "    def pick(self):\n",
    "        return 13\n",
    "\n",
    "When one or more abstract functions is not implemented in a subclass, the subclass is considered abstract and cannot be instantiated\n",
    "\n",
    "f=Fake()\n",
    "\n",
    "import random\n",
    "\n",
    "class BingoCage(Tombola):   \n",
    "\n",
    "    def __init__(self, items):\n",
    "        self._randomizer = random.SystemRandom()   \n",
    "        self._items = []\n",
    "        self.load(items)   \n",
    "\n",
    "    def load(self, items):\n",
    "        self._items.extend(items)\n",
    "        self._randomizer.shuffle(self._items)   \n",
    "\n",
    "    def pick(self):   \n",
    "        try:\n",
    "            return self._items.pop()\n",
    "        except IndexError:\n",
    "            raise LookupError('pick from empty BingoCage')\n",
    "\n",
    "    def __call__(self):   \n",
    "        self.pick()\n",
    "\n",
    "class LotteryBlower(Tombola):\n",
    "\n",
    "    def __init__(self, iterable):\n",
    "#         iterable argument may be any iterable type\n",
    "        self._balls = list(iterable)   \n",
    "\n",
    "    def load(self, iterable):\n",
    "        self._balls.extend(iterable)\n",
    "\n",
    "    def pick(self):\n",
    "        try:\n",
    "            position = random.randrange(len(self._balls))   \n",
    "        except ValueError:\n",
    "            raise LookupError('pick from empty BingoCage')\n",
    "        return self._balls.pop(position)   \n",
    "\n",
    "    def loaded(self):   \n",
    "        return bool(self._balls)\n",
    "\n",
    "    def inspect(self):   \n",
    "        return tuple(sorted(self._balls))\n",
    "\n",
    "\n",
    "## Virtual Subclasses - using the register decorator\n",
    "register a class as a virtual subclass of an ABC, even if it does not inherit from it. When doing so, we promise that the class faithfully implements the interface defined in the ABC—and Python will believe us without checking. If we lie, we’ll be caught by the usual runtime exceptions.\n",
    "\n",
    "This is done by calling a register method on the ABC. The registered class then becomes a virtual subclass of the ABC, and will be recognized as such by functions like `issubclass` and `isinstance`, but it will not inherit any methods or attributes from the ABC\n",
    "\n",
    "from IPython.display import Image\n",
    "Image(filename = \"virtual.png\")\n",
    "\n",
    "from random import randrange\n",
    "\n",
    "# Tombolist is registered as a virtual subclass of Tombola\n",
    "@Tombola.register  # \n",
    "class TomboList(list):  # \n",
    "\n",
    "    def pick(self):\n",
    "        if self:  # \n",
    "            position = randrange(len(self))\n",
    "            return self.pop(position)  # \n",
    "        else:\n",
    "            raise LookupError('pop from empty TomboList')\n",
    "\n",
    "    load = list.extend  # \n",
    "\n",
    "    def loaded(self):\n",
    "        return bool(self)  # \n",
    "\n",
    "    def inspect(self):\n",
    "        return tuple(sorted(self))\n",
    "\n",
    "issubclass(TomboList, Tombola)\n",
    "\n",
    "t = TomboList(range(100))\n",
    "isinstance(t, Tombola)\n",
    "\n",
    "`list` and `object` are the only 'real' superclasses of `TomboList`\n",
    "\n",
    "TomboList.__mro__"
   ]
  }
 ],
 "metadata": {
  "kernelspec": {
   "display_name": "Python 3",
   "language": "python",
   "name": "python3"
  },
  "language_info": {
   "codemirror_mode": {
    "name": "ipython",
    "version": 3
   },
   "file_extension": ".py",
   "mimetype": "text/x-python",
   "name": "python",
   "nbconvert_exporter": "python",
   "pygments_lexer": "ipython3",
   "version": "3.8.1"
  },
  "toc": {
   "base_numbering": 1,
   "nav_menu": {},
   "number_sections": false,
   "sideBar": true,
   "skip_h1_title": false,
   "title_cell": "Table of Contents",
   "title_sidebar": "Contents2",
   "toc_cell": true,
   "toc_position": {},
   "toc_section_display": true,
   "toc_window_display": false
  }
 },
 "nbformat": 4,
 "nbformat_minor": 4
}
