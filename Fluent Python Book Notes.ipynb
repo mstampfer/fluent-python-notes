{
 "cells": [
  {
   "cell_type": "markdown",
   "metadata": {
    "toc": true
   },
   "source": [
    "<h1>Table of Contents<span class=\"tocSkip\"></span></h1>\n",
    "<div class=\"toc\"><ul class=\"toc-item\"><li><span><a href=\"#A-deck-as-a-sequence-of-cards\" data-toc-modified-id=\"A-deck-as-a-sequence-of-cards-1\"><span class=\"toc-item-num\">1&nbsp;&nbsp;</span>A deck as a sequence of cards</a></span><ul class=\"toc-item\"><li><span><a href=\"#demonstrates-the-power-of-just-two-special-methods-__getitem__-and-__len__-to-implement-iteration-and-slicing\" data-toc-modified-id=\"demonstrates-the-power-of-just-two-special-methods-__getitem__-and-__len__-to-implement-iteration-and-slicing-1.1\"><span class=\"toc-item-num\">1.1&nbsp;&nbsp;</span><code>demonstrates the power of just two special methods __getitem__ and __len__ to implement iteration and slicing</code></a></span></li></ul></li><li><span><a href=\"#Sorting-named-tuple-by-multiple-fields\" data-toc-modified-id=\"Sorting-named-tuple-by-multiple-fields-2\"><span class=\"toc-item-num\">2&nbsp;&nbsp;</span>Sorting named tuple by multiple fields</a></span></li><li><span><a href=\"#Emulating-numeric-types\" data-toc-modified-id=\"Emulating-numeric-types-3\"><span class=\"toc-item-num\">3&nbsp;&nbsp;</span>Emulating numeric types</a></span></li><li><span><a href=\"#2-Dimensional-vectors\" data-toc-modified-id=\"2-Dimensional-vectors-4\"><span class=\"toc-item-num\">4&nbsp;&nbsp;</span>2-Dimensional vectors</a></span><ul class=\"toc-item\"><li><span><a href=\"#Vector-class-implementing-addition,-scalar-multiplication-and-calculate-magnitude-through-the-use-of-the-special-methods-__repr__,-__abs__,-__add__-and-__mul__\" data-toc-modified-id=\"Vector-class-implementing-addition,-scalar-multiplication-and-calculate-magnitude-through-the-use-of-the-special-methods-__repr__,-__abs__,-__add__-and-__mul__-4.1\"><span class=\"toc-item-num\">4.1&nbsp;&nbsp;</span><code>Vector class implementing addition, scalar multiplication and calculate magnitude through the use of the special methods __repr__, __abs__, __add__ and __mul__</code></a></span></li></ul></li><li><span><a href=\"#Built-in-sequence-types\" data-toc-modified-id=\"Built-in-sequence-types-5\"><span class=\"toc-item-num\">5&nbsp;&nbsp;</span>Built-in sequence types</a></span><ul class=\"toc-item\"><li><span><a href=\"#Container-sequences\" data-toc-modified-id=\"Container-sequences-5.1\"><span class=\"toc-item-num\">5.1&nbsp;&nbsp;</span>Container sequences</a></span></li><li><span><a href=\"#Flat-sequences\" data-toc-modified-id=\"Flat-sequences-5.2\"><span class=\"toc-item-num\">5.2&nbsp;&nbsp;</span>Flat sequences</a></span></li><li><span><a href=\"#Mutable-sequences\" data-toc-modified-id=\"Mutable-sequences-5.3\"><span class=\"toc-item-num\">5.3&nbsp;&nbsp;</span>Mutable sequences</a></span></li><li><span><a href=\"#Immutable-sequences\" data-toc-modified-id=\"Immutable-sequences-5.4\"><span class=\"toc-item-num\">5.4&nbsp;&nbsp;</span>Immutable sequences</a></span></li><li><span><a href=\"#Built-in-concrete-sequence-types-subclass-the-Sequence-and-MutableSequence-abstract-base-classes-(ABCs)\" data-toc-modified-id=\"Built-in-concrete-sequence-types-subclass-the-Sequence-and-MutableSequence-abstract-base-classes-(ABCs)-5.5\"><span class=\"toc-item-num\">5.5&nbsp;&nbsp;</span>Built-in concrete sequence types subclass the Sequence and MutableSequence abstract base classes (ABCs)</a></span></li></ul></li><li><span><a href=\"#Cartesian-product-using-a-list-comprehension\" data-toc-modified-id=\"Cartesian-product-using-a-list-comprehension-6\"><span class=\"toc-item-num\">6&nbsp;&nbsp;</span>Cartesian product using a list comprehension</a></span><ul class=\"toc-item\"><li><span><a href=\"#Generator-expressions-yields-items-one-by-one\" data-toc-modified-id=\"Generator-expressions-yields-items-one-by-one-6.1\"><span class=\"toc-item-num\">6.1&nbsp;&nbsp;</span>Generator expressions yields items one by one</a></span></li><li><span><a href=\"#tuple-unpacking\" data-toc-modified-id=\"tuple-unpacking-6.2\"><span class=\"toc-item-num\">6.2&nbsp;&nbsp;</span>tuple unpacking</a></span></li><li><span><a href=\"#printing-tuples-using-tuple-unpacking\" data-toc-modified-id=\"printing-tuples-using-tuple-unpacking-6.3\"><span class=\"toc-item-num\">6.3&nbsp;&nbsp;</span>printing tuples using tuple unpacking</a></span></li><li><span><a href=\"#swapping-values-using-tuple-unpacking\" data-toc-modified-id=\"swapping-values-using-tuple-unpacking-6.4\"><span class=\"toc-item-num\">6.4&nbsp;&nbsp;</span>swapping values using tuple unpacking</a></span></li><li><span><a href=\"#tuple-unpacking-using-*\" data-toc-modified-id=\"tuple-unpacking-using-*-6.5\"><span class=\"toc-item-num\">6.5&nbsp;&nbsp;</span>tuple unpacking using *</a></span></li></ul></li><li><span><a href=\"#Named-Tuples\" data-toc-modified-id=\"Named-Tuples-7\"><span class=\"toc-item-num\">7&nbsp;&nbsp;</span>Named Tuples</a></span><ul class=\"toc-item\"><li><span><a href=\"#Named-tuple-attributes-and-methods\" data-toc-modified-id=\"Named-tuple-attributes-and-methods-7.1\"><span class=\"toc-item-num\">7.1&nbsp;&nbsp;</span>Named tuple attributes and methods</a></span></li></ul></li><li><span><a href=\"#Named-slicing\" data-toc-modified-id=\"Named-slicing-8\"><span class=\"toc-item-num\">8&nbsp;&nbsp;</span>Named slicing</a></span><ul class=\"toc-item\"><li><span><a href=\"#Assigning-to-slices\" data-toc-modified-id=\"Assigning-to-slices-8.1\"><span class=\"toc-item-num\">8.1&nbsp;&nbsp;</span>Assigning to slices</a></span></li><li><span><a href=\"#Avoid-assigning-to-duplicate-references\" data-toc-modified-id=\"Avoid-assigning-to-duplicate-references-8.2\"><span class=\"toc-item-num\">8.2&nbsp;&nbsp;</span>Avoid assigning to duplicate references</a></span></li><li><span><a href=\"#in-place-addition-and-multiplication-of-(mutable)-sequences-(requires-__iadd__-or-__imul__-is-implemented)\" data-toc-modified-id=\"in-place-addition-and-multiplication-of-(mutable)-sequences-(requires-__iadd__-or-__imul__-is-implemented)-8.3\"><span class=\"toc-item-num\">8.3&nbsp;&nbsp;</span><code>in-place addition and multiplication of (mutable) sequences (requires __iadd__ or __imul__ is implemented)</code></a></span></li></ul></li><li><span><a href=\"#in-place-and-out-of-place-sorting-of-sequences\" data-toc-modified-id=\"in-place-and-out-of-place-sorting-of-sequences-9\"><span class=\"toc-item-num\">9&nbsp;&nbsp;</span>in-place and out-of-place sorting of sequences</a></span><ul class=\"toc-item\"><li><span><a href=\"#out-of-place-sorting-with-sorted()\" data-toc-modified-id=\"out-of-place-sorting-with-sorted()-9.1\"><span class=\"toc-item-num\">9.1&nbsp;&nbsp;</span>out-of-place sorting with sorted()</a></span></li><li><span><a href=\"#in-place-sorting-with-list.sort()\" data-toc-modified-id=\"in-place-sorting-with-list.sort()-9.2\"><span class=\"toc-item-num\">9.2&nbsp;&nbsp;</span>in-place sorting with list.sort()</a></span></li></ul></li><li><span><a href=\"#binary-search-and-insertion\" data-toc-modified-id=\"binary-search-and-insertion-10\"><span class=\"toc-item-num\">10&nbsp;&nbsp;</span>binary search and insertion</a></span><ul class=\"toc-item\"><li><span><a href=\"#Use-bisect.bisect-to-do-range-conversions\" data-toc-modified-id=\"Use-bisect.bisect-to-do-range-conversions-10.1\"><span class=\"toc-item-num\">10.1&nbsp;&nbsp;</span>Use bisect.bisect to do range conversions</a></span></li><li><span><a href=\"#Use-bisect.insort-to-insert-into-a-sorted-sequence-keeping-sequence-sorted\" data-toc-modified-id=\"Use-bisect.insort-to-insert-into-a-sorted-sequence-keeping-sequence-sorted-10.2\"><span class=\"toc-item-num\">10.2&nbsp;&nbsp;</span>Use bisect.insort to insert into a sorted sequence keeping sequence sorted</a></span></li></ul></li><li><span><a href=\"#Arrays\" data-toc-modified-id=\"Arrays-11\"><span class=\"toc-item-num\">11&nbsp;&nbsp;</span>Arrays</a></span><ul class=\"toc-item\"><li><span><a href=\"#If-the-list-will-only-contain-numbers,-an-array.array-is-more-efficient-than-a-list\" data-toc-modified-id=\"If-the-list-will-only-contain-numbers,-an-array.array-is-more-efficient-than-a-list-11.1\"><span class=\"toc-item-num\">11.1&nbsp;&nbsp;</span>If the list will only contain numbers, an array.array is more efficient than a list</a></span></li></ul></li><li><span><a href=\"#Memory-Views\" data-toc-modified-id=\"Memory-Views-12\"><span class=\"toc-item-num\">12&nbsp;&nbsp;</span>Memory Views</a></span><ul class=\"toc-item\"><li><span><a href=\"#The-built-in-memorview-class-is-a-shared-memory-sequence-type-that-lets-you-handle-slices-of-arrays-without-copying-bytes\" data-toc-modified-id=\"The-built-in-memorview-class-is-a-shared-memory-sequence-type-that-lets-you-handle-slices-of-arrays-without-copying-bytes-12.1\"><span class=\"toc-item-num\">12.1&nbsp;&nbsp;</span>The built-in memorview class is a shared-memory sequence type that lets you handle slices of arrays without copying bytes</a></span></li></ul></li><li><span><a href=\"#Numpy\" data-toc-modified-id=\"Numpy-13\"><span class=\"toc-item-num\">13&nbsp;&nbsp;</span>Numpy</a></span><ul class=\"toc-item\"><li><span><a href=\"#NumPy-implements-multi-dimensional,-homogeneous-arrays-and-matrix-types-that-hold-not-only-numbers-but-also-user-defined-records,-and-provides-efficient-elementwise-operations.\" data-toc-modified-id=\"NumPy-implements-multi-dimensional,-homogeneous-arrays-and-matrix-types-that-hold-not-only-numbers-but-also-user-defined-records,-and-provides-efficient-elementwise-operations.-13.1\"><span class=\"toc-item-num\">13.1&nbsp;&nbsp;</span>NumPy implements multi-dimensional, homogeneous arrays and matrix types that hold not only numbers but also user-defined records, and provides efficient elementwise operations.</a></span></li></ul></li><li><span><a href=\"#Deques-and-Other-Queues\" data-toc-modified-id=\"Deques-and-Other-Queues-14\"><span class=\"toc-item-num\">14&nbsp;&nbsp;</span>Deques and Other Queues</a></span><ul class=\"toc-item\"><li><span><a href=\"#The-class-collections.deque-is-a-thread-safe-double-ended-queue-designed-for-fast-inserting-and-removing-from-both-ends\" data-toc-modified-id=\"The-class-collections.deque-is-a-thread-safe-double-ended-queue-designed-for-fast-inserting-and-removing-from-both-ends-14.1\"><span class=\"toc-item-num\">14.1&nbsp;&nbsp;</span>The class collections.deque is a thread-safe double-ended queue designed for fast inserting and removing from both ends</a></span></li><li><span><a href=\"#queue\" data-toc-modified-id=\"queue-14.2\"><span class=\"toc-item-num\">14.2&nbsp;&nbsp;</span>queue</a></span></li><li><span><a href=\"#multiprocessing\" data-toc-modified-id=\"multiprocessing-14.3\"><span class=\"toc-item-num\">14.3&nbsp;&nbsp;</span>multiprocessing</a></span></li><li><span><a href=\"#asyncio\" data-toc-modified-id=\"asyncio-14.4\"><span class=\"toc-item-num\">14.4&nbsp;&nbsp;</span>asyncio</a></span></li><li><span><a href=\"#heapq\" data-toc-modified-id=\"heapq-14.5\"><span class=\"toc-item-num\">14.5&nbsp;&nbsp;</span>heapq</a></span></li></ul></li><li><span><a href=\"#the-dict-class-derives-from-Mapping-and-MutableMapping-abstract-interfaces\" data-toc-modified-id=\"the-dict-class-derives-from-Mapping-and-MutableMapping-abstract-interfaces-15\"><span class=\"toc-item-num\">15&nbsp;&nbsp;</span>the dict class derives from Mapping and MutableMapping abstract interfaces</a></span><ul class=\"toc-item\"><li><span><a href=\"#dict-keys-must-be-hashable-(implement-__hash__-and-__eq__)\" data-toc-modified-id=\"dict-keys-must-be-hashable-(implement-__hash__-and-__eq__)-15.1\"><span class=\"toc-item-num\">15.1&nbsp;&nbsp;</span><code>dict keys must be hashable (implement __hash__ and __eq__)</code></a></span></li></ul></li><li><span><a href=\"#atomic-immutable-types:-str,-numeric-types,-bytes,-frozenset-and-tuple-(if-all-elements-are-hashable)-are-hashable\" data-toc-modified-id=\"atomic-immutable-types:-str,-numeric-types,-bytes,-frozenset-and-tuple-(if-all-elements-are-hashable)-are-hashable-16\"><span class=\"toc-item-num\">16&nbsp;&nbsp;</span>atomic immutable types: str, numeric types, bytes, frozenset and tuple (if all elements are hashable) are hashable</a></span></li><li><span><a href=\"#User-defined-types-are-hashable-by-default-because-their-hash-value-is-their-id()-and-they-all-compare-not-equal.\" data-toc-modified-id=\"User-defined-types-are-hashable-by-default-because-their-hash-value-is-their-id()-and-they-all-compare-not-equal.-17\"><span class=\"toc-item-num\">17&nbsp;&nbsp;</span>User-defined types are hashable by default because their hash value is their id() and they all compare not equal.</a></span></li><li><span><a href=\"#Five-ways-to-build-a-dict\" data-toc-modified-id=\"Five-ways-to-build-a-dict-18\"><span class=\"toc-item-num\">18&nbsp;&nbsp;</span>Five ways to build a dict</a></span><ul class=\"toc-item\"><li><span><a href=\"#dict-comprehensions\" data-toc-modified-id=\"dict-comprehensions-18.1\"><span class=\"toc-item-num\">18.1&nbsp;&nbsp;</span>dict comprehensions</a></span></li></ul></li><li><span><a href=\"#Handling-Missing-Keys-on-insertion-with-setdefault\" data-toc-modified-id=\"Handling-Missing-Keys-on-insertion-with-setdefault-19\"><span class=\"toc-item-num\">19&nbsp;&nbsp;</span>Handling Missing Keys on insertion with setdefault</a></span></li><li><span><a href=\"#Handling-Missing-Keys-generally\" data-toc-modified-id=\"Handling-Missing-Keys-generally-20\"><span class=\"toc-item-num\">20&nbsp;&nbsp;</span>Handling Missing Keys generally</a></span><ul class=\"toc-item\"><li><span><a href=\"#defaultdict\" data-toc-modified-id=\"defaultdict-20.1\"><span class=\"toc-item-num\">20.1&nbsp;&nbsp;</span>defaultdict</a></span></li><li><span><a href=\"#The-__missing__-Method\" data-toc-modified-id=\"The-__missing__-Method-20.2\"><span class=\"toc-item-num\">20.2&nbsp;&nbsp;</span><code>The __missing__ Method</code></a></span></li><li><span><a href=\"#Variations-of-dict\" data-toc-modified-id=\"Variations-of-dict-20.3\"><span class=\"toc-item-num\">20.3&nbsp;&nbsp;</span>Variations of dict</a></span></li><li><span><a href=\"#collections.OrderedDict\" data-toc-modified-id=\"collections.OrderedDict-20.4\"><span class=\"toc-item-num\">20.4&nbsp;&nbsp;</span>collections.OrderedDict</a></span></li><li><span><a href=\"#collections.ChainMap\" data-toc-modified-id=\"collections.ChainMap-20.5\"><span class=\"toc-item-num\">20.5&nbsp;&nbsp;</span>collections.ChainMap</a></span></li><li><span><a href=\"#collections.Counter\" data-toc-modified-id=\"collections.Counter-20.6\"><span class=\"toc-item-num\">20.6&nbsp;&nbsp;</span>collections.Counter</a></span></li><li><span><a href=\"#collections.UserDict\" data-toc-modified-id=\"collections.UserDict-20.7\"><span class=\"toc-item-num\">20.7&nbsp;&nbsp;</span>collections.UserDict</a></span></li></ul></li><li><span><a href=\"#Immutable-Mappings\" data-toc-modified-id=\"Immutable-Mappings-21\"><span class=\"toc-item-num\">21&nbsp;&nbsp;</span>Immutable Mappings</a></span><ul class=\"toc-item\"><li><span><a href=\"#MappingProxyType\" data-toc-modified-id=\"MappingProxyType-21.1\"><span class=\"toc-item-num\">21.1&nbsp;&nbsp;</span>MappingProxyType</a></span></li></ul></li><li><span><a href=\"#set-and-frozenset\" data-toc-modified-id=\"set-and-frozenset-22\"><span class=\"toc-item-num\">22&nbsp;&nbsp;</span>set and frozenset</a></span><ul class=\"toc-item\"><li><span><a href=\"#set-types-implement-the-essential-set-operations-as-infix-operators,-so,-given-two-sets-a-and-b,-a-|-b-returns-their-union,-a-&amp;-b-computes-the-intersection,-and-a---b-the-difference.\" data-toc-modified-id=\"set-types-implement-the-essential-set-operations-as-infix-operators,-so,-given-two-sets-a-and-b,-a-|-b-returns-their-union,-a-&amp;-b-computes-the-intersection,-and-a---b-the-difference.-22.1\"><span class=\"toc-item-num\">22.1&nbsp;&nbsp;</span>set types implement the essential set operations as infix operators, so, given two sets a and b, a | b returns their union, a &amp; b computes the intersection, and a - b the difference.</a></span></li><li><span><a href=\"#set-comprehensions\" data-toc-modified-id=\"set-comprehensions-22.2\"><span class=\"toc-item-num\">22.2&nbsp;&nbsp;</span>set comprehensions</a></span></li><li><span><a href=\"#Hashes-and-equality\" data-toc-modified-id=\"Hashes-and-equality-22.3\"><span class=\"toc-item-num\">22.3&nbsp;&nbsp;</span>Hashes and equality</a></span></li><li><span><a href=\"#Steps-in-hash-table-lookup-algorithm\" data-toc-modified-id=\"Steps-in-hash-table-lookup-algorithm-22.4\"><span class=\"toc-item-num\">22.4&nbsp;&nbsp;</span>Steps in hash table lookup algorithm</a></span></li><li><span><a href=\"#Consequences-of-hash-table-implementation-in-dicts\" data-toc-modified-id=\"Consequences-of-hash-table-implementation-in-dicts-22.5\"><span class=\"toc-item-num\">22.5&nbsp;&nbsp;</span>Consequences of hash table implementation in dicts</a></span><ul class=\"toc-item\"><li><span><a href=\"#1.-dicts-have-significant-memory-overhead\" data-toc-modified-id=\"1.-dicts-have-significant-memory-overhead-22.5.1\"><span class=\"toc-item-num\">22.5.1&nbsp;&nbsp;</span>1. dicts have significant memory overhead</a></span></li><li><span><a href=\"#2.-Key-search-is-very-fast\" data-toc-modified-id=\"2.-Key-search-is-very-fast-22.5.2\"><span class=\"toc-item-num\">22.5.2&nbsp;&nbsp;</span>2. Key search is very fast</a></span></li><li><span><a href=\"#3.-Key-ordering-depends-on-insertion-order-but-dicts-with-same-data-compare-equal\" data-toc-modified-id=\"3.-Key-ordering-depends-on-insertion-order-but-dicts-with-same-data-compare-equal-22.5.3\"><span class=\"toc-item-num\">22.5.3&nbsp;&nbsp;</span>3. Key ordering depends on insertion order but dicts with same data compare equal</a></span></li><li><span><a href=\"#4.-Adding-items-to-a-dict-may-change-the-order-of-existing-keys\" data-toc-modified-id=\"4.-Adding-items-to-a-dict-may-change-the-order-of-existing-keys-22.5.4\"><span class=\"toc-item-num\">22.5.4&nbsp;&nbsp;</span>4. Adding items to a dict may change the order of existing keys</a></span></li></ul></li><li><span><a href=\"#Summary-of-how-hash-table-benefit-dict-and-set-and-frozenset\" data-toc-modified-id=\"Summary-of-how-hash-table-benefit-dict-and-set-and-frozenset-22.6\"><span class=\"toc-item-num\">22.6&nbsp;&nbsp;</span>Summary of how hash table benefit dict and set and frozenset</a></span></li><li><span><a href=\"#Converting-from-code-points-to-bytes-is-encoding;-converting-from-bytes-to-code-points-is-decoding.\" data-toc-modified-id=\"Converting-from-code-points-to-bytes-is-encoding;-converting-from-bytes-to-code-points-is-decoding.-22.7\"><span class=\"toc-item-num\">22.7&nbsp;&nbsp;</span>Converting from code points to bytes is encoding; converting from bytes to code points is decoding.</a></span></li><li><span><a href=\"#bytes-can-be-built-from-a-str,-give-an-encoding.-Each-item-in-a-bytes-sequence-is-an-integer-in-range(256).\" data-toc-modified-id=\"bytes-can-be-built-from-a-str,-give-an-encoding.-Each-item-in-a-bytes-sequence-is-an-integer-in-range(256).-22.8\"><span class=\"toc-item-num\">22.8&nbsp;&nbsp;</span>bytes can be built from a str, give an encoding. Each item in a bytes sequence is an integer in range(256).</a></span></li><li><span><a href=\"#A-slice-of-byte/bytearray-is-also-a-byte/bytearray.\" data-toc-modified-id=\"A-slice-of-byte/bytearray-is-also-a-byte/bytearray.-22.9\"><span class=\"toc-item-num\">22.9&nbsp;&nbsp;</span>A slice of byte/bytearray is also a byte/bytearray.</a></span></li><li><span><a href=\"#str-methods-on-bytes-and-bytearrays\" data-toc-modified-id=\"str-methods-on-bytes-and-bytearrays-22.10\"><span class=\"toc-item-num\">22.10&nbsp;&nbsp;</span>str methods on bytes and bytearrays</a></span></li></ul></li><li><span><a href=\"#Structs-and-Memory-Views\" data-toc-modified-id=\"Structs-and-Memory-Views-23\"><span class=\"toc-item-num\">23&nbsp;&nbsp;</span>Structs and Memory Views</a></span><ul class=\"toc-item\"><li><span><a href=\"#How-to-Discover-the-Encoding-of-a-Byte-Sequence\" data-toc-modified-id=\"How-to-Discover-the-Encoding-of-a-Byte-Sequence-23.1\"><span class=\"toc-item-num\">23.1&nbsp;&nbsp;</span>How to Discover the Encoding of a Byte Sequence</a></span></li><li><span><a href=\"#A-platform-encoding-issue-(following-code-breaks-on-windows)\" data-toc-modified-id=\"A-platform-encoding-issue-(following-code-breaks-on-windows)-23.2\"><span class=\"toc-item-num\">23.2&nbsp;&nbsp;</span>A platform encoding issue (following code breaks on windows)</a></span></li></ul></li><li><span><a href=\"#Unicode-Normalizations\" data-toc-modified-id=\"Unicode-Normalizations-24\"><span class=\"toc-item-num\">24&nbsp;&nbsp;</span>Unicode Normalizations</a></span><ul class=\"toc-item\"><li><span><a href=\"#Case-folding-for-case-insensitive-comparisons\" data-toc-modified-id=\"Case-folding-for-case-insensitive-comparisons-24.1\"><span class=\"toc-item-num\">24.1&nbsp;&nbsp;</span>Case folding for case insensitive comparisons</a></span></li><li><span><a href=\"#Taking-Out-Diacritics\" data-toc-modified-id=\"Taking-Out-Diacritics-24.2\"><span class=\"toc-item-num\">24.2&nbsp;&nbsp;</span>Taking Out Diacritics</a></span></li><li><span><a href=\"#Unicode-database\" data-toc-modified-id=\"Unicode-database-24.3\"><span class=\"toc-item-num\">24.3&nbsp;&nbsp;</span>Unicode database</a></span></li><li><span><a href=\"#str-Versus-bytes-in-Regular-Expressions\" data-toc-modified-id=\"str-Versus-bytes-in-Regular-Expressions-24.4\"><span class=\"toc-item-num\">24.4&nbsp;&nbsp;</span>str Versus bytes in Regular Expressions</a></span></li><li><span><a href=\"#Higher-Order-Functions\" data-toc-modified-id=\"Higher-Order-Functions-24.5\"><span class=\"toc-item-num\">24.5&nbsp;&nbsp;</span>Higher-Order Functions</a></span></li><li><span><a href=\"#Use-list-comps-instead-of-map-and-filter-functions\" data-toc-modified-id=\"Use-list-comps-instead-of-map-and-filter-functions-24.6\"><span class=\"toc-item-num\">24.6&nbsp;&nbsp;</span>Use list comps instead of map and filter functions</a></span></li><li><span><a href=\"#Use-sum-instead-of-reduce\" data-toc-modified-id=\"Use-sum-instead-of-reduce-24.7\"><span class=\"toc-item-num\">24.7&nbsp;&nbsp;</span>Use sum instead of reduce</a></span></li><li><span><a href=\"#Anonymous-Functions\" data-toc-modified-id=\"Anonymous-Functions-24.8\"><span class=\"toc-item-num\">24.8&nbsp;&nbsp;</span>Anonymous Functions</a></span></li><li><span><a href=\"#The-Seven-Flavors-of-Callable-Objects\" data-toc-modified-id=\"The-Seven-Flavors-of-Callable-Objects-24.9\"><span class=\"toc-item-num\">24.9&nbsp;&nbsp;</span>The Seven Flavors of Callable Objects</a></span></li><li><span><a href=\"#Callable-Types\" data-toc-modified-id=\"Callable-Types-24.10\"><span class=\"toc-item-num\">24.10&nbsp;&nbsp;</span>Callable Types</a></span></li><li><span><a href=\"#Function-Introspection\" data-toc-modified-id=\"Function-Introspection-24.11\"><span class=\"toc-item-num\">24.11&nbsp;&nbsp;</span>Function Introspection</a></span></li><li><span><a href=\"#parameter-handling\" data-toc-modified-id=\"parameter-handling-24.12\"><span class=\"toc-item-num\">24.12&nbsp;&nbsp;</span>parameter handling</a></span></li><li><span><a href=\"#keyword-only-arguments-defined-without-default-parameters\" data-toc-modified-id=\"keyword-only-arguments-defined-without-default-parameters-24.13\"><span class=\"toc-item-num\">24.13&nbsp;&nbsp;</span>keyword-only arguments defined without default parameters</a></span></li><li><span><a href=\"#function-introspection\" data-toc-modified-id=\"function-introspection-24.14\"><span class=\"toc-item-num\">24.14&nbsp;&nbsp;</span>function introspection</a></span><ul class=\"toc-item\"><li><span><a href=\"#function-argument-validation\" data-toc-modified-id=\"function-argument-validation-24.14.1\"><span class=\"toc-item-num\">24.14.1&nbsp;&nbsp;</span>function argument validation</a></span></li></ul></li></ul></li><li><span><a href=\"#Function-Annotations\" data-toc-modified-id=\"Function-Annotations-25\"><span class=\"toc-item-num\">25&nbsp;&nbsp;</span>Function Annotations</a></span></li><li><span><a href=\"#Packages-for-Functional-Programming\" data-toc-modified-id=\"Packages-for-Functional-Programming-26\"><span class=\"toc-item-num\">26&nbsp;&nbsp;</span>Packages for Functional Programming</a></span><ul class=\"toc-item\"><li><span><a href=\"#The-operator-Module\" data-toc-modified-id=\"The-operator-Module-26.1\"><span class=\"toc-item-num\">26.1&nbsp;&nbsp;</span>The operator Module</a></span></li><li><span><a href=\"#itemgetter\" data-toc-modified-id=\"itemgetter-26.2\"><span class=\"toc-item-num\">26.2&nbsp;&nbsp;</span>itemgetter</a></span></li><li><span><a href=\"#attrgetter\" data-toc-modified-id=\"attrgetter-26.3\"><span class=\"toc-item-num\">26.3&nbsp;&nbsp;</span>attrgetter</a></span></li><li><span><a href=\"#methodcaller\" data-toc-modified-id=\"methodcaller-26.4\"><span class=\"toc-item-num\">26.4&nbsp;&nbsp;</span>methodcaller</a></span></li><li><span><a href=\"#functools.partial\" data-toc-modified-id=\"functools.partial-26.5\"><span class=\"toc-item-num\">26.5&nbsp;&nbsp;</span>functools.partial</a></span></li><li><span><a href=\"#Implementation-of-Strategy-pattern-based-on-abstract-classes-and-polymorphism\" data-toc-modified-id=\"Implementation-of-Strategy-pattern-based-on-abstract-classes-and-polymorphism-26.6\"><span class=\"toc-item-num\">26.6&nbsp;&nbsp;</span>Implementation of Strategy pattern based on abstract classes and polymorphism</a></span></li><li><span><a href=\"#Strategies-pattern-implemented-as-functions-as-first-class-objects\" data-toc-modified-id=\"Strategies-pattern-implemented-as-functions-as-first-class-objects-26.7\"><span class=\"toc-item-num\">26.7&nbsp;&nbsp;</span>Strategies pattern implemented as functions as first class objects</a></span></li><li><span><a href=\"#Finding-Strategies-in-a-Module-using-inspect.getmembers\" data-toc-modified-id=\"Finding-Strategies-in-a-Module-using-inspect.getmembers-26.8\"><span class=\"toc-item-num\">26.8&nbsp;&nbsp;</span>Finding Strategies in a Module using inspect.getmembers</a></span></li><li><span><a href=\"#Implementation-of-Command-pattern-based-on-callable-objects\" data-toc-modified-id=\"Implementation-of-Command-pattern-based-on-callable-objects-26.9\"><span class=\"toc-item-num\">26.9&nbsp;&nbsp;</span>Implementation of Command pattern based on callable objects</a></span></li></ul></li><li><span><a href=\"#Decorator-Enhanced-Strategy-Pattern\" data-toc-modified-id=\"Decorator-Enhanced-Strategy-Pattern-27\"><span class=\"toc-item-num\">27&nbsp;&nbsp;</span>Decorator-Enhanced Strategy Pattern</a></span></li><li><span><a href=\"#Local-Variables-in-functions\" data-toc-modified-id=\"Local-Variables-in-functions-28\"><span class=\"toc-item-num\">28&nbsp;&nbsp;</span>Local Variables in functions</a></span></li><li><span><a href=\"#Closures\" data-toc-modified-id=\"Closures-29\"><span class=\"toc-item-num\">29&nbsp;&nbsp;</span>Closures</a></span></li><li><span><a href=\"#non-local-variables\" data-toc-modified-id=\"non-local-variables-30\"><span class=\"toc-item-num\">30&nbsp;&nbsp;</span>non-local variables</a></span><ul class=\"toc-item\"><li><span><a href=\"#keyword-argument-support-with-@functools.wraps\" data-toc-modified-id=\"keyword-argument-support-with-@functools.wraps-30.1\"><span class=\"toc-item-num\">30.1&nbsp;&nbsp;</span>keyword argument support with @functools.wraps</a></span></li><li><span><a href=\"#Memoization-with-functools.lru_cache()\" data-toc-modified-id=\"Memoization-with-functools.lru_cache()-30.2\"><span class=\"toc-item-num\">30.2&nbsp;&nbsp;</span>Memoization with functools.lru_cache()</a></span></li><li><span><a href=\"#Generic-Functions-using-functools.singledispatch()\" data-toc-modified-id=\"Generic-Functions-using-functools.singledispatch()-30.3\"><span class=\"toc-item-num\">30.3&nbsp;&nbsp;</span>Generic Functions using functools.singledispatch()</a></span></li></ul></li><li><span><a href=\"#Stacked-Decorators\" data-toc-modified-id=\"Stacked-Decorators-31\"><span class=\"toc-item-num\">31&nbsp;&nbsp;</span>Stacked Decorators</a></span></li><li><span><a href=\"#Parameterized-Decorators\" data-toc-modified-id=\"Parameterized-Decorators-32\"><span class=\"toc-item-num\">32&nbsp;&nbsp;</span>Parameterized Decorators</a></span><ul class=\"toc-item\"><li><span><a href=\"#The-Parameterized-Clock-Decorator\" data-toc-modified-id=\"The-Parameterized-Clock-Decorator-32.1\"><span class=\"toc-item-num\">32.1&nbsp;&nbsp;</span>The Parameterized Clock Decorator</a></span></li></ul></li><li><span><a href=\"#Aliasing\" data-toc-modified-id=\"Aliasing-33\"><span class=\"toc-item-num\">33&nbsp;&nbsp;</span>Aliasing</a></span></li><li><span><a href=\"#Equality-and-equavalence(identity)\" data-toc-modified-id=\"Equality-and-equavalence(identity)-34\"><span class=\"toc-item-num\">34&nbsp;&nbsp;</span>Equality and equavalence(identity)</a></span></li><li><span><a href=\"#Copies-Are-Shallow-by-Default\" data-toc-modified-id=\"Copies-Are-Shallow-by-Default-35\"><span class=\"toc-item-num\">35&nbsp;&nbsp;</span>Copies Are Shallow by Default</a></span><ul class=\"toc-item\"><li><span><a href=\"#Cyclic-references\" data-toc-modified-id=\"Cyclic-references-35.1\"><span class=\"toc-item-num\">35.1&nbsp;&nbsp;</span>Cyclic references</a></span></li></ul></li><li><span><a href=\"#Function-parameter-passing\" data-toc-modified-id=\"Function-parameter-passing-36\"><span class=\"toc-item-num\">36&nbsp;&nbsp;</span>Function parameter passing</a></span></li><li><span><a href=\"#Mutable-Types-as-Parameter-Defaults:-Bad-Idea\" data-toc-modified-id=\"Mutable-Types-as-Parameter-Defaults:-Bad-Idea-37\"><span class=\"toc-item-num\">37&nbsp;&nbsp;</span>Mutable Types as Parameter Defaults: Bad Idea</a></span></li><li><span><a href=\"#Reference-counting-garbage-collection\" data-toc-modified-id=\"Reference-counting-garbage-collection-38\"><span class=\"toc-item-num\">38&nbsp;&nbsp;</span>Reference counting garbage collection</a></span></li><li><span><a href=\"#weak-references\" data-toc-modified-id=\"weak-references-39\"><span class=\"toc-item-num\">39&nbsp;&nbsp;</span>weak references</a></span></li><li><span><a href=\"#WeakValueDictionary.\" data-toc-modified-id=\"WeakValueDictionary.-40\"><span class=\"toc-item-num\">40&nbsp;&nbsp;</span>WeakValueDictionary.</a></span></li><li><span><a href=\"#Quirkiness-of-Python-Immutables\" data-toc-modified-id=\"Quirkiness-of-Python-Immutables-41\"><span class=\"toc-item-num\">41&nbsp;&nbsp;</span>Quirkiness of Python Immutables</a></span><ul class=\"toc-item\"><li><span><a href=\"#Sharing-of-string-literals-(interning)\" data-toc-modified-id=\"Sharing-of-string-literals-(interning)-41.1\"><span class=\"toc-item-num\">41.1&nbsp;&nbsp;</span>Sharing of string literals (interning)</a></span></li></ul></li><li><span><a href=\"#@classmethod-vs-@staticmethod\" data-toc-modified-id=\"@classmethod-vs-@staticmethod-42\"><span class=\"toc-item-num\">42&nbsp;&nbsp;</span><code>@classmethod</code> vs <code>@staticmethod</code></a></span></li><li><span><a href=\"#Hashable-objects\" data-toc-modified-id=\"Hashable-objects-43\"><span class=\"toc-item-num\">43&nbsp;&nbsp;</span>Hashable objects</a></span></li><li><span><a href=\"#Private-and-protected-attributes\" data-toc-modified-id=\"Private-and-protected-attributes-44\"><span class=\"toc-item-num\">44&nbsp;&nbsp;</span>Private and protected attributes</a></span><ul class=\"toc-item\"><li><span><a href=\"#Name-mangling\" data-toc-modified-id=\"Name-mangling-44.1\"><span class=\"toc-item-num\">44.1&nbsp;&nbsp;</span>Name mangling</a></span></li><li><span><a href=\"#Protected-attributes\" data-toc-modified-id=\"Protected-attributes-44.2\"><span class=\"toc-item-num\">44.2&nbsp;&nbsp;</span>Protected attributes</a></span></li></ul></li><li><span><a href=\"#The-__slots__-class-attribute\" data-toc-modified-id=\"The-__slots__-class-attribute-45\"><span class=\"toc-item-num\">45&nbsp;&nbsp;</span>The <code>__slots__</code> class attribute</a></span><ul class=\"toc-item\"><li><span><a href=\"#things-to-remember-when-using-__slots__\" data-toc-modified-id=\"things-to-remember-when-using-__slots__-45.1\"><span class=\"toc-item-num\">45.1&nbsp;&nbsp;</span>things to remember when using <code>__slots__</code></a></span></li></ul></li><li><span><a href=\"#Overriding-Class-Attributes\" data-toc-modified-id=\"Overriding-Class-Attributes-46\"><span class=\"toc-item-num\">46&nbsp;&nbsp;</span>Overriding Class Attributes</a></span></li></ul></div>"
   ]
  },
  {
   "cell_type": "code",
   "execution_count": null,
   "metadata": {},
   "outputs": [],
   "source": []
  },
  {
   "cell_type": "markdown",
   "metadata": {},
   "source": [
    "# Chapter 1. The Python Data Model"
   ]
  },
  {
   "cell_type": "markdown",
   "metadata": {},
   "source": [
    "## A deck as a sequence of cards"
   ]
  },
  {
   "cell_type": "markdown",
   "metadata": {},
   "source": [
    "### `demonstrates the power of just two special methods __getitem__ and __len__ to implement iteration and slicing`"
   ]
  },
  {
   "cell_type": "code",
   "execution_count": 1,
   "metadata": {},
   "outputs": [],
   "source": [
    "import collections\n",
    "\n",
    "Card = collections.namedtuple('Card', ['rank', 'suit'])\n",
    "\n",
    "class FrenchDeck:\n",
    "    ranks = [str(n) for n in range(2, 11)] + list('JQKA')\n",
    "    suits = 'spades diamonds clubs hearts'.split()\n",
    "\n",
    "    def __init__(self):\n",
    "        self._cards = [Card(rank, suit) for suit in self.suits\n",
    "                                        for rank in self.ranks]\n",
    "\n",
    "    def __len__(self):\n",
    "        return len(self._cards)\n",
    "\n",
    "    def __getitem__(self, position):\n",
    "        return self._cards[position]\n"
   ]
  },
  {
   "cell_type": "code",
   "execution_count": 2,
   "metadata": {},
   "outputs": [
    {
     "data": {
      "text/plain": [
       "52"
      ]
     },
     "execution_count": 2,
     "metadata": {},
     "output_type": "execute_result"
    }
   ],
   "source": [
    "deck = FrenchDeck()\n",
    "len(deck)"
   ]
  },
  {
   "cell_type": "code",
   "execution_count": 3,
   "metadata": {},
   "outputs": [
    {
     "data": {
      "text/plain": [
       "[Card(rank='2', suit='spades'),\n",
       " Card(rank='3', suit='spades'),\n",
       " Card(rank='4', suit='spades'),\n",
       " Card(rank='5', suit='spades'),\n",
       " Card(rank='6', suit='spades'),\n",
       " Card(rank='7', suit='spades'),\n",
       " Card(rank='8', suit='spades'),\n",
       " Card(rank='9', suit='spades'),\n",
       " Card(rank='10', suit='spades'),\n",
       " Card(rank='J', suit='spades'),\n",
       " Card(rank='Q', suit='spades'),\n",
       " Card(rank='K', suit='spades'),\n",
       " Card(rank='A', suit='spades'),\n",
       " Card(rank='2', suit='diamonds'),\n",
       " Card(rank='3', suit='diamonds'),\n",
       " Card(rank='4', suit='diamonds'),\n",
       " Card(rank='5', suit='diamonds'),\n",
       " Card(rank='6', suit='diamonds'),\n",
       " Card(rank='7', suit='diamonds'),\n",
       " Card(rank='8', suit='diamonds'),\n",
       " Card(rank='9', suit='diamonds'),\n",
       " Card(rank='10', suit='diamonds'),\n",
       " Card(rank='J', suit='diamonds'),\n",
       " Card(rank='Q', suit='diamonds'),\n",
       " Card(rank='K', suit='diamonds'),\n",
       " Card(rank='A', suit='diamonds'),\n",
       " Card(rank='2', suit='clubs'),\n",
       " Card(rank='3', suit='clubs'),\n",
       " Card(rank='4', suit='clubs'),\n",
       " Card(rank='5', suit='clubs'),\n",
       " Card(rank='6', suit='clubs'),\n",
       " Card(rank='7', suit='clubs'),\n",
       " Card(rank='8', suit='clubs'),\n",
       " Card(rank='9', suit='clubs'),\n",
       " Card(rank='10', suit='clubs'),\n",
       " Card(rank='J', suit='clubs'),\n",
       " Card(rank='Q', suit='clubs'),\n",
       " Card(rank='K', suit='clubs'),\n",
       " Card(rank='A', suit='clubs'),\n",
       " Card(rank='2', suit='hearts'),\n",
       " Card(rank='3', suit='hearts'),\n",
       " Card(rank='4', suit='hearts'),\n",
       " Card(rank='5', suit='hearts'),\n",
       " Card(rank='6', suit='hearts'),\n",
       " Card(rank='7', suit='hearts'),\n",
       " Card(rank='8', suit='hearts'),\n",
       " Card(rank='9', suit='hearts'),\n",
       " Card(rank='10', suit='hearts'),\n",
       " Card(rank='J', suit='hearts'),\n",
       " Card(rank='Q', suit='hearts'),\n",
       " Card(rank='K', suit='hearts'),\n",
       " Card(rank='A', suit='hearts')]"
      ]
     },
     "execution_count": 3,
     "metadata": {},
     "output_type": "execute_result"
    }
   ],
   "source": [
    "deck[:]"
   ]
  },
  {
   "cell_type": "code",
   "execution_count": 4,
   "metadata": {},
   "outputs": [
    {
     "data": {
      "text/plain": [
       "Card(rank='2', suit='spades')"
      ]
     },
     "execution_count": 4,
     "metadata": {},
     "output_type": "execute_result"
    }
   ],
   "source": [
    "deck[0]"
   ]
  },
  {
   "cell_type": "code",
   "execution_count": 5,
   "metadata": {},
   "outputs": [
    {
     "data": {
      "text/plain": [
       "Card(rank='A', suit='diamonds')"
      ]
     },
     "execution_count": 5,
     "metadata": {},
     "output_type": "execute_result"
    }
   ],
   "source": [
    "from random import choice\n",
    "choice(deck)"
   ]
  },
  {
   "cell_type": "code",
   "execution_count": 6,
   "metadata": {},
   "outputs": [
    {
     "data": {
      "text/plain": [
       "[Card(rank='2', suit='spades'),\n",
       " Card(rank='3', suit='spades'),\n",
       " Card(rank='4', suit='spades')]"
      ]
     },
     "execution_count": 6,
     "metadata": {},
     "output_type": "execute_result"
    }
   ],
   "source": [
    "deck[:3] # __getitem__ support slicing"
   ]
  },
  {
   "cell_type": "code",
   "execution_count": 7,
   "metadata": {},
   "outputs": [
    {
     "name": "stdout",
     "output_type": "stream",
     "text": [
      "Card(rank='2', suit='spades')\n",
      "Card(rank='3', suit='spades')\n",
      "Card(rank='4', suit='spades')\n"
     ]
    }
   ],
   "source": [
    "for card in deck[:3]:  # __getitem__ support iteration\n",
    "    print(card)"
   ]
  },
  {
   "cell_type": "code",
   "execution_count": 8,
   "metadata": {},
   "outputs": [
    {
     "name": "stdout",
     "output_type": "stream",
     "text": [
      "Card(rank='4', suit='spades')\n",
      "Card(rank='3', suit='spades')\n",
      "Card(rank='2', suit='spades')\n"
     ]
    }
   ],
   "source": [
    "for card in reversed(deck[:3]):  # __getitem__ support iteration\n",
    "    print(card)"
   ]
  },
  {
   "cell_type": "code",
   "execution_count": 9,
   "metadata": {},
   "outputs": [
    {
     "data": {
      "text/plain": [
       "True"
      ]
     },
     "execution_count": 9,
     "metadata": {},
     "output_type": "execute_result"
    }
   ],
   "source": [
    "Card('Q', 'hearts') in deck # __getitem__ supports sequential scan \n",
    "                            # in lieu of __contains__ method\n"
   ]
  },
  {
   "cell_type": "markdown",
   "metadata": {},
   "source": [
    "## Sorting named tuple by multiple fields"
   ]
  },
  {
   "cell_type": "code",
   "execution_count": 10,
   "metadata": {},
   "outputs": [],
   "source": [
    "suit_values = dict(spades=3, hearts=2, diamonds=1, clubs=0)\n",
    "\n",
    "def spades_high(card):\n",
    "    rank_value = FrenchDeck.ranks.index(card.rank)\n",
    "    return rank_value * len(suit_values) + suit_values[card.suit]\n"
   ]
  },
  {
   "cell_type": "code",
   "execution_count": 11,
   "metadata": {},
   "outputs": [
    {
     "data": {
      "text/plain": [
       "11"
      ]
     },
     "execution_count": 11,
     "metadata": {},
     "output_type": "execute_result"
    }
   ],
   "source": [
    "FrenchDeck.ranks.index(choice(deck).rank)"
   ]
  },
  {
   "cell_type": "code",
   "execution_count": 12,
   "metadata": {},
   "outputs": [
    {
     "data": {
      "text/plain": [
       "['2', '3', '4', '5', '6', '7', '8', '9', '10', 'J', 'Q', 'K', 'A']"
      ]
     },
     "execution_count": 12,
     "metadata": {},
     "output_type": "execute_result"
    }
   ],
   "source": [
    "c=Card(rank='Q', suit='diamonds')\n",
    "FrenchDeck.ranks"
   ]
  },
  {
   "cell_type": "code",
   "execution_count": 13,
   "metadata": {},
   "outputs": [
    {
     "name": "stdout",
     "output_type": "stream",
     "text": [
      "Card(rank='2', suit='clubs')\n",
      "Card(rank='2', suit='diamonds')\n",
      "Card(rank='2', suit='hearts')\n",
      "Card(rank='2', suit='spades')\n",
      "Card(rank='3', suit='clubs')\n",
      "Card(rank='3', suit='diamonds')\n",
      "Card(rank='3', suit='hearts')\n",
      "Card(rank='3', suit='spades')\n",
      "Card(rank='4', suit='clubs')\n",
      "Card(rank='4', suit='diamonds')\n",
      "Card(rank='4', suit='hearts')\n",
      "Card(rank='4', suit='spades')\n",
      "Card(rank='5', suit='clubs')\n",
      "Card(rank='5', suit='diamonds')\n",
      "Card(rank='5', suit='hearts')\n",
      "Card(rank='5', suit='spades')\n",
      "Card(rank='6', suit='clubs')\n",
      "Card(rank='6', suit='diamonds')\n",
      "Card(rank='6', suit='hearts')\n",
      "Card(rank='6', suit='spades')\n",
      "Card(rank='7', suit='clubs')\n",
      "Card(rank='7', suit='diamonds')\n",
      "Card(rank='7', suit='hearts')\n",
      "Card(rank='7', suit='spades')\n",
      "Card(rank='8', suit='clubs')\n",
      "Card(rank='8', suit='diamonds')\n",
      "Card(rank='8', suit='hearts')\n",
      "Card(rank='8', suit='spades')\n",
      "Card(rank='9', suit='clubs')\n",
      "Card(rank='9', suit='diamonds')\n",
      "Card(rank='9', suit='hearts')\n",
      "Card(rank='9', suit='spades')\n",
      "Card(rank='10', suit='clubs')\n",
      "Card(rank='10', suit='diamonds')\n",
      "Card(rank='10', suit='hearts')\n",
      "Card(rank='10', suit='spades')\n",
      "Card(rank='J', suit='clubs')\n",
      "Card(rank='J', suit='diamonds')\n",
      "Card(rank='J', suit='hearts')\n",
      "Card(rank='J', suit='spades')\n",
      "Card(rank='Q', suit='clubs')\n",
      "Card(rank='Q', suit='diamonds')\n",
      "Card(rank='Q', suit='hearts')\n",
      "Card(rank='Q', suit='spades')\n",
      "Card(rank='K', suit='clubs')\n",
      "Card(rank='K', suit='diamonds')\n",
      "Card(rank='K', suit='hearts')\n",
      "Card(rank='K', suit='spades')\n",
      "Card(rank='A', suit='clubs')\n",
      "Card(rank='A', suit='diamonds')\n",
      "Card(rank='A', suit='hearts')\n",
      "Card(rank='A', suit='spades')\n"
     ]
    }
   ],
   "source": [
    "for card in sorted(deck, key=spades_high):  # doctest: +ELLIPSIS\n",
    "    print(card)"
   ]
  },
  {
   "cell_type": "markdown",
   "metadata": {},
   "source": [
    "## Emulating numeric types"
   ]
  },
  {
   "cell_type": "markdown",
   "metadata": {},
   "source": [
    "## 2-Dimensional vectors"
   ]
  },
  {
   "cell_type": "markdown",
   "metadata": {},
   "source": [
    "### `Vector class implementing addition, scalar multiplication and calculate magnitude through the use of the special methods __repr__, __abs__, __add__ and __mul__`\n",
    "\n"
   ]
  },
  {
   "cell_type": "code",
   "execution_count": 14,
   "metadata": {},
   "outputs": [],
   "source": [
    "from math import hypot\n",
    "\n",
    "class Vector:\n",
    "\n",
    "    def __init__(self, x=0, y=0):\n",
    "        self.x = x\n",
    "        self.y = y\n",
    "\n",
    "    def __repr__(self): # should match the source code necessary \n",
    "                        # to re-create the object being represented\n",
    "\n",
    "        return 'Vector(%r, %r)' % (self.x, self.y)\n",
    "\n",
    "    def __abs__(self):\n",
    "        return hypot(self.x, self.y)\n",
    "\n",
    "    def __bool__(self): # returns False if the magnitude of the \n",
    "                        # vector is zero\n",
    "\n",
    "        return bool(abs(self))\n",
    "\n",
    "    def __add__(self, other): # infix operator doesn't modify operands\n",
    "        x = self.x + other.x\n",
    "        y = self.y + other.y\n",
    "        return Vector(x, y)\n",
    "\n",
    "    def __mul__(self, scalar): # infix operator doesn't modify operands\n",
    "        return Vector(self.x * scalar, self.y * scalar)\n"
   ]
  },
  {
   "cell_type": "code",
   "execution_count": 15,
   "metadata": {},
   "outputs": [
    {
     "data": {
      "text/plain": [
       "Vector(4, 6.6)"
      ]
     },
     "execution_count": 15,
     "metadata": {},
     "output_type": "execute_result"
    }
   ],
   "source": [
    "v1 = Vector(2, 5.5)\n",
    "v2 = Vector(2, 1.1)\n",
    "v1 + v2"
   ]
  },
  {
   "cell_type": "code",
   "execution_count": 16,
   "metadata": {},
   "outputs": [
    {
     "data": {
      "text/plain": [
       "5.0"
      ]
     },
     "execution_count": 16,
     "metadata": {},
     "output_type": "execute_result"
    }
   ],
   "source": [
    "v = Vector(3,4)\n",
    "abs(v)"
   ]
  },
  {
   "cell_type": "code",
   "execution_count": 17,
   "metadata": {},
   "outputs": [
    {
     "data": {
      "text/plain": [
       "Vector(9, 12)"
      ]
     },
     "execution_count": 17,
     "metadata": {},
     "output_type": "execute_result"
    }
   ],
   "source": [
    "v * 3"
   ]
  },
  {
   "cell_type": "markdown",
   "metadata": {},
   "source": [
    "# Chapter 2. An Array of Sequences"
   ]
  },
  {
   "cell_type": "markdown",
   "metadata": {},
   "source": [
    "## Built-in sequence types"
   ]
  },
  {
   "cell_type": "markdown",
   "metadata": {},
   "source": [
    "### Container sequences\n",
    "can hold items of different types.\n",
    "* list\n",
    "* tuple\n",
    "* collections.deque "
   ]
  },
  {
   "cell_type": "markdown",
   "metadata": {},
   "source": [
    "### Flat sequences\n",
    "hold items of one type\n",
    "* str\n",
    "* bytes \n",
    "* bytearray\n",
    "* memoryview\n",
    "* array.array"
   ]
  },
  {
   "cell_type": "markdown",
   "metadata": {},
   "source": [
    "### Mutable sequences\n",
    "* list \n",
    "* bytearray \n",
    "* array.array\n",
    "* collections.deque\n",
    "* memoryview\n"
   ]
  },
  {
   "cell_type": "markdown",
   "metadata": {},
   "source": [
    "### Immutable sequences\n",
    "* tuple\n",
    "* str\n",
    "* bytes\n"
   ]
  },
  {
   "cell_type": "markdown",
   "metadata": {},
   "source": [
    "### Built-in concrete sequence types subclass the Sequence and MutableSequence abstract base classes (ABCs)"
   ]
  },
  {
   "cell_type": "code",
   "execution_count": 18,
   "metadata": {},
   "outputs": [
    {
     "ename": "NameError",
     "evalue": "name 'l' is not defined",
     "output_type": "error",
     "traceback": [
      "\u001b[0;31m---------------------------------------------------------------------------\u001b[0m",
      "\u001b[0;31mNameError\u001b[0m                                 Traceback (most recent call last)",
      "\u001b[0;32m<ipython-input-18-fece44e08d8e>\u001b[0m in \u001b[0;36m<module>\u001b[0;34m\u001b[0m\n\u001b[1;32m      1\u001b[0m \u001b[0;32mimport\u001b[0m \u001b[0mcollections\u001b[0m\u001b[0;34m.\u001b[0m\u001b[0mabc\u001b[0m\u001b[0;34m\u001b[0m\u001b[0;34m\u001b[0m\u001b[0m\n\u001b[1;32m      2\u001b[0m \u001b[0mlist\u001b[0m \u001b[0;34m=\u001b[0m \u001b[0;34m[\u001b[0m\u001b[0;34m]\u001b[0m\u001b[0;34m\u001b[0m\u001b[0;34m\u001b[0m\u001b[0m\n\u001b[0;32m----> 3\u001b[0;31m \u001b[0misinstance\u001b[0m\u001b[0;34m(\u001b[0m\u001b[0ml\u001b[0m\u001b[0;34m,\u001b[0m \u001b[0mcollections\u001b[0m\u001b[0;34m.\u001b[0m\u001b[0mSequence\u001b[0m\u001b[0;34m)\u001b[0m\u001b[0;34m\u001b[0m\u001b[0;34m\u001b[0m\u001b[0m\n\u001b[0m",
      "\u001b[0;31mNameError\u001b[0m: name 'l' is not defined"
     ]
    }
   ],
   "source": [
    "import collections.abc\n",
    "list = []\n",
    "isinstance(l, collections.Sequence)"
   ]
  },
  {
   "cell_type": "code",
   "execution_count": null,
   "metadata": {},
   "outputs": [],
   "source": [
    "isinstance(l, collections.MutableSequence)"
   ]
  },
  {
   "cell_type": "markdown",
   "metadata": {},
   "source": [
    "## Cartesian product using a list comprehension\n"
   ]
  },
  {
   "cell_type": "code",
   "execution_count": null,
   "metadata": {},
   "outputs": [],
   "source": [
    "colors = ['black', 'white']\n",
    "sizes = ['S', 'M', 'L']"
   ]
  },
  {
   "cell_type": "code",
   "execution_count": null,
   "metadata": {},
   "outputs": [],
   "source": [
    "for color in colors:  \n",
    "    for size in sizes:\n",
    "        print((color, size))"
   ]
  },
  {
   "cell_type": "code",
   "execution_count": null,
   "metadata": {},
   "outputs": [],
   "source": [
    "[(color, size) for color in colors      # order by color\n",
    "               for size in sizes]"
   ]
  },
  {
   "cell_type": "code",
   "execution_count": null,
   "metadata": {},
   "outputs": [],
   "source": [
    "[(color, size) for size in sizes     # order by size\n",
    "               for color in colors]"
   ]
  },
  {
   "cell_type": "markdown",
   "metadata": {},
   "source": [
    "### Generator expressions yields items one by one\n",
    "\n",
    "\n"
   ]
  },
  {
   "cell_type": "code",
   "execution_count": null,
   "metadata": {},
   "outputs": [],
   "source": [
    "# a list with all six T-shirt variations is never produced\n",
    "\n",
    "colors = ['black', 'white']\n",
    "sizes = ['S', 'M', 'L']\n",
    "\n",
    "for tshirt in ('%s %s' % (c, s) for c in colors for s in sizes):  \n",
    "    print(tshirt)"
   ]
  },
  {
   "cell_type": "markdown",
   "metadata": {},
   "source": [
    "### tuple unpacking"
   ]
  },
  {
   "cell_type": "code",
   "execution_count": null,
   "metadata": {},
   "outputs": [],
   "source": [
    "lax_coordinates = (33.9425, -118.408056) \n",
    "latitude, longitude = lax_coordinates \n",
    "print(latitude)\n",
    "print(longitude)"
   ]
  },
  {
   "cell_type": "markdown",
   "metadata": {},
   "source": [
    "### printing tuples using tuple unpacking\n"
   ]
  },
  {
   "cell_type": "code",
   "execution_count": null,
   "metadata": {},
   "outputs": [],
   "source": [
    "print('%s/%s' % p) # The % formatting operator understands \n",
    "                  #  tuples and treats each item as a separate field\n"
   ]
  },
  {
   "cell_type": "markdown",
   "metadata": {},
   "source": [
    "### swapping values using tuple unpacking"
   ]
  },
  {
   "cell_type": "code",
   "execution_count": null,
   "metadata": {},
   "outputs": [],
   "source": [
    "a=1;b=2\n",
    "b, a = a, b\n",
    "print(a,b)"
   ]
  },
  {
   "cell_type": "markdown",
   "metadata": {},
   "source": [
    "### tuple unpacking using *"
   ]
  },
  {
   "cell_type": "code",
   "execution_count": null,
   "metadata": {},
   "outputs": [],
   "source": [
    "print(divmod(20, 8))\n",
    "\n",
    "t = (20, 8)\n",
    "divmod(*t)"
   ]
  },
  {
   "cell_type": "code",
   "execution_count": null,
   "metadata": {},
   "outputs": [],
   "source": [
    "a, b, *rest = range(5)\n",
    "a, b, rest"
   ]
  },
  {
   "cell_type": "code",
   "execution_count": null,
   "metadata": {},
   "outputs": [],
   "source": [
    "a, *body, c, d = range(5)\n",
    "a, body, c, d"
   ]
  },
  {
   "cell_type": "markdown",
   "metadata": {},
   "source": [
    "## Named Tuples"
   ]
  },
  {
   "cell_type": "code",
   "execution_count": null,
   "metadata": {},
   "outputs": [],
   "source": [
    "from collections import namedtuple\n",
    "City = namedtuple('City', 'name country population coordinates')  \n",
    "tokyo = City('Tokyo', 'JP', 36.933, (35.689722, 139.691667))  \n"
   ]
  },
  {
   "cell_type": "code",
   "execution_count": null,
   "metadata": {},
   "outputs": [],
   "source": [
    "tokyo\n"
   ]
  },
  {
   "cell_type": "code",
   "execution_count": null,
   "metadata": {},
   "outputs": [],
   "source": [
    "tokyo.population  "
   ]
  },
  {
   "cell_type": "code",
   "execution_count": null,
   "metadata": {},
   "outputs": [],
   "source": [
    "tokyo.coordinates"
   ]
  },
  {
   "cell_type": "code",
   "execution_count": null,
   "metadata": {},
   "outputs": [],
   "source": [
    "tokyo[1]"
   ]
  },
  {
   "cell_type": "markdown",
   "metadata": {},
   "source": [
    "### Named tuple attributes and methods"
   ]
  },
  {
   "cell_type": "code",
   "execution_count": null,
   "metadata": {},
   "outputs": [],
   "source": [
    "City._fields"
   ]
  },
  {
   "cell_type": "code",
   "execution_count": null,
   "metadata": {},
   "outputs": [],
   "source": [
    "tokyo._asdict()  "
   ]
  },
  {
   "cell_type": "markdown",
   "metadata": {},
   "source": [
    "## Named slicing"
   ]
  },
  {
   "cell_type": "code",
   "execution_count": null,
   "metadata": {},
   "outputs": [],
   "source": [
    "invoice = \"\"\"\n",
    "0.....6.................................40........52...55........\n",
    "1909  Pimoroni PiBrella                     $17.50    3    $52.50\n",
    "1489  6mm Tactile Switch x20                 $4.95    2     $9.90\n",
    "1510  Panavise Jr. - PV-201                 $28.00    1    $28.00\n",
    "1601  PiTFT Mini Kit 320x240                $34.95    1    $34.95\n",
    "\"\"\"\n",
    "SKU = slice(0, 6)\n",
    "DESCRIPTION = slice(6, 40)\n",
    "UNIT_PRICE = slice(40, 52)\n",
    "QUANTITY =  slice(52, 55)\n",
    "ITEM_TOTAL = slice(55, None)\n",
    "line_items = invoice.split('\\n')[2:]\n",
    "for item in line_items:\n",
    "    print(item[UNIT_PRICE], item[DESCRIPTION])\n"
   ]
  },
  {
   "cell_type": "markdown",
   "metadata": {},
   "source": [
    "### Assigning to slices"
   ]
  },
  {
   "cell_type": "code",
   "execution_count": 19,
   "metadata": {},
   "outputs": [
    {
     "ename": "TypeError",
     "evalue": "'list' object is not callable",
     "output_type": "error",
     "traceback": [
      "\u001b[0;31m---------------------------------------------------------------------------\u001b[0m",
      "\u001b[0;31mTypeError\u001b[0m                                 Traceback (most recent call last)",
      "\u001b[0;32m<ipython-input-19-cf667b46664c>\u001b[0m in \u001b[0;36m<module>\u001b[0;34m\u001b[0m\n\u001b[0;32m----> 1\u001b[0;31m \u001b[0ml\u001b[0m \u001b[0;34m=\u001b[0m \u001b[0mlist\u001b[0m\u001b[0;34m(\u001b[0m\u001b[0mrange\u001b[0m\u001b[0;34m(\u001b[0m\u001b[0;36m10\u001b[0m\u001b[0;34m)\u001b[0m\u001b[0;34m)\u001b[0m\u001b[0;34m\u001b[0m\u001b[0;34m\u001b[0m\u001b[0m\n\u001b[0m\u001b[1;32m      2\u001b[0m \u001b[0ml\u001b[0m\u001b[0;34m[\u001b[0m\u001b[0;36m2\u001b[0m\u001b[0;34m:\u001b[0m\u001b[0;36m4\u001b[0m\u001b[0;34m]\u001b[0m \u001b[0;34m=\u001b[0m \u001b[0;34m[\u001b[0m\u001b[0;36m20\u001b[0m\u001b[0;34m,\u001b[0m \u001b[0;36m30\u001b[0m\u001b[0;34m]\u001b[0m\u001b[0;34m\u001b[0m\u001b[0;34m\u001b[0m\u001b[0m\n\u001b[1;32m      3\u001b[0m \u001b[0ml\u001b[0m\u001b[0;34m\u001b[0m\u001b[0;34m\u001b[0m\u001b[0m\n",
      "\u001b[0;31mTypeError\u001b[0m: 'list' object is not callable"
     ]
    }
   ],
   "source": [
    "l = list(range(10))\n",
    "l[2:4] = [20, 30]\n",
    "l"
   ]
  },
  {
   "cell_type": "code",
   "execution_count": null,
   "metadata": {},
   "outputs": [],
   "source": [
    "del  l[5:7]\n",
    "l"
   ]
  },
  {
   "cell_type": "code",
   "execution_count": null,
   "metadata": {},
   "outputs": [],
   "source": [
    "l[3::2] = [33,77,99]\n",
    "l"
   ]
  },
  {
   "cell_type": "code",
   "execution_count": null,
   "metadata": {},
   "outputs": [],
   "source": [
    "l[2:5] = [999]\n",
    "l"
   ]
  },
  {
   "cell_type": "markdown",
   "metadata": {},
   "source": [
    "### Avoid assigning to duplicate references"
   ]
  },
  {
   "cell_type": "code",
   "execution_count": null,
   "metadata": {},
   "outputs": [],
   "source": [
    "weird_board = [['_'] * 3] * 3\n",
    "weird_board[1][0] = 'X' \n",
    "weird_board"
   ]
  },
  {
   "cell_type": "code",
   "execution_count": null,
   "metadata": {},
   "outputs": [],
   "source": [
    "ok_board = [['_'] * 3 for _ in range(3)] \n",
    "ok_board[1][0] = 'X'\n",
    "ok_board"
   ]
  },
  {
   "cell_type": "markdown",
   "metadata": {},
   "source": [
    "### `in-place addition and multiplication of (mutable) sequences (requires __iadd__ or __imul__ is implemented)`"
   ]
  },
  {
   "cell_type": "code",
   "execution_count": null,
   "metadata": {},
   "outputs": [],
   "source": [
    "l = [1, 2, 3]\n",
    "id(l)"
   ]
  },
  {
   "cell_type": "code",
   "execution_count": null,
   "metadata": {},
   "outputs": [],
   "source": [
    "l *= 2\n",
    "l"
   ]
  },
  {
   "cell_type": "code",
   "execution_count": null,
   "metadata": {},
   "outputs": [],
   "source": [
    "id(l)"
   ]
  },
  {
   "cell_type": "code",
   "execution_count": null,
   "metadata": {},
   "outputs": [],
   "source": [
    "t = (1, 2, 3)\n",
    "id(t)"
   ]
  },
  {
   "cell_type": "code",
   "execution_count": null,
   "metadata": {},
   "outputs": [],
   "source": [
    "t *= 2\n",
    "id(t)"
   ]
  },
  {
   "cell_type": "markdown",
   "metadata": {},
   "source": [
    "## in-place and out-of-place sorting of sequences"
   ]
  },
  {
   "cell_type": "markdown",
   "metadata": {},
   "source": [
    "### out-of-place sorting with sorted()"
   ]
  },
  {
   "cell_type": "code",
   "execution_count": null,
   "metadata": {},
   "outputs": [],
   "source": [
    "fruits = ['grape', 'raspberry', 'apple', 'banana']\n",
    "sorted(fruits)"
   ]
  },
  {
   "cell_type": "code",
   "execution_count": null,
   "metadata": {},
   "outputs": [],
   "source": [
    "fruits"
   ]
  },
  {
   "cell_type": "markdown",
   "metadata": {},
   "source": [
    "### in-place sorting with list.sort()\n"
   ]
  },
  {
   "cell_type": "code",
   "execution_count": null,
   "metadata": {},
   "outputs": [],
   "source": [
    "list.sort(fruits)\n",
    "fruits"
   ]
  },
  {
   "cell_type": "markdown",
   "metadata": {},
   "source": [
    "## binary search and insertion"
   ]
  },
  {
   "cell_type": "code",
   "execution_count": null,
   "metadata": {},
   "outputs": [],
   "source": [
    "import bisect\n",
    "import sys\n",
    "\n",
    "HAYSTACK = [1, 4, 5, 6, 8, 12, 15, 20, 21, 23, 23, 26, 29, 30]\n",
    "NEEDLES = [0, 1, 2, 5, 8, 10, 22, 23, 29, 30, 31]\n",
    "\n",
    "ROW_FMT = '{0:2d} @ {1:2d}    {2}{0:<2d}'\n",
    "\n",
    "def demo(bisect_fn):\n",
    "    print('DEMO:', bisect_fn.__name__)   \n",
    "    print('haystack ->', ' '.join('%2d' % n for n in HAYSTACK))\n",
    "    for needle in reversed(NEEDLES):\n",
    "        position = bisect_fn(HAYSTACK, needle)   \n",
    "        offset = position * '  |'   \n",
    "        print(ROW_FMT.format(needle, position, offset))   \n"
   ]
  },
  {
   "cell_type": "code",
   "execution_count": null,
   "metadata": {},
   "outputs": [],
   "source": [
    "bisect_fn = bisect.bisect\n",
    "demo(bisect_fn)"
   ]
  },
  {
   "cell_type": "code",
   "execution_count": null,
   "metadata": {},
   "outputs": [],
   "source": [
    "bisect_fn = bisect.bisect_left\n",
    "demo(bisect_fn)"
   ]
  },
  {
   "cell_type": "markdown",
   "metadata": {},
   "source": [
    "### Use bisect.bisect to do range conversions"
   ]
  },
  {
   "cell_type": "code",
   "execution_count": null,
   "metadata": {},
   "outputs": [],
   "source": [
    "def grade(score, breakpoints=[60, 70, 80, 90], grades='FDCBA'):\n",
    "     i = bisect.bise§ct(breakpoints, score)\n",
    "     return grades[i]\n",
    "\n",
    "[grade(score) for score in [33, 99, 77, 70, 89, 90, 100]]"
   ]
  },
  {
   "cell_type": "markdown",
   "metadata": {},
   "source": [
    "### Use bisect.insort to insert into a sorted sequence keeping sequence sorted"
   ]
  },
  {
   "cell_type": "code",
   "execution_count": null,
   "metadata": {},
   "outputs": [],
   "source": [
    "import bisect\n",
    "import random\n",
    "\n",
    "SIZE = 7\n",
    "\n",
    "random.seed(1729)\n",
    "\n",
    "my_list = []\n",
    "for i in range(SIZE):\n",
    "    new_item = random.randrange(SIZE*2)\n",
    "    bisect.insort(my_list, new_item)\n",
    "    print('%2d ->' % new_item, my_list)"
   ]
  },
  {
   "cell_type": "markdown",
   "metadata": {},
   "source": [
    "## Arrays"
   ]
  },
  {
   "cell_type": "markdown",
   "metadata": {},
   "source": [
    "### If the list will only contain numbers, an array.array is more efficient than a list"
   ]
  },
  {
   "cell_type": "code",
   "execution_count": null,
   "metadata": {},
   "outputs": [],
   "source": [
    "from array import array  \n",
    "from random import random\n",
    "floats = array('d', (random() for i in range(10**7)))  \n",
    "floats[-1]    "
   ]
  },
  {
   "cell_type": "code",
   "execution_count": null,
   "metadata": {},
   "outputs": [],
   "source": [
    "fp = open('floats.bin', 'wb')\n",
    "floats.tofile(fp) # array.tofile 60x faster reads than from text file \n",
    "fp.close()\n",
    "floats2 = array('d')  \n",
    "fp = open('floats.bin', 'rb')\n",
    "floats2.fromfile(fp, 10**7)  \n",
    "fp.close()\n",
    "floats2[-1]  "
   ]
  },
  {
   "cell_type": "code",
   "execution_count": 20,
   "metadata": {},
   "outputs": [
    {
     "ename": "NameError",
     "evalue": "name 'floats2' is not defined",
     "output_type": "error",
     "traceback": [
      "\u001b[0;31m---------------------------------------------------------------------------\u001b[0m",
      "\u001b[0;31mNameError\u001b[0m                                 Traceback (most recent call last)",
      "\u001b[0;32m<ipython-input-20-4ecef4460364>\u001b[0m in \u001b[0;36m<module>\u001b[0;34m\u001b[0m\n\u001b[0;32m----> 1\u001b[0;31m \u001b[0mfloats2\u001b[0m \u001b[0;34m==\u001b[0m \u001b[0mfloats\u001b[0m\u001b[0;34m\u001b[0m\u001b[0;34m\u001b[0m\u001b[0m\n\u001b[0m",
      "\u001b[0;31mNameError\u001b[0m: name 'floats2' is not defined"
     ]
    }
   ],
   "source": [
    "floats2 == floats"
   ]
  },
  {
   "cell_type": "markdown",
   "metadata": {},
   "source": [
    "## Memory Views"
   ]
  },
  {
   "cell_type": "markdown",
   "metadata": {},
   "source": [
    "### The built-in memorview class is a shared-memory sequence type that lets you handle slices of arrays without copying bytes"
   ]
  },
  {
   "cell_type": "code",
   "execution_count": null,
   "metadata": {},
   "outputs": [],
   "source": [
    "numbers = array('h', [-2, -1, 0, 1, 2]) \n",
    "memv = memoryview(numbers)  # memoryview from array of \n",
    "                            # 5 short signed integers (typecode 'h')\n",
    "\n",
    "len(memv)"
   ]
  },
  {
   "cell_type": "code",
   "execution_count": null,
   "metadata": {},
   "outputs": [],
   "source": [
    "memv[0]  "
   ]
  },
  {
   "cell_type": "code",
   "execution_count": null,
   "metadata": {},
   "outputs": [],
   "source": [
    "memv_oct = memv.cast('B') # cast the elements of memv to typecode 'B' (unsigned char).\n",
    "memv_oct.tolist()  "
   ]
  },
  {
   "cell_type": "code",
   "execution_count": null,
   "metadata": {},
   "outputs": [],
   "source": [
    "memv_oct[5] = 4  # Assign value 4 to byte offset 5\n",
    "numbers # Note change to numbers: a 4 in the most significant byte of a 2-byte unsigned integer is 1024."
   ]
  },
  {
   "cell_type": "markdown",
   "metadata": {},
   "source": [
    "## Numpy"
   ]
  },
  {
   "cell_type": "markdown",
   "metadata": {},
   "source": [
    "### NumPy implements multi-dimensional, homogeneous arrays and matrix types that hold not only numbers but also user-defined records, and provides efficient elementwise operations."
   ]
  },
  {
   "cell_type": "code",
   "execution_count": null,
   "metadata": {},
   "outputs": [],
   "source": [
    "import numpy  \n",
    "a = numpy.arange(12)  \n",
    "a"
   ]
  },
  {
   "cell_type": "code",
   "execution_count": null,
   "metadata": {},
   "outputs": [],
   "source": [
    "type(a)"
   ]
  },
  {
   "cell_type": "code",
   "execution_count": null,
   "metadata": {},
   "outputs": [],
   "source": [
    "a.shape  "
   ]
  },
  {
   "cell_type": "code",
   "execution_count": null,
   "metadata": {},
   "outputs": [],
   "source": [
    "a.shape = 3, 4  \n",
    "a"
   ]
  },
  {
   "cell_type": "code",
   "execution_count": null,
   "metadata": {},
   "outputs": [],
   "source": [
    "a[2]  "
   ]
  },
  {
   "cell_type": "code",
   "execution_count": null,
   "metadata": {},
   "outputs": [],
   "source": [
    "a[2, 1]  "
   ]
  },
  {
   "cell_type": "code",
   "execution_count": null,
   "metadata": {},
   "outputs": [],
   "source": [
    "a.transpose()"
   ]
  },
  {
   "cell_type": "code",
   "execution_count": null,
   "metadata": {},
   "outputs": [],
   "source": [
    "a[:, 1]  "
   ]
  },
  {
   "cell_type": "markdown",
   "metadata": {},
   "source": [
    "## Deques and Other Queues"
   ]
  },
  {
   "cell_type": "markdown",
   "metadata": {},
   "source": [
    "### The class collections.deque is a thread-safe double-ended queue designed for fast inserting and removing from both ends"
   ]
  },
  {
   "cell_type": "code",
   "execution_count": null,
   "metadata": {},
   "outputs": [],
   "source": [
    "from collections import deque\n",
    "dq = deque(range(10), maxlen=10)  \n",
    "dq"
   ]
  },
  {
   "cell_type": "code",
   "execution_count": null,
   "metadata": {},
   "outputs": [],
   "source": [
    "dq.rotate(3)  \n",
    "dq"
   ]
  },
  {
   "cell_type": "code",
   "execution_count": null,
   "metadata": {},
   "outputs": [],
   "source": [
    "dq.rotate(-4)\n",
    "dq"
   ]
  },
  {
   "cell_type": "code",
   "execution_count": null,
   "metadata": {},
   "outputs": [],
   "source": [
    "dq.appendleft(-1)  # appendleft discards items from the other end\n",
    "dq"
   ]
  },
  {
   "cell_type": "code",
   "execution_count": null,
   "metadata": {},
   "outputs": [],
   "source": [
    "# Adding three items to the right pushes out the leftmost 3\n",
    "dq.extend([11, 22, 33]) \n",
    "dq"
   ]
  },
  {
   "cell_type": "code",
   "execution_count": null,
   "metadata": {},
   "outputs": [],
   "source": [
    "dq.extendleft([10, 20, 30, 40])  \n",
    "dq"
   ]
  },
  {
   "cell_type": "markdown",
   "metadata": {},
   "source": [
    "### queue\n",
    "\n",
    " provides the synchronized (i.e., thread-safe) classes Queue, LifoQueue, and PriorityQueue. These are used for safe communication between threads. All three classes can be bounded by providing a maxsize argument greater than 0 to the constructor. However, they don’t discard items to make room as deque does. Instead, when the queue is full the insertion of a new item blocks"
   ]
  },
  {
   "cell_type": "markdown",
   "metadata": {},
   "source": [
    "### multiprocessing\n",
    "Implements its own bounded Queue, very similar to queue.Queue but designed for interprocess communication. A specialized multiprocessing.JoinableQueue is also available for easier task management.\n"
   ]
  },
  {
   "cell_type": "markdown",
   "metadata": {},
   "source": [
    "### asyncio\n",
    "Newly added to Python 3.4, asyncio provides Queue, LifoQueue, PriorityQueue, and JoinableQueue with APIs inspired by the classes contained in the queue and multiprocessing modules, but adapted for managing tasks in asynchronous programming.\n"
   ]
  },
  {
   "cell_type": "markdown",
   "metadata": {},
   "source": [
    "### heapq\n",
    "In contrast to the previous three modules, heapq does not implement a queue class, but provides functions like heappush and heappop that let you use a mutable sequence as a heap queue or priority queue."
   ]
  },
  {
   "cell_type": "markdown",
   "metadata": {},
   "source": [
    "# Chapter 3. Dictionaries and Sets"
   ]
  },
  {
   "cell_type": "markdown",
   "metadata": {},
   "source": [
    "## the dict class derives from Mapping and MutableMapping abstract interfaces"
   ]
  },
  {
   "cell_type": "code",
   "execution_count": 21,
   "metadata": {},
   "outputs": [
    {
     "name": "stderr",
     "output_type": "stream",
     "text": [
      "<ipython-input-21-776da33c746c>:3: DeprecationWarning: Using or importing the ABCs from 'collections' instead of from 'collections.abc' is deprecated since Python 3.3, and in 3.9 it will stop working\n",
      "  isinstance(my_dict, collections.Mapping)\n"
     ]
    },
    {
     "data": {
      "text/plain": [
       "True"
      ]
     },
     "execution_count": 21,
     "metadata": {},
     "output_type": "execute_result"
    }
   ],
   "source": [
    "import collections.abc\n",
    "my_dict = {}\n",
    "isinstance(my_dict, collections.Mapping)"
   ]
  },
  {
   "cell_type": "code",
   "execution_count": 22,
   "metadata": {},
   "outputs": [
    {
     "name": "stderr",
     "output_type": "stream",
     "text": [
      "<ipython-input-22-46cb558a6ed7>:1: DeprecationWarning: Using or importing the ABCs from 'collections' instead of from 'collections.abc' is deprecated since Python 3.3, and in 3.9 it will stop working\n",
      "  isinstance(my_dict, collections.MutableMapping)\n"
     ]
    },
    {
     "data": {
      "text/plain": [
       "True"
      ]
     },
     "execution_count": 22,
     "metadata": {},
     "output_type": "execute_result"
    }
   ],
   "source": [
    "isinstance(my_dict, collections.MutableMapping)"
   ]
  },
  {
   "cell_type": "code",
   "execution_count": 23,
   "metadata": {},
   "outputs": [
    {
     "name": "stderr",
     "output_type": "stream",
     "text": [
      "<ipython-input-23-a923089574ec>:2: DeprecationWarning: Using or importing the ABCs from 'collections' instead of from 'collections.abc' is deprecated since Python 3.3, and in 3.9 it will stop working\n",
      "  isinstance(l, collections.Sequence)\n"
     ]
    },
    {
     "data": {
      "text/plain": [
       "True"
      ]
     },
     "execution_count": 23,
     "metadata": {},
     "output_type": "execute_result"
    }
   ],
   "source": [
    "l = []\n",
    "isinstance(l, collections.Sequence)"
   ]
  },
  {
   "cell_type": "code",
   "execution_count": 24,
   "metadata": {},
   "outputs": [
    {
     "name": "stderr",
     "output_type": "stream",
     "text": [
      "<ipython-input-24-898c198ab2c7>:1: DeprecationWarning: Using or importing the ABCs from 'collections' instead of from 'collections.abc' is deprecated since Python 3.3, and in 3.9 it will stop working\n",
      "  isinstance(l, collections.MutableSequence)\n"
     ]
    },
    {
     "data": {
      "text/plain": [
       "True"
      ]
     },
     "execution_count": 24,
     "metadata": {},
     "output_type": "execute_result"
    }
   ],
   "source": [
    "isinstance(l, collections.MutableSequence)"
   ]
  },
  {
   "cell_type": "markdown",
   "metadata": {},
   "source": [
    "### `dict keys must be hashable (implement __hash__ and __eq__)`"
   ]
  },
  {
   "cell_type": "markdown",
   "metadata": {},
   "source": [
    "## atomic immutable types: str, numeric types, bytes, frozenset and tuple (if all elements are hashable) are hashable\n"
   ]
  },
  {
   "cell_type": "code",
   "execution_count": 25,
   "metadata": {},
   "outputs": [
    {
     "name": "stdout",
     "output_type": "stream",
     "text": [
      "A. 1644007735461395335\n",
      "B. 1\n",
      "C. -4009951742502954757\n",
      "D. -1826646154956904602\n",
      "E. 590899387183067792\n"
     ]
    },
    {
     "ename": "TypeError",
     "evalue": "unhashable type: 'list'",
     "output_type": "error",
     "traceback": [
      "\u001b[0;31m---------------------------------------------------------------------------\u001b[0m",
      "\u001b[0;31mTypeError\u001b[0m                                 Traceback (most recent call last)",
      "\u001b[0;32m<ipython-input-25-98df75f46ab2>\u001b[0m in \u001b[0;36m<module>\u001b[0;34m\u001b[0m\n\u001b[1;32m      4\u001b[0m \u001b[0mprint\u001b[0m\u001b[0;34m(\u001b[0m\u001b[0;34m'D. %s'\u001b[0m \u001b[0;34m%\u001b[0m \u001b[0mhash\u001b[0m\u001b[0;34m(\u001b[0m\u001b[0mfrozenset\u001b[0m\u001b[0;34m(\u001b[0m\u001b[0;34m[\u001b[0m\u001b[0;36m1\u001b[0m\u001b[0;34m,\u001b[0m\u001b[0;36m2\u001b[0m\u001b[0;34m]\u001b[0m\u001b[0;34m)\u001b[0m\u001b[0;34m)\u001b[0m\u001b[0;34m)\u001b[0m\u001b[0;34m\u001b[0m\u001b[0;34m\u001b[0m\u001b[0m\n\u001b[1;32m      5\u001b[0m \u001b[0mprint\u001b[0m\u001b[0;34m(\u001b[0m\u001b[0;34m'E. %s'\u001b[0m \u001b[0;34m%\u001b[0m \u001b[0mhash\u001b[0m\u001b[0;34m(\u001b[0m\u001b[0;34m(\u001b[0m\u001b[0;36m1\u001b[0m\u001b[0;34m,\u001b[0m\u001b[0;36m2\u001b[0m\u001b[0;34m,\u001b[0m\u001b[0;36m3\u001b[0m\u001b[0;34m,\u001b[0m\u001b[0;36m4\u001b[0m\u001b[0;34m)\u001b[0m\u001b[0;34m)\u001b[0m\u001b[0;34m)\u001b[0m\u001b[0;34m\u001b[0m\u001b[0;34m\u001b[0m\u001b[0m\n\u001b[0;32m----> 6\u001b[0;31m \u001b[0mprint\u001b[0m\u001b[0;34m(\u001b[0m\u001b[0;34m'F. %s'\u001b[0m \u001b[0;34m%\u001b[0m \u001b[0mhash\u001b[0m\u001b[0;34m(\u001b[0m\u001b[0;34m(\u001b[0m\u001b[0;36m1\u001b[0m\u001b[0;34m,\u001b[0m\u001b[0;36m2\u001b[0m\u001b[0;34m,\u001b[0m\u001b[0;34m[\u001b[0m\u001b[0;36m3\u001b[0m\u001b[0;34m,\u001b[0m\u001b[0;36m4\u001b[0m\u001b[0;34m]\u001b[0m\u001b[0;34m)\u001b[0m\u001b[0;34m)\u001b[0m\u001b[0;34m)\u001b[0m\u001b[0;34m\u001b[0m\u001b[0;34m\u001b[0m\u001b[0m\n\u001b[0m",
      "\u001b[0;31mTypeError\u001b[0m: unhashable type: 'list'"
     ]
    }
   ],
   "source": [
    "print('A. %s' % hash('s'))\n",
    "print('B. %s' % hash(1))\n",
    "print('C. %s' % hash(bytes(1)))\n",
    "print('D. %s' % hash(frozenset([1,2])))\n",
    "print('E. %s' % hash((1,2,3,4)))\n",
    "print('F. %s' % hash((1,2,[3,4])))"
   ]
  },
  {
   "cell_type": "markdown",
   "metadata": {},
   "source": [
    "## User-defined types are hashable by default because their hash value is their id() and they all compare not equal.\n"
   ]
  },
  {
   "cell_type": "markdown",
   "metadata": {},
   "source": [
    "## Five ways to build a dict"
   ]
  },
  {
   "cell_type": "code",
   "execution_count": null,
   "metadata": {},
   "outputs": [],
   "source": [
    "a = dict(one=1, two=2, three=3)\n",
    "b = {'one': 1, 'two': 2, 'three': 3}\n",
    "c = dict(zip(['one', 'two', 'three'], [1,2,3]))\n",
    "d = dict([('two', 2), ('one', 1), ('three', 3)])\n",
    "e = dict({'three': 3, 'one': 1, 'two': 2})\n",
    "a == b == c == d == e "
   ]
  },
  {
   "cell_type": "markdown",
   "metadata": {},
   "source": [
    "### dict comprehensions"
   ]
  },
  {
   "cell_type": "code",
   "execution_count": null,
   "metadata": {},
   "outputs": [],
   "source": [
    ">>> DIAL_CODES = [                   \n",
    "         (86, 'China'),\n",
    "         (91, 'India'),\n",
    "         (1, 'United States'),\n",
    "         (62, 'Indonesia'),\n",
    "         (55, 'Brazil'),\n",
    "         (92, 'Pakistan'),\n",
    "         (880, 'Bangladesh'),\n",
    "         (234, 'Nigeria'),\n",
    "         (7, 'Russia'),\n",
    "         (81, 'Japan'),\n",
    "     ]\n",
    "\n",
    "country_code = {country: code for code, country in DIAL_CODES}  \n",
    "print(country_code)\n",
    "\n",
    "\n",
    "print({code: country.upper() for country, code in country_code.items() \n",
    "       if code < 66})\n"
   ]
  },
  {
   "cell_type": "markdown",
   "metadata": {},
   "source": [
    "## Handling Missing Keys on insertion with setdefault"
   ]
  },
  {
   "cell_type": "code",
   "execution_count": null,
   "metadata": {},
   "outputs": [],
   "source": [
    "my_dict = {}\n",
    "key = 'foo'\n",
    "new_value = 'bar'\n",
    "\n",
    "\n",
    "my_dict.setdefault(key, []).append(new_value)\n",
    "my_dict[key]"
   ]
  },
  {
   "cell_type": "markdown",
   "metadata": {},
   "source": [
    "is the same as"
   ]
  },
  {
   "cell_type": "code",
   "execution_count": null,
   "metadata": {},
   "outputs": [],
   "source": [
    "my_dict = {}\n",
    "key = 'foo'\n",
    "new_value = 'bar'\n",
    "\n",
    "if key not in my_dict:\n",
    "    my_dict[key] = []\n",
    "my_dict[key].append(new_value)\n",
    "my_dict[key]"
   ]
  },
  {
   "cell_type": "markdown",
   "metadata": {},
   "source": [
    "## Handling Missing Keys generally"
   ]
  },
  {
   "cell_type": "markdown",
   "metadata": {},
   "source": [
    "### defaultdict"
   ]
  },
  {
   "cell_type": "code",
   "execution_count": null,
   "metadata": {},
   "outputs": [],
   "source": [
    "\"\"\"\"Build an index mapping word -> list of occurrences\"\"\"\n",
    "\n",
    "import sys\n",
    "import re\n",
    "import collections\n",
    "\n",
    "WORD_RE = re.compile('\\w+')\n",
    "\n",
    "index = collections.defaultdict(list)      \n",
    "with open('zen.txt', encoding='utf-8') as fp:\n",
    "    for line_no, line in enumerate(fp, 1):\n",
    "        for match in WORD_RE.finditer(line):\n",
    "            word = match.group()\n",
    "            column_no = match.start()+1\n",
    "            location = (line_no, column_no)\n",
    "            index[word].append(location)   \n",
    "\n",
    "# print in alphabetical order\n",
    "for word in sorted(index, key=str.upper):\n",
    "#     print(word, index[word])\n",
    "    pass\n"
   ]
  },
  {
   "cell_type": "code",
   "execution_count": null,
   "metadata": {},
   "outputs": [],
   "source": [
    "my_dict = collections.defaultdict(list)\n",
    "key = 'foo'\n",
    "new_value = 'bar'\n",
    "my_dict[key] = new_value\n",
    "my_dict[key]"
   ]
  },
  {
   "cell_type": "markdown",
   "metadata": {},
   "source": [
    "### `The __missing__ Method`"
   ]
  },
  {
   "cell_type": "code",
   "execution_count": null,
   "metadata": {},
   "outputs": [],
   "source": [
    "# StrKeyDict0 converts nonstring keys to str on lookup \n",
    "\n",
    "class StrKeyDict0(dict):   \n",
    "\n",
    "    def __missing__(self, key):\n",
    "        if isinstance(key, str):   \n",
    "            raise KeyError(key)\n",
    "        return self[str(key)]   \n",
    "\n",
    "    def get(self, key, default=None):\n",
    "        try:\n",
    "            return self[key]   \n",
    "        except KeyError:\n",
    "            return default   \n",
    "\n",
    "    def __contains__(self, key):\n",
    "        return key in self.keys() or str(key) in self.keys()"
   ]
  },
  {
   "cell_type": "code",
   "execution_count": null,
   "metadata": {},
   "outputs": [],
   "source": [
    "d = StrKeyDict0([('2', 'two'), ('4', 'four')])\n",
    "d['2']"
   ]
  },
  {
   "cell_type": "code",
   "execution_count": null,
   "metadata": {},
   "outputs": [],
   "source": [
    "d[4]"
   ]
  },
  {
   "cell_type": "code",
   "execution_count": null,
   "metadata": {},
   "outputs": [],
   "source": [
    "d.get(1, 'N/A')"
   ]
  },
  {
   "cell_type": "markdown",
   "metadata": {},
   "source": [
    "### Variations of dict"
   ]
  },
  {
   "cell_type": "markdown",
   "metadata": {},
   "source": [
    "### collections.OrderedDict\n",
    "Maintains keys in insertion order, allowing iteration over items in a predictable order. \n"
   ]
  },
  {
   "cell_type": "markdown",
   "metadata": {},
   "source": [
    "### collections.ChainMap\n",
    "Holds a list of mappings that can be searched as one. The lookup is performed on each mapping in order, and succeeds if the key is found in any of them. This is useful to interpreters for languages with nested scopes, where each mapping represents a scope context. \n",
    "    "
   ]
  },
  {
   "cell_type": "code",
   "execution_count": 26,
   "metadata": {},
   "outputs": [],
   "source": [
    "# variable lookup in Python\n",
    "import builtins\n",
    "pylookup = collections.ChainMap(locals(), globals(), vars(builtins))"
   ]
  },
  {
   "cell_type": "markdown",
   "metadata": {},
   "source": [
    "### collections.Counter\n",
    "A mapping that holds an integer count for each key. Updating an existing key adds to its count. This can be used to count instances of hashable objects (the keys) or as a multiset—a set that can hold several occurrences of each element. "
   ]
  },
  {
   "cell_type": "code",
   "execution_count": 27,
   "metadata": {},
   "outputs": [
    {
     "data": {
      "text/plain": [
       "Counter({'a': 5, 'b': 2, 'r': 2, 'c': 1, 'd': 1})"
      ]
     },
     "execution_count": 27,
     "metadata": {},
     "output_type": "execute_result"
    }
   ],
   "source": [
    "#  Counter used to count letters in words\n",
    "ct = collections.Counter('abracadabra')\n",
    "ct"
   ]
  },
  {
   "cell_type": "code",
   "execution_count": 28,
   "metadata": {},
   "outputs": [
    {
     "data": {
      "text/plain": [
       "Counter({'a': 10, 'b': 2, 'r': 2, 'c': 1, 'd': 1, 'z': 3})"
      ]
     },
     "execution_count": 28,
     "metadata": {},
     "output_type": "execute_result"
    }
   ],
   "source": [
    "ct.update('aaaaazzz')\n",
    "ct"
   ]
  },
  {
   "cell_type": "code",
   "execution_count": 29,
   "metadata": {},
   "outputs": [
    {
     "data": {
      "text/plain": [
       "[('a', 10), ('z', 3)]"
      ]
     },
     "execution_count": 29,
     "metadata": {},
     "output_type": "execute_result"
    }
   ],
   "source": [
    "ct.most_common(2)"
   ]
  },
  {
   "cell_type": "markdown",
   "metadata": {},
   "source": [
    "### collections.UserDict\n",
    "A pure Python implementation of a mapping that works like a standard dict. It’s almost always easier to create a new mapping type by extending UserDict rather than dict. "
   ]
  },
  {
   "cell_type": "code",
   "execution_count": 30,
   "metadata": {},
   "outputs": [],
   "source": [
    "import collections\n",
    "\n",
    "class StrKeyDict(collections.UserDict):   \n",
    "\n",
    "    def __missing__(self, key):   # same as in StrKey0 class\n",
    "        if isinstance(key, str):\n",
    "            raise KeyError(key)\n",
    "        return self[str(key)]\n",
    "\n",
    "    def __contains__(self, key):  # simplier as in StrKey0 class\n",
    "        return str(key) in self.data   \n",
    "\n",
    "    def __setitem__(self, key, item): # converts any key to a str\n",
    "        self.data[str(key)] = item    "
   ]
  },
  {
   "cell_type": "markdown",
   "metadata": {},
   "source": [
    "## Immutable Mappings"
   ]
  },
  {
   "cell_type": "markdown",
   "metadata": {},
   "source": [
    "### MappingProxyType \n",
    " given a mapping, returns a mappingproxy instance that is a read-only but dynamic view of the original mapping."
   ]
  },
  {
   "cell_type": "code",
   "execution_count": 31,
   "metadata": {},
   "outputs": [
    {
     "data": {
      "text/plain": [
       "mappingproxy({1: 'A'})"
      ]
     },
     "execution_count": 31,
     "metadata": {},
     "output_type": "execute_result"
    }
   ],
   "source": [
    "from types import MappingProxyType\n",
    "d = {1: 'A'}\n",
    "d_proxy = MappingProxyType(d)\n",
    "d_proxy"
   ]
  },
  {
   "cell_type": "code",
   "execution_count": 32,
   "metadata": {},
   "outputs": [
    {
     "data": {
      "text/plain": [
       "'A'"
      ]
     },
     "execution_count": 32,
     "metadata": {},
     "output_type": "execute_result"
    }
   ],
   "source": [
    "d_proxy[1]  "
   ]
  },
  {
   "cell_type": "code",
   "execution_count": 33,
   "metadata": {},
   "outputs": [
    {
     "ename": "TypeError",
     "evalue": "'mappingproxy' object does not support item assignment",
     "output_type": "error",
     "traceback": [
      "\u001b[0;31m---------------------------------------------------------------------------\u001b[0m",
      "\u001b[0;31mTypeError\u001b[0m                                 Traceback (most recent call last)",
      "\u001b[0;32m<ipython-input-33-6ae77f58aed0>\u001b[0m in \u001b[0;36m<module>\u001b[0;34m\u001b[0m\n\u001b[0;32m----> 1\u001b[0;31m \u001b[0md_proxy\u001b[0m\u001b[0;34m[\u001b[0m\u001b[0;36m2\u001b[0m\u001b[0;34m]\u001b[0m \u001b[0;34m=\u001b[0m \u001b[0;34m'x'\u001b[0m\u001b[0;34m\u001b[0m\u001b[0;34m\u001b[0m\u001b[0m\n\u001b[0m",
      "\u001b[0;31mTypeError\u001b[0m: 'mappingproxy' object does not support item assignment"
     ]
    }
   ],
   "source": [
    "d_proxy[2] = 'x'  "
   ]
  },
  {
   "cell_type": "code",
   "execution_count": null,
   "metadata": {},
   "outputs": [],
   "source": [
    "d[2] = 'B'\n",
    "d_proxy  "
   ]
  },
  {
   "cell_type": "code",
   "execution_count": null,
   "metadata": {},
   "outputs": [],
   "source": [
    "d_proxy[2]"
   ]
  },
  {
   "cell_type": "markdown",
   "metadata": {},
   "source": [
    "## set and frozenset"
   ]
  },
  {
   "cell_type": "markdown",
   "metadata": {},
   "source": [
    "### set types implement the essential set operations as infix operators, so, given two sets a and b, a | b returns their union, a & b computes the intersection, and a - b the difference."
   ]
  },
  {
   "cell_type": "code",
   "execution_count": null,
   "metadata": {},
   "outputs": [],
   "source": [
    "needles = {1,2,3}\n",
    "haystack = {1,2,4}\n",
    "\n",
    "# Count occurrences of needles in a haystack, both of type set\n",
    "found = len(needles & haystack)\n",
    "print(found)\n",
    "\n",
    "# same as\n",
    "found = len(needles.intersection(haystack))\n",
    "found"
   ]
  },
  {
   "cell_type": "markdown",
   "metadata": {},
   "source": [
    "### set comprehensions"
   ]
  },
  {
   "cell_type": "code",
   "execution_count": null,
   "metadata": {},
   "outputs": [],
   "source": [
    "from unicodedata import name  \n",
    "{chr(i) for i in range(32, 256) if 'SIGN' in name(chr(i),'')} "
   ]
  },
  {
   "cell_type": "markdown",
   "metadata": {},
   "source": [
    "### Hashes and equality\n",
    "to be effective as hash table indexes, hash values should scatter around the index space as much as possible. This means that, ideally, objects that are similar but not equal should have hash values that differ widely. Example 3-16 is the output of a script to compare the bit patterns of hash values. Note how the hashes of 1 and 1.0 are the same, but those of 1.0001, 1.0002, and 1.0003 are very different"
   ]
  },
  {
   "cell_type": "code",
   "execution_count": null,
   "metadata": {},
   "outputs": [],
   "source": [
    "# Example A-3. hashdiff.py: display the difference of bit paterns from hash values\n",
    "import sys\n",
    "\n",
    "MAX_BITS = len(format(sys.maxsize, 'b'))\n",
    "print('%s-bit Python build' % (MAX_BITS + 1))\n",
    "\n",
    "def hash_diff(o1, o2):\n",
    "    h1 = '{:>0{}b}'.format(hash(o1), MAX_BITS)\n",
    "    h2 = '{:>0{}b}'.format(hash(o2), MAX_BITS)\n",
    "    diff = ''.join('!' if b1 != b2 else ' ' for b1, b2 in zip(h1, h2))\n",
    "    count = '!= {}'.format(diff.count('!'))\n",
    "    width = max(len(repr(o1)), len(repr(o2)), 8)\n",
    "    sep = '-' * (width * 2 + MAX_BITS)\n",
    "    return '{!r:{width}} {}\\n{:{width}} {} {}\\n{!r:{width}} {}\\n{}'.format(\n",
    "                o1, h1, ' ' * width, diff, count, o2, h2, sep, width=width)\n",
    "\n",
    "if __name__ == '__main__':\n",
    "    print(hash_diff(1, 1.0))\n",
    "    print(hash_diff(1.0, 1.0001))\n",
    "    print(hash_diff(1.0001, 1.0002))\n",
    "    print(hash_diff(1.0002, 1.0003))"
   ]
  },
  {
   "cell_type": "markdown",
   "metadata": {},
   "source": [
    "### Steps in hash table lookup algorithm\n",
    "1. hash(search_key) called\n",
    "2. least significant bits of that number as an offset to look up a bucket in the hash table\n",
    "3  If the found bucket is empty, KeyError is raised\n",
    "4. Otherwise, the found bucket has an item—a found_key:found_value pair\n",
    "5. checks whether search_key == found_key\n",
    "6. If they match, that was the item sought: found_value is returned.\n",
    "7. otherwise this is a hash collision. This happens because a hash function maps arbitrary objects to a small number of bits, and—in addition—the hash table is indexed with a subset of those bits.\n",
    "8. In order to resolve the collision, the algorithm takes different bits in the hash, massages them in a particular way, and uses the result as an offset to look up a different bucket\n",
    "9. If that is empty, KeyError is raised\n",
    "10. otherwise either the keys match and the item value is returned, or the collision resolution process is repeated\n",
    "\n"
   ]
  },
  {
   "cell_type": "code",
   "execution_count": null,
   "metadata": {},
   "outputs": [],
   "source": [
    "from IPython.display import Image\n",
    "Image(filename = \"hash-lookup.png\", width = 600, height = 300)"
   ]
  },
  {
   "cell_type": "markdown",
   "metadata": {},
   "source": [
    "### Consequences of hash table implementation in dicts"
   ]
  },
  {
   "cell_type": "markdown",
   "metadata": {},
   "source": [
    "#### 1. dicts have significant memory overhead \n",
    "because a dict uses a hash table internally, and hash tables must be sparse to work, they are not space efficient. For example, if you are handling a large quantity of records, it makes sense to store them in a list of tuples or named tuples instead of using a list of dictionaries"
   ]
  },
  {
   "cell_type": "markdown",
   "metadata": {},
   "source": [
    "#### 2. Key search is very fast\n",
    "The dict implementation is an example of trading space for time: dictionaries have significant memory overhead, but they provide fast access regardless of the size of the dictionary"
   ]
  },
  {
   "cell_type": "markdown",
   "metadata": {},
   "source": [
    "#### 3. Key ordering depends on insertion order but dicts with same data compare equal"
   ]
  },
  {
   "cell_type": "code",
   "execution_count": null,
   "metadata": {},
   "outputs": [],
   "source": [
    "# fills three dictionaries with the same data sorted in different ways\n",
    "# dial codes of the top 10 most populous countries\n",
    "DIAL_CODES = [\n",
    "        (86, 'China'),\n",
    "        (91, 'India'),\n",
    "        (1, 'United States'),\n",
    "        (62, 'Indonesia'),\n",
    "        (55, 'Brazil'),\n",
    "        (92, 'Pakistan'),\n",
    "        (880, 'Bangladesh'),\n",
    "        (234, 'Nigeria'),\n",
    "        (7, 'Russia'),\n",
    "        (81, 'Japan'),\n",
    "    ]\n",
    "\n",
    "d1 = dict(DIAL_CODES)   \n",
    "print('d1:', d1.keys())\n",
    "d2 = dict(sorted(DIAL_CODES))   \n",
    "print('d2:', d2.keys())\n",
    "d3 = dict(sorted(DIAL_CODES, key=lambda x:x[1]))   \n",
    "print('d3:', d3.keys())\n",
    "assert d1 == d2 and d2 == d3   "
   ]
  },
  {
   "cell_type": "markdown",
   "metadata": {},
   "source": [
    "#### 4. Adding items to a dict may change the order of existing keys\n",
    "Whenever you add a new item to a dict, the Python interpreter may decide that the hash table of that dictionary needs to grow. This entails building a new, bigger hash table, and adding all current items to the new table. This is why modifying the contents of a dict while iterating through it is a bad idea."
   ]
  },
  {
   "cell_type": "markdown",
   "metadata": {},
   "source": [
    "### Summary of how hash table benefit dict and set and frozenset\n",
    "1. Set elements, dict keys must be hashable objects.\n",
    "2. Sets/dicts have a significant memory overhead.\n",
    "3. Membership testing is very efficient.\n",
    "4. Element ordering depends on insertion order.\n",
    "5. Adding elements to a set/dict may change the order of other elements."
   ]
  },
  {
   "cell_type": "markdown",
   "metadata": {},
   "source": [
    "# Chapter 4. Text versus Bytes"
   ]
  },
  {
   "cell_type": "markdown",
   "metadata": {},
   "source": [
    "### Converting from code points to bytes is encoding; converting from bytes to code points is decoding. "
   ]
  },
  {
   "cell_type": "code",
   "execution_count": null,
   "metadata": {},
   "outputs": [],
   "source": [
    "s = 'café'\n",
    "b = s.encode('utf8')  # b = b'caf\\xc3\\xa9'\n",
    "b.decode('utf8')  # 'café'\n",
    "type(b)"
   ]
  },
  {
   "cell_type": "markdown",
   "metadata": {},
   "source": [
    "### bytes can be built from a str, give an encoding. Each item in a bytes sequence is an integer in range(256)."
   ]
  },
  {
   "cell_type": "code",
   "execution_count": null,
   "metadata": {},
   "outputs": [],
   "source": [
    "cafe = bytes('café', encoding='utf_8')\n",
    "cafe[-1] "
   ]
  },
  {
   "cell_type": "code",
   "execution_count": null,
   "metadata": {},
   "outputs": [],
   "source": [
    "cafe_arr = bytearray('café', encoding='utf_8')\n",
    "cafe_arr[-1] "
   ]
  },
  {
   "cell_type": "markdown",
   "metadata": {},
   "source": [
    "### A slice of byte/bytearray is also a byte/bytearray."
   ]
  },
  {
   "cell_type": "code",
   "execution_count": null,
   "metadata": {},
   "outputs": [],
   "source": [
    "cafe[-1:] "
   ]
  },
  {
   "cell_type": "code",
   "execution_count": 34,
   "metadata": {},
   "outputs": [
    {
     "ename": "NameError",
     "evalue": "name 'cafe_arr' is not defined",
     "output_type": "error",
     "traceback": [
      "\u001b[0;31m---------------------------------------------------------------------------\u001b[0m",
      "\u001b[0;31mNameError\u001b[0m                                 Traceback (most recent call last)",
      "\u001b[0;32m<ipython-input-34-4353101fa41d>\u001b[0m in \u001b[0;36m<module>\u001b[0;34m\u001b[0m\n\u001b[0;32m----> 1\u001b[0;31m \u001b[0mcafe_arr\u001b[0m\u001b[0;34m[\u001b[0m\u001b[0;34m-\u001b[0m\u001b[0;36m1\u001b[0m\u001b[0;34m:\u001b[0m\u001b[0;34m]\u001b[0m\u001b[0;34m\u001b[0m\u001b[0;34m\u001b[0m\u001b[0m\n\u001b[0m",
      "\u001b[0;31mNameError\u001b[0m: name 'cafe_arr' is not defined"
     ]
    }
   ],
   "source": [
    "cafe_arr[-1:] "
   ]
  },
  {
   "cell_type": "markdown",
   "metadata": {},
   "source": [
    "### str methods on bytes and bytearrays\n",
    "you can use familiar string methods like endswith, replace, strip, translate, upper, and dozens of others with binary sequences—only using bytes and not str arguments. In addition, the regular expression functions in the re module also work on binary sequences, if the regex is compiled from a binary sequence instead of a str"
   ]
  },
  {
   "cell_type": "markdown",
   "metadata": {},
   "source": [
    "## Structs and Memory Views"
   ]
  },
  {
   "cell_type": "code",
   "execution_count": null,
   "metadata": {},
   "outputs": [],
   "source": [
    "# Create memoryview from file contents in memory\n",
    "import struct\n",
    "with open ('bmA.gif', 'rb') as fp:\n",
    "    img = memoryview(fp.read())"
   ]
  },
  {
   "cell_type": "code",
   "execution_count": null,
   "metadata": {},
   "outputs": [],
   "source": [
    "# Convert header to bytes for display only; 10 bytes are copied here.\n",
    "header = img[:10]\n",
    "bytes(header)"
   ]
  },
  {
   "cell_type": "code",
   "execution_count": null,
   "metadata": {},
   "outputs": [],
   "source": [
    "# struct format: < little-endian; 3s3s two sequences of 3 bytes; HH two 16-bit integers.\n",
    "fmt = '<3s3sHH' \n",
    "\n",
    "# Convert to bytes for display only; 10 bytes are copied here.\n",
    "struct.unpack(fmt, header)"
   ]
  },
  {
   "cell_type": "code",
   "execution_count": null,
   "metadata": {},
   "outputs": [],
   "source": [
    "Image(filename = \"bmA.gif\", width = 345, height = 361)"
   ]
  },
  {
   "cell_type": "markdown",
   "metadata": {},
   "source": [
    "### How to Discover the Encoding of a Byte Sequence\n",
    "Short answer: you can’t. You must be told.\n"
   ]
  },
  {
   "cell_type": "markdown",
   "metadata": {},
   "source": [
    "### A platform encoding issue (following code breaks on windows)"
   ]
  },
  {
   "cell_type": "code",
   "execution_count": null,
   "metadata": {},
   "outputs": [],
   "source": [
    "open('cafe.txt', 'w', encoding='utf_8').write('café')\n",
    "open('cafe.txt').read()\n",
    "# The bug: I specified UTF-8 encoding when writing the file \n",
    "# but failed to do so when reading it, so Python assumed the system \n",
    "# default encoding\n",
    "\n",
    "# Always pass an explicit encoding= argument when opening text files, \n",
    "# because the default may change from one machine to the next"
   ]
  },
  {
   "cell_type": "markdown",
   "metadata": {},
   "source": [
    "## Unicode Normalizations\n",
    "the word “café” may be composed in two ways, using four or five code points, but the result looks exactly the same.\n",
    "\n",
    "The solution is to use Unicode normalization, provided by the unicodedata.normalize function"
   ]
  },
  {
   "cell_type": "code",
   "execution_count": null,
   "metadata": {},
   "outputs": [],
   "source": [
    "s1 = 'café'\n",
    "s2 = 'cafe\\u0301'\n",
    "s1, s2 #('café', 'café')\n",
    "len(s1), len(s2) #(4, 5)\n",
    "s1 == s2 # False\n",
    "nfc_equal(s1, s2)"
   ]
  },
  {
   "cell_type": "code",
   "execution_count": null,
   "metadata": {},
   "outputs": [],
   "source": [
    "from unicodedata import normalize, name, nfc_equal\n",
    "normalize('NFC', s1) == normalize('NFC', s2)"
   ]
  },
  {
   "cell_type": "code",
   "execution_count": null,
   "metadata": {},
   "outputs": [],
   "source": [
    "normalize('NFD', s1) == normalize('NFD', s2)"
   ]
  },
  {
   "cell_type": "markdown",
   "metadata": {},
   "source": [
    "### Case folding for case insensitive comparisons"
   ]
  },
  {
   "cell_type": "code",
   "execution_count": null,
   "metadata": {},
   "outputs": [],
   "source": [
    "alphabet = 'ABCDEFGHIJKLMNOPQRSTUVWXYZ'\n",
    "alphabet.casefold() # abcdefghijklmnopqrstuvwxyz\n",
    "\n",
    "micro = 'µ'\n",
    "name(micro) # 'MICRO SIGN'\n",
    "micro_cf = micro.casefold()\n",
    "name(micro_cf) # 'GREEK SMALL LETTER MU'\n",
    "micro, micro_cf # ('µ', 'μ')\n",
    "\n",
    "eszett = 'ß'\n",
    "name(eszett) # 'LATIN SMALL LETTER SHARP S'\n",
    "\n",
    "eszett_cf = eszett.casefold()\n",
    "eszett, eszett_cf # ('ß', 'ss')"
   ]
  },
  {
   "cell_type": "code",
   "execution_count": null,
   "metadata": {},
   "outputs": [],
   "source": [
    "def nfc_equal(str1, str2):\n",
    "    return normalize('NFC', str1) == normalize('NFC', str2)\n",
    "\n",
    "def fold_equal(str1, str2):\n",
    "    return (normalize('NFC', str1).casefold() ==\n",
    "            normalize('NFC', str2).casefold())"
   ]
  },
  {
   "cell_type": "code",
   "execution_count": null,
   "metadata": {},
   "outputs": [],
   "source": [
    "nfc_equal(s1, s2)"
   ]
  },
  {
   "cell_type": "code",
   "execution_count": null,
   "metadata": {},
   "outputs": [],
   "source": [
    "fold_equal(s1, s2)"
   ]
  },
  {
   "cell_type": "code",
   "execution_count": null,
   "metadata": {},
   "outputs": [],
   "source": [
    "nfc_equal('A', 'a')"
   ]
  },
  {
   "cell_type": "code",
   "execution_count": null,
   "metadata": {},
   "outputs": [],
   "source": [
    "s3 = 'Straße'\n",
    "s4 = 'strasse'\n",
    "nfc_equal(s3, s4) # False\n",
    "fold_equal(s3, s4)"
   ]
  },
  {
   "cell_type": "markdown",
   "metadata": {},
   "source": [
    "### Taking Out Diacritics"
   ]
  },
  {
   "cell_type": "code",
   "execution_count": null,
   "metadata": {},
   "outputs": [],
   "source": [
    "import unicodedata\n",
    "import string\n",
    "\n",
    "\n",
    "def shave_marks(txt):\n",
    "    \"\"\"Remove all diacritic marks\"\"\"\n",
    "    norm_txt = unicodedata.normalize('NFD', txt)   \n",
    "    shaved = ''.join(c for c in norm_txt\n",
    "                     if not unicodedata.combining(c))   \n",
    "    return unicodedata.normalize('NFC', shaved)   \n"
   ]
  },
  {
   "cell_type": "code",
   "execution_count": null,
   "metadata": {},
   "outputs": [],
   "source": [
    "order = '“Herr Voß: • ½ cup of Œtker™ caffè latte • bowl of açaí.”'\n",
    "shave_marks(order)"
   ]
  },
  {
   "cell_type": "code",
   "execution_count": null,
   "metadata": {},
   "outputs": [],
   "source": [
    "Greek = 'Ζέφυρος, Zéfiro'\n",
    "shave_marks(Greek)"
   ]
  },
  {
   "cell_type": "markdown",
   "metadata": {},
   "source": [
    "### Unicode database\n",
    "Demo of Unicode database numerical character metadata "
   ]
  },
  {
   "cell_type": "code",
   "execution_count": null,
   "metadata": {},
   "outputs": [],
   "source": [
    "import unicodedata\n",
    "import re\n",
    "\n",
    "re_digit = re.compile(r'\\d')\n",
    "\n",
    "sample = '1\\xbc\\xb2\\u0969\\u136b\\u216b\\u2466\\u2480\\u3285'\n",
    "\n",
    "for char in sample:\n",
    "    print('U+%04x' % ord(char),                        \n",
    "          char.center(6),                              \n",
    "          're_dig' if re_digit.match(char) else '-',   \n",
    "          'isdig' if char.isdigit() else '-',          \n",
    "          'isnum' if char.isnumeric() else '-',        \n",
    "          format(unicodedata.numeric(char), '5.2f'),   \n",
    "          unicodedata.name(char),                      \n",
    "          sep='\\t')"
   ]
  },
  {
   "cell_type": "markdown",
   "metadata": {},
   "source": [
    "### str Versus bytes in Regular Expressions"
   ]
  },
  {
   "cell_type": "code",
   "execution_count": null,
   "metadata": {},
   "outputs": [],
   "source": [
    "import re\n",
    "\n",
    "re_numbers_str = re.compile(r'\\d+') # str type     \n",
    "re_words_str = re.compile(r'\\w+') # str type   \n",
    "re_numbers_bytes = re.compile(rb'\\d+') # bytes type   \n",
    "re_words_bytes = re.compile(rb'\\w+') # bytes type\n",
    "\n",
    "text_str = (\"Ramanujan saw \\u0be7\\u0bed\\u0be8\\u0bef\"   \n",
    "            \" as 1729 = 1³ + 12³ = 9³ + 10³.\")         \n",
    "\n",
    "text_bytes = text_str.encode('utf_8')   \n",
    "\n",
    "print('Text', repr(text_str), sep='\\n  ')\n",
    "print('Numbers')\n",
    "print('  str  :', re_numbers_str.findall(text_str))       \n",
    "print('  bytes:', re_numbers_bytes.findall(text_bytes))   \n",
    "print('Words')\n",
    "print('  str  :', re_words_str.findall(text_str))         \n",
    "print('  bytes:', re_words_bytes.findall(text_bytes))     \n"
   ]
  },
  {
   "cell_type": "markdown",
   "metadata": {},
   "source": [
    "# Chapter 5. First-Class Functions\n",
    "\n",
    "* Created at runtime\n",
    "* Assigned to a variable or element in a data structure\n",
    "* Passed as an argument to a function\n",
    "* Returned as the result of a function"
   ]
  },
  {
   "cell_type": "code",
   "execution_count": 35,
   "metadata": {},
   "outputs": [
    {
     "data": {
      "text/plain": [
       "120"
      ]
     },
     "execution_count": 35,
     "metadata": {},
     "output_type": "execute_result"
    }
   ],
   "source": [
    "def factorial(n):  \n",
    "    '''returns n!'''\n",
    "    return 1 if n < 2 else n * factorial(n-1)\n",
    "\n",
    "fact = factorial\n",
    "fact(5)"
   ]
  },
  {
   "cell_type": "code",
   "execution_count": 36,
   "metadata": {},
   "outputs": [
    {
     "ename": "TypeError",
     "evalue": "'list' object is not callable",
     "output_type": "error",
     "traceback": [
      "\u001b[0;31m---------------------------------------------------------------------------\u001b[0m",
      "\u001b[0;31mTypeError\u001b[0m                                 Traceback (most recent call last)",
      "\u001b[0;32m<ipython-input-36-adfd64e08d59>\u001b[0m in \u001b[0;36m<module>\u001b[0;34m\u001b[0m\n\u001b[0;32m----> 1\u001b[0;31m \u001b[0mlist\u001b[0m\u001b[0;34m(\u001b[0m\u001b[0mmap\u001b[0m\u001b[0;34m(\u001b[0m\u001b[0mfact\u001b[0m\u001b[0;34m,\u001b[0m \u001b[0mrange\u001b[0m\u001b[0;34m(\u001b[0m\u001b[0;36m11\u001b[0m\u001b[0;34m)\u001b[0m\u001b[0;34m)\u001b[0m\u001b[0;34m)\u001b[0m \u001b[0;31m# map returns a function as a result\u001b[0m\u001b[0;34m\u001b[0m\u001b[0;34m\u001b[0m\u001b[0m\n\u001b[0m",
      "\u001b[0;31mTypeError\u001b[0m: 'list' object is not callable"
     ]
    }
   ],
   "source": [
    "list(map(fact, range(11))) # map returns a function as a result"
   ]
  },
  {
   "cell_type": "markdown",
   "metadata": {},
   "source": [
    "### Higher-Order Functions\n",
    "* A function that takes a function as argument \n",
    "* A function that returns a function as the result "
   ]
  },
  {
   "cell_type": "code",
   "execution_count": null,
   "metadata": {},
   "outputs": [],
   "source": [
    "fruits = ['strawberry', 'fig', 'apple', 'cherry', 'raspberry', 'banana']\n",
    "sorted(fruits, key=len) # takes len builtin as an argument"
   ]
  },
  {
   "cell_type": "code",
   "execution_count": null,
   "metadata": {},
   "outputs": [],
   "source": [
    "def reverse(word):\n",
    "    '''return reversed spelling'''\n",
    "    return word[::-1]\n",
    "\n",
    "sorted(fruits, key=reverse)"
   ]
  },
  {
   "cell_type": "markdown",
   "metadata": {},
   "source": [
    "### Use list comps instead of map and filter functions"
   ]
  },
  {
   "cell_type": "code",
   "execution_count": null,
   "metadata": {},
   "outputs": [],
   "source": [
    "[fact(n) for n in range(11)]"
   ]
  },
  {
   "cell_type": "code",
   "execution_count": null,
   "metadata": {},
   "outputs": [],
   "source": [
    "list(map(factorial, filter(lambda n: n % 2, range(6))))"
   ]
  },
  {
   "cell_type": "code",
   "execution_count": null,
   "metadata": {},
   "outputs": [],
   "source": [
    "[factorial(n) for n in range(6) if n % 2] "
   ]
  },
  {
   "cell_type": "markdown",
   "metadata": {},
   "source": [
    "### Use sum instead of reduce"
   ]
  },
  {
   "cell_type": "code",
   "execution_count": null,
   "metadata": {},
   "outputs": [],
   "source": [
    "from functools import reduce  \n",
    "from operator import add  \n",
    "reduce(add, range(100)) "
   ]
  },
  {
   "cell_type": "code",
   "execution_count": null,
   "metadata": {},
   "outputs": [],
   "source": [
    "sum(range(100))"
   ]
  },
  {
   "cell_type": "markdown",
   "metadata": {},
   "source": [
    "### Anonymous Functions\n",
    "The best use of anonymous functions is in the context of an argument list."
   ]
  },
  {
   "cell_type": "code",
   "execution_count": null,
   "metadata": {},
   "outputs": [],
   "source": [
    "sorted(fruits, key=lambda word: word[::-1])"
   ]
  },
  {
   "cell_type": "markdown",
   "metadata": {},
   "source": [
    "### The Seven Flavors of Callable Objects\n",
    "* User-defined functions\n",
    "* Built-in functions\n",
    "* Built-in methods\n",
    "* Methods\n",
    "* Classes\n",
    "* Class instances\n",
    "* Generator functions"
   ]
  },
  {
   "cell_type": "code",
   "execution_count": null,
   "metadata": {},
   "outputs": [],
   "source": [
    "[callable(obj) for obj in (abs, str, 13)]"
   ]
  },
  {
   "cell_type": "markdown",
   "metadata": {},
   "source": [
    "### Callable Types\n",
    "`classes that implement __call__`"
   ]
  },
  {
   "cell_type": "code",
   "execution_count": null,
   "metadata": {},
   "outputs": [],
   "source": [
    "import random\n",
    "class BingoCage:\n",
    "\n",
    "    def __init__(self, items):\n",
    "        self._items = list(items)   \n",
    "        random.shuffle(self._items)   \n",
    "\n",
    "    def pick(self):   \n",
    "        try:\n",
    "            return self._items.pop()\n",
    "        except IndexError:\n",
    "            raise LookupError('pick from empty BingoCage')   \n",
    "\n",
    "    def __call__(self):   \n",
    "        return self.pick()"
   ]
  },
  {
   "cell_type": "code",
   "execution_count": null,
   "metadata": {},
   "outputs": [],
   "source": [
    "bingo = BingoCage(range(3))\n",
    "bingo()"
   ]
  },
  {
   "cell_type": "markdown",
   "metadata": {},
   "source": [
    "### Function Introspection\n",
    "special functions particular to functions and not in classes"
   ]
  },
  {
   "cell_type": "code",
   "execution_count": null,
   "metadata": {},
   "outputs": [],
   "source": [
    "class c: pass\n",
    "obj = c()\n",
    "def f(): pass\n",
    "sorted(set(dir(f)) - set(dir(obj)))"
   ]
  },
  {
   "cell_type": "code",
   "execution_count": null,
   "metadata": {},
   "outputs": [],
   "source": [
    "def tag(name, *content, cls=None, **attrs):\n",
    "    \"\"\"Generate one or more HTML tags\"\"\"\n",
    "    if cls is not None:\n",
    "        attrs['class'] = cls\n",
    "    if attrs:\n",
    "        attr_str = ''.join(' %s=\"%s\"' % (attr, value)\n",
    "                           for attr, value\n",
    "                           in sorted(attrs.items()))\n",
    "    else:\n",
    "        attr_str = ''\n",
    "    if content:\n",
    "        return '\\n'.join('<%s%s>%s</%s>' %\n",
    "                         (name, attr_str, c, name) for c in content)\n",
    "    else:\n",
    "        return '<%s%s />' % (name, attr_str)\n"
   ]
  },
  {
   "cell_type": "markdown",
   "metadata": {},
   "source": [
    "### parameter handling"
   ]
  },
  {
   "cell_type": "code",
   "execution_count": null,
   "metadata": {},
   "outputs": [],
   "source": [
    "# A single positional argument produces an empty tag with that name.\n",
    "tag('br')   # '<br />' \n",
    "\n",
    "# Any number of arguments after the \n",
    "# first are captured by *content as a tuple.\n",
    "tag('p', 'hello')   # '<p>hello</p>'\n",
    "\n",
    "print(tag('p', 'hello', 'world'))\n",
    "\n",
    "# Keyword arguments not explicitly named in the \n",
    "# tag signature are captured by **attrs as a dict.\n",
    "tag('p', 'hello', id=33)   # '<p id=\"33\">hello</p>'\n",
    "\n",
    "# The cls parameter can only be passed as a keyword argument.\n",
    "print(tag('p', 'hello', 'world', cls='sidebar'))   \n",
    "\n",
    "# Even the first positional argument can be passed \n",
    "# as a keyword when tag is called.\n",
    "tag(content='testing', name=\"img\")   #'<img content=\"testing\" />'\n",
    "\n",
    "# Prefixing the my_tag dict with ** passes all its items as \n",
    "# separate arguments, which are then bound to the named parameters, \n",
    "# with the remaining caught by **attrs.\n",
    "my_tag = {'name': 'img', 'title': 'Sunset Boulevard',\n",
    "          'src': 'sunset.jpg', 'cls': 'framed'}\n",
    "tag(**my_tag)   # '<img class=\"framed\" src=\"sunset.jpg\" title=\"Sunset Boulevard\" />'"
   ]
  },
  {
   "cell_type": "markdown",
   "metadata": {},
   "source": [
    "### keyword-only arguments defined without default parameters\n",
    " To specify keyword-only arguments when defining a function, name them after the argument prefixed with *"
   ]
  },
  {
   "cell_type": "code",
   "execution_count": null,
   "metadata": {},
   "outputs": [],
   "source": [
    "def f(a, *, b, c=3):\n",
    "    d=4\n",
    "    return a,b,c\n",
    "f(1, b=2)"
   ]
  },
  {
   "cell_type": "code",
   "execution_count": null,
   "metadata": {},
   "outputs": [],
   "source": [
    "f(1,2)"
   ]
  },
  {
   "cell_type": "markdown",
   "metadata": {},
   "source": [
    "### function introspection"
   ]
  },
  {
   "cell_type": "code",
   "execution_count": null,
   "metadata": {},
   "outputs": [],
   "source": [
    "f.__kwdefaults__"
   ]
  },
  {
   "cell_type": "code",
   "execution_count": null,
   "metadata": {},
   "outputs": [],
   "source": [
    "f.__code__.co_varnames"
   ]
  },
  {
   "cell_type": "code",
   "execution_count": null,
   "metadata": {},
   "outputs": [],
   "source": [
    "f.__code__.co_argcount"
   ]
  },
  {
   "cell_type": "code",
   "execution_count": 37,
   "metadata": {},
   "outputs": [
    {
     "ename": "NameError",
     "evalue": "name 'f' is not defined",
     "output_type": "error",
     "traceback": [
      "\u001b[0;31m---------------------------------------------------------------------------\u001b[0m",
      "\u001b[0;31mNameError\u001b[0m                                 Traceback (most recent call last)",
      "\u001b[0;32m<ipython-input-37-75f27c6245b4>\u001b[0m in \u001b[0;36m<module>\u001b[0;34m\u001b[0m\n\u001b[1;32m      1\u001b[0m \u001b[0;32mfrom\u001b[0m \u001b[0minspect\u001b[0m \u001b[0;32mimport\u001b[0m \u001b[0msignature\u001b[0m\u001b[0;34m\u001b[0m\u001b[0;34m\u001b[0m\u001b[0m\n\u001b[0;32m----> 2\u001b[0;31m \u001b[0msig\u001b[0m \u001b[0;34m=\u001b[0m \u001b[0msignature\u001b[0m\u001b[0;34m(\u001b[0m\u001b[0mf\u001b[0m\u001b[0;34m)\u001b[0m \u001b[0;31m# return inspect.signature object\u001b[0m\u001b[0;34m\u001b[0m\u001b[0;34m\u001b[0m\u001b[0m\n\u001b[0m\u001b[1;32m      3\u001b[0m \u001b[0;32mfor\u001b[0m \u001b[0mname\u001b[0m\u001b[0;34m,\u001b[0m \u001b[0mparam\u001b[0m \u001b[0;32min\u001b[0m \u001b[0msig\u001b[0m\u001b[0;34m.\u001b[0m\u001b[0mparameters\u001b[0m\u001b[0;34m.\u001b[0m\u001b[0mitems\u001b[0m\u001b[0;34m(\u001b[0m\u001b[0;34m)\u001b[0m\u001b[0;34m:\u001b[0m\u001b[0;34m\u001b[0m\u001b[0;34m\u001b[0m\u001b[0m\n\u001b[1;32m      4\u001b[0m     \u001b[0mprint\u001b[0m\u001b[0;34m(\u001b[0m\u001b[0mparam\u001b[0m\u001b[0;34m.\u001b[0m\u001b[0mkind\u001b[0m\u001b[0;34m,\u001b[0m \u001b[0;34m':'\u001b[0m\u001b[0;34m,\u001b[0m \u001b[0mname\u001b[0m\u001b[0;34m,\u001b[0m \u001b[0;34m'='\u001b[0m\u001b[0;34m,\u001b[0m \u001b[0mparam\u001b[0m\u001b[0;34m.\u001b[0m\u001b[0mdefault\u001b[0m\u001b[0;34m)\u001b[0m\u001b[0;34m\u001b[0m\u001b[0;34m\u001b[0m\u001b[0m\n",
      "\u001b[0;31mNameError\u001b[0m: name 'f' is not defined"
     ]
    }
   ],
   "source": [
    "from inspect import signature\n",
    "sig = signature(f) # return inspect.signature object\n",
    "for name, param in sig.parameters.items():\n",
    "    print(param.kind, ':', name, '=', param.default)"
   ]
  },
  {
   "cell_type": "markdown",
   "metadata": {},
   "source": [
    "#### function argument validation"
   ]
  },
  {
   "cell_type": "code",
   "execution_count": null,
   "metadata": {},
   "outputs": [],
   "source": [
    "sig = signature(tag)  \n",
    "my_tag = {'name': 'img', 'title': 'Sunset Boulevard',\n",
    "          'src': 'sunset.jpg', 'cls': 'framed'}\n",
    "\n",
    "# Binding the function signature from the tag function\n",
    "bound_args = sig.bind(**my_tag)  \n",
    "bound_args"
   ]
  },
  {
   "cell_type": "code",
   "execution_count": null,
   "metadata": {},
   "outputs": [],
   "source": [
    "for name, value in bound_args.arguments.items():  \n",
    "    print(name, '=', value)\n"
   ]
  },
  {
   "cell_type": "markdown",
   "metadata": {},
   "source": [
    "## Function Annotations\n",
    "Python 3 provides syntax to attach metadata to the parameters of a function declaration and its return value. \n",
    "\n",
    "Annotations have no meaning to the Python interpreter. They are just metadata that may be used by tools, such as IDEs, frameworks, and decorators."
   ]
  },
  {
   "cell_type": "code",
   "execution_count": null,
   "metadata": {},
   "outputs": [],
   "source": [
    "def clip(text:str, max_len:'foobar'=80) -> BingoCage:   \n",
    "    pass"
   ]
  },
  {
   "cell_type": "code",
   "execution_count": null,
   "metadata": {},
   "outputs": [],
   "source": [
    "clip.__annotations__"
   ]
  },
  {
   "cell_type": "code",
   "execution_count": null,
   "metadata": {},
   "outputs": [],
   "source": [
    "sig = signature(clip)\n",
    "for param in sig.parameters.values():\n",
    "    note = repr(param.annotation).ljust(13)\n",
    "    print(note, ':', param.name, '=', param.default)"
   ]
  },
  {
   "cell_type": "markdown",
   "metadata": {},
   "source": [
    "## Packages for Functional Programming"
   ]
  },
  {
   "cell_type": "markdown",
   "metadata": {},
   "source": [
    "### The operator Module\n",
    "To save you the trouble of writing trivial anonymous functions like lambda a, b: a*b, the operator module provides function equivalents for dozens of arithmetic operators."
   ]
  },
  {
   "cell_type": "code",
   "execution_count": null,
   "metadata": {},
   "outputs": [],
   "source": [
    "#Factorial implemented with reduce and operator.mul\n",
    "from functools import reduce\n",
    "from operator import mul\n",
    "\n",
    "def fact(n):\n",
    "    return reduce(mul, range(1, n+1))"
   ]
  },
  {
   "cell_type": "markdown",
   "metadata": {},
   "source": [
    "### itemgetter\n",
    "pick items from sequences"
   ]
  },
  {
   "cell_type": "code",
   "execution_count": null,
   "metadata": {},
   "outputs": [],
   "source": [
    "# Demo of itemgetter to sort a list of tuples (data from Example 2-8)\n",
    "metro_data = [\n",
    "     ('Tokyo', 'JP', 36.933, (35.689722, 139.691667)),\n",
    "     ('Delhi NCR', 'IN', 21.935, (28.613889, 77.208889)),\n",
    "     ('Mexico City', 'MX', 20.142, (19.433333, -99.133333)),\n",
    "     ('New York-Newark', 'US', 20.104, (40.808611, -74.020386)),\n",
    "     ('Sao Paulo', 'BR', 19.649, (-23.547778, -46.635833)),\n",
    " ]\n",
    "\n",
    "# cities are printed sorted by country code (field 1).\n",
    "# itemgetter(1) does the same as lambda fields: fields[1]\n",
    "from operator import itemgetter\n",
    "for city in sorted(metro_data, key=itemgetter(1)):\n",
    "     print(city)"
   ]
  },
  {
   "cell_type": "code",
   "execution_count": null,
   "metadata": {},
   "outputs": [],
   "source": [
    "# If you pass multiple index arguments to itemgetter, \n",
    "# the function it builds will return tuples with the extracted values:\n",
    "cc_name = itemgetter(1, 0)\n",
    "for city in metro_data:\n",
    "     print(cc_name(city))"
   ]
  },
  {
   "cell_type": "code",
   "execution_count": null,
   "metadata": {},
   "outputs": [],
   "source": [
    "from collections import namedtuple\n",
    "LatLong = namedtuple('LatLong', 'lat long')  \n",
    "Metropolis = namedtuple('Metropolis', 'name cc pop coord')  \n",
    "metro_areas = [Metropolis(name, cc, pop, LatLong(lat, long))  \n",
    "     for name, cc, pop, (lat, long) in metro_data]\n",
    "metro_areas[0]"
   ]
  },
  {
   "cell_type": "code",
   "execution_count": null,
   "metadata": {},
   "outputs": [],
   "source": [
    "metro_areas[0].coord.lat  "
   ]
  },
  {
   "cell_type": "markdown",
   "metadata": {},
   "source": [
    "### attrgetter\n",
    "read attributes from objects"
   ]
  },
  {
   "cell_type": "code",
   "execution_count": null,
   "metadata": {},
   "outputs": [],
   "source": [
    "from operator import attrgetter\n",
    "name_lat = attrgetter('name', 'coord.lat')  # \n",
    "for city in sorted(metro_areas, key=attrgetter('coord.lat')):  # \n",
    "     print(name_lat(city))  # \n"
   ]
  },
  {
   "cell_type": "markdown",
   "metadata": {},
   "source": [
    "### methodcaller\n",
    "creates functions on the fly. The function it creates calls a method by name on the object given as argument"
   ]
  },
  {
   "cell_type": "code",
   "execution_count": null,
   "metadata": {},
   "outputs": [],
   "source": [
    "from operator import methodcaller\n",
    "s = 'The time has come'\n",
    "upcase = methodcaller('upper')\n",
    "upcase(s)"
   ]
  },
  {
   "cell_type": "code",
   "execution_count": null,
   "metadata": {},
   "outputs": [],
   "source": [
    "# methodcaller can also do a partial application to freeze some arguments\n",
    "hiphenate = methodcaller('replace', ' ', '-')\n",
    "hiphenate(s)"
   ]
  },
  {
   "cell_type": "markdown",
   "metadata": {},
   "source": [
    "### functools.partial \n",
    "a higher-order function that allows partial application of a function. "
   ]
  },
  {
   "cell_type": "code",
   "execution_count": null,
   "metadata": {},
   "outputs": [],
   "source": [
    "# Using partial to use a two-argument function \n",
    "# where a one-argument callable is required\n",
    "from operator import mul\n",
    "from functools import partial\n",
    "triple = partial(mul, 3)  \n",
    "triple(7)  "
   ]
  },
  {
   "cell_type": "code",
   "execution_count": null,
   "metadata": {},
   "outputs": [],
   "source": [
    "list(map(triple, range(1, 10)))  "
   ]
  },
  {
   "cell_type": "code",
   "execution_count": null,
   "metadata": {},
   "outputs": [],
   "source": [
    "# a convenient Unicode normalizing function with partial\n",
    "import unicodedata, functools\n",
    "nfc = functools.partial(unicodedata.normalize, 'NFC')\n",
    "s1 = 'café'\n",
    "s2 = 'cafe\\u0301'\n",
    "s1, s2"
   ]
  },
  {
   "cell_type": "code",
   "execution_count": null,
   "metadata": {},
   "outputs": [],
   "source": [
    "s1 == s2"
   ]
  },
  {
   "cell_type": "code",
   "execution_count": null,
   "metadata": {},
   "outputs": [],
   "source": [
    "nfc(s1) == nfc(s2)"
   ]
  },
  {
   "cell_type": "code",
   "execution_count": null,
   "metadata": {},
   "outputs": [],
   "source": [
    "nfc(s1) == nfc(s2)"
   ]
  },
  {
   "cell_type": "markdown",
   "metadata": {},
   "source": [
    "# Chapter 6. Design Patterns with First-Class Functions"
   ]
  },
  {
   "cell_type": "markdown",
   "metadata": {},
   "source": [
    "### Implementation of Strategy pattern based on abstract classes and polymorphism\n"
   ]
  },
  {
   "cell_type": "code",
   "execution_count": null,
   "metadata": {},
   "outputs": [],
   "source": [
    "from abc import ABC, abstractmethod\n",
    "from collections import namedtuple\n",
    "\n",
    "Customer = namedtuple('Customer', 'name fidelity')\n",
    "\n",
    "\n",
    "class LineItem:\n",
    "\n",
    "    def __init__(self, product, quantity, price):\n",
    "        self.product = product\n",
    "        self.quantity = quantity\n",
    "        self.price = price\n",
    "\n",
    "    def total(self):\n",
    "        return self.price * self.quantity\n",
    "\n",
    "\n",
    "class Order:  # the Context\n",
    "\n",
    "    def __init__(self, customer, cart, promotion=None):\n",
    "        self.customer = customer\n",
    "        self.cart = list(cart)\n",
    "        self.promotion = promotion\n",
    "\n",
    "    def total(self):\n",
    "        if not hasattr(self, '__total'):\n",
    "            self.__total = sum(item.total() for item in self.cart)\n",
    "        return self.__total\n",
    "\n",
    "    def due(self):\n",
    "        if self.promotion is None:\n",
    "            discount = 0\n",
    "        else:\n",
    "            discount = self.promotion.discount(self)\n",
    "        return self.total() - discount\n",
    "\n",
    "    def __repr__(self):\n",
    "        fmt = '<Order total: {:.2f} due: {:.2f}>'\n",
    "        return fmt.format(self.total(), self.due())\n",
    "\n",
    "\n",
    "class Promotion(ABC):  # the Strategy: an abstract base class\n",
    "\n",
    "    @abstractmethod\n",
    "    def discount(self, order):\n",
    "        \"\"\"Return discount as a positive dollar amount\"\"\"\n",
    "\n",
    "\n",
    "class FidelityPromo(Promotion):  # first Concrete Strategy\n",
    "    \"\"\"5% discount for customers with 1000 or more fidelity points\"\"\"\n",
    "\n",
    "    def discount(self, order):\n",
    "        return order.total() * .05 if order.customer.fidelity >= 1000 else 0\n",
    "\n",
    "\n",
    "class BulkItemPromo(Promotion):  # second Concrete Strategy\n",
    "    \"\"\"10% discount for each LineItem with 20 or more units\"\"\"\n",
    "\n",
    "    def discount(self, order):\n",
    "        discount = 0\n",
    "        for item in order.cart:\n",
    "            if item.quantity >= 20:\n",
    "                discount += item.total() * .1\n",
    "        return discount\n",
    "\n",
    "\n",
    "class LargeOrderPromo(Promotion):  # third Concrete Strategy\n",
    "    \"\"\"7% discount for orders with 10 or more distinct items\"\"\"\n",
    "\n",
    "    def discount(self, order):\n",
    "        distinct_items = {item.product for item in order.cart}\n",
    "        if len(distinct_items) >= 10:\n",
    "            return order.total() * .07\n",
    "        return 0\n"
   ]
  },
  {
   "cell_type": "code",
   "execution_count": 38,
   "metadata": {},
   "outputs": [
    {
     "ename": "NameError",
     "evalue": "name 'Customer' is not defined",
     "output_type": "error",
     "traceback": [
      "\u001b[0;31m---------------------------------------------------------------------------\u001b[0m",
      "\u001b[0;31mNameError\u001b[0m                                 Traceback (most recent call last)",
      "\u001b[0;32m<ipython-input-38-ecc7d48adeb0>\u001b[0m in \u001b[0;36m<module>\u001b[0;34m\u001b[0m\n\u001b[0;32m----> 1\u001b[0;31m \u001b[0mjoe\u001b[0m \u001b[0;34m=\u001b[0m \u001b[0mCustomer\u001b[0m\u001b[0;34m(\u001b[0m\u001b[0;34m'John Doe'\u001b[0m\u001b[0;34m,\u001b[0m \u001b[0;36m0\u001b[0m\u001b[0;34m)\u001b[0m\u001b[0;34m\u001b[0m\u001b[0;34m\u001b[0m\u001b[0m\n\u001b[0m\u001b[1;32m      2\u001b[0m \u001b[0mann\u001b[0m \u001b[0;34m=\u001b[0m \u001b[0mCustomer\u001b[0m\u001b[0;34m(\u001b[0m\u001b[0;34m'Ann Smith'\u001b[0m\u001b[0;34m,\u001b[0m \u001b[0;36m1100\u001b[0m\u001b[0;34m)\u001b[0m\u001b[0;34m\u001b[0m\u001b[0;34m\u001b[0m\u001b[0m\n\u001b[1;32m      3\u001b[0m cart = [LineItem('banana', 4, .5),   \n\u001b[1;32m      4\u001b[0m          \u001b[0mLineItem\u001b[0m\u001b[0;34m(\u001b[0m\u001b[0;34m'apple'\u001b[0m\u001b[0;34m,\u001b[0m \u001b[0;36m10\u001b[0m\u001b[0;34m,\u001b[0m \u001b[0;36m1.5\u001b[0m\u001b[0;34m)\u001b[0m\u001b[0;34m,\u001b[0m\u001b[0;34m\u001b[0m\u001b[0;34m\u001b[0m\u001b[0m\n\u001b[1;32m      5\u001b[0m          LineItem('watermellon', 5, 5.0)]\n",
      "\u001b[0;31mNameError\u001b[0m: name 'Customer' is not defined"
     ]
    }
   ],
   "source": [
    "joe = Customer('John Doe', 0) \n",
    "ann = Customer('Ann Smith', 1100)\n",
    "cart = [LineItem('banana', 4, .5),   \n",
    "         LineItem('apple', 10, 1.5),\n",
    "         LineItem('watermellon', 5, 5.0)]\n",
    "\n",
    "Order(joe, cart, FidelityPromo())   #<Order total: 42.00 due: 42.00>\n",
    "Order(ann, cart, FidelityPromo())   #<Order total: 42.00 due: 39.90>\n",
    "\n",
    "banana_cart = [LineItem('banana', 30, .5), LineItem('apple', 10, 1.5)]\n",
    "\n",
    "Order(joe, banana_cart, BulkItemPromo()) #<Order total: 30.00 due: 28.50>\n",
    "\n",
    "long_order = [LineItem(str(item_code), 1, 1.0) for item_code in range(10)]\n",
    "\n",
    "Order(joe, long_order, LargeOrderPromo())   #<Order total: 10.00 due: 9.30>\n",
    "Order(joe, cart, LargeOrderPromo()) #<Order total: 42.00 due: 42.00>"
   ]
  },
  {
   "cell_type": "markdown",
   "metadata": {},
   "source": [
    "### Strategies pattern implemented as functions as first class objects"
   ]
  },
  {
   "cell_type": "code",
   "execution_count": null,
   "metadata": {},
   "outputs": [],
   "source": [
    "from collections import namedtuple\n",
    "\n",
    "Customer = namedtuple('Customer', 'name fidelity')\n",
    "\n",
    "\n",
    "class LineItem:\n",
    "\n",
    "    def __init__(self, product, quantity, price):\n",
    "        self.product = product\n",
    "        self.quantity = quantity\n",
    "        self.price = price\n",
    "\n",
    "    def total(self):\n",
    "        return self.price * self.quantity\n",
    "\n",
    "\n",
    "class Order:  # the Context\n",
    "    \n",
    "    def __init__(self, customer, cart, promotion=None):\n",
    "        self.customer = customer\n",
    "        self.cart = list(cart)\n",
    "        self.promotion = promotion\n",
    "\n",
    "    def total(self):\n",
    "        if not hasattr(self, '__total'):\n",
    "            self.__total = sum(item.total() for item in self.cart)\n",
    "        return self.__total\n",
    "\n",
    "    def due(self):\n",
    "        if self.promotion is None:\n",
    "            discount = 0\n",
    "        else:\n",
    "            discount = self.promotion(self)   \n",
    "        return self.total() - discount\n",
    "\n",
    "    def __repr__(self):\n",
    "        fmt = '<Order total: {:.2f} due: {:.2f}>'\n",
    "        return fmt.format(self.total(), self.due())\n",
    "\n",
    "\n",
    "def fidelity_promo(order):   \n",
    "    \"\"\"5% discount for customers with 1000 or more fidelity points\"\"\"\n",
    "    return order.total() * .05 if order.customer.fidelity >= 1000 else 0\n",
    "\n",
    "\n",
    "def bulk_item_promo(order):\n",
    "    \"\"\"10% discount for each LineItem with 20 or more units\"\"\"\n",
    "    discount = 0\n",
    "    for item in order.cart:\n",
    "        if item.quantity >= 20:\n",
    "            discount += item.total() * .1\n",
    "    return discount\n",
    "\n",
    "\n",
    "def large_order_promo(order):\n",
    "    \"\"\"7% discount for orders with 10 or more distinct items\"\"\"\n",
    "    distinct_items = {item.product for item in order.cart}\n",
    "    if len(distinct_items) >= 10:\n",
    "        return order.total() * .07\n",
    "    return 0"
   ]
  },
  {
   "cell_type": "code",
   "execution_count": null,
   "metadata": {},
   "outputs": [],
   "source": [
    "Order(joe, cart, fidelity_promo)   #<Order total: 42.00 due: 42.00>\n",
    "Order(ann, cart, fidelity_promo)  #<Order total: 42.00 due: 39.90>\n",
    "Order(joe, banana_cart, bulk_item_promo) #<Order total: 30.00 due: 28.50>\n",
    "Order(joe, long_order, large_order_promo)   #<Order total: 10.00 due: 9.30>\n",
    "Order(joe, cart, large_order_promo) #<Order total: 42.00 due: 42.00>"
   ]
  },
  {
   "cell_type": "markdown",
   "metadata": {},
   "source": [
    "### Finding Strategies in a Module using inspect.getmembers"
   ]
  },
  {
   "cell_type": "code",
   "execution_count": null,
   "metadata": {},
   "outputs": [],
   "source": [
    "class Promotions:\n",
    "    def fidelity_promo(self, order):   \n",
    "        \"\"\"5% discount for customers with 1000 or more fidelity points\"\"\"\n",
    "        return order.total() * .05 if order.customer.fidelity >= 1000 else 0\n",
    "\n",
    "\n",
    "    def bulk_item_promo(self, order):\n",
    "        \"\"\"10% discount for each LineItem with 20 or more units\"\"\"\n",
    "        discount = 0\n",
    "        for item in order.cart:\n",
    "            if item.quantity >= 20:\n",
    "                discount += item.total() * .1\n",
    "        return discount\n",
    "\n",
    "\n",
    "    def large_order_promo(self, order):\n",
    "        \"\"\"7% discount for orders with 10 or more distinct items\"\"\"\n",
    "        distinct_items = {item.product for item in order.cart}\n",
    "        if len(distinct_items) >= 10:\n",
    "            return order.total() * .07\n",
    "        return 0\n",
    "    \n",
    "promotions = Promotions()\n",
    "promos = [func for name, func in inspect.getmembers(promotions, \n",
    "                                                    inspect.ismethod)]\n",
    "\n",
    "def best_promo(order):\n",
    "    \"\"\"Select best discount available\n",
    "    \"\"\"\n",
    "    return max(promo(order) for promo in promos)\n"
   ]
  },
  {
   "cell_type": "code",
   "execution_count": null,
   "metadata": {},
   "outputs": [],
   "source": [
    "Order(joe, cart, best_promo)"
   ]
  },
  {
   "cell_type": "markdown",
   "metadata": {},
   "source": [
    "### Implementation of Command pattern based on callable objects\n"
   ]
  },
  {
   "cell_type": "code",
   "execution_count": null,
   "metadata": {},
   "outputs": [],
   "source": [
    "class MacroCommand:\n",
    "    \"\"\"A command that executes a list of commands\"\"\"\n",
    "\n",
    "    def __init__(self, commands):\n",
    "        self.commands = list(commands)  # \n",
    "\n",
    "    def __call__(self):\n",
    "        for command in self.commands:  # \n",
    "            command()"
   ]
  },
  {
   "cell_type": "markdown",
   "metadata": {},
   "source": [
    "# Chapter 7. Function Decorators and Closures\n",
    "A decorator is a callable that takes another function as argument (the decorated function). The decorator may perform some processing with the decorated function, and returns it or replaces it with another function or callable object.\n"
   ]
  },
  {
   "cell_type": "markdown",
   "metadata": {},
   "source": [
    "`@decorate\n",
    "def target():\n",
    "    print('running target()')`\n",
    "\n",
    "is the same as\n",
    "\n",
    "`def target():\n",
    "    print('running target()')`\n",
    "\n",
    "`target = decorate(target)`"
   ]
  },
  {
   "cell_type": "code",
   "execution_count": null,
   "metadata": {},
   "outputs": [],
   "source": [
    "def deco(func):\n",
    "     def inner():\n",
    "         print('running inner()')\n",
    "     return inner  \n",
    "\n",
    "@deco\n",
    "def target():  \n",
    "    print('running target()')"
   ]
  },
  {
   "cell_type": "code",
   "execution_count": null,
   "metadata": {},
   "outputs": [],
   "source": [
    "target()"
   ]
  },
  {
   "cell_type": "markdown",
   "metadata": {},
   "source": [
    "decorators run right after the decorated function is defined usually at import time. The decorated function is passed as a parameter to the decorator"
   ]
  },
  {
   "cell_type": "code",
   "execution_count": null,
   "metadata": {},
   "outputs": [],
   "source": [
    "registry = []   \n",
    "\n",
    "def register(func):   \n",
    "    print('running register(%s)' % func)   \n",
    "    registry.append(func)   \n",
    "    return func   # In practice, most decorators \n",
    "                  # define an inner function and return it.\n",
    "\n",
    "@register   \n",
    "def f1():\n",
    "    print('running f1()')\n",
    "\n",
    "@register\n",
    "def f2():\n",
    "    print('running f2()')\n",
    "\n",
    "def f3():   \n",
    "    print('running f3()')\n",
    "\n",
    "def main():   \n",
    "    print('running main()')\n",
    "    print('registry ->', registry)\n",
    "    f1()\n",
    "    f2()\n",
    "    f3()\n",
    "    \n",
    "if __name__=='__main__':\n",
    "    main()   "
   ]
  },
  {
   "cell_type": "markdown",
   "metadata": {},
   "source": [
    "## Decorator-Enhanced Strategy Pattern"
   ]
  },
  {
   "cell_type": "code",
   "execution_count": null,
   "metadata": {},
   "outputs": [],
   "source": [
    "# Any function decorated by @promotion will be added to promos\n",
    "\n",
    "promos = []\n",
    "def promotion(promo_func):   \n",
    "    promos.append(promo_func)\n",
    "    return promo_func\n",
    "\n",
    "@promotion   \n",
    "def fidelity(order):\n",
    "    \"\"\"5% discount for customers with 1000 or more fidelity points\"\"\"\n",
    "    return order.total() * .05 if order.customer.fidelity >= 1000 else 0\n",
    "\n",
    "@promotion\n",
    "def bulk_item(order):\n",
    "    \"\"\"10% discount for each LineItem with 20 or more units\"\"\"\n",
    "    discount = 0\n",
    "    for item in order.cart:\n",
    "        if item.quantity >= 20:\n",
    "            discount += item.total() * .1\n",
    "    return discount\n",
    "\n",
    "@promotion\n",
    "def large_order(order):\n",
    "    \"\"\"7% discount for orders with 10 or more distinct items\"\"\"\n",
    "    distinct_items = {item.product for item in order.cart}\n",
    "    if len(distinct_items) >= 10:\n",
    "        return order.total() * .07\n",
    "    return 0\n",
    "\n",
    "def best_promo(order):   \n",
    "    \"\"\"Select best discount available\n",
    "    \"\"\"\n",
    "    return max(promo(order) for promo in promos)"
   ]
  },
  {
   "cell_type": "markdown",
   "metadata": {},
   "source": [
    "## Local Variables in functions"
   ]
  },
  {
   "cell_type": "code",
   "execution_count": null,
   "metadata": {},
   "outputs": [],
   "source": [
    "# Variable b is local, because it is assigned a \n",
    "# value in the body of the function\n",
    "\n",
    "b = 6\n",
    "def f2(a):\n",
    "    print(a)\n",
    "    print(b)\n",
    "    b = 9"
   ]
  },
  {
   "cell_type": "code",
   "execution_count": null,
   "metadata": {},
   "outputs": [],
   "source": [
    "f2(3)"
   ]
  },
  {
   "cell_type": "markdown",
   "metadata": {},
   "source": [
    "If we want the interpreter to treat b as a global variable in spite of the assignment within the function, we use the global declaration"
   ]
  },
  {
   "cell_type": "code",
   "execution_count": null,
   "metadata": {},
   "outputs": [],
   "source": [
    "def f3(a):\n",
    "    global b\n",
    "    print(a)\n",
    "    print(b)\n",
    "    b = 9"
   ]
  },
  {
   "cell_type": "code",
   "execution_count": null,
   "metadata": {},
   "outputs": [],
   "source": [
    "f3(3)"
   ]
  },
  {
   "cell_type": "markdown",
   "metadata": {},
   "source": [
    "## Closures\n",
    "a closure is a function with an extended scope that encompasses nonglobal variables referenced in the body of the function but not defined there."
   ]
  },
  {
   "cell_type": "code",
   "execution_count": null,
   "metadata": {},
   "outputs": [],
   "source": [
    "#  A callable object to calculate a running average\n",
    "class Averager():\n",
    "\n",
    "    def __init__(self):\n",
    "        self.series = []\n",
    "\n",
    "    def __call__(self, new_value):\n",
    "        self.series.append(new_value)\n",
    "        total = sum(self.series)\n",
    "        return total/len(self.series)"
   ]
  },
  {
   "cell_type": "code",
   "execution_count": null,
   "metadata": {},
   "outputs": [],
   "source": [
    "avg = Averager()\n",
    "[avg(i) for i in range(10)]"
   ]
  },
  {
   "cell_type": "code",
   "execution_count": null,
   "metadata": {},
   "outputs": [],
   "source": [
    "#  A closure to calculate a running average\n",
    "def make_averager():\n",
    "    series = [] # series is not bound in the local scope (free)\n",
    "                # so exists after the local scope is gone\n",
    "\n",
    "    def averager(new_value):\n",
    "        series.append(new_value)\n",
    "        total = sum(series)\n",
    "        return total/len(series)\n",
    "\n",
    "    return averager"
   ]
  },
  {
   "cell_type": "code",
   "execution_count": null,
   "metadata": {},
   "outputs": [],
   "source": [
    "avg = make_averager()\n",
    "[avg(i) for i in range(10)]"
   ]
  },
  {
   "cell_type": "markdown",
   "metadata": {},
   "source": [
    "series is not bound in the local scope (free variable) so exists after the local scope is gone"
   ]
  },
  {
   "cell_type": "code",
   "execution_count": null,
   "metadata": {},
   "outputs": [],
   "source": [
    "avg.__code__.co_varnames"
   ]
  },
  {
   "cell_type": "code",
   "execution_count": null,
   "metadata": {},
   "outputs": [],
   "source": [
    "avg.__code__.co_freevars"
   ]
  },
  {
   "cell_type": "code",
   "execution_count": null,
   "metadata": {},
   "outputs": [],
   "source": [
    "avg.__closure__[0].cell_contents"
   ]
  },
  {
   "cell_type": "markdown",
   "metadata": {},
   "source": [
    "## non-local variables\n",
    "non-local keyword flags a variable as a free variable even when it is assigned a new value within the function. "
   ]
  },
  {
   "cell_type": "code",
   "execution_count": 39,
   "metadata": {},
   "outputs": [],
   "source": [
    "def make_averager():\n",
    "    count = 0 # total and count are immutable types so are bound local variables\n",
    "    total = 0\n",
    "\n",
    "    def averager(new_value):\n",
    "        count += 1\n",
    "        total += new_value\n",
    "        return total / count\n",
    "\n",
    "    return averager"
   ]
  },
  {
   "cell_type": "code",
   "execution_count": 40,
   "metadata": {},
   "outputs": [
    {
     "ename": "UnboundLocalError",
     "evalue": "local variable 'count' referenced before assignment",
     "output_type": "error",
     "traceback": [
      "\u001b[0;31m---------------------------------------------------------------------------\u001b[0m",
      "\u001b[0;31mUnboundLocalError\u001b[0m                         Traceback (most recent call last)",
      "\u001b[0;32m<ipython-input-40-2c4957d8659e>\u001b[0m in \u001b[0;36m<module>\u001b[0;34m\u001b[0m\n\u001b[1;32m      1\u001b[0m \u001b[0mavg\u001b[0m \u001b[0;34m=\u001b[0m \u001b[0mmake_averager\u001b[0m\u001b[0;34m(\u001b[0m\u001b[0;34m)\u001b[0m\u001b[0;34m\u001b[0m\u001b[0;34m\u001b[0m\u001b[0m\n\u001b[0;32m----> 2\u001b[0;31m \u001b[0;34m[\u001b[0m\u001b[0mavg\u001b[0m\u001b[0;34m(\u001b[0m\u001b[0mi\u001b[0m\u001b[0;34m)\u001b[0m \u001b[0;32mfor\u001b[0m \u001b[0mi\u001b[0m \u001b[0;32min\u001b[0m \u001b[0mrange\u001b[0m\u001b[0;34m(\u001b[0m\u001b[0;36m10\u001b[0m\u001b[0;34m)\u001b[0m\u001b[0;34m]\u001b[0m\u001b[0;34m\u001b[0m\u001b[0;34m\u001b[0m\u001b[0m\n\u001b[0m",
      "\u001b[0;32m<ipython-input-40-2c4957d8659e>\u001b[0m in \u001b[0;36m<listcomp>\u001b[0;34m(.0)\u001b[0m\n\u001b[1;32m      1\u001b[0m \u001b[0mavg\u001b[0m \u001b[0;34m=\u001b[0m \u001b[0mmake_averager\u001b[0m\u001b[0;34m(\u001b[0m\u001b[0;34m)\u001b[0m\u001b[0;34m\u001b[0m\u001b[0;34m\u001b[0m\u001b[0m\n\u001b[0;32m----> 2\u001b[0;31m \u001b[0;34m[\u001b[0m\u001b[0mavg\u001b[0m\u001b[0;34m(\u001b[0m\u001b[0mi\u001b[0m\u001b[0;34m)\u001b[0m \u001b[0;32mfor\u001b[0m \u001b[0mi\u001b[0m \u001b[0;32min\u001b[0m \u001b[0mrange\u001b[0m\u001b[0;34m(\u001b[0m\u001b[0;36m10\u001b[0m\u001b[0;34m)\u001b[0m\u001b[0;34m]\u001b[0m\u001b[0;34m\u001b[0m\u001b[0;34m\u001b[0m\u001b[0m\n\u001b[0m",
      "\u001b[0;32m<ipython-input-39-859eba1e9dd1>\u001b[0m in \u001b[0;36maverager\u001b[0;34m(new_value)\u001b[0m\n\u001b[1;32m      4\u001b[0m \u001b[0;34m\u001b[0m\u001b[0m\n\u001b[1;32m      5\u001b[0m     \u001b[0;32mdef\u001b[0m \u001b[0maverager\u001b[0m\u001b[0;34m(\u001b[0m\u001b[0mnew_value\u001b[0m\u001b[0;34m)\u001b[0m\u001b[0;34m:\u001b[0m\u001b[0;34m\u001b[0m\u001b[0;34m\u001b[0m\u001b[0m\n\u001b[0;32m----> 6\u001b[0;31m         \u001b[0mcount\u001b[0m \u001b[0;34m+=\u001b[0m \u001b[0;36m1\u001b[0m\u001b[0;34m\u001b[0m\u001b[0;34m\u001b[0m\u001b[0m\n\u001b[0m\u001b[1;32m      7\u001b[0m         \u001b[0mtotal\u001b[0m \u001b[0;34m+=\u001b[0m \u001b[0mnew_value\u001b[0m\u001b[0;34m\u001b[0m\u001b[0;34m\u001b[0m\u001b[0m\n\u001b[1;32m      8\u001b[0m         \u001b[0;32mreturn\u001b[0m \u001b[0mtotal\u001b[0m \u001b[0;34m/\u001b[0m \u001b[0mcount\u001b[0m\u001b[0;34m\u001b[0m\u001b[0;34m\u001b[0m\u001b[0m\n",
      "\u001b[0;31mUnboundLocalError\u001b[0m: local variable 'count' referenced before assignment"
     ]
    }
   ],
   "source": [
    "\n",
    "avg = make_averager()\n",
    "[avg(i) for i in range(10)]"
   ]
  },
  {
   "cell_type": "code",
   "execution_count": null,
   "metadata": {},
   "outputs": [],
   "source": [
    "def make_averager():\n",
    "    count = 0\n",
    "    total = 0\n",
    "\n",
    "    def averager(new_value):\n",
    "        nonlocal count, total\n",
    "        count += 1\n",
    "        total += new_value\n",
    "        return total / count\n",
    "\n",
    "    return averager"
   ]
  },
  {
   "cell_type": "code",
   "execution_count": null,
   "metadata": {},
   "outputs": [],
   "source": [
    "avg = make_averager()\n",
    "[avg(i) for i in range(10)]"
   ]
  },
  {
   "cell_type": "code",
   "execution_count": null,
   "metadata": {},
   "outputs": [],
   "source": [
    "# A simple decorator to output the running time of functions\n",
    "import time\n",
    "\n",
    "def clock(func):\n",
    "    def clocked(*args):  \n",
    "        t0 = time.perf_counter()\n",
    "        result = func(*args)  \n",
    "        elapsed = time.perf_counter() - t0\n",
    "        name = func.__name__\n",
    "        arg_str = ', '.join(repr(arg) for arg in args)\n",
    "        print('[%0.8fs] %s(%s) -> %r' % (elapsed, name, arg_str, result))\n",
    "        return result\n",
    "    return clocked  \n",
    "@clock\n",
    "def snooze(seconds):\n",
    "    time.sleep(seconds)\n",
    "\n",
    "@clock\n",
    "def factorial(n):\n",
    "    return 1 if n < 2 else n*factorial(n-1)\n",
    "\n",
    "if __name__=='__main__':\n",
    "    print('*' * 40, 'Calling snooze(.123)')\n",
    "    snooze(.123)\n",
    "    print('*' * 40, 'Calling factorial(6)')\n",
    "    print('6! =', factorial(6))"
   ]
  },
  {
   "cell_type": "markdown",
   "metadata": {},
   "source": [
    "### keyword argument support with @functools.wraps"
   ]
  },
  {
   "cell_type": "code",
   "execution_count": null,
   "metadata": {},
   "outputs": [],
   "source": [
    "import time\n",
    "import functools\n",
    "def clock(func):\n",
    "    @functools.wraps(func)\n",
    "    def clocked(*args, **kwargs):\n",
    "        t0 = time.time()\n",
    "        result = func(*args, **kwargs)\n",
    "        elapsed = time.time() - t0\n",
    "        name = func.__name__\n",
    "        arg_lst = []\n",
    "        if args:\n",
    "            arg_lst.append(', '.join(repr(arg) for arg in args))\n",
    "        if kwargs:\n",
    "            pairs = ['%s=%r' % (k, w) for k, w in sorted(kwargs.items())]\n",
    "            arg_lst.append(', '.join(pairs))\n",
    "        arg_str = ', '.join(arg_lst)\n",
    "        print('[%0.8fs] %s(%s) -> %r ' % (elapsed, name, arg_str, result))\n",
    "        return result\n",
    "    return clocked"
   ]
  },
  {
   "cell_type": "code",
   "execution_count": null,
   "metadata": {},
   "outputs": [],
   "source": [
    "@clock\n",
    "def snooze(seconds):\n",
    "    time.sleep(seconds)\n",
    "\n",
    "@clock\n",
    "def factorial(n):\n",
    "    return 1 if n < 2 else n*factorial(n-1)\n",
    "\n",
    "if __name__=='__main__':\n",
    "    print('*' * 40, 'Calling snooze(.123)')\n",
    "    snooze(.123)\n",
    "    print('*' * 40, 'Calling factorial(6)')\n",
    "    print('6! =', factorial(6))"
   ]
  },
  {
   "cell_type": "markdown",
   "metadata": {},
   "source": [
    "### Memoization with functools.lru_cache()\n",
    "memoization: an optimization technique that works by saving the results of previous invocations of an expensive function.\n",
    "\n",
    "The letters LRU stand for Least Recently Used, meaning that the growth of the cache is limited by discarding the entries that have not been read for a while (determined by the maxsize parameter)\n",
    "\n",
    "generating the nth number in the Fibonacci sequence makes a lot of redundent calls without memoization"
   ]
  },
  {
   "cell_type": "code",
   "execution_count": null,
   "metadata": {},
   "outputs": [],
   "source": [
    "@clock\n",
    "def fibonacci(n):\n",
    "    if n < 2:\n",
    "        return n\n",
    "    return fibonacci(n-2) + fibonacci(n-1)\n",
    "\n",
    "print(fibonacci(6))\n"
   ]
  },
  {
   "cell_type": "code",
   "execution_count": null,
   "metadata": {},
   "outputs": [],
   "source": [
    "@functools.lru_cache() \n",
    "@clock  # \n",
    "def fibonacci(n):\n",
    "    if n < 2:\n",
    "        return n\n",
    "    return fibonacci(n-2) + fibonacci(n-1)\n",
    "\n",
    "print(fibonacci(6))"
   ]
  },
  {
   "cell_type": "markdown",
   "metadata": {},
   "source": [
    "### Generic Functions using functools.singledispatch()\n",
    "\n",
    "We want to be able to generate HTML displays for different types of Python objects without a chain of if/elif/elif calling specialized functions like htmlize_str, htmlize_int, etc"
   ]
  },
  {
   "cell_type": "code",
   "execution_count": null,
   "metadata": {},
   "outputs": [],
   "source": [
    "from functools import singledispatch\n",
    "from collections import abc\n",
    "import numbers\n",
    "import html\n",
    "\n",
    "@singledispatch   \n",
    "def htmlize(obj):\n",
    "    print('calling generic version')\n",
    "    content = html.escape(repr(obj))\n",
    "    return '<pre>{}</pre>'.format(content)\n",
    "\n",
    "@htmlize.register(str)   \n",
    "def _(text): \n",
    "    print('calling str version')\n",
    "    content = html.escape(text).replace('\\n', '<br>\\n')\n",
    "    return '<p>{0}</p>'.format(content)\n",
    "\n",
    "@htmlize.register(numbers.Integral)   \n",
    "def _(n):\n",
    "    print('calling Integral version')\n",
    "    return '<pre>{0} (0x{0:x})</pre>'.format(n)\n",
    "\n",
    "@htmlize.register(tuple)   \n",
    "@htmlize.register(abc.MutableSequence)\n",
    "def _(seq):\n",
    "    print('calling MutableSequence version')\n",
    "    inner = '</li>\\n<li>'.join(htmlize(item) for item in seq)\n",
    "    return '<ul>\\n<li>' + inner + '</li>\\n</ul>'"
   ]
  },
  {
   "cell_type": "code",
   "execution_count": null,
   "metadata": {},
   "outputs": [],
   "source": [
    "htmlize({1, 2, 3})"
   ]
  },
  {
   "cell_type": "code",
   "execution_count": null,
   "metadata": {},
   "outputs": [],
   "source": [
    "htmlize(abs)"
   ]
  },
  {
   "cell_type": "code",
   "execution_count": null,
   "metadata": {},
   "outputs": [],
   "source": [
    "htmlize('Heimlich & Co.\\n- a game')"
   ]
  },
  {
   "cell_type": "code",
   "execution_count": null,
   "metadata": {},
   "outputs": [],
   "source": [
    "htmlize(42)"
   ]
  },
  {
   "cell_type": "code",
   "execution_count": null,
   "metadata": {},
   "outputs": [],
   "source": [
    "htmlize(['alpha', 66, {3, 2, 1}])"
   ]
  },
  {
   "cell_type": "markdown",
   "metadata": {},
   "source": [
    "## Stacked Decorators"
   ]
  },
  {
   "cell_type": "markdown",
   "metadata": {},
   "source": [
    "`@d1\n",
    "@d2\n",
    "def f():\n",
    "    print('f')`\n",
    "    \n",
    "Is the same as:\n",
    "\n",
    "`def f():\n",
    "   print('f')`\n",
    "\n",
    "`f = d1(d2(f))`"
   ]
  },
  {
   "cell_type": "markdown",
   "metadata": {},
   "source": [
    "## Parameterized Decorators"
   ]
  },
  {
   "cell_type": "code",
   "execution_count": null,
   "metadata": {},
   "outputs": [],
   "source": [
    "registry = []\n",
    "\n",
    "def register(func):\n",
    "    print('running register(%s)' % func)\n",
    "    registry.append(func)\n",
    "    return func\n",
    "\n",
    "@register\n",
    "def f1():\n",
    "    print('running f1()')\n",
    "\n",
    "print('running main()')\n",
    "print('registry ->', registry)\n",
    "f1()"
   ]
  },
  {
   "cell_type": "code",
   "execution_count": null,
   "metadata": {},
   "outputs": [],
   "source": [
    "# To accept parameters, the new register decorator \n",
    "# must be called as a function\n",
    "\n",
    "registry = set()   \n",
    "\n",
    "def register(active=True):   \n",
    "    def decorate(func):   \n",
    "        print('running register(active=%s)->decorate(%s)'\n",
    "              % (active, func))\n",
    "        if active:    \n",
    "            registry.add(func)\n",
    "        else:\n",
    "            registry.discard(func)   \n",
    "\n",
    "        return func   \n",
    "    return decorate   \n",
    "\n",
    "@register(active=False)   \n",
    "def f1():\n",
    "    print('running f1()')\n",
    "\n",
    "@register()   \n",
    "def f2():\n",
    "    print('running f2()')\n",
    "\n",
    "def f3():\n",
    "    print('running f3()')\n",
    "    "
   ]
  },
  {
   "cell_type": "code",
   "execution_count": null,
   "metadata": {},
   "outputs": [],
   "source": [
    "registry"
   ]
  },
  {
   "cell_type": "code",
   "execution_count": null,
   "metadata": {},
   "outputs": [],
   "source": [
    "# call decorator directly passing parameter\n",
    "register()(f3)"
   ]
  },
  {
   "cell_type": "code",
   "execution_count": null,
   "metadata": {},
   "outputs": [],
   "source": [
    "registry"
   ]
  },
  {
   "cell_type": "code",
   "execution_count": null,
   "metadata": {},
   "outputs": [],
   "source": [
    "# remove f2 from the registry\n",
    "register(active=False)(f2)"
   ]
  },
  {
   "cell_type": "code",
   "execution_count": null,
   "metadata": {},
   "outputs": [],
   "source": [
    "registry"
   ]
  },
  {
   "cell_type": "markdown",
   "metadata": {},
   "source": [
    "### The Parameterized Clock Decorator\n",
    "users may pass a format string to control the output of the decorated function. "
   ]
  },
  {
   "cell_type": "code",
   "execution_count": 41,
   "metadata": {},
   "outputs": [
    {
     "name": "stdout",
     "output_type": "stream",
     "text": [
      "[0.12803006s] snooze(0.123) -> None\n",
      "[0.12547994s] snooze(0.123) -> None\n",
      "[0.12408185s] snooze(0.123) -> None\n"
     ]
    }
   ],
   "source": [
    "import time\n",
    "\n",
    "DEFAULT_FMT = '[{elapsed:0.8f}s] {name}({args}) -> {result}'\n",
    "\n",
    "def clock(fmt=DEFAULT_FMT):   \n",
    "    def decorate(func):       \n",
    "        def clocked(*_args):  \n",
    "            t0 = time.time()\n",
    "            _result = func(*_args)   \n",
    "            elapsed = time.time() - t0\n",
    "            name = func.__name__\n",
    "            args = ', '.join(repr(arg) for arg in _args)   \n",
    "            result = repr(_result)   \n",
    "            print(fmt.format(**locals()))   \n",
    "            return _result   \n",
    "        return clocked   \n",
    "    return decorate   \n",
    "\n",
    "if __name__ == '__main__':\n",
    "\n",
    "    @clock()   \n",
    "    def snooze(seconds):\n",
    "        time.sleep(seconds)\n",
    "\n",
    "    for i in range(3):\n",
    "        snooze(.123)"
   ]
  },
  {
   "cell_type": "code",
   "execution_count": 42,
   "metadata": {},
   "outputs": [
    {
     "name": "stdout",
     "output_type": "stream",
     "text": [
      "snooze: 0.12324190139770508s\n",
      "snooze: 0.1234130859375s\n",
      "snooze: 0.12537693977355957s\n"
     ]
    }
   ],
   "source": [
    "import time\n",
    "\n",
    "@clock('{name}: {elapsed}s')\n",
    "def snooze(seconds):\n",
    "    time.sleep(seconds)\n",
    "\n",
    "for i in range(3):\n",
    "    snooze(.123)"
   ]
  },
  {
   "cell_type": "code",
   "execution_count": 43,
   "metadata": {},
   "outputs": [
    {
     "name": "stdout",
     "output_type": "stream",
     "text": [
      "snooze(0.123) dt=0.127s\n",
      "snooze(0.123) dt=0.128s\n",
      "snooze(0.123) dt=0.125s\n"
     ]
    }
   ],
   "source": [
    "@clock('{name}({args}) dt={elapsed:0.3f}s')\n",
    "def snooze(seconds):\n",
    "    time.sleep(seconds)\n",
    "\n",
    "for i in range(3):\n",
    "    snooze(.123)"
   ]
  },
  {
   "cell_type": "markdown",
   "metadata": {},
   "source": [
    "# Chapter 8. Object References, Mutability, and Recycling\n",
    "\n",
    "Variables are labels, not boxes"
   ]
  },
  {
   "cell_type": "code",
   "execution_count": 44,
   "metadata": {},
   "outputs": [
    {
     "data": {
      "text/plain": [
       "[1, 2, 3, 4]"
      ]
     },
     "execution_count": 44,
     "metadata": {},
     "output_type": "execute_result"
    }
   ],
   "source": [
    "# Variables a and b hold references to the same list,\n",
    "# not copies of the list\n",
    "\n",
    "a = [1,2,3]\n",
    "b = a\n",
    "a.append(4)\n",
    "b"
   ]
  },
  {
   "cell_type": "code",
   "execution_count": 47,
   "metadata": {
    "scrolled": true
   },
   "outputs": [
    {
     "name": "stdout",
     "output_type": "stream",
     "text": [
      "Gizmo id: 140496492748272\n",
      "Gizmo id: 140496492747264\n"
     ]
    },
    {
     "ename": "TypeError",
     "evalue": "unsupported operand type(s) for *: 'Gizmo' and 'int'",
     "output_type": "error",
     "traceback": [
      "\u001b[0;31m---------------------------------------------------------------------------\u001b[0m",
      "\u001b[0;31mTypeError\u001b[0m                                 Traceback (most recent call last)",
      "\u001b[0;32m<ipython-input-47-1a1ef865c118>\u001b[0m in \u001b[0;36m<module>\u001b[0;34m\u001b[0m\n\u001b[1;32m      6\u001b[0m \u001b[0;34m\u001b[0m\u001b[0m\n\u001b[1;32m      7\u001b[0m \u001b[0mx\u001b[0m \u001b[0;34m=\u001b[0m \u001b[0mGizmo\u001b[0m\u001b[0;34m(\u001b[0m\u001b[0;34m)\u001b[0m\u001b[0;34m\u001b[0m\u001b[0;34m\u001b[0m\u001b[0m\n\u001b[0;32m----> 8\u001b[0;31m \u001b[0my\u001b[0m \u001b[0;34m=\u001b[0m \u001b[0mGizmo\u001b[0m\u001b[0;34m(\u001b[0m\u001b[0;34m)\u001b[0m \u001b[0;34m*\u001b[0m \u001b[0;36m10\u001b[0m\u001b[0;34m\u001b[0m\u001b[0;34m\u001b[0m\u001b[0m\n\u001b[0m\u001b[1;32m      9\u001b[0m \u001b[0;31m# variable y was never created, because the exception\u001b[0m\u001b[0;34m\u001b[0m\u001b[0;34m\u001b[0m\u001b[0;34m\u001b[0m\u001b[0m\n\u001b[1;32m     10\u001b[0m \u001b[0;31m# happens while the right-hand side of the assignment\u001b[0m\u001b[0;34m\u001b[0m\u001b[0;34m\u001b[0m\u001b[0;34m\u001b[0m\u001b[0m\n",
      "\u001b[0;31mTypeError\u001b[0m: unsupported operand type(s) for *: 'Gizmo' and 'int'"
     ]
    }
   ],
   "source": [
    "# Variables are assigned to objects only after the objects \n",
    "# are created\n",
    "class Gizmo:\n",
    "    def __init__(self):\n",
    "         print('Gizmo id: %d' % id(self))\n",
    "\n",
    "x = Gizmo()\n",
    "y = Gizmo() * 10 \n",
    "# variable y was never created, because the exception \n",
    "# happens while the right-hand side of the assignment \n",
    "# was being evaluated"
   ]
  },
  {
   "cell_type": "markdown",
   "metadata": {},
   "source": [
    "## Aliasing"
   ]
  },
  {
   "cell_type": "markdown",
   "metadata": {},
   "source": [
    "charles and lewis refer to the same object\n"
   ]
  },
  {
   "cell_type": "code",
   "execution_count": 48,
   "metadata": {},
   "outputs": [
    {
     "data": {
      "text/plain": [
       "True"
      ]
     },
     "execution_count": 48,
     "metadata": {},
     "output_type": "execute_result"
    }
   ],
   "source": [
    "charles = {'name': 'Charles L. Dodgson', 'born': 1832}\n",
    "lewis = charles  \n",
    "lewis is charles"
   ]
  },
  {
   "cell_type": "code",
   "execution_count": 49,
   "metadata": {},
   "outputs": [
    {
     "data": {
      "text/plain": [
       "(140496491824960, 140496491824960)"
      ]
     },
     "execution_count": 49,
     "metadata": {},
     "output_type": "execute_result"
    }
   ],
   "source": [
    "id(charles), id(lewis)  "
   ]
  },
  {
   "cell_type": "code",
   "execution_count": 50,
   "metadata": {},
   "outputs": [
    {
     "data": {
      "text/plain": [
       "{'name': 'Charles L. Dodgson', 'born': 1832, 'balance': 950}"
      ]
     },
     "execution_count": 50,
     "metadata": {},
     "output_type": "execute_result"
    }
   ],
   "source": [
    "lewis['balance'] = 950  \n",
    "charles"
   ]
  },
  {
   "cell_type": "markdown",
   "metadata": {},
   "source": [
    "alex and charles compare equal, but alex is not an alias for charles"
   ]
  },
  {
   "cell_type": "code",
   "execution_count": 51,
   "metadata": {},
   "outputs": [
    {
     "data": {
      "text/plain": [
       "True"
      ]
     },
     "execution_count": 51,
     "metadata": {},
     "output_type": "execute_result"
    }
   ],
   "source": [
    "alex = {'name': 'Charles L. Dodgson', \n",
    "        'born': 1832, 'balance': 950}\n",
    "alex == charles"
   ]
  },
  {
   "cell_type": "code",
   "execution_count": 52,
   "metadata": {},
   "outputs": [
    {
     "data": {
      "text/plain": [
       "True"
      ]
     },
     "execution_count": 52,
     "metadata": {},
     "output_type": "execute_result"
    }
   ],
   "source": [
    "# The is operator compares the identity of two objects; \n",
    "# the id() function returns an integer representing its \n",
    "# identity\n",
    "alex is not charles"
   ]
  },
  {
   "cell_type": "markdown",
   "metadata": {},
   "source": [
    "## Equality and equavalence(identity)"
   ]
  },
  {
   "cell_type": "code",
   "execution_count": 53,
   "metadata": {},
   "outputs": [
    {
     "data": {
      "text/plain": [
       "True"
      ]
     },
     "execution_count": 53,
     "metadata": {},
     "output_type": "execute_result"
    }
   ],
   "source": [
    "# Example using an unhashable tuple\n",
    "t1 = (1,2,[3])\n",
    "t2 = (1,2,[3])\n",
    "t1 == t2"
   ]
  },
  {
   "cell_type": "code",
   "execution_count": 54,
   "metadata": {},
   "outputs": [
    {
     "data": {
      "text/plain": [
       "140496492603904"
      ]
     },
     "execution_count": 54,
     "metadata": {},
     "output_type": "execute_result"
    }
   ],
   "source": [
    "id(t1[-1])"
   ]
  },
  {
   "cell_type": "code",
   "execution_count": 55,
   "metadata": {},
   "outputs": [
    {
     "data": {
      "text/plain": [
       "True"
      ]
     },
     "execution_count": 55,
     "metadata": {},
     "output_type": "execute_result"
    }
   ],
   "source": [
    "t3 = t1\n",
    "t3 is t1"
   ]
  },
  {
   "cell_type": "code",
   "execution_count": 56,
   "metadata": {},
   "outputs": [
    {
     "data": {
      "text/plain": [
       "(1, 2, [3, 4])"
      ]
     },
     "execution_count": 56,
     "metadata": {},
     "output_type": "execute_result"
    }
   ],
   "source": [
    "t1[-1].append(4)\n",
    "t1"
   ]
  },
  {
   "cell_type": "code",
   "execution_count": 57,
   "metadata": {},
   "outputs": [
    {
     "data": {
      "text/plain": [
       "140496492603904"
      ]
     },
     "execution_count": 57,
     "metadata": {},
     "output_type": "execute_result"
    }
   ],
   "source": [
    "id(t1[-1])\n"
   ]
  },
  {
   "cell_type": "code",
   "execution_count": 58,
   "metadata": {},
   "outputs": [
    {
     "data": {
      "text/plain": [
       "False"
      ]
     },
     "execution_count": 58,
     "metadata": {},
     "output_type": "execute_result"
    }
   ],
   "source": [
    "# equality is broken from element value change\n",
    "t1 == t2"
   ]
  },
  {
   "cell_type": "code",
   "execution_count": 59,
   "metadata": {},
   "outputs": [
    {
     "data": {
      "text/plain": [
       "True"
      ]
     },
     "execution_count": 59,
     "metadata": {},
     "output_type": "execute_result"
    }
   ],
   "source": [
    "# equalivance (identity) is however not broken\n",
    "t3 is t1"
   ]
  },
  {
   "cell_type": "markdown",
   "metadata": {},
   "source": [
    "## Copies Are Shallow by Default\n",
    "the outermost container is duplicated, but the copy is filled with references to the same items held by the original container.\n",
    "\n",
    "This saves memory and causes no problems if all the items are immutable. But if there are mutable items, this may lead to unpleasant surprises."
   ]
  },
  {
   "cell_type": "code",
   "execution_count": 60,
   "metadata": {},
   "outputs": [
    {
     "ename": "TypeError",
     "evalue": "'list' object is not callable",
     "output_type": "error",
     "traceback": [
      "\u001b[0;31m---------------------------------------------------------------------------\u001b[0m",
      "\u001b[0;31mTypeError\u001b[0m                                 Traceback (most recent call last)",
      "\u001b[0;32m<ipython-input-60-cc92450121b9>\u001b[0m in \u001b[0;36m<module>\u001b[0;34m\u001b[0m\n\u001b[1;32m      1\u001b[0m \u001b[0ml1\u001b[0m \u001b[0;34m=\u001b[0m \u001b[0;34m[\u001b[0m\u001b[0;36m3\u001b[0m\u001b[0;34m,\u001b[0m \u001b[0;34m[\u001b[0m\u001b[0;36m66\u001b[0m\u001b[0;34m,\u001b[0m \u001b[0;36m55\u001b[0m\u001b[0;34m,\u001b[0m \u001b[0;36m44\u001b[0m\u001b[0;34m]\u001b[0m\u001b[0;34m,\u001b[0m \u001b[0;34m(\u001b[0m\u001b[0;36m7\u001b[0m\u001b[0;34m,\u001b[0m \u001b[0;36m8\u001b[0m\u001b[0;34m,\u001b[0m \u001b[0;36m9\u001b[0m\u001b[0;34m)\u001b[0m\u001b[0;34m]\u001b[0m\u001b[0;34m\u001b[0m\u001b[0;34m\u001b[0m\u001b[0m\n\u001b[0;32m----> 2\u001b[0;31m \u001b[0ml2\u001b[0m \u001b[0;34m=\u001b[0m \u001b[0mlist\u001b[0m\u001b[0;34m(\u001b[0m\u001b[0ml1\u001b[0m\u001b[0;34m)\u001b[0m      \u001b[0;31m# l2 is a shallow copy of l1\u001b[0m\u001b[0;34m\u001b[0m\u001b[0;34m\u001b[0m\u001b[0m\n\u001b[0m\u001b[1;32m      3\u001b[0m \u001b[0ml1\u001b[0m\u001b[0;34m.\u001b[0m\u001b[0mappend\u001b[0m\u001b[0;34m(\u001b[0m\u001b[0;36m100\u001b[0m\u001b[0;34m)\u001b[0m     \u001b[0;31m# Appending to l1 has no effect on l2\u001b[0m\u001b[0;34m\u001b[0m\u001b[0;34m\u001b[0m\u001b[0m\n\u001b[1;32m      4\u001b[0m \u001b[0ml1\u001b[0m\u001b[0;34m[\u001b[0m\u001b[0;36m1\u001b[0m\u001b[0;34m]\u001b[0m\u001b[0;34m.\u001b[0m\u001b[0mremove\u001b[0m\u001b[0;34m(\u001b[0m\u001b[0;36m55\u001b[0m\u001b[0;34m)\u001b[0m   \u001b[0;31m# Changing the l1 mutable element affects l2\u001b[0m\u001b[0;34m\u001b[0m\u001b[0;34m\u001b[0m\u001b[0m\n\u001b[1;32m      5\u001b[0m \u001b[0mprint\u001b[0m\u001b[0;34m(\u001b[0m\u001b[0;34m'l1:'\u001b[0m\u001b[0;34m,\u001b[0m \u001b[0ml1\u001b[0m\u001b[0;34m)\u001b[0m\u001b[0;34m\u001b[0m\u001b[0;34m\u001b[0m\u001b[0m\n",
      "\u001b[0;31mTypeError\u001b[0m: 'list' object is not callable"
     ]
    }
   ],
   "source": [
    "l1 = [3, [66, 55, 44], (7, 8, 9)]\n",
    "l2 = list(l1)      # l2 is a shallow copy of l1\n",
    "l1.append(100)     # Appending to l1 has no effect on l2\n",
    "l1[1].remove(55)   # Changing the l1 mutable element affects l2\n",
    "print('l1:', l1)\n",
    "print('l2:', l2)\n",
    "l2[1] += [33, 22]  # Changing the l2 mutable element affects l1\n",
    "l2[2] += (10, 11)  # Changing the l2 immutable with += has no effect on l1\n",
    "print('l1:', l1)\n",
    "print('l2:', l2)"
   ]
  },
  {
   "cell_type": "code",
   "execution_count": null,
   "metadata": {},
   "outputs": [],
   "source": []
  },
  {
   "cell_type": "code",
   "execution_count": 61,
   "metadata": {},
   "outputs": [],
   "source": [
    "class Bus:\n",
    "\n",
    "    def __init__(self, passengers=None):\n",
    "        if passengers is None:\n",
    "            self.passengers = []\n",
    "        else:\n",
    "            self.passengers = list(passengers)\n",
    "\n",
    "    def pick(self, name):\n",
    "        self.passengers.append(name)\n",
    "\n",
    "    def drop(self, name):\n",
    "        self.passengers.remove(name)"
   ]
  },
  {
   "cell_type": "code",
   "execution_count": 62,
   "metadata": {},
   "outputs": [
    {
     "ename": "TypeError",
     "evalue": "'list' object is not callable",
     "output_type": "error",
     "traceback": [
      "\u001b[0;31m---------------------------------------------------------------------------\u001b[0m",
      "\u001b[0;31mTypeError\u001b[0m                                 Traceback (most recent call last)",
      "\u001b[0;32m<ipython-input-62-1d4fb63e0189>\u001b[0m in \u001b[0;36m<module>\u001b[0;34m\u001b[0m\n\u001b[1;32m      1\u001b[0m \u001b[0;32mimport\u001b[0m \u001b[0mcopy\u001b[0m\u001b[0;34m\u001b[0m\u001b[0;34m\u001b[0m\u001b[0m\n\u001b[0;32m----> 2\u001b[0;31m \u001b[0mbus1\u001b[0m \u001b[0;34m=\u001b[0m \u001b[0mBus\u001b[0m\u001b[0;34m(\u001b[0m\u001b[0;34m[\u001b[0m\u001b[0;34m'Alice'\u001b[0m\u001b[0;34m,\u001b[0m \u001b[0;34m'Bill'\u001b[0m\u001b[0;34m,\u001b[0m \u001b[0;34m'Claire'\u001b[0m\u001b[0;34m,\u001b[0m \u001b[0;34m'David'\u001b[0m\u001b[0;34m]\u001b[0m\u001b[0;34m)\u001b[0m\u001b[0;34m\u001b[0m\u001b[0;34m\u001b[0m\u001b[0m\n\u001b[0m\u001b[1;32m      3\u001b[0m \u001b[0mbus2\u001b[0m \u001b[0;34m=\u001b[0m \u001b[0mcopy\u001b[0m\u001b[0;34m.\u001b[0m\u001b[0mcopy\u001b[0m\u001b[0;34m(\u001b[0m\u001b[0mbus1\u001b[0m\u001b[0;34m)\u001b[0m \u001b[0;31m# bus2 is a shallow copy\u001b[0m\u001b[0;34m\u001b[0m\u001b[0;34m\u001b[0m\u001b[0m\n\u001b[1;32m      4\u001b[0m \u001b[0mbus3\u001b[0m \u001b[0;34m=\u001b[0m \u001b[0mcopy\u001b[0m\u001b[0;34m.\u001b[0m\u001b[0mdeepcopy\u001b[0m\u001b[0;34m(\u001b[0m\u001b[0mbus1\u001b[0m\u001b[0;34m)\u001b[0m \u001b[0;31m# bus3 is a deep copy\u001b[0m\u001b[0;34m\u001b[0m\u001b[0;34m\u001b[0m\u001b[0m\n\u001b[1;32m      5\u001b[0m \u001b[0mid\u001b[0m\u001b[0;34m(\u001b[0m\u001b[0mbus1\u001b[0m\u001b[0;34m.\u001b[0m\u001b[0mpassengers\u001b[0m\u001b[0;34m)\u001b[0m\u001b[0;34m,\u001b[0m \u001b[0mid\u001b[0m\u001b[0;34m(\u001b[0m\u001b[0mbus2\u001b[0m\u001b[0;34m.\u001b[0m\u001b[0mpassengers\u001b[0m\u001b[0;34m)\u001b[0m\u001b[0;34m,\u001b[0m \u001b[0mid\u001b[0m\u001b[0;34m(\u001b[0m\u001b[0mbus3\u001b[0m\u001b[0;34m.\u001b[0m\u001b[0mpassengers\u001b[0m\u001b[0;34m)\u001b[0m\u001b[0;34m\u001b[0m\u001b[0;34m\u001b[0m\u001b[0m\n",
      "\u001b[0;32m<ipython-input-61-2d2e98f1dde3>\u001b[0m in \u001b[0;36m__init__\u001b[0;34m(self, passengers)\u001b[0m\n\u001b[1;32m      5\u001b[0m             \u001b[0mself\u001b[0m\u001b[0;34m.\u001b[0m\u001b[0mpassengers\u001b[0m \u001b[0;34m=\u001b[0m \u001b[0;34m[\u001b[0m\u001b[0;34m]\u001b[0m\u001b[0;34m\u001b[0m\u001b[0;34m\u001b[0m\u001b[0m\n\u001b[1;32m      6\u001b[0m         \u001b[0;32melse\u001b[0m\u001b[0;34m:\u001b[0m\u001b[0;34m\u001b[0m\u001b[0;34m\u001b[0m\u001b[0m\n\u001b[0;32m----> 7\u001b[0;31m             \u001b[0mself\u001b[0m\u001b[0;34m.\u001b[0m\u001b[0mpassengers\u001b[0m \u001b[0;34m=\u001b[0m \u001b[0mlist\u001b[0m\u001b[0;34m(\u001b[0m\u001b[0mpassengers\u001b[0m\u001b[0;34m)\u001b[0m\u001b[0;34m\u001b[0m\u001b[0;34m\u001b[0m\u001b[0m\n\u001b[0m\u001b[1;32m      8\u001b[0m \u001b[0;34m\u001b[0m\u001b[0m\n\u001b[1;32m      9\u001b[0m     \u001b[0;32mdef\u001b[0m \u001b[0mpick\u001b[0m\u001b[0;34m(\u001b[0m\u001b[0mself\u001b[0m\u001b[0;34m,\u001b[0m \u001b[0mname\u001b[0m\u001b[0;34m)\u001b[0m\u001b[0;34m:\u001b[0m\u001b[0;34m\u001b[0m\u001b[0;34m\u001b[0m\u001b[0m\n",
      "\u001b[0;31mTypeError\u001b[0m: 'list' object is not callable"
     ]
    }
   ],
   "source": [
    "import copy\n",
    "bus1 = Bus(['Alice', 'Bill', 'Claire', 'David'])\n",
    "bus2 = copy.copy(bus1) # bus2 is a shallow copy\n",
    "bus3 = copy.deepcopy(bus1) # bus3 is a deep copy\n",
    "id(bus1.passengers), id(bus2.passengers), id(bus3.passengers)"
   ]
  },
  {
   "cell_type": "code",
   "execution_count": null,
   "metadata": {},
   "outputs": [],
   "source": [
    "id(bus1), id(bus2), id(bus3)\n",
    "bus1.drop('Bill') # affects shallow copy bus2 but not deep copy bus3\n",
    "bus2.passengers"
   ]
  },
  {
   "cell_type": "code",
   "execution_count": null,
   "metadata": {},
   "outputs": [],
   "source": [
    "bus3.passengers"
   ]
  },
  {
   "cell_type": "markdown",
   "metadata": {},
   "source": [
    "### Cyclic references"
   ]
  },
  {
   "cell_type": "code",
   "execution_count": null,
   "metadata": {},
   "outputs": [],
   "source": [
    "a = [10, 20] # b refers to a\n",
    "b = [a, 30]  # and then is appended to a\n",
    "b"
   ]
  },
  {
   "cell_type": "code",
   "execution_count": null,
   "metadata": {},
   "outputs": [],
   "source": [
    "a.append(b)\n",
    "a"
   ]
  },
  {
   "cell_type": "code",
   "execution_count": null,
   "metadata": {},
   "outputs": [],
   "source": [
    "c = copy.deepcopy(a) # deepcopy still manages to copy a\n",
    "c"
   ]
  },
  {
   "cell_type": "markdown",
   "metadata": {},
   "source": [
    "## Function parameter passing\n",
    "The only mode of parameter passing in Python is call by sharing.\n",
    "\n",
    "Call by sharing means that each formal parameter of the function gets a copy of each reference in the arguments. In other words, the parameters inside the function become aliases of the actual arguments.\n",
    "\n",
    "a function may change any mutable object passed as a parameter, but it cannot change the identity of those objects "
   ]
  },
  {
   "cell_type": "code",
   "execution_count": null,
   "metadata": {},
   "outputs": [],
   "source": [
    "def f(a,b):\n",
    "    a += b # mutable objects are changed, immutables are re-created\n",
    "    return a"
   ]
  },
  {
   "cell_type": "code",
   "execution_count": null,
   "metadata": {},
   "outputs": [],
   "source": [
    "x, y = 1,2\n",
    "f(x,y)"
   ]
  },
  {
   "cell_type": "code",
   "execution_count": null,
   "metadata": {},
   "outputs": [],
   "source": [
    "x,y # immutable x is unchanged"
   ]
  },
  {
   "cell_type": "code",
   "execution_count": null,
   "metadata": {},
   "outputs": [],
   "source": [
    "a = [1,2]\n",
    "b = [3,4]\n",
    "f(a,b)"
   ]
  },
  {
   "cell_type": "code",
   "execution_count": null,
   "metadata": {},
   "outputs": [],
   "source": [
    "a,b # mutable a is changed"
   ]
  },
  {
   "cell_type": "code",
   "execution_count": null,
   "metadata": {},
   "outputs": [],
   "source": [
    "t = (10, 20)\n",
    "u = (30, 40)\n",
    "f(t,u)"
   ]
  },
  {
   "cell_type": "code",
   "execution_count": null,
   "metadata": {},
   "outputs": [],
   "source": [
    "t,u # immutable t is unchanged"
   ]
  },
  {
   "cell_type": "markdown",
   "metadata": {},
   "source": [
    "## Mutable Types as Parameter Defaults: Bad Idea\n",
    "The problem is that instances that don’t get passed an initial list end up sharing the same list among themselves.\n",
    "\n",
    "TIP:\n",
    "Unless a method is explicitly intended to mutate an object received as argument, you should think twice before aliasing the argument object by simply assigning it to an instance variable in your class. If in doubt, make a copy."
   ]
  },
  {
   "cell_type": "code",
   "execution_count": null,
   "metadata": {},
   "outputs": [],
   "source": [
    "class HauntedBus:\n",
    "    \"\"\"A bus model haunted by ghost passengers\"\"\"\n",
    "\n",
    "    def __init__(self, passengers=[]):   \n",
    "        self.passengers = passengers   \n",
    "\n",
    "    def pick(self, name):\n",
    "        self.passengers.append(name)   \n",
    "\n",
    "    def drop(self, name):\n",
    "        self.passengers.remove(name)"
   ]
  },
  {
   "cell_type": "code",
   "execution_count": null,
   "metadata": {},
   "outputs": [],
   "source": [
    "bus1 = HauntedBus(['Alice', 'Bill'])\n",
    "bus1.passengers"
   ]
  },
  {
   "cell_type": "code",
   "execution_count": null,
   "metadata": {},
   "outputs": [],
   "source": [
    "bus1.pick('Charlie')\n",
    "bus1.drop('Alice')\n",
    "bus1.passengers"
   ]
  },
  {
   "cell_type": "code",
   "execution_count": null,
   "metadata": {},
   "outputs": [],
   "source": [
    "bus2 = HauntedBus() \n",
    "bus2.pick('Carrie') # The default is no longer empty!\n",
    "bus2.passengers"
   ]
  },
  {
   "cell_type": "code",
   "execution_count": null,
   "metadata": {},
   "outputs": [],
   "source": [
    "bus3 = HauntedBus()\n",
    "bus3.passengers # Now Dave, picked by bus3, appears in bus2"
   ]
  },
  {
   "cell_type": "code",
   "execution_count": 63,
   "metadata": {},
   "outputs": [
    {
     "ename": "NameError",
     "evalue": "name 'bus3' is not defined",
     "output_type": "error",
     "traceback": [
      "\u001b[0;31m---------------------------------------------------------------------------\u001b[0m",
      "\u001b[0;31mNameError\u001b[0m                                 Traceback (most recent call last)",
      "\u001b[0;32m<ipython-input-63-3eb9129d394f>\u001b[0m in \u001b[0;36m<module>\u001b[0;34m\u001b[0m\n\u001b[0;32m----> 1\u001b[0;31m \u001b[0mbus3\u001b[0m\u001b[0;34m.\u001b[0m\u001b[0mpick\u001b[0m\u001b[0;34m(\u001b[0m\u001b[0;34m'Dave'\u001b[0m\u001b[0;34m)\u001b[0m\u001b[0;34m\u001b[0m\u001b[0;34m\u001b[0m\u001b[0m\n\u001b[0m\u001b[1;32m      2\u001b[0m \u001b[0mbus2\u001b[0m\u001b[0;34m.\u001b[0m\u001b[0mpassengers\u001b[0m\u001b[0;34m\u001b[0m\u001b[0;34m\u001b[0m\u001b[0m\n",
      "\u001b[0;31mNameError\u001b[0m: name 'bus3' is not defined"
     ]
    }
   ],
   "source": [
    "bus3.pick('Dave')\n",
    "bus2.passengers"
   ]
  },
  {
   "cell_type": "code",
   "execution_count": null,
   "metadata": {},
   "outputs": [],
   "source": [
    "# bus2.passengers and bus3.passengers refer to the same list\n",
    "bus2.passengers is bus3.passengers "
   ]
  },
  {
   "cell_type": "code",
   "execution_count": null,
   "metadata": {},
   "outputs": [],
   "source": [
    "HauntedBus.__init__.__defaults__"
   ]
  },
  {
   "cell_type": "code",
   "execution_count": null,
   "metadata": {},
   "outputs": [],
   "source": [
    "class FixedBus:\n",
    "    \"\"\"A bus model haunted by ghost passengers\"\"\"\n",
    "\n",
    "    def __init__(self, passengers=None): # passengers can now be \n",
    "                                         # any iterable type\n",
    "        if not passengers:\n",
    "            self.passengers = []\n",
    "        else:\n",
    "            self.passengers = list(passengers) # Make a copy of the iterable\n",
    "\n",
    "    def pick(self, name):\n",
    "        self.passengers.append(name)   \n",
    "\n",
    "    def drop(self, name):\n",
    "        self.passengers.remove(name)"
   ]
  },
  {
   "cell_type": "code",
   "execution_count": null,
   "metadata": {},
   "outputs": [],
   "source": [
    "bus2 = FixedBus()\n",
    "bus2.pick('Carrie')\n",
    "bus2.passengers"
   ]
  },
  {
   "cell_type": "code",
   "execution_count": null,
   "metadata": {},
   "outputs": [],
   "source": [
    "bus3 = FixedBus()\n",
    "bus3.passengers"
   ]
  },
  {
   "cell_type": "code",
   "execution_count": null,
   "metadata": {},
   "outputs": [],
   "source": [
    "bus3.pick('Dave')\n",
    "bus2.passengers"
   ]
  },
  {
   "cell_type": "code",
   "execution_count": null,
   "metadata": {},
   "outputs": [],
   "source": [
    "bus1 = FixedBus({'Alice', 'Bill'}) # ctor now accepts any iterable\n",
    "bus1.passengers"
   ]
  },
  {
   "cell_type": "markdown",
   "metadata": {},
   "source": [
    "## Reference counting garbage collection\n",
    "\n",
    "In CPython 1, each object keeps count of how many references point to it. As soon as that refcount reaches zero, the object is immediately destroyed: The interpreter calls the __del__ method on the object (if defined) and then frees the memory allocated to the object. \n",
    "\n",
    "In CPython 2.0, a generational garbage collection algorithm was added to detect groups of objects involved in reference cycles—which may be unreachable even with outstanding references to them, when all the mutual references are contained within the group."
   ]
  },
  {
   "cell_type": "code",
   "execution_count": null,
   "metadata": {},
   "outputs": [],
   "source": [
    "import weakref\n",
    "s1 = {1, 2, 3}\n",
    "s2 = s1 \n",
    "\n",
    "def bye():      \n",
    "    print('object destroyed...')\n",
    "\n",
    "ender = weakref.finalize(s1, bye)  # register a callback to be called \n",
    "                                   # when an object is destroyed.\n",
    "ender.alive "
   ]
  },
  {
   "cell_type": "code",
   "execution_count": null,
   "metadata": {},
   "outputs": [],
   "source": [
    "del s1    # del does not delete an object, just a reference to it\n",
    "ender.alive"
   ]
  },
  {
   "cell_type": "code",
   "execution_count": null,
   "metadata": {},
   "outputs": [],
   "source": [
    "s2 = 'spam' # Rebinding the last reference to s1\n",
    "            # makes {1, 2, 3} unreachable. \n",
    "    \n",
    "            # s1 is destroyed, the bye callback is invoked, \n",
    "            # and ender.alive becomes False\n",
    "ender.alive"
   ]
  },
  {
   "cell_type": "markdown",
   "metadata": {},
   "source": [
    "## weak references\n",
    "Weak references to an object do not increase its reference count and therefore does not prevent the referent from being garbage collected\n",
    "\n",
    "Weak references are useful in caching applications because you don’t want the cached objects to be kept alive just because they are referenced by the cache."
   ]
  },
  {
   "cell_type": "code",
   "execution_count": null,
   "metadata": {},
   "outputs": [],
   "source": [
    "import weakref\n",
    "a_set = {0, 1}\n",
    "wref = weakref.ref(a_set)  \n",
    "wref"
   ]
  },
  {
   "cell_type": "code",
   "execution_count": null,
   "metadata": {},
   "outputs": [],
   "source": [
    "wref()  "
   ]
  },
  {
   "cell_type": "code",
   "execution_count": null,
   "metadata": {},
   "outputs": [],
   "source": [
    "a_set = {2, 3, 4}  \n",
    "wref()  "
   ]
  },
  {
   "cell_type": "code",
   "execution_count": null,
   "metadata": {},
   "outputs": [],
   "source": [
    "wref() is None  # {0,1} should have been destroyed.\n",
    "                # This example doesn't work because of some\n",
    "                # hidden assignment in notebook environment"
   ]
  },
  {
   "cell_type": "markdown",
   "metadata": {},
   "source": [
    "## WeakValueDictionary. \n",
    "This is commonly used for caching\n",
    "\n",
    "If you need to build a class that is aware of every one of its instances, a good solution is to create a class attribute with a WeakSet to hold the references to the instances. \n",
    "\n",
    "\n",
    "Otherwise, if a regular set was used, the instances would never be garbage collected, because the class itself would have strong references to them, and classes live as long as the Python process unless you deliberately delete them"
   ]
  },
  {
   "cell_type": "code",
   "execution_count": null,
   "metadata": {},
   "outputs": [],
   "source": [
    "class Cheese:\n",
    "\n",
    "    def __init__(self, kind):\n",
    "        self.kind = kind\n",
    "\n",
    "    def __repr__(self):\n",
    "        return 'Cheese(%r)' % self.kind"
   ]
  },
  {
   "cell_type": "code",
   "execution_count": null,
   "metadata": {},
   "outputs": [],
   "source": [
    "import weakref\n",
    "stock = weakref.WeakValueDictionary()  \n",
    "catalog = [Cheese('Red Leicester'), Cheese('Tilsit'),\n",
    "        Cheese('Brie'), Cheese('Parmesan')]\n",
    "for cheese in catalog:\n",
    "     stock[cheese.kind] = cheese  \n",
    "\n",
    "\n",
    "sorted(stock.keys())"
   ]
  },
  {
   "cell_type": "code",
   "execution_count": null,
   "metadata": {},
   "outputs": [],
   "source": [
    "del catalog\n",
    "sorted(stock.keys()) # last key not destroyed because cheese is global \n",
    "                     # and is not cleaned up after loop finishes"
   ]
  },
  {
   "cell_type": "code",
   "execution_count": null,
   "metadata": {},
   "outputs": [],
   "source": [
    "del cheese # explicitly deleting cheese removes last reference \n",
    "           # in weak value dict \n",
    "sorted(stock.keys())"
   ]
  },
  {
   "cell_type": "markdown",
   "metadata": {},
   "source": [
    "## Quirkiness of Python Immutables\n",
    "they save memory and make the interpreter faster"
   ]
  },
  {
   "cell_type": "code",
   "execution_count": null,
   "metadata": {},
   "outputs": [],
   "source": [
    "# immutables don't make copies, but return references"
   ]
  },
  {
   "cell_type": "code",
   "execution_count": null,
   "metadata": {},
   "outputs": [],
   "source": [
    "# A tuple built from another is actually the same exact tuple\n",
    "# The same behavior can be observed with instances of str, bytes, \n",
    "# and frozenset\n",
    "t1 = (1, 2, 3)\n",
    "t2 = tuple(t1)\n",
    "t2 is t1"
   ]
  },
  {
   "cell_type": "code",
   "execution_count": 64,
   "metadata": {},
   "outputs": [
    {
     "data": {
      "text/plain": [
       "True"
      ]
     },
     "execution_count": 64,
     "metadata": {},
     "output_type": "execute_result"
    }
   ],
   "source": [
    "t3 = t1[:]\n",
    "t3 is t1 "
   ]
  },
  {
   "cell_type": "code",
   "execution_count": 65,
   "metadata": {},
   "outputs": [
    {
     "data": {
      "text/plain": [
       "True"
      ]
     },
     "execution_count": 65,
     "metadata": {},
     "output_type": "execute_result"
    }
   ],
   "source": [
    "import copy\n",
    "t4 = copy.copy(t1)\n",
    "t4 is t1"
   ]
  },
  {
   "cell_type": "markdown",
   "metadata": {},
   "source": [
    "### Sharing of string literals (interning)"
   ]
  },
  {
   "cell_type": "code",
   "execution_count": 66,
   "metadata": {},
   "outputs": [
    {
     "data": {
      "text/plain": [
       "False"
      ]
     },
     "execution_count": 66,
     "metadata": {},
     "output_type": "execute_result"
    }
   ],
   "source": [
    "t1 = (1, 2, 3)\n",
    "t3 = (1, 2, 3)\n",
    "t3 is t1"
   ]
  },
  {
   "cell_type": "code",
   "execution_count": 67,
   "metadata": {},
   "outputs": [
    {
     "data": {
      "text/plain": [
       "True"
      ]
     },
     "execution_count": 67,
     "metadata": {},
     "output_type": "execute_result"
    }
   ],
   "source": [
    "s1 = 'ABC'\n",
    "s2 = 'ABC'\n",
    "s1 is s2"
   ]
  },
  {
   "cell_type": "markdown",
   "metadata": {},
   "source": [
    "# Chapter 9. A Pythonic Object"
   ]
  },
  {
   "cell_type": "code",
   "execution_count": 143,
   "metadata": {},
   "outputs": [],
   "source": [
    "import math\n",
    "from array import array\n",
    "\n",
    "class Vector2d:\n",
    "    typecode = 'd'   # class attribute used when converting Vector2d \n",
    "                     # instances to/from bytes.\n",
    "\n",
    "    def __init__(self, x, y):\n",
    "        self.__x = float(x) # private read-only member\n",
    "                           # catches errors early, helpful in case Vector2d \n",
    "                           # is called with unsuitable arguments   \n",
    "        self.__y = float(y)\n",
    "\n",
    "    def __iter__(self): # this is what makes unpacking work\n",
    "        return (i for i in (self.__x, self.__y))   \n",
    "\n",
    "    def __repr__(self): #  builds a string by interpolating the components \n",
    "                        #  with {!r} to get their repr\n",
    "        class_name = type(self).__name__\n",
    "        return '{}({!r}, {!r})'.format(class_name, *self)   \n",
    "\n",
    "    def __str__(self):\n",
    "        return str(tuple(self))   \n",
    "\n",
    "    def __bytes__(self): # To generate bytes, convert the typecode to bytes \n",
    "                         # and concatenate with bytes converted from an array \n",
    "                         # built by iterating over the instance\n",
    "\n",
    "        return (bytes([ord(self.typecode)]) +   \n",
    "                bytes(array(self.typecode, self)))   \n",
    "\n",
    "    def __eq__(self, other):\n",
    "        return tuple(self) == tuple(other)   \n",
    "\n",
    "    def __abs__(self):\n",
    "        return math.hypot(self.__x, self.__y)   \n",
    "\n",
    "    def __bool__(self): # 0.0 magnitude becomes False, nonzero is True\n",
    "        return bool(abs(self))   \n",
    "    \n",
    "#     method that imports a Vector2d from a binary sequence \n",
    "#     adapted from array.array.frombytes\n",
    "    @classmethod   \n",
    "    def frombytes(cls, octets):   # No self argument; class itself is passed as cls\n",
    "        typecode = chr(octets[0])   \n",
    "        memv = memoryview(octets[1:]).cast(typecode)  \n",
    "        return cls(*memv) # invoke ctor to build a new instance\n",
    "    \n",
    "    def __format__(self, fmt_spec=''):\n",
    "# Use the format built-in to apply the fmt_spec to each vector component,\n",
    "# building an iterable of formatted strings\n",
    "        components = (format(c, fmt_spec) for c in self) #\n",
    "        return '({}, {})'.format(*components)  \n",
    "    \n",
    "    @property   # makes x read-only\n",
    "    def x(self):   \n",
    "        return self.__x   # Just return self.__x\n",
    "\n",
    "    @property   # makes y read-only\n",
    "    def y(self):\n",
    "        return self.__y\n",
    "\n",
    "    def __iter__(self):\n",
    "        return (i for i in (self.__x, self.__y))  \n",
    "    \n",
    "    def __hash__(self):\n",
    "#       using the bitwise XOR operator (^) \n",
    "#       to mix the hashes of the components  \n",
    "        return hash(self.__x) ^ hash(self.__y)"
   ]
  },
  {
   "cell_type": "code",
   "execution_count": 144,
   "metadata": {},
   "outputs": [
    {
     "name": "stdout",
     "output_type": "stream",
     "text": [
      "3.0 4.0\n"
     ]
    }
   ],
   "source": [
    "v1 = Vector2d(3, 4)\n",
    "print(v1.x, v1.y) # no getter method calls"
   ]
  },
  {
   "cell_type": "code",
   "execution_count": 145,
   "metadata": {},
   "outputs": [],
   "source": [
    "x, y = v1 # A Vector2d can be unpacked to a tuple of variables."
   ]
  },
  {
   "cell_type": "code",
   "execution_count": 146,
   "metadata": {},
   "outputs": [
    {
     "data": {
      "text/plain": [
       "Vector2d(3.0, 4.0)"
      ]
     },
     "execution_count": 146,
     "metadata": {},
     "output_type": "execute_result"
    }
   ],
   "source": [
    "v1"
   ]
  },
  {
   "cell_type": "code",
   "execution_count": 147,
   "metadata": {},
   "outputs": [
    {
     "data": {
      "text/plain": [
       "True"
      ]
     },
     "execution_count": 147,
     "metadata": {},
     "output_type": "execute_result"
    }
   ],
   "source": [
    "v1_clone = eval(repr(v1)) # repr emulates the source code \n",
    "                          # for constructing the instance.\n",
    "v1 == v1_clone"
   ]
  },
  {
   "cell_type": "code",
   "execution_count": 148,
   "metadata": {},
   "outputs": [
    {
     "data": {
      "text/plain": [
       "True"
      ]
     },
     "execution_count": 148,
     "metadata": {},
     "output_type": "execute_result"
    }
   ],
   "source": [
    "v1 == v1_clone  # supports comparison with =="
   ]
  },
  {
   "cell_type": "code",
   "execution_count": 149,
   "metadata": {},
   "outputs": [
    {
     "name": "stdout",
     "output_type": "stream",
     "text": [
      "(3.0, 4.0)\n"
     ]
    }
   ],
   "source": [
    "print(v1)"
   ]
  },
  {
   "cell_type": "code",
   "execution_count": 150,
   "metadata": {},
   "outputs": [],
   "source": [
    "octets = bytes(v1) # uses the __bytes__ method \n",
    "                   # to produce a binary representation."
   ]
  },
  {
   "cell_type": "code",
   "execution_count": 151,
   "metadata": {},
   "outputs": [
    {
     "data": {
      "text/plain": [
       "b'd\\x00\\x00\\x00\\x00\\x00\\x00\\x08@\\x00\\x00\\x00\\x00\\x00\\x00\\x10@'"
      ]
     },
     "execution_count": 151,
     "metadata": {},
     "output_type": "execute_result"
    }
   ],
   "source": [
    "octets"
   ]
  },
  {
   "cell_type": "code",
   "execution_count": 152,
   "metadata": {},
   "outputs": [
    {
     "data": {
      "text/plain": [
       "5.0"
      ]
     },
     "execution_count": 152,
     "metadata": {},
     "output_type": "execute_result"
    }
   ],
   "source": [
    "abs(v1) # uses the __abs__ method"
   ]
  },
  {
   "cell_type": "code",
   "execution_count": 153,
   "metadata": {},
   "outputs": [
    {
     "data": {
      "text/plain": [
       "(True, False)"
      ]
     },
     "execution_count": 153,
     "metadata": {},
     "output_type": "execute_result"
    }
   ],
   "source": [
    "bool(v1), bool(Vector2d(0, 0)) #  uses the __bool__ method"
   ]
  },
  {
   "cell_type": "code",
   "execution_count": null,
   "metadata": {},
   "outputs": [],
   "source": []
  },
  {
   "cell_type": "markdown",
   "metadata": {},
   "source": [
    "## `@classmethod` vs `@staticmethod`\n",
    "\n",
    "`@classmethod` decorator defines a method that operates on the class and not on instances. It changes the way the method is called, so it receives the class itself as the first argument, instead of an instance. The most common use case is for alternative constructors like `frombytes`\n",
    "\n",
    "`@staticmethod` decorator changes a method so that it receives no special first argument. In essence, a static method is just like a plain function that happens to live in a class body, instead of being defined at the module level. There aren't any compelling use cases for using `@staticmethod`"
   ]
  },
  {
   "cell_type": "code",
   "execution_count": 154,
   "metadata": {},
   "outputs": [],
   "source": [
    "class Demo:\n",
    "     @classmethod\n",
    "     def klassmeth(*args):\n",
    "         return args  # \n",
    "     @staticmethod\n",
    "     def statmeth(*args):\n",
    "         return args"
   ]
  },
  {
   "cell_type": "code",
   "execution_count": 155,
   "metadata": {},
   "outputs": [
    {
     "data": {
      "text/plain": [
       "(__main__.Demo,)"
      ]
     },
     "execution_count": 155,
     "metadata": {},
     "output_type": "execute_result"
    }
   ],
   "source": [
    "Demo.klassmeth() # returns all arguments, including Demo class as 1st arg"
   ]
  },
  {
   "cell_type": "code",
   "execution_count": 156,
   "metadata": {},
   "outputs": [
    {
     "data": {
      "text/plain": [
       "(__main__.Demo, 'spam')"
      ]
     },
     "execution_count": 156,
     "metadata": {},
     "output_type": "execute_result"
    }
   ],
   "source": [
    "Demo.klassmeth('spam')"
   ]
  },
  {
   "cell_type": "code",
   "execution_count": 157,
   "metadata": {},
   "outputs": [
    {
     "data": {
      "text/plain": [
       "()"
      ]
     },
     "execution_count": 157,
     "metadata": {},
     "output_type": "execute_result"
    }
   ],
   "source": [
    "Demo.statmeth() # returns all arguments, no Demo class returned"
   ]
  },
  {
   "cell_type": "code",
   "execution_count": 158,
   "metadata": {},
   "outputs": [
    {
     "data": {
      "text/plain": [
       "('spam',)"
      ]
     },
     "execution_count": 158,
     "metadata": {},
     "output_type": "execute_result"
    }
   ],
   "source": [
    "Demo.statmeth('spam')"
   ]
  },
  {
   "cell_type": "markdown",
   "metadata": {},
   "source": [
    "## Hashable objects\n",
    "To make a user object hashable, implement `__hash__` and `__eq__` and make all attributes private and read-only (using @property)."
   ]
  },
  {
   "cell_type": "code",
   "execution_count": 163,
   "metadata": {},
   "outputs": [
    {
     "data": {
      "text/plain": [
       "{Vector2d(3.0, 4.0), Vector2d(3.1, 4.2)}"
      ]
     },
     "execution_count": 163,
     "metadata": {},
     "output_type": "execute_result"
    }
   ],
   "source": [
    "v1 = Vector2d(3, 4)\n",
    "v2 = Vector2d(3.1, 4.2)\n",
    "hash(v1), hash(v2)\n",
    "set([v1, v2])"
   ]
  },
  {
   "cell_type": "markdown",
   "metadata": {},
   "source": [
    "## Private and protected attributes\n",
    "private attributes have two leading underscores and zero or at most one trailing underscore. "
   ]
  },
  {
   "cell_type": "markdown",
   "metadata": {},
   "source": [
    "### Name mangling\n",
    "The interpreter stores the name in the instance `__dict__` prefixed with a leading underscore and the class name, so in the Dog class, `__mood` becomes `_Dog__mood`, "
   ]
  },
  {
   "cell_type": "code",
   "execution_count": 164,
   "metadata": {},
   "outputs": [
    {
     "data": {
      "text/plain": [
       "{'_Vector2d__x': 3.0, '_Vector2d__y': 4.0}"
      ]
     },
     "execution_count": 164,
     "metadata": {},
     "output_type": "execute_result"
    }
   ],
   "source": [
    "v1.__dict__"
   ]
  },
  {
   "cell_type": "markdown",
   "metadata": {},
   "source": [
    "Name mangling is about safety, not security: it’s designed to prevent accidental access and not intentional wrongdoing"
   ]
  },
  {
   "cell_type": "code",
   "execution_count": 166,
   "metadata": {},
   "outputs": [
    {
     "data": {
      "text/plain": [
       "{'_Vector2d__x': 4, '_Vector2d__y': 4.0}"
      ]
     },
     "execution_count": 166,
     "metadata": {},
     "output_type": "execute_result"
    }
   ],
   "source": [
    "v1._Vector2d__x = 4\n",
    "v1.__dict__"
   ]
  },
  {
   "cell_type": "markdown",
   "metadata": {},
   "source": [
    "### Protected attributes"
   ]
  },
  {
   "cell_type": "markdown",
   "metadata": {},
   "source": [
    "Attributes with a single _ prefix are called “protected” in some corners of the Python documentation.\n",
    "\n",
    "The single underscore prefix has no special meaning to the Python interpreter when used in attribute names, but it’s a very strong convention among Python programmers that you should not access such attributes from outside the class"
   ]
  },
  {
   "cell_type": "markdown",
   "metadata": {},
   "source": [
    "## The `__slots__` class attribute\n",
    "By defining `__slots__` in the class, you are telling the interpreter: “These are all the instance attributes in this class.” Python then stores them in a tuple-like structure in each instance, avoiding the memory overhead of the per-instance `__dict__`.\n",
    "\n",
    "This can make a huge difference in memory usage if your have millions of instances active at the same time."
   ]
  },
  {
   "cell_type": "markdown",
   "metadata": {},
   "source": [
    "### things to remember when using `__slots__`\n",
    "You must remember to redeclare `__slots__` in each subclass, because the inherited attribute is ignored by the interpreter.\n",
    "\n",
    "Instances will only be able to have the attributes listed in `__slots__`, unless you include `__dict__` in `__slots__` (but doing so may negate the memory savings).\n",
    "\n",
    "Instances cannot be targets of weak references unless you remember to include `__weakref__` in `__slots__`.\n"
   ]
  },
  {
   "cell_type": "markdown",
   "metadata": {},
   "source": [
    "## Overriding Class Attributes\n",
    "customizing instance with a different values for for attributes from default"
   ]
  },
  {
   "cell_type": "code",
   "execution_count": 168,
   "metadata": {},
   "outputs": [
    {
     "data": {
      "text/plain": [
       "b'd\\x9a\\x99\\x99\\x99\\x99\\x99\\xf1?\\x9a\\x99\\x99\\x99\\x99\\x99\\x01@'"
      ]
     },
     "execution_count": 168,
     "metadata": {},
     "output_type": "execute_result"
    }
   ],
   "source": [
    "v1 = Vector2d(1.1, 2.2)\n",
    "dumpd = bytes(v1)\n",
    "dumpd"
   ]
  },
  {
   "cell_type": "code",
   "execution_count": 170,
   "metadata": {},
   "outputs": [
    {
     "data": {
      "text/plain": [
       "17"
      ]
     },
     "execution_count": 170,
     "metadata": {},
     "output_type": "execute_result"
    }
   ],
   "source": [
    "len(dumpd)"
   ]
  },
  {
   "cell_type": "code",
   "execution_count": 174,
   "metadata": {},
   "outputs": [
    {
     "data": {
      "text/plain": [
       "b'f\\xcd\\xcc\\x8c?\\xcd\\xcc\\x0c@'"
      ]
     },
     "execution_count": 174,
     "metadata": {},
     "output_type": "execute_result"
    }
   ],
   "source": [
    "# change instance typecode value\n",
    "v1.typecode = 'f'\n",
    "dumpf = bytes(v1)\n",
    "dumpf"
   ]
  },
  {
   "cell_type": "code",
   "execution_count": 172,
   "metadata": {},
   "outputs": [
    {
     "data": {
      "text/plain": [
       "9"
      ]
     },
     "execution_count": 172,
     "metadata": {},
     "output_type": "execute_result"
    }
   ],
   "source": [
    "len(dumpf)"
   ]
  },
  {
   "cell_type": "code",
   "execution_count": 173,
   "metadata": {},
   "outputs": [
    {
     "data": {
      "text/plain": [
       "'d'"
      ]
     },
     "execution_count": 173,
     "metadata": {},
     "output_type": "execute_result"
    }
   ],
   "source": [
    "# class attribute value is preserved\n",
    "Vector2d.typecode"
   ]
  },
  {
   "cell_type": "markdown",
   "metadata": {},
   "source": [
    "This can also be accomplished by subclassing"
   ]
  },
  {
   "cell_type": "code",
   "execution_count": 176,
   "metadata": {},
   "outputs": [
    {
     "data": {
      "text/plain": [
       "b'f\\xcd\\xcc\\x8c?\\xcd\\xcc\\x0c@'"
      ]
     },
     "execution_count": 176,
     "metadata": {},
     "output_type": "execute_result"
    }
   ],
   "source": [
    "class ShortVector2d(Vector2d):  \n",
    "    typecode = 'f'\n",
    "sv = ShortVector2d(1.1, 2.2)\n",
    "bytes(sv)"
   ]
  },
  {
   "cell_type": "code",
   "execution_count": 178,
   "metadata": {},
   "outputs": [
    {
     "data": {
      "text/plain": [
       "9"
      ]
     },
     "execution_count": 178,
     "metadata": {},
     "output_type": "execute_result"
    }
   ],
   "source": [
    "len(bytes(sv))"
   ]
  },
  {
   "cell_type": "code",
   "execution_count": null,
   "metadata": {},
   "outputs": [],
   "source": []
  }
 ],
 "metadata": {
  "kernelspec": {
   "display_name": "Python 3",
   "language": "python",
   "name": "python3"
  },
  "language_info": {
   "codemirror_mode": {
    "name": "ipython",
    "version": 3
   },
   "file_extension": ".py",
   "mimetype": "text/x-python",
   "name": "python",
   "nbconvert_exporter": "python",
   "pygments_lexer": "ipython3",
   "version": "3.8.1"
  },
  "toc": {
   "base_numbering": 1,
   "nav_menu": {},
   "number_sections": true,
   "sideBar": true,
   "skip_h1_title": true,
   "title_cell": "Table of Contents",
   "title_sidebar": "Contents",
   "toc_cell": true,
   "toc_position": {
    "height": "1464.55px",
    "left": "421px",
    "top": "305.361px",
    "width": "241.634px"
   },
   "toc_section_display": true,
   "toc_window_display": false
  }
 },
 "nbformat": 4,
 "nbformat_minor": 4
}
