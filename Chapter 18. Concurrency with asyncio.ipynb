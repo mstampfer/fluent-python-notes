{
 "cells": [
  {
   "cell_type": "markdown",
   "metadata": {
    "toc": true
   },
   "source": [
    "<h1>Table of Contents<span class=\"tocSkip\"></span></h1>\n",
    "<div class=\"toc\"><ul class=\"toc-item\"><li><span><a href=\"#Chapter-18.-Concurrency-with-asyncio\" data-toc-modified-id=\"Chapter-18.-Concurrency-with-asyncio-1\">Chapter 18. Concurrency with asyncio</a></span><ul class=\"toc-item\"><li><span><a href=\"#Spinner-thread-using-threading-module\" data-toc-modified-id=\"Spinner-thread-using-threading-module-1.1\">Spinner thread using threading module</a></span></li><li><span><a href=\"#Spinner-thread-using-asyncio\" data-toc-modified-id=\"Spinner-thread-using-asyncio-1.2\">Spinner thread using asyncio</a></span></li><li><span><a href=\"#Main-differences-between-Thread-and-Task\" data-toc-modified-id=\"Main-differences-between-Thread-and-Task-1.3\">Main differences between Thread and Task</a></span><ul class=\"toc-item\"><li><span><a href=\"#How-the-asyncio.Future-class-differs-from-the-concurrent.futures.Future-class\" data-toc-modified-id=\"How-the-asyncio.Future-class-differs-from-the-concurrent.futures.Future-class-1.3.1\">How the asyncio.Future class differs from the concurrent.futures.Future class</a></span></li></ul></li></ul></li></ul></div>"
   ]
  },
  {
   "cell_type": "markdown",
   "metadata": {},
   "source": [
    "# Chapter 18. Concurrency with asyncio"
   ]
  },
  {
   "cell_type": "markdown",
   "metadata": {},
   "source": [
    "Parallelism requres multiple cores to do lots of things at once. Concurrency only requires a single core and is about dealing with multiple tasks at once. \n",
    "\n",
    "\n",
    "`asyncio` is a package that implements concurrency with coroutines driven by an event loop."
   ]
  },
  {
   "cell_type": "markdown",
   "metadata": {},
   "source": [
    "## Spinner thread using threading module"
   ]
  },
  {
   "cell_type": "code",
   "execution_count": 1,
   "metadata": {},
   "outputs": [
    {
     "name": "stdout",
     "output_type": "stream",
     "text": [
      "spinner object: <Thread(Thread-4, initial)>\n",
      "Answer: 42   \n"
     ]
    }
   ],
   "source": [
    "import threading\n",
    "import itertools\n",
    "import time\n",
    "import sys\n",
    "\n",
    "\n",
    "class Signal:   \n",
    "    go = True\n",
    "\n",
    "\n",
    "def spin(msg, signal):   \n",
    "    for char in itertools.cycle('|/-\\\\'):   \n",
    "        status = char + ' ' + msg\n",
    "        print('\\r' + status, end = '')\n",
    "        print('\\r' * len(status), end='')   \n",
    "        time.sleep(.1)\n",
    "        if not signal.go:   \n",
    "            break\n",
    "    print('\\r' + ' ' * (len(status)+2), end='')   \n",
    "\n",
    "\n",
    "def slow_function():   \n",
    "    # pretend waiting a long time for I/O\n",
    "    time.sleep(3)   # GIL released so the secondary thread will proceed.\n",
    "    return 42\n",
    "\n",
    "\n",
    "def supervisor():   \n",
    "    signal = Signal()\n",
    "    spinner = threading.Thread(target=spin, # secondary thread object created\n",
    "                               args=('thinking!', signal))\n",
    "    print('spinner object:', spinner)   \n",
    "    spinner.start()   # start secondary thread\n",
    "    result = slow_function()   # run slow function\n",
    "    signal.go = False          # change state to break for loop\n",
    "    spinner.join()             # wait until spinner thread finishes\n",
    "    return result\n",
    "\n",
    "\n",
    "def main():\n",
    "    result = supervisor()   \n",
    "    print('\\rAnswer:', result)\n",
    "\n",
    "\n",
    "if __name__ == '__main__':\n",
    "    main()\n"
   ]
  },
  {
   "cell_type": "markdown",
   "metadata": {},
   "source": [
    "## Spinner thread using asyncio"
   ]
  },
  {
   "cell_type": "code",
   "execution_count": 2,
   "metadata": {},
   "outputs": [
    {
     "name": "stdout",
     "output_type": "stream",
     "text": [
      "spinner Task object: <Task pending name='Task-2' coro=<spin() running at <ipython-input-2-317c81792668>:7>>\n",
      "Answer: 42   \n"
     ]
    }
   ],
   "source": [
    "import asyncio\n",
    "import itertools\n",
    "import sys\n",
    "import nest_asyncio\n",
    "nest_asyncio.apply()\n",
    "\n",
    "async def spin(msg):  # <1>\n",
    "    for char in itertools.cycle('|/-\\\\'):\n",
    "        status = char + ' ' + msg\n",
    "        print('\\r' + status, end = '')\n",
    "        print('\\r' * len(status), end='')   \n",
    "        try:\n",
    "            await asyncio.sleep(.1)  # sleep without blocking the event loop.\n",
    "        except asyncio.CancelledError:  # break if asyncio.CancelledError \n",
    "                                        # is raised after spin wakes up,\n",
    "            break\n",
    "    print('\\r' + ' ' * (len(status)+2), end='')   \n",
    "\n",
    "\n",
    "async def slow_function():  # <5>\n",
    "    # pretend waiting a long time for I/O\n",
    "    await asyncio.sleep(3)  # let the event loop proceed while \n",
    "                            # this coroutine does I/O by sleeping.\n",
    "    return 42\n",
    "\n",
    "\n",
    "async def supervisor():  # <7>\n",
    "    spinner = asyncio.ensure_future(spin('thinking!'))  # create Task object\n",
    "#     schedules the spin coroutine to run, wrapping it in a Task object, \n",
    "#     which is returned immediately.\n",
    "    print('spinner Task object:', spinner)  # <9>\n",
    "    result = await slow_function()  # drive slow_function with await\n",
    "    spinner.cancel()  # cancel Task object this raises asyncio.CancelledErro\n",
    "    return result\n",
    "\n",
    "\n",
    "def main():\n",
    "    loop = asyncio.get_event_loop()  # create event loop\n",
    "    result = loop.run_until_complete(supervisor())  # runs supervisor to completion\n",
    "    print('\\rAnswer:', result)\n",
    "\n",
    "\n",
    "if __name__ == '__main__':\n",
    "    main()"
   ]
  },
  {
   "cell_type": "markdown",
   "metadata": {},
   "source": [
    "## Main differences between Thread and Task\n",
    "* asyncio.Task is roughly the equivalent of a threading.Thread\n",
    "* Task drives a coroutine, and a Thread invokes a callable.\n",
    "* When you get a Task object, it is already scheduled to run (e.g., by asyncio.async); \n",
    "* a Thread instance must be explicitly told to run by calling its start method.\n",
    "* There’s no API to terminate a thread from the outside, because a thread could be interrupted at any point, leaving the system in an invalid state. \n",
    "* Task.cancel() raises CancelledError inside the coroutine. The coroutine can deal with this by catching the exception and breaking\n",
    "* Instead of holding locks to synchronize the operations of multiple threads, coroutines are “synchronized” by definition: only one of them is running at any time"
   ]
  },
  {
   "cell_type": "markdown",
   "metadata": {},
   "source": [
    "### How the asyncio.Future class differs from the concurrent.futures.Future class\n",
    "asyncio.Task is an instance of asyncio.Future because Task is a subclass of Future designed to wrap a coroutine. \n",
    "The following methods are common to asyncio.Future and concurrent.futures.Future\n",
    "* .done(), \n",
    "* .add_done_callback(…),\n",
    "* .results()"
   ]
  },
  {
   "cell_type": "code",
   "execution_count": 10,
   "metadata": {},
   "outputs": [
    {
     "name": "stdout",
     "output_type": "stream",
     "text": [
      "\n",
      "<coroutine object download_many at 0x7fb0844e8ac0> flags downloaded in 0.00s\n"
     ]
    },
    {
     "name": "stderr",
     "output_type": "stream",
     "text": [
      "<ipython-input-10-e9450b41f8e5>:50: RuntimeWarning: coroutine 'download_many' was never awaited\n",
      "  main(download_many)\n",
      "RuntimeWarning: Enable tracemalloc to get the object allocation traceback\n"
     ]
    }
   ],
   "source": [
    "import os\n",
    "import time\n",
    "import sys\n",
    "import asyncio\n",
    "\n",
    "import aiohttp \n",
    "import requests   \n",
    "\n",
    "POP20_CC = ('CN IN US ID BR PK NG BD RU JP '\n",
    "            'MX PH VN ET EG DE IR TR CD FR').split()   \n",
    "\n",
    "BASE_URL = 'http://flupy.org/data/flags'   \n",
    "\n",
    "DEST_DIR = 'downloads/'   \n",
    "\n",
    "\n",
    "\n",
    "\n",
    "async def get_flag(cc):\n",
    "    url = '{}/{cc}/{cc}.gif'.format(BASE_URL, cc=cc.lower())\n",
    "    resp = await aiohttp.request('GET', url)   \n",
    "    image = resp.read()   \n",
    "    return image\n",
    "\n",
    "\n",
    "async def download_one(cc):   \n",
    "    image = await get_flag(cc)   \n",
    "    show(cc)\n",
    "    save_flag(image, cc.lower() + '.gif')\n",
    "    return cc\n",
    "\n",
    "\n",
    "def download_many(cc_list):\n",
    "    loop = asyncio.get_event_loop()   \n",
    "    to_do = [download_one(cc) for cc in sorted(cc_list)]   \n",
    "    wait_coro = await asyncio.wait(to_do)   \n",
    "    res, _ = loop.run_until_complete(wait_coro)   \n",
    "#     loop.close()  \n",
    "\n",
    "    return len(res)\n",
    "\n",
    "def main(download_many):   \n",
    "    t0 = time.time()\n",
    "    count = download_many(POP20_CC)\n",
    "    elapsed = time.time() - t0\n",
    "    msg = '\\n{} flags downloaded in {:.2f}s'\n",
    "    print(msg.format(count, elapsed))\n",
    "\n",
    "    \n",
    "main(download_many)"
   ]
  },
  {
   "cell_type": "code",
   "execution_count": null,
   "metadata": {},
   "outputs": [],
   "source": []
  }
 ],
 "metadata": {
  "kernelspec": {
   "display_name": "Python 3",
   "language": "python",
   "name": "python3"
  },
  "language_info": {
   "codemirror_mode": {
    "name": "ipython",
    "version": 3
   },
   "file_extension": ".py",
   "mimetype": "text/x-python",
   "name": "python",
   "nbconvert_exporter": "python",
   "pygments_lexer": "ipython3",
   "version": "3.8.1"
  },
  "toc": {
   "base_numbering": 1,
   "nav_menu": {},
   "number_sections": false,
   "sideBar": true,
   "skip_h1_title": false,
   "title_cell": "Table of Contents",
   "title_sidebar": "Contents2",
   "toc_cell": true,
   "toc_position": {},
   "toc_section_display": true,
   "toc_window_display": false
  }
 },
 "nbformat": 4,
 "nbformat_minor": 4
}
